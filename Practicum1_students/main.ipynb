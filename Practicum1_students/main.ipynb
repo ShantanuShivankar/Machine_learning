{
 "cells": [
  {
   "cell_type": "markdown",
   "metadata": {},
   "source": [
    "# Practicum1 - RO47002 Machine Learning for Robotics\n",
    "### Submission Due Date: Sept 13th, 2020"
   ]
  },
  {
   "cell_type": "markdown",
   "metadata": {},
   "source": [
    "Before you turn this problem in, make sure everything runs as expected. First, **restart the kernel** (in the menubar, select Kernel$\\rightarrow$Restart) and then **run all cells** (in the menubar, select Cell$\\rightarrow$Run All).\n",
    "\n",
    "Make sure you fill in any place that says `YOUR CODE HERE` or `YOUR ANSWER HERE`. Moreover, if you see an empty cell, please DO NOT delete it, instead run that cell as you would run all other cells. Please fill in your name(s) and other required details below:"
   ]
  },
  {
   "cell_type": "code",
   "execution_count": 1,
   "metadata": {},
   "outputs": [
    {
     "ename": "SyntaxError",
     "evalue": "invalid syntax (<ipython-input-1-80fba6ef3471>, line 2)",
     "output_type": "error",
     "traceback": [
      "\u001b[1;36m  File \u001b[1;32m\"<ipython-input-1-80fba6ef3471>\"\u001b[1;36m, line \u001b[1;32m2\u001b[0m\n\u001b[1;33m    NAME = \"Rishabh Singh Jakhar\"                             STUDENT_NUMBER = \"4779819\"\u001b[0m\n\u001b[1;37m                                                                           ^\u001b[0m\n\u001b[1;31mSyntaxError\u001b[0m\u001b[1;31m:\u001b[0m invalid syntax\n"
     ]
    }
   ],
   "source": [
    "GROUP_NUMBER = \"8\"\n",
    "NAME = \"Rishabh Singh Jakhar\"                             STUDENT_NUMBER = \"4779819\"\n",
    "NAME = \"Shantanu Shivankar\"                             STUDENT_NUMBER = \"5032814\""
   ]
  },
  {
   "cell_type": "markdown",
   "metadata": {},
   "source": [
    "---"
   ]
  },
  {
   "cell_type": "markdown",
   "metadata": {
    "deletable": false,
    "editable": false,
    "nbgrader": {
     "cell_type": "markdown",
     "checksum": "997782de55cfc5580830431a29c12079",
     "grade": false,
     "grade_id": "cell-692065a70d4a185a",
     "locked": true,
     "schema_version": 3,
     "solution": false,
     "task": false
    }
   },
   "source": [
    "# Python\n",
    "Python is a high-level, dynamically typed multiparadigm programming language. Python code is often said to be almost like pseudocode, since it allows you to express very powerful ideas in very few lines of code while being very readable.\n",
    "\n",
    "## Basic data types\n",
    "\n",
    "Like most languages, Python has a number of basic types including integers, floats, booleans, and strings. These data types behave in ways that are familiar from other programming languages.\n",
    "\n",
    "### Numbers\n",
    "Integers and floats work as you would expect from other languages:"
   ]
  },
  {
   "cell_type": "code",
   "execution_count": 2,
   "metadata": {},
   "outputs": [
    {
     "name": "stdout",
     "output_type": "stream",
     "text": [
      "3\n",
      "Type of x is:  <class 'int'>\n",
      "3.5\n",
      "Type of y is:  <class 'float'>\n"
     ]
    }
   ],
   "source": [
    "x = 3\n",
    "y = 3.5\n",
    "\n",
    "print(x)\n",
    "print(\"Type of x is: \", type(x))\n",
    "print(y)\n",
    "print(\"Type of y is: \", type(y))"
   ]
  },
  {
   "cell_type": "markdown",
   "metadata": {
    "deletable": false,
    "editable": false,
    "nbgrader": {
     "cell_type": "markdown",
     "checksum": "35623ee865ffdaf0f37ed843cfc95054",
     "grade": false,
     "grade_id": "cell-eff6677736343a45",
     "locked": true,
     "schema_version": 3,
     "solution": false,
     "task": false
    }
   },
   "source": [
    "Common mathematical operations are:\n",
    "\n",
    "Addition: $a+b$ := <code>a + b</code> <br />\n",
    "Subtraction: $a-b$ := <code>a - b</code> <br />\n",
    "Division: $a\\div b$ := <code>a / b</code> <br />\n",
    "Multiplication: $a\\times b$ := <code>a * b</code> <br />\n",
    "Power: $a^b$ := <code>a ** b</code> <br />"
   ]
  },
  {
   "cell_type": "code",
   "execution_count": 74,
   "metadata": {},
   "outputs": [
    {
     "name": "stdout",
     "output_type": "stream",
     "text": [
      "1 6 9\n"
     ]
    }
   ],
   "source": [
    "print(x + 1 - 3, x * 2, x ** 2)"
   ]
  },
  {
   "cell_type": "code",
   "execution_count": 75,
   "metadata": {},
   "outputs": [
    {
     "name": "stdout",
     "output_type": "stream",
     "text": [
      "1.5 7.0 12.25\n"
     ]
    }
   ],
   "source": [
    "print(y + 1 -3, y * 2, y ** 2)"
   ]
  },
  {
   "cell_type": "markdown",
   "metadata": {
    "deletable": false,
    "editable": false,
    "nbgrader": {
     "cell_type": "markdown",
     "checksum": "07bd9c930dd84eb73e0ac8c16910275f",
     "grade": false,
     "grade_id": "cell-18b00d0e2be11dde",
     "locked": true,
     "schema_version": 3,
     "solution": false,
     "task": false
    }
   },
   "source": [
    "Implement the following equation and save the output in the <strong>output</strong> variable.\n",
    "\n",
    "\\begin{equation*}\n",
    "3xy^2 + \\frac{y}{x} + 77\n",
    "\\end{equation*}"
   ]
  },
  {
   "cell_type": "code",
   "execution_count": 76,
   "metadata": {
    "deletable": false,
    "nbgrader": {
     "cell_type": "code",
     "checksum": "7da93ab0b2a0f227242e4b9ecfeea1c4",
     "grade": false,
     "grade_id": "cell-c8385b1f04239dd1",
     "locked": false,
     "schema_version": 3,
     "solution": true,
     "task": false
    }
   },
   "outputs": [],
   "source": [
    "def eq1(x, y):\n",
    "    # YOUR CODE HERE\n",
    "    output = (3*x*y*y)+(y/x)+(77)\n",
    "    #raise NotImplementedError()\n",
    "    return output"
   ]
  },
  {
   "cell_type": "code",
   "execution_count": 77,
   "metadata": {},
   "outputs": [
    {
     "name": "stdout",
     "output_type": "stream",
     "text": [
      "91.0\n"
     ]
    }
   ],
   "source": [
    "print(eq1(1,2))"
   ]
  },
  {
   "cell_type": "code",
   "execution_count": 78,
   "metadata": {
    "deletable": false,
    "editable": false,
    "nbgrader": {
     "cell_type": "code",
     "checksum": "a959037b0475d3084622a64d578a589f",
     "grade": true,
     "grade_id": "cell-36d54aaef9ee4ab8",
     "locked": true,
     "points": 1,
     "schema_version": 3,
     "solution": false,
     "task": false
    }
   },
   "outputs": [],
   "source": [
    "assert eq1(1, 2) == 91.0\n",
    "assert eq1(3, 4) == 222.33333333333334"
   ]
  },
  {
   "cell_type": "markdown",
   "metadata": {
    "deletable": false,
    "editable": false,
    "nbgrader": {
     "cell_type": "markdown",
     "checksum": "3bcf9126c59e5693db5d0575abc2aad8",
     "grade": false,
     "grade_id": "cell-41ce23bd9f2fd741",
     "locked": true,
     "schema_version": 3,
     "solution": false,
     "task": false
    }
   },
   "source": [
    "## Booleans and logical operations\n",
    "Python implements all of the usual operators for Boolean logic, but uses English words e.g., <strong>and</strong>, <strong>or</strong>, <strong>not</strong> rather than symbols.\n",
    "\n",
    "Some examples are as follows:\n",
    "\n",
    "Logical AND: $a \\land b$ := <code>a and b</code> <br />\n",
    "Logical OR : $a \\lor b$ := <code>a or b</code> <br />\n",
    "Logical NOT: $a \\lnot b$ := <code>a not b</code> <br />\n",
    "Logical XOR: $a \\oplus b$ := <code>a != b</code> <br />"
   ]
  },
  {
   "cell_type": "code",
   "execution_count": 79,
   "metadata": {},
   "outputs": [
    {
     "name": "stdout",
     "output_type": "stream",
     "text": [
      "Type of a is <class 'bool'> and type of b is <class 'bool'>.\n",
      "False\n"
     ]
    }
   ],
   "source": [
    "a = True\n",
    "b = False\n",
    "\n",
    "print(\"Type of a is {} and type of b is {}.\".format(type(a), type(b)))\n",
    "print(a and b)"
   ]
  },
  {
   "cell_type": "markdown",
   "metadata": {
    "deletable": false,
    "editable": false,
    "nbgrader": {
     "cell_type": "markdown",
     "checksum": "66c85730e1e0cdbff88456d43c8bbe76",
     "grade": false,
     "grade_id": "cell-42e55ed06926b8da",
     "locked": true,
     "schema_version": 3,
     "solution": false,
     "task": false
    }
   },
   "source": [
    "Perform logical operations between <strong>a</strong> and <strong>b</strong>."
   ]
  },
  {
   "cell_type": "code",
   "execution_count": 80,
   "metadata": {
    "deletable": false,
    "nbgrader": {
     "cell_type": "code",
     "checksum": "3b048c1003ba9a199415e67f9666965a",
     "grade": false,
     "grade_id": "cell-42e55ed06926b8db",
     "locked": false,
     "schema_version": 3,
     "solution": true,
     "task": false
    }
   },
   "outputs": [],
   "source": [
    "def logical_AND(a, b):\n",
    "     # YOUR CODE HERE\n",
    "    output = a and b\n",
    "    #print(output)\n",
    "    #raise NotImplementedError()\n",
    "    return output\n",
    "\n",
    "def logical_OR(a, b):\n",
    "     # YOUR CODE HERE\n",
    "    output = a or b\n",
    "    #raise NotImplementedError()\n",
    "    return output\n",
    "\n",
    "def logical_NOT(a):\n",
    "     # YOUR CODE HERE\n",
    "    output = not(a)\n",
    "    #raise NotImplementedError()\n",
    "    return output\n",
    "\n",
    "def logical_XOR(a, b):\n",
    "     # YOUR CODE HERE\n",
    "    output = (a^b)\n",
    "    #raise NotImplementedError()\n",
    "    return output"
   ]
  },
  {
   "cell_type": "code",
   "execution_count": 81,
   "metadata": {},
   "outputs": [
    {
     "name": "stdout",
     "output_type": "stream",
     "text": [
      "False\n",
      "True\n",
      "False\n",
      "True\n"
     ]
    }
   ],
   "source": [
    "print(logical_AND(a,b))\n",
    "print(logical_OR(a,b))\n",
    "print(logical_NOT(a))\n",
    "print(logical_XOR(a,b))"
   ]
  },
  {
   "cell_type": "code",
   "execution_count": 82,
   "metadata": {
    "deletable": false,
    "editable": false,
    "nbgrader": {
     "cell_type": "code",
     "checksum": "f674027b018872e8f030491d2c5cd3bc",
     "grade": true,
     "grade_id": "cell-66e7d270b501202a",
     "locked": true,
     "points": 1,
     "schema_version": 3,
     "solution": false,
     "task": false
    }
   },
   "outputs": [],
   "source": [
    "assert logical_AND(True, False) == False\n",
    "assert logical_OR(False, True) == True\n",
    "assert logical_NOT(True) == False\n",
    "assert logical_XOR(True, True) == False\n"
   ]
  },
  {
   "cell_type": "markdown",
   "metadata": {
    "deletable": false,
    "editable": false,
    "nbgrader": {
     "cell_type": "markdown",
     "checksum": "b375e2d1543bffc3353e8d8fc2aab800",
     "grade": false,
     "grade_id": "cell-5906fd44cbfe3ba7",
     "locked": true,
     "schema_version": 3,
     "solution": false,
     "task": false
    }
   },
   "source": [
    "Implement XNOR between two booleans <strong>a</strong> and <strong>b</strong> ($a \\odot b$) and save the <strong>output</strong> in output variable:"
   ]
  },
  {
   "cell_type": "code",
   "execution_count": 83,
   "metadata": {
    "deletable": false,
    "nbgrader": {
     "cell_type": "code",
     "checksum": "5f57febdacbe9470be291ea7c7d7e304",
     "grade": false,
     "grade_id": "cell-fd541367faa71c44",
     "locked": false,
     "schema_version": 3,
     "solution": true,
     "task": false
    }
   },
   "outputs": [],
   "source": [
    "def xnor(a, b):\n",
    "    # YOUR CODE HERE\n",
    "    output = not(a^b)\n",
    "    #raise NotImplementedError()\n",
    "    return output"
   ]
  },
  {
   "cell_type": "code",
   "execution_count": 84,
   "metadata": {},
   "outputs": [
    {
     "name": "stdout",
     "output_type": "stream",
     "text": [
      "False\n"
     ]
    }
   ],
   "source": [
    "print(xnor(False, True))"
   ]
  },
  {
   "cell_type": "code",
   "execution_count": 85,
   "metadata": {
    "deletable": false,
    "editable": false,
    "nbgrader": {
     "cell_type": "code",
     "checksum": "f65a8eb42812defe4b0aa833ae213761",
     "grade": true,
     "grade_id": "cell-4e4acf4752814f0c",
     "locked": true,
     "points": 0.5,
     "schema_version": 3,
     "solution": false,
     "task": false
    }
   },
   "outputs": [],
   "source": [
    "assert xnor(True, False) == False"
   ]
  },
  {
   "cell_type": "markdown",
   "metadata": {
    "deletable": false,
    "editable": false,
    "nbgrader": {
     "cell_type": "markdown",
     "checksum": "669496bc3601b40f8811cc0836eaa5c8",
     "grade": false,
     "grade_id": "cell-70fc57561c3142a9",
     "locked": true,
     "schema_version": 3,
     "solution": false,
     "task": false
    }
   },
   "source": [
    "## Strings"
   ]
  },
  {
   "cell_type": "code",
   "execution_count": 86,
   "metadata": {},
   "outputs": [
    {
     "name": "stdout",
     "output_type": "stream",
     "text": [
      "foo\n",
      "3\n"
     ]
    }
   ],
   "source": [
    "foo = 'foo' # Single quotes can be used for String literals\n",
    "bar = \"bar\" # or double quotes\n",
    "print(foo)\n",
    "print(len(bar)) # String length"
   ]
  },
  {
   "cell_type": "code",
   "execution_count": 87,
   "metadata": {},
   "outputs": [
    {
     "name": "stdout",
     "output_type": "stream",
     "text": [
      "foo bar\n"
     ]
    }
   ],
   "source": [
    "foo_bar = foo + ' ' + bar # String concatenation\n",
    "print(foo_bar)"
   ]
  },
  {
   "cell_type": "code",
   "execution_count": 88,
   "metadata": {},
   "outputs": [
    {
     "name": "stdout",
     "output_type": "stream",
     "text": [
      "foo bar 10\n"
     ]
    }
   ],
   "source": [
    "foo_bar10 = '%s %s %d' % (foo, bar, 10) # sprintf style string formatting\n",
    "print(foo_bar10)"
   ]
  },
  {
   "cell_type": "markdown",
   "metadata": {
    "deletable": false,
    "editable": false,
    "nbgrader": {
     "cell_type": "markdown",
     "checksum": "7e498dd36221f41ce665a1d260bfbba1",
     "grade": false,
     "grade_id": "cell-1174450421b019fe",
     "locked": true,
     "schema_version": 3,
     "solution": false,
     "task": false
    }
   },
   "source": [
    "### Methods of String object"
   ]
  },
  {
   "cell_type": "code",
   "execution_count": 89,
   "metadata": {},
   "outputs": [
    {
     "name": "stdout",
     "output_type": "stream",
     "text": [
      "Hello\n",
      "HELLO\n",
      "  hello\n",
      " hello \n",
      "he(ell)(ell)o\n",
      "world\n"
     ]
    }
   ],
   "source": [
    "s = 'hello'\n",
    "print(s.capitalize())\n",
    "print(s.upper())\n",
    "print(s.rjust(7))\n",
    "print(s.center(7))\n",
    "print(s.replace('l', '(ell)'))\n",
    "\n",
    "print('  world '.strip()) # strip leading and training whitespaces, prints \"world\""
   ]
  },
  {
   "cell_type": "markdown",
   "metadata": {
    "deletable": false,
    "editable": false,
    "nbgrader": {
     "cell_type": "markdown",
     "checksum": "8c8ad27781cd2ae05879dcafe93c367e",
     "grade": false,
     "grade_id": "cell-d2627b01b747d2c7",
     "locked": true,
     "schema_version": 3,
     "solution": false,
     "task": false
    }
   },
   "source": [
    "## Containers\n",
    "Python includes several built-in container types: lists, dictionaries, sets, and tuples\n",
    "\n",
    "### Lists\n",
    "A list is the Python equivalent of an array, but is resizeable and can contain elements of different types:\n",
    "\n",
    "A list containing 3 elements can be created simply as: \n",
    "\n",
    "    sample_list = [3, 6, 2]\n",
    "    \n",
    "Indexing of the list starts from $0$ (zero). <code>sample_list[1]</code> which is equal to $6$ here. A list can be indexed from the end as well using negative indices e.g., <code>sample_list[-1]</code> which is equal to $2$ here.\n",
    "\n",
    "Lists may contain elements of different types e.g., <code>sample_list[2] = 'hello'</code>. Now the elements of this list would become: <code>[3, 6, 'hello']</code>.\n",
    "\n",
    "Elements can be added (appended) in to the lists e.g., <code>sample_list.append('world')</code> which appends 'world' in the end of the list making it a $4$ elements list now. Moreover, elements can be popped out of the list e.g., <code>last_elem = sample_list.pop()</code> would save last element 'world' in <strong>last_elem</strong> variable.\n",
    "\n",
    "Create a new list of your own. Perform the above mentioned opeartions on your list and print the output of each operation here."
   ]
  },
  {
   "cell_type": "code",
   "execution_count": 90,
   "metadata": {
    "deletable": false,
    "nbgrader": {
     "cell_type": "code",
     "checksum": "0f2bb5d27de6d0bec97841a17d173be8",
     "grade": true,
     "grade_id": "cell-40bdfad50d6f22ff",
     "locked": false,
     "points": 0.5,
     "schema_version": 3,
     "solution": true,
     "task": false
    }
   },
   "outputs": [
    {
     "name": "stdout",
     "output_type": "stream",
     "text": [
      "6\n",
      "2\n",
      "[3, 6, 'hello']\n",
      "The new sample list\n",
      "None\n",
      "world\n"
     ]
    }
   ],
   "source": [
    "# YOUR CODE HERE\n",
    "sample_list = [3, 6, 2]\n",
    "print(sample_list[1])\n",
    "print(sample_list[-1])\n",
    "sample_list[2] = 'hello'\n",
    "print(sample_list)\n",
    "print(\"The new sample list\")\n",
    "sample_list = [3, 6, 2]\n",
    "print(sample_list.append('world'))\n",
    "print(sample_list.pop())\n",
    "#raise NotImplementedError()"
   ]
  },
  {
   "cell_type": "markdown",
   "metadata": {
    "deletable": false,
    "editable": false,
    "nbgrader": {
     "cell_type": "markdown",
     "checksum": "f2e1b3fafd92c83b1671b17baf05c719",
     "grade": false,
     "grade_id": "cell-3418e8a232246f4f",
     "locked": true,
     "schema_version": 3,
     "solution": false,
     "task": false
    }
   },
   "source": [
    "## Slicing\n",
    "\n",
    "In addition to accessing list elements one at a time, Python provides concise syntax to access sublists; this is known as slicing.\n",
    "\n",
    "To exercise this, we can create a list by using command <code>range(int)</code> e.g., <code>nums = list(range(5))</code> which gives us a list with elements <code>[0, 1, 2, 3, 4]</code>. To get elements from index 2 to 4 <strong>(exclusive)</strong>, we can write <code>nums[2:4]</code> which should give us <code>[2, 3]</code> in this case.\n",
    "\n",
    "To get a <em>slice</em> from index 2 to the end, we write <code>nums[2:]</code>. Similarly for a <em>slice</em> from the start to index 2 <strong>exclusive</strong>, we write <code>nums[:2]</code>. And to <em> slice</em> the whole list, we write <code>nums[:]</code>.\n",
    "    \n",
    "<em>Slicing</em> can be performed with negative indices as well e.g., <code>nums[:-2]</code> will give us all elements from the list ignoring only the last two element (in this case <code>[0, 1, 2]</code>.\n",
    "\n",
    "Create a list of your own. Perform the above mentioned opeartions on your list and print the output of each operation here."
   ]
  },
  {
   "cell_type": "code",
   "execution_count": 91,
   "metadata": {
    "deletable": false,
    "nbgrader": {
     "cell_type": "code",
     "checksum": "9c3ff4dd364f09f1768bf38355d9214b",
     "grade": true,
     "grade_id": "cell-0567306e5255ae77",
     "locked": false,
     "points": 0.5,
     "schema_version": 3,
     "solution": true,
     "task": false
    }
   },
   "outputs": [
    {
     "name": "stdout",
     "output_type": "stream",
     "text": [
      "The list of numbers are [0, 1, 2, 3, 4]\n",
      "[2, 3]\n",
      "[2, 3, 4]\n",
      "[0, 1]\n",
      "[0, 1, 2, 3, 4]\n",
      "[0, 1, 2]\n"
     ]
    }
   ],
   "source": [
    "# YOUR CODE HERE\n",
    "nums = list(range(5))\n",
    "print(\"The list of numbers are\",nums)\n",
    "print(nums[2:4])\n",
    "print(nums[2:])\n",
    "print(nums[:2])\n",
    "print(nums[:])\n",
    "print(nums[:-2])\n",
    "#raise NotImplementedError()"
   ]
  },
  {
   "cell_type": "markdown",
   "metadata": {
    "deletable": false,
    "editable": false,
    "nbgrader": {
     "cell_type": "markdown",
     "checksum": "40b51f5fd5d2d3a38bb18ae44f4ae67c",
     "grade": false,
     "grade_id": "cell-2087c7b344d12524",
     "locked": true,
     "schema_version": 3,
     "solution": false,
     "task": false
    }
   },
   "source": [
    "## Loops\n",
    "You can loop over the elements of a list like this:\n",
    "\n",
    "    list = ['element A', 'element B', 'element C', 'element D'] \n",
    "    for element in list: \n",
    "        print(element) \n",
    "\n",
    "Implement the code in the cell below for the following list: \n",
    "\n",
    "      actuators = ['Pneumatic', 'Hydraulic', 'Electric'] "
   ]
  },
  {
   "cell_type": "code",
   "execution_count": 92,
   "metadata": {
    "deletable": false,
    "nbgrader": {
     "cell_type": "code",
     "checksum": "f07d121d2c71d0cefb681bb812baf2f9",
     "grade": false,
     "grade_id": "cell-2a7a4bfe0cafde1e",
     "locked": false,
     "schema_version": 3,
     "solution": true,
     "task": false
    }
   },
   "outputs": [
    {
     "name": "stdout",
     "output_type": "stream",
     "text": [
      "Pneumatic\n",
      "Hydraulic\n",
      "Electric\n"
     ]
    }
   ],
   "source": [
    "# YOUR CODE HERE\n",
    "actuators = ['Pneumatic', 'Hydraulic', 'Electric'] \n",
    "for element in actuators:\n",
    "    print(element)\n",
    "#raise NotImplementedError()"
   ]
  },
  {
   "cell_type": "code",
   "execution_count": 93,
   "metadata": {
    "deletable": false,
    "editable": false,
    "nbgrader": {
     "cell_type": "code",
     "checksum": "0b04f2f50c1f1c92e848a0fb1fd9bab2",
     "grade": true,
     "grade_id": "cell-4e04922282b36d43",
     "locked": true,
     "points": 1,
     "schema_version": 3,
     "solution": false,
     "task": false
    }
   },
   "outputs": [],
   "source": [
    "assert isinstance(actuators, list)"
   ]
  },
  {
   "cell_type": "markdown",
   "metadata": {
    "deletable": false,
    "editable": false,
    "nbgrader": {
     "cell_type": "markdown",
     "checksum": "6e2950099cfa747ff2290d00917456d8",
     "grade": false,
     "grade_id": "cell-1fc79ee7d4f787fc",
     "locked": true,
     "schema_version": 3,
     "solution": false,
     "task": false
    }
   },
   "source": [
    "If you want access to the index of each element within the body of a loop, use the built-in enumerate function: \n",
    "\n",
    "    list = ['element A', 'element B', 'element C', 'element D'] \n",
    "    for idx, element in enumerate(list): \n",
    "        print('#%d: %s' % (idx + 1, element)) \n",
    "\n",
    "This will print \"#1: element A\", \"#2: element B\", \"#3: element C\", , \"#4: element D\", each on its own line. \n",
    "\n",
    "Practice enumerate function in the following cell with the list of actuators. "
   ]
  },
  {
   "cell_type": "code",
   "execution_count": 94,
   "metadata": {
    "deletable": false,
    "nbgrader": {
     "cell_type": "code",
     "checksum": "4c3b64395f0cb95b44cf11c4e72d3721",
     "grade": true,
     "grade_id": "cell-ce18ac5d963e5a00",
     "locked": false,
     "points": 1,
     "schema_version": 3,
     "solution": true,
     "task": false
    }
   },
   "outputs": [
    {
     "name": "stdout",
     "output_type": "stream",
     "text": [
      "#1: Pneumatic\n",
      "#2: Hydraulic\n",
      "#3: Electric\n"
     ]
    }
   ],
   "source": [
    "# YOUR CODE HERE\n",
    "actuators = ['Pneumatic', 'Hydraulic', 'Electric']\n",
    "for idx,element in enumerate(actuators):\n",
    "    print('#%d: %s' % (idx + 1, element))\n",
    "#raise NotImplementedError()"
   ]
  },
  {
   "cell_type": "markdown",
   "metadata": {
    "deletable": false,
    "editable": false,
    "nbgrader": {
     "cell_type": "markdown",
     "checksum": "1875526157ab9dc0b6bcb74f977c4237",
     "grade": false,
     "grade_id": "cell-8c1d2caed753031e",
     "locked": true,
     "schema_version": 3,
     "solution": false,
     "task": false
    }
   },
   "source": [
    "## List Comprehension\n",
    "When programming, frequently we want to transform one type of data into another. As a simple example, consider the following code that computes square numbers:\n",
    "\n",
    "    nums = [0, 1, 2, 3, 4]\n",
    "    squares = []\n",
    "    for x in nums:\n",
    "        squares.append(x ** 2)\n",
    "\n",
    "This prints <code>[0, 1, 4, 9, 16]</code>. With the use of list comprehension, this can be written as: <code>squares = [x ** 2 for x in nums]</code>.\n",
    "\n",
    "List comprehensions can also contain conditions e.g., <code>even_squares = [x ** 2 for x in nums if x % 2 == 0]</code>.\n",
    "\n",
    "Practice the above mentioned concepts below:"
   ]
  },
  {
   "cell_type": "code",
   "execution_count": 95,
   "metadata": {
    "deletable": false,
    "nbgrader": {
     "cell_type": "code",
     "checksum": "fb86344dbb146c05dd85039e0b6e7e05",
     "grade": true,
     "grade_id": "cell-c1f04b85b559e0f3",
     "locked": false,
     "points": 1,
     "schema_version": 3,
     "solution": true,
     "task": false
    }
   },
   "outputs": [
    {
     "name": "stdout",
     "output_type": "stream",
     "text": [
      "[0, 1, 4, 9, 16] [0, 4, 16]\n"
     ]
    }
   ],
   "source": [
    "# YOUR CODE HERE\n",
    "nums = [0, 1, 2, 3, 4]\n",
    "squares = []\n",
    "for x in nums:\n",
    "    squares.append(x ** 2)\n",
    "even_squares = [x ** 2 for x in nums if x % 2 == 0]\n",
    "print(squares,even_squares)\n",
    "#raise NotImplementedError()"
   ]
  },
  {
   "cell_type": "markdown",
   "metadata": {
    "deletable": false,
    "editable": false,
    "nbgrader": {
     "cell_type": "markdown",
     "checksum": "0cb43f9fc8316cbdf94e92e12357e447",
     "grade": false,
     "grade_id": "cell-692a9b9ee620c466",
     "locked": true,
     "schema_version": 3,
     "solution": false,
     "task": false
    }
   },
   "source": [
    "# Dictionaries\n",
    "A dictionary stores (key, value) pairs. Please refer to this [link](https://docs.python.org/3.5/library/stdtypes.html#dict) for details. We can create a dictionary as <code>d = {'cat': 'cute', 'dog': 'furry'}</code>. To check if a dictionary has a given key, we write <code>print('cat' in d)</code>. A new entry can be set in the dictionary as <code>d['fish'] = 'wet'</code>. To get an element with a default, write <code>print(d.get('monkey', 'N/A'))</code>; this should print \"N/A\" as \"monkey\" is not a key of <strong>d</strong>. To remove an element from a dictionary, we write <code>del d['fish']</code>.\n",
    "\n",
    "Practice these concepts below:"
   ]
  },
  {
   "cell_type": "code",
   "execution_count": 98,
   "metadata": {
    "deletable": false,
    "nbgrader": {
     "cell_type": "code",
     "checksum": "96df8913951a1447110793ceed77ac1f",
     "grade": true,
     "grade_id": "cell-c67e730f0b22800f",
     "locked": false,
     "points": 0.5,
     "schema_version": 3,
     "solution": true,
     "task": false
    }
   },
   "outputs": [
    {
     "name": "stdout",
     "output_type": "stream",
     "text": [
      "True\n",
      "N/A\n"
     ]
    }
   ],
   "source": [
    "# YOUR CODE HERE\n",
    "d = {'cat': 'cute', 'dog': 'furry'}\n",
    "print('cat' in d)\n",
    "d['fish'] = 'wet'\n",
    "print(d.get('monkey', 'N/A'))\n",
    "del d['fish']\n",
    "#raise NotImplementedError()"
   ]
  },
  {
   "cell_type": "markdown",
   "metadata": {
    "deletable": false,
    "editable": false,
    "nbgrader": {
     "cell_type": "markdown",
     "checksum": "90a4ec11885d93df16e98ad535e1cb69",
     "grade": false,
     "grade_id": "cell-2a681f622db0d501",
     "locked": true,
     "schema_version": 3,
     "solution": false,
     "task": false
    }
   },
   "source": [
    "## Loops\n",
    "It is easy to iterate over the keys in a dictionary. Let say, we have a dictionary <code>d = {'person': 2, 'cat': 4, 'spider': 8}</code>. We can iterate over this dictionary through the following code:\n",
    "    \n",
    "    for animal in d:\n",
    "        legs = d[animal]\n",
    "        print('A %s has %d legs' % (animal, legs))\n",
    "This will print:<br />\n",
    "    \n",
    "    A person has 2 legs\n",
    "    A cat has 4 legs\n",
    "    A spider has 8 legs\n",
    "    \n",
    "Create a dictionary as mentioned above, and replicate the output by using [items](https://www.learnbyexample.org/python-dictionary-items-method/) method."
   ]
  },
  {
   "cell_type": "code",
   "execution_count": 18,
   "metadata": {
    "deletable": false,
    "nbgrader": {
     "cell_type": "code",
     "checksum": "652a61cdd53775294633a98454ac41d2",
     "grade": true,
     "grade_id": "cell-ab25bf1c75b8ad3e",
     "locked": false,
     "points": 1,
     "schema_version": 3,
     "solution": true,
     "task": false
    }
   },
   "outputs": [
    {
     "name": "stdout",
     "output_type": "stream",
     "text": [
      "A person has 2 legs\n",
      "A cat has 4 legs\n",
      "A spider has 8 legs\n"
     ]
    }
   ],
   "source": [
    "# YOUR CODE HERE\n",
    "# creating the dictopnary\n",
    "d = {'person': 2, 'cat': 4, 'spider': 8}\n",
    "legs = d.values()\n",
    "animal = d.keys()\n",
    "\n",
    "for i in d:\n",
    "    print('A %s has %d legs' % (i, d[i]))\n",
    "\n",
    "#raise NotImplementedError()"
   ]
  },
  {
   "cell_type": "markdown",
   "metadata": {
    "deletable": false,
    "editable": false,
    "nbgrader": {
     "cell_type": "markdown",
     "checksum": "28ed5a41c8168ec8c80720ad22defbff",
     "grade": false,
     "grade_id": "cell-f4cb216d4271d61a",
     "locked": true,
     "schema_version": 3,
     "solution": false,
     "task": false
    }
   },
   "source": [
    "### Dictionary comprehensions:\n",
    "These are similar to list comprehensions, but allow you to easily construct dictionaries. For example \n",
    "    \n",
    "    nums = [0, 1, 2, 3, 4]\n",
    "    even_num_to_square = {x: x ** 2 for x in nums if x % 2 == 0}\n",
    "Printing <code>even_num_to_square</code>, we will get <code>{0: 0, 2: 4, 4: 16}</code>. Try this in the cell below."
   ]
  },
  {
   "cell_type": "code",
   "execution_count": 20,
   "metadata": {
    "deletable": false,
    "nbgrader": {
     "cell_type": "code",
     "checksum": "2a998c2046232e2a8abcc5e161c743d3",
     "grade": true,
     "grade_id": "cell-e91f4e402897bf34",
     "locked": false,
     "points": 0.5,
     "schema_version": 3,
     "solution": true,
     "task": false
    }
   },
   "outputs": [
    {
     "name": "stdout",
     "output_type": "stream",
     "text": [
      "{0: 0, 2: 4, 4: 16}\n"
     ]
    }
   ],
   "source": [
    "# YOUR CODE HERE\n",
    "nums = [0, 1, 2, 3, 4]\n",
    "even_num_to_square = {x: x ** 2 for x in nums if x % 2 == 0}\n",
    "print(even_num_to_square)\n",
    "#raise NotImplementedError()"
   ]
  },
  {
   "cell_type": "markdown",
   "metadata": {
    "deletable": false,
    "editable": false,
    "nbgrader": {
     "cell_type": "markdown",
     "checksum": "cbd34db3d76edb80bd2dbe07395796ce",
     "grade": false,
     "grade_id": "cell-8bab6b3aa9cd95ca",
     "locked": true,
     "schema_version": 3,
     "solution": false,
     "task": false
    }
   },
   "source": [
    "# Sets\n",
    "A set is an unordered collection of distinct elements. The details can be found [here](https://docs.python.org/3.5/library/stdtypes.html#set). As a simple example, consider the following:"
   ]
  },
  {
   "cell_type": "code",
   "execution_count": 21,
   "metadata": {},
   "outputs": [
    {
     "name": "stdout",
     "output_type": "stream",
     "text": [
      "True\n",
      "False\n",
      "True\n",
      "3\n",
      "3\n",
      "2\n"
     ]
    }
   ],
   "source": [
    "animals = {'cat', 'dog'}\n",
    "print('cat' in animals)   # Check if an element is in a set; prints \"True\"\n",
    "print('fish' in animals)  # prints \"False\"\n",
    "animals.add('fish')       # Add an element to a set\n",
    "print('fish' in animals)  # Prints \"True\"\n",
    "print(len(animals))       # Number of elements in a set; prints \"3\"\n",
    "animals.add('cat')        # Adding an element that is already in the set does nothing\n",
    "print(len(animals))       # Prints \"3\"\n",
    "animals.remove('cat')     # Remove an element from a set\n",
    "print(len(animals))       # Prints \"2\""
   ]
  },
  {
   "cell_type": "markdown",
   "metadata": {
    "deletable": false,
    "editable": false,
    "nbgrader": {
     "cell_type": "markdown",
     "checksum": "1a85a60b1c9f76c41271398b6bd29098",
     "grade": false,
     "grade_id": "cell-10241b4f9a00be8d",
     "locked": true,
     "schema_version": 3,
     "solution": false,
     "task": false
    }
   },
   "source": [
    "### Loops:\n",
    "Iterating over a set has the same syntax as iterating over a list; however since sets are unordered, you cannot make assumptions about the order in which you visit the elements of the set:"
   ]
  },
  {
   "cell_type": "code",
   "execution_count": 22,
   "metadata": {},
   "outputs": [
    {
     "name": "stdout",
     "output_type": "stream",
     "text": [
      "#1: fish\n",
      "#2: dog\n",
      "#3: cat\n"
     ]
    }
   ],
   "source": [
    "animals = {'cat', 'dog', 'fish'}\n",
    "for idx, animal in enumerate(animals):\n",
    "    print('#%d: %s' % (idx + 1, animal))\n",
    "# Prints \"#1: fish\", \"#2: dog\", \"#3: cat\""
   ]
  },
  {
   "cell_type": "markdown",
   "metadata": {
    "deletable": false,
    "editable": false,
    "nbgrader": {
     "cell_type": "markdown",
     "checksum": "1cb06a633a4d47902f489e82a225e67a",
     "grade": false,
     "grade_id": "cell-28822c47c6cdb154",
     "locked": true,
     "schema_version": 3,
     "solution": false,
     "task": false
    }
   },
   "source": [
    "### Set comprehensions:\n",
    "Like lists and dictionaries, we can easily construct sets using set comprehensions:"
   ]
  },
  {
   "cell_type": "code",
   "execution_count": 23,
   "metadata": {},
   "outputs": [
    {
     "name": "stdout",
     "output_type": "stream",
     "text": [
      "{0, 1, 2, 3, 4, 5}\n"
     ]
    }
   ],
   "source": [
    "from math import sqrt\n",
    "nums = {int(sqrt(x)) for x in range(30)}\n",
    "print(nums)  # Prints \"{0, 1, 2, 3, 4, 5}\""
   ]
  },
  {
   "cell_type": "markdown",
   "metadata": {
    "deletable": false,
    "editable": false,
    "nbgrader": {
     "cell_type": "markdown",
     "checksum": "a48142c6e21da3affe1be85e501f750c",
     "grade": false,
     "grade_id": "cell-48851e4a92797f87",
     "locked": true,
     "schema_version": 3,
     "solution": false,
     "task": false
    }
   },
   "source": [
    "# Tuples\n",
    "A tuple is an (immutable) ordered list of values. A tuple is in many ways similar to a list; one of the most important differences is that tuples can be used as keys in dictionaries and as elements of sets, while lists cannot. For more information see the [documentation](https://docs.python.org/3.5/tutorial/datastructures.html#tuples-and-sequences). Here is a trivial example:"
   ]
  },
  {
   "cell_type": "code",
   "execution_count": 25,
   "metadata": {},
   "outputs": [
    {
     "name": "stdout",
     "output_type": "stream",
     "text": [
      "<class 'tuple'>\n",
      "5\n",
      "1\n"
     ]
    }
   ],
   "source": [
    "d = {(x, x + 1): x for x in range(10)} # Create a dictionary with tuple keys\n",
    "t = (5, 6)        # Create a tuple\n",
    "print(type(t))    # Prints \"<class 'tuple'>\"\n",
    "print(d[t])       # Prints \"5\"\n",
    "print(d[(1, 2)])  # Prints \"1\""
   ]
  },
  {
   "cell_type": "markdown",
   "metadata": {
    "deletable": false,
    "editable": false,
    "nbgrader": {
     "cell_type": "markdown",
     "checksum": "65ef5e849e447fde41d80febf9a63ada",
     "grade": false,
     "grade_id": "cell-f8074d383d2a3587",
     "locked": true,
     "schema_version": 3,
     "solution": false,
     "task": false
    }
   },
   "source": [
    "# Functions\n",
    "Python functions are defined using the <code>def</code> keyword. For example:\n",
    "\n",
    "    def sign(x):\n",
    "        if x > 0:\n",
    "            return 'positive'\n",
    "        elif x < 0:\n",
    "            return 'negative'\n",
    "        else:\n",
    "            return 'zero'\n",
    " \n",
    "Iterate over a list with elements starting from -1 to 1, and print the output of this function while passing the current loop value to it. Do not forget to write this function first in your code."
   ]
  },
  {
   "cell_type": "code",
   "execution_count": 34,
   "metadata": {
    "deletable": false,
    "nbgrader": {
     "cell_type": "code",
     "checksum": "cd1b9e3ea57e03751cbdcfa5d6f57476",
     "grade": true,
     "grade_id": "cell-7b160761c3d5b08b",
     "locked": false,
     "points": 1,
     "schema_version": 3,
     "solution": true,
     "task": false
    }
   },
   "outputs": [
    {
     "name": "stdout",
     "output_type": "stream",
     "text": [
      "[-1, 0, 1]\n",
      "negative\n",
      "zero\n",
      "positive\n"
     ]
    }
   ],
   "source": [
    "# YOUR CODE HERE\n",
    "def sign(x):\n",
    "    if x > 0:\n",
    "        return 'positive'\n",
    "    elif x < 0:\n",
    "        return 'negative'\n",
    "    else:\n",
    "        return 'zero'\n",
    "    \n",
    "\n",
    "lists = list(range(-1,2))\n",
    "print(lists)\n",
    "for i in lists:\n",
    "    #print(i)\n",
    "    print(sign(i))\n",
    "#raise NotImplementedError()"
   ]
  },
  {
   "cell_type": "markdown",
   "metadata": {
    "deletable": false,
    "editable": false,
    "nbgrader": {
     "cell_type": "markdown",
     "checksum": "fa93a8cc91b989bbf8add196a1320079",
     "grade": false,
     "grade_id": "cell-230a3cd1657b9c95",
     "locked": true,
     "schema_version": 3,
     "solution": false,
     "task": false
    }
   },
   "source": [
    "We will often define functions to take optional keyword arguments, like this:"
   ]
  },
  {
   "cell_type": "code",
   "execution_count": 31,
   "metadata": {},
   "outputs": [
    {
     "name": "stdout",
     "output_type": "stream",
     "text": [
      "Hello, Bob\n",
      "HELLO, FRED!\n"
     ]
    }
   ],
   "source": [
    "def hello(name, loud=False):\n",
    "    if loud:\n",
    "        print('HELLO, %s!' % name.upper())\n",
    "    else:\n",
    "        print('Hello, %s' % name)\n",
    "\n",
    "hello('Bob') # Prints \"Hello, Bob\"\n",
    "hello('Fred', loud=True)  # Prints \"HELLO, FRED!\""
   ]
  },
  {
   "cell_type": "markdown",
   "metadata": {
    "deletable": false,
    "editable": false,
    "nbgrader": {
     "cell_type": "markdown",
     "checksum": "5c15efcc530f03f4164e244092c41db2",
     "grade": false,
     "grade_id": "cell-f8f76b0ef8a347dd",
     "locked": true,
     "schema_version": 3,
     "solution": false,
     "task": false
    }
   },
   "source": [
    "For more information, see the [documentaion](https://docs.python.org/3.5/tutorial/controlflow.html#defining-functions)."
   ]
  },
  {
   "cell_type": "markdown",
   "metadata": {},
   "source": [
    "Create a function named <strong>squared_sum</strong> and implement the equation in the following:\n",
    "$$out = \\sum i^{2}$$\n",
    "This [hint](https://docs.python.org/3/library/functions.html#sum) can help you calculate the sum of an input <strong>list</strong> without using loops. Don't forget to use <em>List Comprehensions</em> which are already presented in this notebook."
   ]
  },
  {
   "cell_type": "code",
   "execution_count": 35,
   "metadata": {
    "deletable": false,
    "nbgrader": {
     "cell_type": "code",
     "checksum": "d8621ad9176296b9b457e830740b7611",
     "grade": true,
     "grade_id": "cell-0062ee1763362c54",
     "locked": false,
     "points": 1,
     "schema_version": 3,
     "solution": true,
     "task": false
    }
   },
   "outputs": [
    {
     "name": "stdout",
     "output_type": "stream",
     "text": [
      "The input list is [0, 1, 2, 3, 4, 5, 6, 7, 8, 9]\n"
     ]
    }
   ],
   "source": [
    "# YOUR CODE HERE\n",
    "def squared_sum(x):\n",
    "    sum = 0\n",
    "    for i in x:\n",
    "        sum = sum + (i*i)\n",
    "    \n",
    "    return sum\n",
    "\n",
    "\n",
    "\n",
    "lists = list(range(10))\n",
    "print(\"The input list is\", lists)\n",
    "#raise NotImplementedError()"
   ]
  },
  {
   "cell_type": "code",
   "execution_count": 36,
   "metadata": {},
   "outputs": [
    {
     "name": "stdout",
     "output_type": "stream",
     "text": [
      "55\n"
     ]
    }
   ],
   "source": [
    "sample_list = [1, 2, 3, 4, 5]\n",
    "print(squared_sum(sample_list))"
   ]
  },
  {
   "cell_type": "code",
   "execution_count": 37,
   "metadata": {
    "deletable": false,
    "editable": false,
    "nbgrader": {
     "cell_type": "code",
     "checksum": "64eeb2a35d148aa69f53949bdb5389bd",
     "grade": true,
     "grade_id": "cell-c60f43ea086135f0",
     "locked": true,
     "points": 1,
     "schema_version": 3,
     "solution": false,
     "task": false
    }
   },
   "outputs": [],
   "source": [
    "assert squared_sum([-1]) == 1"
   ]
  },
  {
   "cell_type": "markdown",
   "metadata": {
    "deletable": false,
    "editable": false,
    "nbgrader": {
     "cell_type": "markdown",
     "checksum": "cb12d057a6b063eb4799391a873c9c12",
     "grade": false,
     "grade_id": "cell-8835fd72034050ec",
     "locked": true,
     "schema_version": 3,
     "solution": false,
     "task": false
    }
   },
   "source": [
    "# Classes\n",
    "The syntax for defining classes in Python is straightforward:"
   ]
  },
  {
   "cell_type": "code",
   "execution_count": 38,
   "metadata": {},
   "outputs": [
    {
     "name": "stdout",
     "output_type": "stream",
     "text": [
      "Hello, Fred\n",
      "HELLO, FRED!\n"
     ]
    }
   ],
   "source": [
    "class Greeter(object):\n",
    "\n",
    "    # Constructor\n",
    "    def __init__(self, name):\n",
    "        self.name = name  # Create an instance variable\n",
    "\n",
    "    # Instance method\n",
    "    def greet(self, loud=False):\n",
    "        if loud:\n",
    "            print('HELLO, %s!' % self.name.upper())\n",
    "        else:\n",
    "            print('Hello, %s' % self.name)\n",
    "\n",
    "g = Greeter('Fred')  # Construct an instance of the Greeter class\n",
    "g.greet()            # Call an instance method; prints \"Hello, Fred\"\n",
    "g.greet(loud=True)   # Call an instance method; prints \"HELLO, FRED!\""
   ]
  },
  {
   "cell_type": "markdown",
   "metadata": {
    "deletable": false,
    "editable": false,
    "nbgrader": {
     "cell_type": "markdown",
     "checksum": "db557ad9718d570a55d1c982318e617a",
     "grade": false,
     "grade_id": "cell-a4f8a6af19f34f17",
     "locked": true,
     "schema_version": 3,
     "solution": false,
     "task": false
    }
   },
   "source": [
    "There is a lot more about Python classes in the [documentation](https://docs.python.org/3.5/tutorial/classes.html)."
   ]
  },
  {
   "cell_type": "markdown",
   "metadata": {
    "deletable": false,
    "editable": false,
    "nbgrader": {
     "cell_type": "markdown",
     "checksum": "0414ba245c122171120ee86d79d47955",
     "grade": false,
     "grade_id": "cell-f6b10aa3784888e0",
     "locked": true,
     "schema_version": 3,
     "solution": false,
     "task": false
    }
   },
   "source": [
    "# Numpy\n",
    "Numpy is the core library for scientific computing in Python. It provides a high-performance multidimensional array object, and tools for working with these arrays. If you are already familiar with MATLAB, you might find this tutorial useful to get started with Numpy.\n",
    "\n",
    "## Arrays\n",
    "A numpy array is a grid of values, all of the same type, and is indexed by a tuple of nonnegative integers. The number of dimensions is the rank of the array; the shape of an array is a tuple of integers giving the size of the array along each dimension.\n",
    "\n",
    "We can initialize numpy arrays from nested Python lists, and access elements using square brackets:\n",
    "\n",
    "    a = np.array([1, 2, 3])            # Create a rank 1 array\n",
    "    b = np.array([[1,2,3],[4,5,6]])    # Create a rank 2 array\n",
    "    \n",
    "    print(type(a))                     # Prints \"<class 'numpy.ndarray'>\"\n",
    "    print(a.shape)                     # Prints \"(3,)\"\n",
    "    print(a[0], a[1], a[2])            # Prints \"1 2 3\"\n",
    "    a[0] = 5                           # Change an element of the array\n",
    "    print(a)                           # Prints \"[5, 2, 3]\"\n",
    "    \n",
    "    print(b.shape)                     # Prints \"(2, 3)\"\n",
    "    print(b[0, 0], b[0, 1], b[1, 0])   # Prints \"1 2 4\"\n",
    "    \n",
    "Practice these concepts below."
   ]
  },
  {
   "cell_type": "code",
   "execution_count": 1,
   "metadata": {
    "deletable": false,
    "nbgrader": {
     "cell_type": "code",
     "checksum": "351a31f80876eede889a7d724ce2203c",
     "grade": true,
     "grade_id": "cell-d57783c2a907ce51",
     "locked": false,
     "points": 1,
     "schema_version": 3,
     "solution": true,
     "task": false
    }
   },
   "outputs": [
    {
     "name": "stdout",
     "output_type": "stream",
     "text": [
      "<class 'numpy.ndarray'>\n",
      "(3,)\n",
      "1 2 3\n",
      "[5 2 3]\n",
      "(2, 3)\n",
      "1 2 4\n"
     ]
    }
   ],
   "source": [
    "import numpy as np\n",
    "\n",
    "# YOUR CODE HERE\n",
    "a = np.array([1, 2, 3])            # Create a rank 1 array\n",
    "b = np.array([[1,2,3],[4,5,6]])    # Create a rank 2 array\n",
    "\n",
    "print(type(a))                     # Prints \"<class 'numpy.ndarray'>\"\n",
    "print(a.shape)                     # Prints \"(3,)\"\n",
    "print(a[0], a[1], a[2])            # Prints \"1 2 3\"\n",
    "a[0] = 5                           # Change an element of the array\n",
    "print(a)                           # Prints \"[5, 2, 3]\"\n",
    "\n",
    "print(b.shape)                     # Prints \"(2, 3)\"\n",
    "print(b[0, 0], b[0, 1], b[1, 0])   # Prints \"1 2 4\"\n",
    "#raise NotImplementedError()"
   ]
  },
  {
   "cell_type": "markdown",
   "metadata": {
    "deletable": false,
    "editable": false,
    "nbgrader": {
     "cell_type": "markdown",
     "checksum": "0fd328f3421c93c21c4a0154821e36f0",
     "grade": false,
     "grade_id": "cell-669f60dfc6ff54e4",
     "locked": true,
     "schema_version": 3,
     "solution": false,
     "task": false
    }
   },
   "source": [
    "Numpy also provides many functions to create arrays:\n",
    "\n",
    "    a = np.zeros((2,2))          # Create an array of all zeros\n",
    "    print(a)                     # Prints \"[[ 0.  0.]\n",
    "                                 #          [ 0.  0.]]\"\n",
    "\n",
    "    b = np.ones((1,2))           # Create an array of all ones\n",
    "    print(b)                     # Prints \"[[ 1.  1.]]\"\n",
    "    \n",
    "    c = np.full((2,2), 7)        # Create a constant array\n",
    "    print(c)                     # Prints \"[[ 7.  7.]\n",
    "                                 #          [ 7.  7.]]\"\n",
    "\n",
    "    d = np.eye(2)                # Create a 2x2 identity matrix\n",
    "    print(d)                     # Prints \"[[ 1.  0.]\n",
    "                                 #          [ 0.  1.]]\"\n",
    "\n",
    "    e = np.random.random((2,2))  # Create an array filled with random values\n",
    "    print(e)                     # Might print \"[[ 0.91940167  0.08143941]\n",
    "                                 #               [ 0.68744134  0.87236687]]\"\n",
    "                                 \n",
    "Use these functions below to create numpy arrays of different shapes."
   ]
  },
  {
   "cell_type": "code",
   "execution_count": 3,
   "metadata": {
    "deletable": false,
    "nbgrader": {
     "cell_type": "code",
     "checksum": "0c9bddff1f61f8b3489345ad6bbdf0e9",
     "grade": true,
     "grade_id": "cell-e2367e80c78b68a9",
     "locked": false,
     "points": 0.5,
     "schema_version": 3,
     "solution": true,
     "task": false
    }
   },
   "outputs": [
    {
     "name": "stdout",
     "output_type": "stream",
     "text": [
      "[[0. 0.]\n",
      " [0. 0.]]\n",
      "[[1. 1.]]\n",
      "[[7 7]\n",
      " [7 7]]\n",
      "[[1. 0.]\n",
      " [0. 1.]]\n",
      "[[0.59392439 0.70085554]\n",
      " [0.81112284 0.16333029]]\n"
     ]
    }
   ],
   "source": [
    "# YOUR CODE HERE\n",
    "a = np.zeros((2,2))          # Create an array of all zeros\n",
    "print(a)                     # Prints \"[[ 0.  0.]\n",
    "                             #          [ 0.  0.]]\"\n",
    "\n",
    "b = np.ones((1,2))           # Create an array of all ones\n",
    "print(b)                     # Prints \"[[ 1.  1.]]\"\n",
    "\n",
    "c = np.full((2,2), 7)        # Create a constant array\n",
    "print(c)                     # Prints \"[[ 7.  7.]\n",
    "                             #          [ 7.  7.]]\"\n",
    "\n",
    "d = np.eye(2)                # Create a 2x2 identity matrix\n",
    "print(d)                     # Prints \"[[ 1.  0.]\n",
    "                             #          [ 0.  1.]]\"\n",
    "\n",
    "e = np.random.random((2,2))  # Create an array filled with random values\n",
    "print(e)                     # Might print \"[[ 0.91940167  0.08143941]\n",
    "                             #               [ 0.68744134  0.87236687]]\"\n",
    "#raise NotImplementedError()"
   ]
  },
  {
   "cell_type": "markdown",
   "metadata": {
    "deletable": false,
    "editable": false,
    "nbgrader": {
     "cell_type": "markdown",
     "checksum": "877e9b232d676b77a95d2cf2d7c1dce1",
     "grade": false,
     "grade_id": "cell-93a66384e5041f3c",
     "locked": true,
     "schema_version": 3,
     "solution": false,
     "task": false
    }
   },
   "source": [
    "You can read about other methods of array creation in the [documentation](http://docs.scipy.org/doc/numpy/user/basics.creation.html#arrays-creation)."
   ]
  },
  {
   "cell_type": "markdown",
   "metadata": {
    "deletable": false,
    "editable": false,
    "nbgrader": {
     "cell_type": "markdown",
     "checksum": "ded2ce584d10482a2e437106e0ef1444",
     "grade": false,
     "grade_id": "cell-1112399ec6d1342e",
     "locked": true,
     "schema_version": 3,
     "solution": false,
     "task": false
    }
   },
   "source": [
    "## Array indexing\n",
    "Numpy offers several ways to index into arrays.\n",
    "\n",
    "### Slicing\n",
    "Similar to Python lists, numpy arrays can be sliced. Since arrays may be multidimensional, you must specify a slice for each dimension of the array.\n",
    "\n",
    "Create the following rank 2 array with shape (3, 4)\n",
    "   \n",
    "    [[ 1  2  3  4]\n",
    "     [ 5  6  7  8]\n",
    "     [ 9 10 11 12]]\n",
    "\n",
    "Use slicing to pull out the subarray consisting of the first 2 rows and columns 1 and 2; b is the following array of shape (2, 2):\n",
    "    \n",
    "    [[2 3]\n",
    "     [6 7]]\n",
    "     \n",
    "A slice of an array is a view into the same data, so modifying it will modify the original array. Check this by typing the following commands.\n",
    "\n",
    "    print(a[0, 1])   # Prints \"2\"\n",
    "    b[0, 0] = 77     # b[0, 0] is the same piece of data as a[0, 1]\n",
    "    print(a[0, 1])   # Prints \"77\" "
   ]
  },
  {
   "cell_type": "code",
   "execution_count": 8,
   "metadata": {
    "deletable": false,
    "nbgrader": {
     "cell_type": "code",
     "checksum": "89cc1dca74f086fd15c2dc8f0aec0ae0",
     "grade": true,
     "grade_id": "cell-7a1f6ec23919e8be",
     "locked": false,
     "points": 0.5,
     "schema_version": 3,
     "solution": true,
     "task": false
    }
   },
   "outputs": [
    {
     "name": "stdout",
     "output_type": "stream",
     "text": [
      "[[ 1  2  3  4]\n",
      " [ 5  6  7  8]\n",
      " [ 9 10 11 12]]\n",
      "[[2 3]\n",
      " [6 7]]\n",
      "2\n",
      "77\n"
     ]
    }
   ],
   "source": [
    "# YOUR CODE HERE\n",
    "a = np.array([[1,2,3,4],[5,6,7,8],[9,10,11,12]])\n",
    "print(a)\n",
    "b = a[0:2,1:3]\n",
    "print(b)\n",
    "print(a[0, 1])   # Prints \"2\"\n",
    "b[0, 0] = 77     # b[0, 0] is the same piece of data as a[0, 1]\n",
    "print(a[0, 1])   # Prints \"77\" \n",
    "#raise NotImplementedError()"
   ]
  },
  {
   "cell_type": "markdown",
   "metadata": {
    "deletable": false,
    "editable": false,
    "nbgrader": {
     "cell_type": "markdown",
     "checksum": "ede0422402e836a72de546ec630eba4b",
     "grade": false,
     "grade_id": "cell-8b5118ef9e486234",
     "locked": true,
     "schema_version": 3,
     "solution": false,
     "task": false
    }
   },
   "source": [
    "You can also mix integer indexing with slice indexing. However, doing so will yield an array of lower rank than the original array.\n",
    "\n",
    "Create the following Rank 2 numpy array (say <strong>a</strong>) with shape (3, 4) \n",
    " \n",
    "         [[ 1  2  3  4]\n",
    "     a =  [ 5  6  7  8]\n",
    "          [ 9 10 11 12]]\n",
    "          \n",
    "Two ways of accessing the data in the middle row of the array.<br/>\n",
    "1. Mixing integer indexing with slices yields an array of lower rank e.g.:\n",
    "        \n",
    "         a[1, :]     # Rank 1 view of the second row of a\n",
    "        \n",
    "2. while using only slices yields an array of the same rank as the original array e.g.:\n",
    "\n",
    "         a[1:2, :]  # Rank 2 view of the second row of a\n",
    "         \n",
    "Implement this in the cell below and print the ranks (use <code>a.shape</code>) command) of the resulting array. Also repeat the same operation for columns of <strong>a</strong>."
   ]
  },
  {
   "cell_type": "code",
   "execution_count": 10,
   "metadata": {
    "deletable": false,
    "nbgrader": {
     "cell_type": "code",
     "checksum": "fa7b276bb69f6dfd22f22d891e98accc",
     "grade": true,
     "grade_id": "cell-c69ae5eaf2f7342b",
     "locked": false,
     "points": 0.5,
     "schema_version": 3,
     "solution": true,
     "task": false
    }
   },
   "outputs": [
    {
     "name": "stdout",
     "output_type": "stream",
     "text": [
      "(4,)\n",
      "(1, 4)\n"
     ]
    }
   ],
   "source": [
    "# YOUR CODE HERE\n",
    "a = np.array([[1,2,3,4],[5,6,7,8],[9,10,11,12]])\n",
    "b = a[1, :]\n",
    "c = a[1:2, :]\n",
    "print(b.shape)\n",
    "print(c.shape)\n",
    "#raise NotImplementedError()"
   ]
  },
  {
   "cell_type": "markdown",
   "metadata": {
    "deletable": false,
    "editable": false,
    "nbgrader": {
     "cell_type": "markdown",
     "checksum": "8d9b02c87e331dceac03d2a5d9b2181b",
     "grade": false,
     "grade_id": "cell-fa97a250cca2b598",
     "locked": true,
     "schema_version": 3,
     "solution": false,
     "task": false
    }
   },
   "source": [
    "Integer array indexing: When you index into numpy arrays using slicing, the resulting array view will always be a subarray of the original array. In contrast, integer array indexing allows you to construct arbitrary arrays using the data from another array. Here is an example:"
   ]
  },
  {
   "cell_type": "code",
   "execution_count": 11,
   "metadata": {},
   "outputs": [
    {
     "name": "stdout",
     "output_type": "stream",
     "text": [
      "[[1 2]\n",
      " [3 4]\n",
      " [5 6]]\n",
      "[1 4 5]\n",
      "[1 4 5]\n",
      "[2 2]\n",
      "[2 2]\n"
     ]
    }
   ],
   "source": [
    "import numpy as np\n",
    "\n",
    "a = np.array([[1,2], [3, 4], [5, 6]])\n",
    "\n",
    "print(a)\n",
    "\n",
    "# An example of integer array indexing.\n",
    "# The returned array will have shape (3,) and\n",
    "print(a[[0, 1, 2], [0, 1, 0]])  # Prints \"[1 4 5]\"\n",
    "\n",
    "# The above example of integer array indexing is equivalent to this:\n",
    "print(np.array([a[0, 0], a[1, 1], a[2, 0]]))  # Prints \"[1 4 5]\"\n",
    "\n",
    "# When using integer array indexing, you can reuse the same\n",
    "# element from the source array:\n",
    "print(a[[0, 0], [1, 1]])  # Prints \"[2 2]\"\n",
    "\n",
    "# Equivalent to the previous integer array indexing example\n",
    "print(np.array([a[0, 1], a[0, 1]]))  # Prints \"[2 2]\""
   ]
  },
  {
   "cell_type": "markdown",
   "metadata": {},
   "source": [
    "For a numpy array:\n",
    "    \n",
    "    x = [[5, 7, 8],\n",
    "         [4, 2, 54],\n",
    "         [6, 43, 12]]\n",
    "         \n",
    "What would be the output of command <code>print(np.array(x[[0, 1, 1], [1, 0, 2]]))</code>"
   ]
  },
  {
   "cell_type": "code",
   "execution_count": 12,
   "metadata": {
    "deletable": false,
    "nbgrader": {
     "cell_type": "code",
     "checksum": "4adfcd57000511656fe1b8ed6c3b92e2",
     "grade": true,
     "grade_id": "cell-d3fe2b8ce15dd122",
     "locked": false,
     "points": 1,
     "schema_version": 3,
     "solution": true,
     "task": false
    }
   },
   "outputs": [
    {
     "name": "stdout",
     "output_type": "stream",
     "text": [
      "[ 7  4 54]\n"
     ]
    }
   ],
   "source": [
    "# YOUR CODE HERE\n",
    "x = np.array([[5, 7, 8],\n",
    "     [4, 2, 54],\n",
    "     [6, 43, 12]])\n",
    "print(np.array(x[[0, 1, 1], [1, 0, 2]]))\n",
    "#raise NotImplementedError()"
   ]
  },
  {
   "cell_type": "markdown",
   "metadata": {
    "deletable": false,
    "editable": false,
    "nbgrader": {
     "cell_type": "markdown",
     "checksum": "34a192ebe4fb367424fe363d644c59c9",
     "grade": false,
     "grade_id": "cell-11a95e0fe207183d",
     "locked": true,
     "schema_version": 3,
     "solution": false,
     "task": false
    }
   },
   "source": [
    "One useful trick with integer array indexing is selecting or mutating one element from each row of a matrix:\n",
    "\n",
    "Create a new array from which we will select elements\n",
    "    \n",
    "    a = np.array([[1,2,3], [4,5,6], [7,8,9], [10, 11, 12]])\n",
    "\n",
    "    print(a)  # prints \"array([[ 1,  2,  3],\n",
    "              #                [ 4,  5,  6],\n",
    "              #                [ 7,  8,  9],\n",
    "              #                [10, 11, 12]])\"\n",
    "    \n",
    "Create an array of indices\n",
    "\n",
    "    b = np.array([0, 2, 0, 1])\n",
    "\n",
    "Select one element from each row of a using the indices in b\n",
    "\n",
    "    print(a[np.arange(4), b])  # Prints \"[ 1  6  7 11]\"\n",
    "\n",
    "Mutate one element from each row of a using the indices in b\n",
    "\n",
    "    a[np.arange(4), b] += 10\n",
    "\n",
    "    print(a)  # prints \"array([[11,  2,  3],\n",
    "              #                [ 4,  5, 16],\n",
    "              #                [17,  8,  9],\n",
    "              #                [10, 21, 12]])\n",
    "              \n",
    "Practice this concept in the cell below:"
   ]
  },
  {
   "cell_type": "code",
   "execution_count": 15,
   "metadata": {
    "deletable": false,
    "nbgrader": {
     "cell_type": "code",
     "checksum": "19638f3c75594dd92519ab9538225a77",
     "grade": true,
     "grade_id": "cell-8a122bb7c71b49c5",
     "locked": false,
     "points": 0.5,
     "schema_version": 3,
     "solution": true,
     "task": false
    }
   },
   "outputs": [
    {
     "name": "stdout",
     "output_type": "stream",
     "text": [
      "[[ 1  2  3]\n",
      " [ 4  5  6]\n",
      " [ 7  8  9]\n",
      " [10 11 12]]\n",
      "[ 1  6  7 11]\n",
      "[[11  2  3]\n",
      " [ 4  5 16]\n",
      " [17  8  9]\n",
      " [10 21 12]]\n"
     ]
    }
   ],
   "source": [
    "# YOUR CODE HERE\n",
    "a = np.array([[1,2,3], [4,5,6], [7,8,9], [10, 11, 12]])\n",
    "\n",
    "print(a)  # prints \"array([[ 1,  2,  3],\n",
    "          #                [ 4,  5,  6],\n",
    "          #                [ 7,  8,  9],\n",
    "          #                [10, 11, 12]])\"\n",
    "b = np.array([0, 2, 0, 1])\n",
    "print(a[np.arange(4), b])\n",
    "a[np.arange(4), b] += 10\n",
    "print(a)\n",
    "#raise NotImplementedError()"
   ]
  },
  {
   "cell_type": "markdown",
   "metadata": {
    "deletable": false,
    "editable": false,
    "nbgrader": {
     "cell_type": "markdown",
     "checksum": "2dfad891bcb498517603f2b8a7cc3203",
     "grade": false,
     "grade_id": "cell-4266f2e3a4f31523",
     "locked": true,
     "schema_version": 3,
     "solution": false,
     "task": false
    }
   },
   "source": [
    "### Boolean array indexing:\n",
    "Boolean array indexing lets you pick out arbitrary elements of an array. Frequently this type of indexing is used to select the elements of an array that satisfy some condition. Here is an example:"
   ]
  },
  {
   "cell_type": "code",
   "execution_count": 16,
   "metadata": {},
   "outputs": [
    {
     "name": "stdout",
     "output_type": "stream",
     "text": [
      "[[False False]\n",
      " [ True  True]\n",
      " [ True  True]]\n",
      "[3 4 5 6]\n",
      "[3 4 5 6]\n"
     ]
    }
   ],
   "source": [
    "import numpy as np\n",
    "\n",
    "a = np.array([[1,2], [3, 4], [5, 6]])\n",
    "\n",
    "bool_idx = (a > 2)   # Find the elements of a that are bigger than 2;\n",
    "                     # this returns a numpy array of Booleans of the same\n",
    "                     # shape as a, where each slot of bool_idx tells\n",
    "                     # whether that element of a is > 2.\n",
    "\n",
    "print(bool_idx)      # Prints \"[[False False]\n",
    "                     #          [ True  True]\n",
    "                     #          [ True  True]]\"\n",
    "\n",
    "# We use boolean array indexing to construct a rank 1 array \n",
    "# consisting of the elements of a corresponding to the True values\n",
    "# of bool_idx\n",
    "print(a[bool_idx])  # Prints \"[3 4 5 6]\"\n",
    "\n",
    "# We can do all of the above in a single concise statement:\n",
    "print(a[a > 2])     # Prints \"[3 4 5 6]\""
   ]
  },
  {
   "cell_type": "markdown",
   "metadata": {
    "deletable": false,
    "editable": false,
    "nbgrader": {
     "cell_type": "markdown",
     "checksum": "9121a72ebda730450dcf23d4559bb1b8",
     "grade": false,
     "grade_id": "cell-bcda2a66a0807eb2",
     "locked": true,
     "schema_version": 3,
     "solution": false,
     "task": false
    }
   },
   "source": [
    "For more details, please see the [documentation.](http://docs.scipy.org/doc/numpy/reference/arrays.indexing.html)"
   ]
  },
  {
   "cell_type": "markdown",
   "metadata": {
    "deletable": false,
    "editable": false,
    "nbgrader": {
     "cell_type": "markdown",
     "checksum": "2757aaf2c63b22eb69e8f270d5724468",
     "grade": false,
     "grade_id": "cell-1cf29e8f1f33b636",
     "locked": true,
     "schema_version": 3,
     "solution": false,
     "task": false
    }
   },
   "source": [
    "### Datatypes\n",
    "Every numpy array is a grid of elements of the same type. Numpy provides a large set of numeric datatypes that you can use to construct arrays. Numpy tries to guess a datatype when you create an array, but functions that construct arrays usually also include an optional argument to explicitly specify the datatype. Here is an example:"
   ]
  },
  {
   "cell_type": "code",
   "execution_count": 17,
   "metadata": {},
   "outputs": [
    {
     "name": "stdout",
     "output_type": "stream",
     "text": [
      "int64\n",
      "float64\n",
      "int64\n"
     ]
    }
   ],
   "source": [
    "import numpy as np\n",
    "\n",
    "x = np.array([1, 2])                   # Let numpy choose the datatype\n",
    "print(x.dtype)                         # Prints \"int64\"\n",
    "\n",
    "x = np.array([1.0, 2.0])               # Let numpy choose the datatype\n",
    "print(x.dtype)                         # Prints \"float64\"\n",
    "\n",
    "x = np.array([1, 2], dtype=np.int64)   # Force a particular datatype\n",
    "print(x.dtype)                         # Prints \"int64\""
   ]
  },
  {
   "cell_type": "markdown",
   "metadata": {
    "deletable": false,
    "editable": false,
    "nbgrader": {
     "cell_type": "markdown",
     "checksum": "2c352d7f9a827a1b5f4059189610bf41",
     "grade": false,
     "grade_id": "cell-b7f13ebb035a0b26",
     "locked": true,
     "schema_version": 3,
     "solution": false,
     "task": false
    }
   },
   "source": [
    "For more details, please see the [documentation.](http://docs.scipy.org/doc/numpy/reference/arrays.dtypes.html)"
   ]
  },
  {
   "cell_type": "markdown",
   "metadata": {
    "deletable": false,
    "editable": false,
    "nbgrader": {
     "cell_type": "markdown",
     "checksum": "ed2659e7f2e0a4a0ed6fbc872b70dcda",
     "grade": false,
     "grade_id": "cell-8a4f64b712515580",
     "locked": true,
     "schema_version": 3,
     "solution": false,
     "task": false
    }
   },
   "source": [
    "### Array math\n",
    "Basic mathematical functions operate elementwise on arrays, and are available both as operator overloads and as functions in the numpy module:"
   ]
  },
  {
   "cell_type": "code",
   "execution_count": 24,
   "metadata": {},
   "outputs": [
    {
     "name": "stdout",
     "output_type": "stream",
     "text": [
      "[[ 6.  8.]\n",
      " [10. 12.]]\n",
      "[[ 6.  8.]\n",
      " [10. 12.]]\n",
      "[[-4. -4.]\n",
      " [-4. -4.]]\n",
      "[[-4. -4.]\n",
      " [-4. -4.]]\n",
      "[[ 5. 12.]\n",
      " [21. 32.]]\n",
      "[[ 5. 12.]\n",
      " [21. 32.]]\n",
      "[[0.2        0.33333333]\n",
      " [0.42857143 0.5       ]]\n",
      "[[0.2        0.33333333]\n",
      " [0.42857143 0.5       ]]\n",
      "[[1.         1.41421356]\n",
      " [1.73205081 2.        ]]\n"
     ]
    }
   ],
   "source": [
    "import numpy as np\n",
    "\n",
    "x = np.array([[1,2],[3,4]], dtype=np.float64)\n",
    "y = np.array([[5,6],[7,8]], dtype=np.float64)\n",
    "\n",
    "# Elementwise sum; both produce the array\n",
    "# [[ 6.0  8.0]\n",
    "#  [10.0 12.0]]\n",
    "print(x + y)\n",
    "print(np.add(x, y))\n",
    "\n",
    "# Elementwise difference; both produce the array\n",
    "# [[-4.0 -4.0]\n",
    "#  [-4.0 -4.0]]\n",
    "print(x - y)\n",
    "print(np.subtract(x, y))\n",
    "\n",
    "# Elementwise product; both produce the array\n",
    "# [[ 5.0 12.0]\n",
    "#  [21.0 32.0]]\n",
    "print(x * y)\n",
    "print(np.multiply(x, y))\n",
    "\n",
    "# Elementwise division; both produce the array\n",
    "# [[ 0.2         0.33333333]\n",
    "#  [ 0.42857143  0.5       ]]\n",
    "print(x / y)\n",
    "print(np.divide(x, y))\n",
    "\n",
    "# Elementwise square root; produces the array\n",
    "# [[ 1.          1.41421356]\n",
    "#  [ 1.73205081  2.        ]]\n",
    "print(np.sqrt(x))"
   ]
  },
  {
   "cell_type": "markdown",
   "metadata": {
    "deletable": false,
    "editable": false,
    "nbgrader": {
     "cell_type": "markdown",
     "checksum": "aedd06f7afcd16a5a3c2c93f99c19199",
     "grade": false,
     "grade_id": "cell-b8d4656b60fa6e7c",
     "locked": true,
     "schema_version": 3,
     "solution": false,
     "task": false
    }
   },
   "source": [
    " Write a function named <strong>rmse</strong>, that takes two 1D numpy arrays (of the same length) as input, calculate the <strong>RMSE</strong> between them and return the output. Implement the following equation only using array math functions. For hint, please see [this](https://numpy.org/doc/stable/reference/generated/numpy.power.html). Also note, that the lenth of a np.array can also be obtained using <code>len()</code> command.\n",
    " \n",
    " RMSE = $\\sqrt{\\frac{1}{n}\\sum_{t=1}^{n}(\\hat{y_t} - y_t)^2}$ "
   ]
  },
  {
   "cell_type": "code",
   "execution_count": 94,
   "metadata": {
    "deletable": false,
    "nbgrader": {
     "cell_type": "code",
     "checksum": "87a4ed033d5e3c07df9d431b9a091e27",
     "grade": false,
     "grade_id": "cell-eb32476ad1486115",
     "locked": false,
     "schema_version": 3,
     "solution": true,
     "task": false
    }
   },
   "outputs": [],
   "source": [
    "import math\n",
    "\n",
    "def rmse(y, y_hat):\n",
    "    sums = 0\n",
    "    for i in range(len(y)):\n",
    "        #print(i)\n",
    "        sums = sums + math.pow((y_hat[i]-y[i]),2)\n",
    "    rmse = math.sqrt(sums/len(y))\n",
    "    return rmse\n",
    "# YOUR CODE HERE\n",
    "\n",
    "#raise NotImplementedError()"
   ]
  },
  {
   "cell_type": "code",
   "execution_count": 95,
   "metadata": {},
   "outputs": [
    {
     "name": "stdout",
     "output_type": "stream",
     "text": [
      "164.27153841531202\n"
     ]
    }
   ],
   "source": [
    "y = np.array([1.4, 2, 5.6, 400, 52, 61])\n",
    "y_hat = np.array([0.9, 1.8, 3.1, 4.2, 5.1, 5.8])\n",
    "\n",
    "print(rmse(y, y_hat))"
   ]
  },
  {
   "cell_type": "code",
   "execution_count": 96,
   "metadata": {
    "deletable": false,
    "editable": false,
    "nbgrader": {
     "cell_type": "code",
     "checksum": "cced31038a117bbda85afbc4a917d0ca",
     "grade": true,
     "grade_id": "cell-2251e5722ee61804",
     "locked": true,
     "points": 1.5,
     "schema_version": 3,
     "solution": false,
     "task": false
    }
   },
   "outputs": [],
   "source": [
    "assert rmse(np.array([1, 2, 3, 4, 5, 6]), np.array([0.9, 1.8, 3.1, 4.2, 5.1, 5.8]))==0.158113883008419"
   ]
  },
  {
   "cell_type": "markdown",
   "metadata": {
    "deletable": false,
    "editable": false,
    "nbgrader": {
     "cell_type": "markdown",
     "checksum": "bbedb13a44be9b2274cef28c435daa60",
     "grade": false,
     "grade_id": "cell-1302309136817333",
     "locked": true,
     "schema_version": 3,
     "solution": false,
     "task": false
    }
   },
   "source": [
    "Note that unlike MATLAB, * is elementwise multiplication, not matrix multiplication. We instead use the dot function to compute inner products of vectors, to multiply a vector by a matrix, and to multiply matrices. dot is available both as a function in the numpy module and as an instance method of array objects:"
   ]
  },
  {
   "cell_type": "code",
   "execution_count": null,
   "metadata": {},
   "outputs": [],
   "source": [
    "import numpy as np\n",
    "\n",
    "x = np.array([[1,2],[3,4]])\n",
    "y = np.array([[5,6],[7,8]])\n",
    "\n",
    "v = np.array([9,10])\n",
    "w = np.array([11, 12])\n",
    "\n",
    "# Inner product of vectors; both produce 219\n",
    "print(v.dot(w))\n",
    "print(np.dot(v, w))\n",
    "\n",
    "# Matrix / vector product; both produce the rank 1 array [29 67]\n",
    "print(x.dot(v))\n",
    "print(np.dot(x, v))\n",
    "\n",
    "# Matrix / matrix product; both produce the rank 2 array\n",
    "# [[19 22]\n",
    "#  [43 50]]\n",
    "print(x.dot(y))\n",
    "print(np.dot(x, y))"
   ]
  },
  {
   "cell_type": "markdown",
   "metadata": {
    "deletable": false,
    "editable": false,
    "nbgrader": {
     "cell_type": "markdown",
     "checksum": "6d77b9aef36f72b54a3afa93906372a2",
     "grade": false,
     "grade_id": "cell-34ae80e5b820879d",
     "locked": true,
     "schema_version": 3,
     "solution": false,
     "task": false
    }
   },
   "source": [
    "Numpy provides many useful functions for performing computations on arrays; one of the most useful is sum:"
   ]
  },
  {
   "cell_type": "code",
   "execution_count": null,
   "metadata": {},
   "outputs": [],
   "source": [
    "import numpy as np\n",
    "\n",
    "x = np.array([[1,2],[3,4]])\n",
    "\n",
    "print(np.sum(x))          # Compute sum of all elements; prints \"10\"\n",
    "print(np.sum(x, axis=0))  # Compute sum of each column; prints \"[4 6]\"\n",
    "print(np.sum(x, axis=1))  # Compute sum of each row; prints \"[3 7]\""
   ]
  },
  {
   "cell_type": "markdown",
   "metadata": {
    "deletable": false,
    "editable": false,
    "nbgrader": {
     "cell_type": "markdown",
     "checksum": "e0abf993791dbda00d0d0df4f7eed5d2",
     "grade": false,
     "grade_id": "cell-e416bcdd29749b2b",
     "locked": true,
     "schema_version": 3,
     "solution": false,
     "task": false
    }
   },
   "source": [
    "You can find the full list of mathematical functions provided by numpy in the [documentation](http://docs.scipy.org/doc/numpy/reference/routines.math.html).\n",
    "\n",
    "Apart from computing mathematical functions using arrays, we frequently need to reshape or otherwise manipulate data in arrays. The simplest example of this type of operation is transposing a matrix; to transpose a matrix, simply use the <strong>T</strong> attribute of an array object:\n",
    "\n",
    "    x = np.array([[1,2], [3,4]])\n",
    "    print(x)                           # Prints \"[[1 2]\n",
    "                                       #          [3 4]]\"\n",
    "                                       \n",
    "    print(x.T)                         # Prints \"[[1 3]\n",
    "                                       #          [2 4]]\"\n",
    "                                       \n",
    "Note that taking the transpose of a rank 1 array does nothing:\n",
    "    \n",
    "    v = np.array([1,2,3])\n",
    "    print(v)                           # Prints \"[1 2 3]\"\n",
    "    print(v.T)                         # Prints \"[1 2 3]\"\n",
    "    \n",
    "Practice in the below."
   ]
  },
  {
   "cell_type": "code",
   "execution_count": 10,
   "metadata": {
    "deletable": false,
    "nbgrader": {
     "cell_type": "code",
     "checksum": "d7f3b8caea167025eaaa01b903ddedf1",
     "grade": true,
     "grade_id": "cell-450259d7819e1fe9",
     "locked": false,
     "points": 0.25,
     "schema_version": 3,
     "solution": true,
     "task": false
    }
   },
   "outputs": [
    {
     "name": "stdout",
     "output_type": "stream",
     "text": [
      "Two dimensional array is \n",
      " [[1 2]\n",
      " [3 4]]\n",
      "Transpose is \n",
      " [[1 3]\n",
      " [2 4]]\n",
      "One dimensional array is \n",
      " [1 2 3]\n",
      "Transpose of 1D \n",
      " [1 2 3]\n"
     ]
    }
   ],
   "source": [
    "# YOUR CODE HERE\n",
    "import numpy as np\n",
    "x = np.array([[1,2], [3,4]])\n",
    "print(\"Two dimensional array is \\n\",x)\n",
    "print(\"Transpose is \\n\",x.T)\n",
    "v = np.array([1,2,3])\n",
    "print(\"One dimensional array is \\n\",v)\n",
    "print(\"Transpose of 1D \\n\",v.T)\n",
    "#raise NotImplementedError()"
   ]
  },
  {
   "cell_type": "markdown",
   "metadata": {
    "deletable": false,
    "editable": false,
    "nbgrader": {
     "cell_type": "markdown",
     "checksum": "96cb96a9abc89fd2eba2b51b0db46bc3",
     "grade": false,
     "grade_id": "cell-50916c18e4de6d10",
     "locked": true,
     "schema_version": 3,
     "solution": false,
     "task": false
    }
   },
   "source": [
    "For more information, please see the [documentation.](http://docs.scipy.org/doc/numpy/reference/routines.array-manipulation.html)"
   ]
  },
  {
   "cell_type": "markdown",
   "metadata": {
    "deletable": false,
    "editable": false,
    "nbgrader": {
     "cell_type": "markdown",
     "checksum": "1348b4838d2f2026a8c50e5b85526f0a",
     "grade": false,
     "grade_id": "cell-14bf2d69f663c001",
     "locked": true,
     "schema_version": 3,
     "solution": false,
     "task": false
    }
   },
   "source": [
    "### Broadcasting\n",
    "Broadcasting is a powerful mechanism that allows numpy to work with arrays of different shapes when performing arithmetic operations. Frequently we have a smaller array and a larger array, and we want to use the smaller array multiple times to perform some operation on the larger array.\n",
    "\n",
    "For example, suppose that we want to add a constant vector to each row of a matrix. We could do it like this:\n",
    "\n",
    "We will add the vector v to each row of the matrix x, storing the result in the matrix y\n",
    "\n",
    "    x = np.array([[1,2,3], [4,5,6], [7,8,9], [10, 11, 12]])\n",
    "    v = np.array([1, 0, 1])\n",
    "    y = np.empty_like(x)                       # Create an empty matrix with the same shape as x\n",
    "    \n",
    "Add the vector v to each row of the matrix x with an explicit loop\n",
    "\n",
    "    for i in range(4):\n",
    "    y[i, :] = x[i, :] + v\n",
    "    \n",
    "Print the ouput.\n",
    "\n",
    "Similary, create add <code>[2, 3, 4, 6]</code> in each column of the matrix and print the output in the cell below."
   ]
  },
  {
   "cell_type": "code",
   "execution_count": 4,
   "metadata": {
    "deletable": false,
    "nbgrader": {
     "cell_type": "code",
     "checksum": "686597b44ae70c7202c1cdbbd03fcfbd",
     "grade": true,
     "grade_id": "cell-697e2eb16cd85894",
     "locked": false,
     "points": 0.5,
     "schema_version": 3,
     "solution": true,
     "task": false
    }
   },
   "outputs": [
    {
     "name": "stdout",
     "output_type": "stream",
     "text": [
      "[[ 3  2  5]\n",
      " [ 6  5  8]\n",
      " [ 9  8 11]\n",
      " [12 11 14]]\n",
      "[[ 4  2  6]\n",
      " [ 7  5  9]\n",
      " [10  8 12]\n",
      " [13 11 15]]\n",
      "[[ 5  2  7]\n",
      " [ 8  5 10]\n",
      " [11  8 13]\n",
      " [14 11 16]]\n",
      "[[ 7  2  9]\n",
      " [10  5 12]\n",
      " [13  8 15]\n",
      " [16 11 18]]\n"
     ]
    }
   ],
   "source": [
    "import numpy as np\n",
    "\n",
    "# We will add the vector v to each row of the matrix x,\n",
    "# storing the result in the matrix y\n",
    "x = np.array([[1,2,3], [4,5,6], [7,8,9], [10, 11, 12]])\n",
    "v1 = np.array([2, 0, 2])\n",
    "v2 = np.array([3, 0, 3])\n",
    "v3 = np.array([4, 0, 4])\n",
    "v4 = np.array([6, 0, 6])\n",
    "y1 = np.empty_like(x) # Create an empty matrix with the same shape as x\n",
    "y2 = np.empty_like(x)\n",
    "y3 = np.empty_like(x)\n",
    "y4 = np.empty_like(x)\n",
    "\n",
    "# Add the vector v to each row of the matrix x with an explicit loop\n",
    "for i in range(4):\n",
    "    y1[i, :] = x[i, :] + v1\n",
    "    y2[i, :] = x[i, :] + v2\n",
    "    y3[i, :] = x[i, :] + v3\n",
    "    y4[i, :] = x[i, :] + v4\n",
    "    \n",
    "# Now y is the following\n",
    "# [[ 2  2  4]\n",
    "#  [ 5  5  7]\n",
    "#  [ 8  8 10]\n",
    "#  [11 11 13]]\n",
    "print(y1)\n",
    "print(y2)\n",
    "print(y3)\n",
    "print(y4)\n",
    "\n",
    "# YOUR CODE HERE\n",
    "#raise NotImplementedError()"
   ]
  },
  {
   "cell_type": "markdown",
   "metadata": {
    "deletable": false,
    "editable": false,
    "nbgrader": {
     "cell_type": "markdown",
     "checksum": "e39f31cd23bccfb2fc7df3731d98e2cc",
     "grade": false,
     "grade_id": "cell-9ad1dfcbe7bf0d35",
     "locked": true,
     "schema_version": 3,
     "solution": false,
     "task": false
    }
   },
   "source": [
    "This works; however when the matrix <strong>x</strong> is very large, computing an explicit loop in Python could be slow. Note that adding the vector <strong>v</strong> to each row of the matrix <strong>x</strong> is equivalent to forming a matrix <strong>vv</strong> by stacking multiple copies of <strong>v</strong> vertically, then performing elementwise summation of <strong>x</strong> and <strong>vv</strong>. We could implement this approach like this:\n",
    "\n",
    "    v = np.array([1, 0, 1])\n",
    "    vv = np.tile(v, (4, 1))   # Stack 4 copies of v on top of each other\n",
    "    print(vv)                 # Prints \"[[1 0 1]\n",
    "                              #          [1 0 1]\n",
    "                              #          [1 0 1]\n",
    "                              #          [1 0 1]]\"\n",
    "                              \n",
    "Repeat the steps and add <code>[3, 4, 5]</code> in matrix <strong>x</strong>"
   ]
  },
  {
   "cell_type": "code",
   "execution_count": 1,
   "metadata": {
    "deletable": false,
    "nbgrader": {
     "cell_type": "code",
     "checksum": "21dc4f1c6dd2bdfe952e79f511985ed9",
     "grade": true,
     "grade_id": "cell-7bcf3f309b768c41",
     "locked": false,
     "points": 0.25,
     "schema_version": 3,
     "solution": true,
     "task": false
    }
   },
   "outputs": [
    {
     "name": "stdout",
     "output_type": "stream",
     "text": [
      "The tiled array is \n",
      " [[3 4 5]\n",
      " [3 4 5]\n",
      " [3 4 5]\n",
      " [3 4 5]]\n",
      "The added array is \n",
      " [[ 4  6  8]\n",
      " [ 7  9 11]\n",
      " [10 12 14]\n",
      " [13 15 17]]\n"
     ]
    }
   ],
   "source": [
    "import numpy as np\n",
    "\n",
    "# We will add the vector v to each row of the matrix x,\n",
    "# storing the result in the matrix y\n",
    "x = np.array([[1,2,3], [4,5,6], [7,8,9], [10, 11, 12]])\n",
    "v = np.array([3, 4, 5])\n",
    "vv = np.tile(v,(4,1))\n",
    "print(\"The tiled array is \\n\",vv)\n",
    "print(\"The added array is \\n\",x + vv)\n",
    "# YOUR CODE HERE\n",
    "#raise NotImplementedError()"
   ]
  },
  {
   "cell_type": "markdown",
   "metadata": {
    "deletable": false,
    "editable": false,
    "nbgrader": {
     "cell_type": "markdown",
     "checksum": "3a0226927a71383e5bb8ce2568e582ef",
     "grade": false,
     "grade_id": "cell-80d7243323906e79",
     "locked": true,
     "schema_version": 3,
     "solution": false,
     "task": false
    }
   },
   "source": [
    "Numpy broadcasting allows us to perform this computation without actually creating multiple copies of v. Consider this version, using broadcasting:"
   ]
  },
  {
   "cell_type": "code",
   "execution_count": 3,
   "metadata": {},
   "outputs": [
    {
     "name": "stdout",
     "output_type": "stream",
     "text": [
      "[[ 4  6  8]\n",
      " [ 7  9 11]\n",
      " [10 12 14]\n",
      " [13 15 17]]\n"
     ]
    }
   ],
   "source": [
    "import numpy as np\n",
    "\n",
    "# We will add the vector v to each row of the matrix x,\n",
    "# storing the result in the matrix y\n",
    "x = np.array([[1,2,3], [4,5,6], [7,8,9], [10, 11, 12]])\n",
    "v = np.array([3,4,5])\n",
    "y = x + v  # Add v to each row of x using broadcasting\n",
    "print(y)  # Prints \"[[ 2  2  4]\n",
    "          #          [ 5  5  7]\n",
    "          #          [ 8  8 10]\n",
    "          #          [11 11 13]]\""
   ]
  },
  {
   "cell_type": "markdown",
   "metadata": {
    "deletable": false,
    "editable": false,
    "nbgrader": {
     "cell_type": "markdown",
     "checksum": "ac22ac4f8ea7947f2ccd31c9d85fe863",
     "grade": false,
     "grade_id": "cell-09663a0387195e55",
     "locked": true,
     "schema_version": 3,
     "solution": false,
     "task": false
    }
   },
   "source": [
    "The line <strong>y = x + v</strong> works even though <strong>x</strong> has shape <strong>(4, 3)</strong> and <strong>v</strong> has shape <strong>(3,)</strong> due to broadcasting; this line works as if <strong>v</strong> actually had shape <strong>(4, 3)</strong>, where each row was a copy of <strong>v</strong>, and the sum was performed elementwise.\n"
   ]
  },
  {
   "cell_type": "markdown",
   "metadata": {
    "deletable": false,
    "editable": false,
    "nbgrader": {
     "cell_type": "markdown",
     "checksum": "746afdd8faa5d85e319bc5ffc5d6cb84",
     "grade": false,
     "grade_id": "cell-cce8fd6082554d4e",
     "locked": true,
     "schema_version": 3,
     "solution": false,
     "task": false
    }
   },
   "source": [
    "Broadcasting two arrays together follows these rules:\n",
    "\n",
    "If the arrays do not have the same rank, prepend the shape of the lower rank array with 1s until both shapes have the same length.\n",
    "The two arrays are said to be compatible in a dimension if they have the same size in the dimension, or if one of the arrays has size 1 in that dimension.\n",
    "The arrays can be broadcast together if they are compatible in all dimensions.\n",
    "After broadcasting, each array behaves as if it had shape equal to the elementwise maximum of shapes of the two input arrays.\n",
    "In any dimension where one array had size 1 and the other array had size greater than 1, the first array behaves as if it were copied along that dimension\n",
    "If this explanation does not make sense, try reading the explanation from the [documentation](http://docs.scipy.org/doc/numpy/user/basics.broadcasting.html) or this [explanation](http://scipy.github.io/old-wiki/pages/EricsBroadcastingDoc).\n",
    "\n",
    "Functions that support broadcasting are known as universal functions. You can find the list of all universal functions in the [documentation](http://docs.scipy.org/doc/numpy/reference/ufuncs.html#available-ufuncs).\n",
    "\n",
    "Here are some applications of broadcasting:\n",
    "\n",
    "<strong>Compute outer product of vectors</strong>\n",
    "\n",
    "    v = np.array([1,2,3])  # v has shape (3,)\n",
    "    w = np.array([4,5])    # w has shape (2,)\n",
    "    \n",
    "To compute an outer product, we first reshape v to be a column vector of shape (3, 1); we can then broadcast it against w to yield an output of shape (3, 2), which is the outer product of v and w:\n",
    "\n",
    "    [[ 4  5]\n",
    "     [ 8 10]\n",
    "     [12 15]]\n",
    "     \n",
    "Write the code to obtain the outer product of v and w below.\n",
    "\n",
    "<strong>Add a vector to each row of a matrix</strong>\n",
    "\n",
    "    x = np.array([[1,2,3], [4,5,6]])\n",
    "    \n",
    "x has shape (2, 3) and v has shape (3,) so they broadcast to (2, 3), giving the following matrix:\n",
    "\n",
    "    [[2 4 6]\n",
    "     [5 7 9]]\n",
    "     \n",
    "Write the code to obtain the sum of x and v below.\n",
    "\n",
    "<strong>Add a vector to each column of a matrix</strong>\n",
    "\n",
    "x has shape (2, 3) and w has shape (2,). If we transpose x then it has shape (3, 2) and can be broadcast against w to yield a result of shape (3, 2); transposing this result yields the final result of shape (2, 3) which is the matrix x with the vector w added to each column. Gives the following matrix:\n",
    "\n",
    "    [[ 5  6  7]\n",
    "     [ 9 10 11]]\n",
    "     \n",
    "Write the code to obtain the above matrix following the procedure mentioned. (Another solution is to reshape w to be a column vector of shape (2, 1); we can then broadcast it directly against x to produce the same output.)\n",
    "\n",
    "<strong>Multiply a matrix by a constant:</strong>\n",
    "x has shape (2, 3). Numpy treats scalars as arrays of shape (); these can be broadcast together to shape (2, 3), producing the following array:\n",
    "\n",
    "    [[ 2  4  6]\n",
    "     [ 8 10 12]]\n",
    "     \n",
    "Write the code to multiply integer 2 with matrix <strong>x</strong>."
   ]
  },
  {
   "cell_type": "code",
   "execution_count": 8,
   "metadata": {
    "deletable": false,
    "nbgrader": {
     "cell_type": "code",
     "checksum": "c2a6f44f491963e8724d3ac87e6c0f7d",
     "grade": true,
     "grade_id": "cell-22f9c684674c76bb",
     "locked": false,
     "points": 1,
     "schema_version": 3,
     "solution": true,
     "task": false
    }
   },
   "outputs": [
    {
     "name": "stdout",
     "output_type": "stream",
     "text": [
      "[[ 4  5]\n",
      " [ 8 10]\n",
      " [12 15]]\n",
      "[[2 4 6]\n",
      " [5 7 9]]\n",
      "[[ 5  6  7]\n",
      " [ 9 10 11]]\n",
      "[[ 2  4  6]\n",
      " [ 8 10 12]]\n"
     ]
    }
   ],
   "source": [
    "import numpy as np\n",
    "\n",
    "# Compute outer product of vectors\n",
    "v = np.array([1,2,3])  # v has shape (3,)\n",
    "w = np.array([4,5])    # w has shape (2,)\n",
    "\n",
    "# YOUR CODE HERE\n",
    "print(np.reshape(v,(3,1))*w)\n",
    "#raise NotImplementedError()\n",
    "\n",
    "# Add a vector to each row of a matrix\n",
    "x = np.array([[1,2,3], [4,5,6]])\n",
    "\n",
    "# YOUR CODE HERE\n",
    "print(x+v)\n",
    "#raise NotImplementedError()\n",
    "\n",
    "# Add a vector to each column of a matrix\n",
    "\n",
    "# YOUR CODE HERE\n",
    "print(x + np.reshape(w,(2,1)))\n",
    "#raise NotImplementedError()\n",
    "\n",
    "# Multiply a matrix by a constant:\n",
    "# YOUR CODE HERE\n",
    "print(x*2)\n",
    "#raise NotImplementedError()"
   ]
  },
  {
   "cell_type": "markdown",
   "metadata": {
    "deletable": false,
    "editable": false,
    "nbgrader": {
     "cell_type": "markdown",
     "checksum": "f8ae4e7ab6f5bb55b030556971357eef",
     "grade": false,
     "grade_id": "cell-bdb8f90c466324cd",
     "locked": true,
     "schema_version": 3,
     "solution": false,
     "task": false
    }
   },
   "source": [
    "Broadcasting typically makes your code more concise and faster, so you should strive to use it where possible."
   ]
  },
  {
   "cell_type": "markdown",
   "metadata": {
    "deletable": false,
    "editable": false,
    "nbgrader": {
     "cell_type": "markdown",
     "checksum": "fad1d91b6649607957e70f2f4fbc5812",
     "grade": false,
     "grade_id": "cell-ca3480026a0a9be8",
     "locked": true,
     "schema_version": 3,
     "solution": false,
     "task": false
    }
   },
   "source": [
    "### Numpy Documentation\n",
    "This brief overview has touched on many of the important things that you need to know about numpy, but is far from complete. Check out the [numpy reference](http://docs.scipy.org/doc/numpy/reference/) to find out much more about numpy."
   ]
  },
  {
   "cell_type": "markdown",
   "metadata": {
    "deletable": false,
    "editable": false,
    "nbgrader": {
     "cell_type": "markdown",
     "checksum": "087cc9aa69f4166f02d81e0da2a74e92",
     "grade": false,
     "grade_id": "cell-84c4eee7a68bdc1a",
     "locked": true,
     "schema_version": 3,
     "solution": false,
     "task": false
    }
   },
   "source": [
    "# SciPy\n",
    "Numpy provides a high-performance multidimensional array and basic tools to compute with and manipulate these arrays. [SciPy](http://docs.scipy.org/doc/scipy/reference/) builds on this, and provides a large number of functions that operate on numpy arrays and are useful for different types of scientific and engineering applications.\n",
    "\n",
    "The best way to get familiar with SciPy is to browse the [documentation](http://docs.scipy.org/doc/scipy/reference/index.html). We will highlight some parts of SciPy that you might find useful for this class.\n",
    "\n",
    "## MATLAB files\n",
    "The functions <strong>scipy.io.loadmat</strong> and <strong>scipy.io.savemat</strong> allow you to read and write MATLAB files. You can read about them in the [documentation](http://docs.scipy.org/doc/scipy/reference/io.html).\n",
    "\n",
    "## Distance between points\n",
    "SciPy defines some useful functions for computing distances between sets of points.\n",
    "\n",
    "The function <code>scipy.spatial.distance.pdist</code> computes the distance between all pairs of points in a given set.\n",
    "\n",
    "Create the following array <strong>x</strong> where each row is a point in 2D space:\n",
    "  \n",
    "    [[0 1]\n",
    "     [1 0]\n",
    "     [2 0]]\n",
    "\n",
    "Compute the Euclidean distance between all rows of x. <code>d[i, j]</code> is the Euclidean distance between <code>x[i, :]</code> and <code>x[j, :]</code>, and <strong>d</strong> is the following array:\n",
    "  \n",
    "    [[ 0.          1.41421356  2.23606798]\n",
    "     [ 1.41421356  0.          1.        ]\n",
    "     [ 2.23606798  1.          0.        ]]"
   ]
  },
  {
   "cell_type": "code",
   "execution_count": 9,
   "metadata": {},
   "outputs": [
    {
     "name": "stdout",
     "output_type": "stream",
     "text": [
      "[[0 1]\n",
      " [1 0]\n",
      " [2 0]]\n",
      "[[0.         1.41421356 2.23606798]\n",
      " [1.41421356 0.         1.        ]\n",
      " [2.23606798 1.         0.        ]]\n"
     ]
    }
   ],
   "source": [
    "import numpy as np\n",
    "from scipy.spatial.distance import pdist, squareform\n",
    "\n",
    "x = np.array([[0, 1], [1, 0], [2, 0]])\n",
    "print(x)\n",
    "\n",
    "d = squareform(pdist(x, 'euclidean'))\n",
    "print(d)"
   ]
  },
  {
   "cell_type": "markdown",
   "metadata": {
    "deletable": false,
    "editable": false,
    "nbgrader": {
     "cell_type": "markdown",
     "checksum": "4917187b6597d09397997aa0d3196203",
     "grade": false,
     "grade_id": "cell-db4cabc29a3b3654",
     "locked": true,
     "schema_version": 3,
     "solution": false,
     "task": false
    }
   },
   "source": [
    "You can read all the details about this function in the [documentation](http://docs.scipy.org/doc/scipy/reference/generated/scipy.spatial.distance.pdist.html).\n",
    "\n",
    "A similar function <strong>(scipy.spatial.distance.cdist)</strong> computes the distance between all pairs across two sets of points; you can read about it in the [documentation](http://docs.scipy.org/doc/scipy/reference/generated/scipy.spatial.distance.cdist.html)."
   ]
  },
  {
   "cell_type": "markdown",
   "metadata": {
    "deletable": false,
    "editable": false,
    "nbgrader": {
     "cell_type": "markdown",
     "checksum": "1d70d48afd152de5edce489fa73009fc",
     "grade": false,
     "grade_id": "cell-329685b85b47e4c7",
     "locked": true,
     "schema_version": 3,
     "solution": false,
     "task": false
    }
   },
   "source": [
    "# Matplotlib\n",
    "\n",
    "[Matplotlib](http://matplotlib.org/) is a plotting library. In this section give a brief introduction to the <strong>matplotlib.pyplot</strong> module, which provides a plotting system similar to that of MATLAB.\n",
    "\n",
    "## Plotting\n",
    "The most important function in matplotlib is plot, which allows you to plot 2D data. Here is a simple example:"
   ]
  },
  {
   "cell_type": "code",
   "execution_count": 10,
   "metadata": {},
   "outputs": [
    {
     "data": {
      "image/png": "[encoded data removed]",
      "text/plain": [
       "<Figure size 432x288 with 1 Axes>"
      ]
     },
     "metadata": {
      "needs_background": "light"
     },
     "output_type": "display_data"
    }
   ],
   "source": [
    "import numpy as np\n",
    "import matplotlib.pyplot as plt\n",
    "\n",
    "# Compute the x and y coordinates for points on a sine curve\n",
    "x = np.arange(0, 3 * np.pi, 0.1)\n",
    "y = np.sin(x)\n",
    "\n",
    "# Plot the points using matplotlib\n",
    "plt.plot(x, y)\n",
    "plt.show()  # You must call plt.show() to make graphics appear."
   ]
  },
  {
   "cell_type": "markdown",
   "metadata": {
    "deletable": false,
    "editable": false,
    "nbgrader": {
     "cell_type": "markdown",
     "checksum": "4570071dc162cfbca227f60cc6c21e0f",
     "grade": false,
     "grade_id": "cell-87d4f7968e59d76d",
     "locked": true,
     "schema_version": 3,
     "solution": false,
     "task": false
    }
   },
   "source": [
    "With just a little bit of extra work we can easily plot multiple lines at once, and add a title, legend, and axis labels:"
   ]
  },
  {
   "cell_type": "code",
   "execution_count": 11,
   "metadata": {},
   "outputs": [
    {
     "data": {
      "image/png": "[encoded data removed]",
      "text/plain": [
       "<Figure size 432x288 with 1 Axes>"
      ]
     },
     "metadata": {
      "needs_background": "light"
     },
     "output_type": "display_data"
    }
   ],
   "source": [
    "import numpy as np\n",
    "import matplotlib.pyplot as plt\n",
    "\n",
    "# Compute the x and y coordinates for points on sine and cosine curves\n",
    "x = np.arange(0, 3 * np.pi, 0.1)\n",
    "y_sin = np.sin(x)\n",
    "y_cos = np.cos(x)\n",
    "\n",
    "# Plot the points using matplotlib\n",
    "plt.plot(x, y_sin)\n",
    "plt.plot(x, y_cos)\n",
    "plt.xlabel('x axis label')\n",
    "plt.ylabel('y axis label')\n",
    "plt.title('Sine and Cosine')\n",
    "plt.legend(['Sine', 'Cosine'])\n",
    "plt.show()"
   ]
  },
  {
   "cell_type": "markdown",
   "metadata": {
    "deletable": false,
    "editable": false,
    "nbgrader": {
     "cell_type": "markdown",
     "checksum": "7de020f5c47d09843afc45be69087c98",
     "grade": false,
     "grade_id": "cell-e8fbcd35df24ecba",
     "locked": true,
     "schema_version": 3,
     "solution": false,
     "task": false
    }
   },
   "source": [
    "You can read much more about the <strong>plot</strong> function in the [documentation](http://matplotlib.org/api/pyplot_api.html#matplotlib.pyplot.plot)."
   ]
  },
  {
   "cell_type": "markdown",
   "metadata": {
    "deletable": false,
    "editable": false,
    "nbgrader": {
     "cell_type": "markdown",
     "checksum": "230da89fbbc8af75cd2586c1c394b8af",
     "grade": false,
     "grade_id": "cell-ed9e3272b78375b0",
     "locked": true,
     "schema_version": 3,
     "solution": false,
     "task": false
    }
   },
   "source": [
    "## Subplots\n",
    "You can plot different things in the same figure using the subplot function. Here is an example:"
   ]
  },
  {
   "cell_type": "code",
   "execution_count": 19,
   "metadata": {},
   "outputs": [
    {
     "data": {
      "image/png": "[encoded data removed]",
      "text/plain": [
       "<Figure size 432x288 with 2 Axes>"
      ]
     },
     "metadata": {
      "needs_background": "light"
     },
     "output_type": "display_data"
    }
   ],
   "source": [
    "import numpy as np\n",
    "import matplotlib.pyplot as plt\n",
    "\n",
    "# Compute the x and y coordinates for points on sine and cosine curves\n",
    "x = np.arange(0, 3 * np.pi, 0.1)\n",
    "y_sin = np.sin(x)\n",
    "y_cos = np.cos(x)\n",
    "\n",
    "# Set up a subplot grid that has height 2 and width 1,\n",
    "# and set the first such subplot as active.\n",
    "plt.subplot(2, 1, 1)\n",
    "\n",
    "# Make the first plot\n",
    "plt.plot(x, y_sin)\n",
    "plt.title('Sine')\n",
    "\n",
    "# Set the second subplot as active, and make the second plot.\n",
    "plt.subplot(2, 1, 2)\n",
    "plt.plot(x, y_cos)\n",
    "plt.title('Cosine')\n",
    "\n",
    "# Show the figure.\n",
    "plt.show()"
   ]
  },
  {
   "cell_type": "markdown",
   "metadata": {
    "deletable": false,
    "editable": false,
    "nbgrader": {
     "cell_type": "markdown",
     "checksum": "8e16ad44e4bb1a8c22d2695d48d7cce9",
     "grade": false,
     "grade_id": "cell-9869d58efd03bf2d",
     "locked": true,
     "schema_version": 3,
     "solution": false,
     "task": false
    }
   },
   "source": [
    "You can read much more about the <strong>subplot</strong> function in the [documentation](http://matplotlib.org/api/pyplot_api.html#matplotlib.pyplot.subplot)."
   ]
  },
  {
   "attachments": {
    "image.png": {
     "image/png": "[encoded data removed]"
    }
   },
   "cell_type": "markdown",
   "metadata": {
    "deletable": false,
    "editable": false,
    "nbgrader": {
     "cell_type": "markdown",
     "checksum": "868591e0818be95ad920db22281409f0",
     "grade": false,
     "grade_id": "cell-22321312c7f53e55",
     "locked": true,
     "schema_version": 3,
     "solution": false,
     "task": false
    }
   },
   "source": [
    "Create a linearly spaced numpy array with 100 values ranging from -5 to +5 and show a subplot of functions $x^2$ and $x^3$ as shown below.\n",
    "\n",
    "To adjust the axis spines of the plot, you can use commands e.g., <code>ax.spines['left'].set_position('center')</code>. If you want to remove any of the axis spine, you may write <code>ax.spines['right'].set_color('none')</code>.\n",
    "\n",
    "![image.png](attachment:image.png)"
   ]
  },
  {
   "cell_type": "code",
   "execution_count": 27,
   "metadata": {
    "deletable": false,
    "nbgrader": {
     "cell_type": "code",
     "checksum": "b84da066b23e64f45558a39d0ae50061",
     "grade": true,
     "grade_id": "cell-b7da1df7e1331e59",
     "locked": false,
     "points": 2,
     "schema_version": 3,
     "solution": true,
     "task": false
    }
   },
   "outputs": [
    {
     "data": {
      "image/png": "[encoded data removed]",
      "text/plain": [
       "<Figure size 432x288 with 2 Axes>"
      ]
     },
     "metadata": {
      "needs_background": "light"
     },
     "output_type": "display_data"
    }
   ],
   "source": [
    "# YOUR CODE HERE\n",
    "import numpy as np\n",
    "import matplotlib.pyplot as plt\n",
    "\n",
    "x = np.linspace(-5,5,100)\n",
    "y1 = x **2\n",
    "y2 = x **3\n",
    "\n",
    "fig = plt.figure()\n",
    "#plotting the first graph\n",
    "ax = fig.add_subplot(1,2,1)\n",
    "ax.set_title('Graph of x^2')\n",
    "ax.plot(x,y1)\n",
    "ax.spines['left'].set_position('center')\n",
    "ax.spines['right'].set_color('none')\n",
    "ax.spines['top'].set_color('none')\n",
    "\n",
    "\n",
    "#plt.subplot(1,2,1)\n",
    "#plt.plot(x,y1)\n",
    "#ax.spines['left'].set_position('center')\n",
    "#plt.show()\n",
    "\n",
    "#plotting the second graph\n",
    "ax = fig.add_subplot(1,2,2)\n",
    "ax.set_title('Graph of x^3')\n",
    "ax.plot(x,y2)\n",
    "ax.spines['left'].set_position('center')\n",
    "ax.spines['right'].set_color('none')\n",
    "ax.spines['top'].set_color('none')\n",
    "\n",
    "#raise NotImplementedError()"
   ]
  },
  {
   "attachments": {
    "two_.png": {
     "image/png": "[encoded data removed]"
    }
   },
   "cell_type": "markdown",
   "metadata": {
    "deletable": false,
    "editable": false,
    "nbgrader": {
     "cell_type": "markdown",
     "checksum": "e470a487b92e12267ef6024b2abbfd96",
     "grade": false,
     "grade_id": "cell-b65346061bc06715",
     "locked": true,
     "schema_version": 3,
     "solution": false,
     "task": false
    }
   },
   "source": [
    "## Images\n",
    "You can use the <strong>imshow</strong> function to show images. Here is an example:\n",
    "\n",
    "    import numpy as np\n",
    "    import matplotlib.pyplot as plt\n",
    "    \n",
    "    img = plt.imread('assets/cat.jpg')\n",
    "    img_tinted = img * [1, 0.95, 0.9]\n",
    "    \n",
    "    # Show the original image\n",
    "    plt.subplot(1, 2, 1)\n",
    "    plt.imshow(img)\n",
    "    \n",
    "    # Show the tinted image\n",
    "    plt.subplot(1, 2, 2)\n",
    "    \n",
    "    # A slight gotcha with imshow is that it might give strange results\n",
    "    # if presented with data that is not uint8. To work around this, we\n",
    "    # explicitly cast the image to uint8 before displaying it.\n",
    "    \n",
    "    plt.imshow(np.uint8(img_tinted))\n",
    "    plt.show()\n",
    "    \n",
    "![two_.png](attachment:two_.png)\n",
    "\n",
    "Try recreating this plot."
   ]
  },
  {
   "cell_type": "code",
   "execution_count": 1,
   "metadata": {
    "deletable": false,
    "nbgrader": {
     "cell_type": "code",
     "checksum": "652011f3ff2d1f3725ca933866766038",
     "grade": true,
     "grade_id": "cell-08c529518839204c",
     "locked": false,
     "points": 1,
     "schema_version": 3,
     "solution": true,
     "task": false
    }
   },
   "outputs": [
    {
     "data": {
      "image/png": "[encoded data removed]",
      "text/plain": [
       "<Figure size 432x288 with 2 Axes>"
      ]
     },
     "metadata": {
      "needs_background": "light"
     },
     "output_type": "display_data"
    }
   ],
   "source": [
    "# YOUR CODE HERE\n",
    "import numpy as np\n",
    "import matplotlib.pyplot as plt\n",
    "\n",
    "img = plt.imread('assets/cat.jpg')\n",
    "img_tinted = img * [1, 0.95, 0.9]\n",
    "\n",
    "# Show the original image\n",
    "plt.subplot(1, 2, 1)\n",
    "plt.imshow(img)\n",
    "\n",
    "# Show the tinted image\n",
    "plt.subplot(1, 2, 2)\n",
    "\n",
    "# A slight gotcha with imshow is that it might give strange results\n",
    "# if presented with data that is not uint8. To work around this, we\n",
    "# explicitly cast the image to uint8 before displaying it.\n",
    "\n",
    "plt.imshow(np.uint8(img_tinted))\n",
    "plt.show()\n",
    "#raise NotImplementedError()"
   ]
  },
  {
   "cell_type": "markdown",
   "metadata": {
    "deletable": false,
    "editable": false,
    "nbgrader": {
     "cell_type": "markdown",
     "checksum": "b13b71dfc0c48de124f2ba5bb396e764",
     "grade": false,
     "grade_id": "cell-cd9e228c946fd744",
     "locked": true,
     "schema_version": 3,
     "solution": false,
     "task": false
    }
   },
   "source": [
    "# Scikit-Image\n",
    "<strong>scikit-image</strong> is a collection of algorithms for image processing for the Python programming language. It includes algorithms for segmentation, geometric transformations, color space manipulation, analysis, filtering, morphology, feature detection, and more. It is designed to interoperate with the Python numerical and scientific libraries NumPy and SciPy. We implement some functions from <strong>scikit-image</strong> in the following:\n",
    "\n",
    "## Image Operations\n",
    "\n",
    "<strong>Rescale</strong> operation resizes an image by a given scaling factor. The scaling factor can either be a single floating point value, or multiple values - one along each axis.\n",
    "\n",
    "<strong>Resize</strong> serves the same purpose, but allows to specify an output image shape instead of a scaling factor.\n",
    "\n",
    "<strong>rgb2gray</strong> operation converts an image with RGB channels into an image with a single grayscale channel."
   ]
  },
  {
   "cell_type": "code",
   "execution_count": 2,
   "metadata": {},
   "outputs": [
    {
     "data": {
      "image/png": "[encoded data removed]",
      "text/plain": [
       "<Figure size 432x288 with 4 Axes>"
      ]
     },
     "metadata": {
      "needs_background": "light"
     },
     "output_type": "display_data"
    }
   ],
   "source": [
    "import matplotlib.pyplot as plt\n",
    "\n",
    "from skimage import data\n",
    "from skimage.color import rgb2gray\n",
    "from skimage.transform import rescale, resize\n",
    "\n",
    "image = plt.imread('assets/cat.jpg')\n",
    "\n",
    "image_rescaled = rescale(image, scale=(0.5, 0.5, 1))\n",
    "\n",
    "grayscale = rgb2gray(image)\n",
    "\n",
    "image_resized = resize(image, (image.shape[0] // 4, image.shape[1] // 4))\n",
    "\n",
    "fig, axes = plt.subplots(nrows=2, ncols=2)\n",
    "\n",
    "ax = axes.ravel()\n",
    "\n",
    "ax[0].imshow(image)\n",
    "ax[0].set_title(\"Original image\")\n",
    "\n",
    "ax[1].imshow(grayscale, cmap=plt.cm.gray)\n",
    "ax[1].set_title(\"grayscale image\")\n",
    "\n",
    "ax[2].imshow(image_rescaled)\n",
    "ax[2].set_title(\"Rescaled image\")\n",
    "\n",
    "ax[3].imshow(image_resized)\n",
    "ax[3].set_title(\"Resized image\")\n",
    "\n",
    "#ax[0].set_xlim(0, 512)\n",
    "#ax[0].set_ylim(512, 0)\n",
    "plt.tight_layout()\n",
    "plt.show()"
   ]
  },
  {
   "cell_type": "markdown",
   "metadata": {
    "deletable": false,
    "editable": false,
    "nbgrader": {
     "cell_type": "markdown",
     "checksum": "0cce5c4130481c6e0ed844a71757a06c",
     "grade": false,
     "grade_id": "cell-234f26745ccd01af",
     "locked": true,
     "schema_version": 3,
     "solution": false,
     "task": false
    }
   },
   "source": [
    "Did you notice any change in the output of rescaled or resized images above? If not, then explain why? And if yes, then explain why all photos appear to be of the same size?"
   ]
  },
  {
   "cell_type": "markdown",
   "metadata": {
    "deletable": false,
    "nbgrader": {
     "cell_type": "markdown",
     "checksum": "c7a96e3adfec06c35156fec0942d42df",
     "grade": true,
     "grade_id": "cell-e40f4c7ae18a48b1",
     "locked": false,
     "points": 1,
     "schema_version": 3,
     "solution": true,
     "task": false
    }
   },
   "source": [
    "YOUR ANSWER HERE\n",
    "Resizing and rescaling woks in the similar fashion , just differs in the input which is required. Rescaling woks with the scaling factor in the input and resizing takes the input of the size of the final image instaed of the scaling factor."
   ]
  },
  {
   "cell_type": "markdown",
   "metadata": {
    "deletable": false,
    "editable": false,
    "nbgrader": {
     "cell_type": "markdown",
     "checksum": "be9fc789d2f542908330a83febdb6352",
     "grade": false,
     "grade_id": "cell-7abfca689f9df5dc",
     "locked": true,
     "schema_version": 3,
     "solution": false,
     "task": false
    }
   },
   "source": [
    "## Simple robot learning example\n",
    "The dataset `robot_data.mat` is from a simple simulation of a two degree of freedom robot that is tracking an ellipse."
   ]
  },
  {
   "cell_type": "markdown",
   "metadata": {
    "deletable": false,
    "editable": false,
    "nbgrader": {
     "cell_type": "markdown",
     "checksum": "457e6c3fb5753b1314171a03d2aee339",
     "grade": false,
     "grade_id": "cell-058ae0e65ef8d244",
     "locked": true,
     "schema_version": 3,
     "solution": false,
     "task": false
    }
   },
   "source": [
    "![RobotAnim](assets/robot_anim.gif \"RobotAnim\")"
   ]
  },
  {
   "cell_type": "markdown",
   "metadata": {
    "deletable": false,
    "editable": false,
    "nbgrader": {
     "cell_type": "markdown",
     "checksum": "55315fbf1f50880a4465512bb2c2b821",
     "grade": false,
     "grade_id": "cell-187e0de05854e6d8",
     "locked": true,
     "schema_version": 3,
     "solution": false,
     "task": false
    }
   },
   "source": [
    "The file contains a number of matrices\n",
    "* `th` joint angles/positions\n",
    "* `th_d` joint veclocities\n",
    "* `th_dd` joint accelerations\n",
    "* `tau` joint torques\n",
    "* `x` Cartesian position of the end-effector\n",
    "* `x_d` Cartesian velocity of the end-effector\n",
    "* `x_dd` Cartesian acceleration of the end-effector\n",
    "\n",
    "We now want to learn a very simple feedforward controller, that is a function that maps from joint positions to joint torques.\n",
    "\n"
   ]
  },
  {
   "cell_type": "markdown",
   "metadata": {
    "deletable": false,
    "editable": false,
    "nbgrader": {
     "cell_type": "markdown",
     "checksum": "e4ef725e920c4c06ef21f762ac578b38",
     "grade": false,
     "grade_id": "cell-f3f9678addc4acc1",
     "locked": true,
     "schema_version": 3,
     "solution": false,
     "task": false
    }
   },
   "source": [
    "Load the dataset using the `scipy` functionality for loading MATLAB files described above. Extract `th` and `tau` to NumPy arrays of the same name."
   ]
  },
  {
   "cell_type": "code",
   "execution_count": 126,
   "metadata": {
    "deletable": false,
    "nbgrader": {
     "cell_type": "code",
     "checksum": "f6856a09806376cb47182507210d5ffe",
     "grade": false,
     "grade_id": "cell-159d270ea071b93f",
     "locked": false,
     "schema_version": 3,
     "solution": true,
     "task": false
    }
   },
   "outputs": [
    {
     "name": "stdout",
     "output_type": "stream",
     "text": [
      "{'__header__': b'MATLAB 5.0 MAT-file, Platform: PCWIN64, Created on: Fri Sep  4 12:09:38 2020', '__version__': '1.0', '__globals__': [], 'tau': array([[   0.        ,  142.74534148,  135.99786403,  129.73948039,\n",
      "         123.60700937,  116.99358065,  109.56087269,  101.28173944,\n",
      "          92.30835657,   82.83696505,   73.0321153 ,   63.00715423,\n",
      "          52.83466146,   42.56427781,   32.23674863,   21.89160612,\n",
      "          11.56981898,    1.31356274,   -8.83518705,  -18.83622905,\n",
      "         -28.6524105 ,  -38.25046079,  -47.60140464,  -56.68063768,\n",
      "         -65.46776121,  -73.94626526,  -82.10313452,  -89.92843447,\n",
      "         -97.41491775, -104.55767407, -111.35383232, -117.80231162,\n",
      "        -123.90361004, -129.65961546, -135.0734229 , -140.14914491,\n",
      "        -144.89170665, -149.3066226 , -153.39975825, -157.17708639,\n",
      "        -160.64445478, -163.80739099, -166.67098153, -169.23987889,\n",
      "        -171.51851054, -173.51158996, -175.22505616, -176.6675872 ,\n",
      "        -177.8528268 , -178.80240042, -179.54963268, -180.14356095,\n",
      "        -180.65233929, -181.16449583, -181.78596179, -182.63077066,\n",
      "        -183.80439147, -185.3811234 , -187.38032948, -189.74891123,\n",
      "        -192.35725689, -195.01201985, -197.48298845, -199.53624744,\n",
      "        -200.96446869, -201.60768485, -201.36226514, -200.17961651,\n",
      "        -198.05809565, -195.03179675, -191.15902773, -186.51215913,\n",
      "        -181.16957388, -175.20981171, -168.70766199, -161.73182457,\n",
      "        -154.34374532, -146.59727701, -138.53888129, -130.20815285,\n",
      "        -121.63850437, -112.85789765, -103.88954286,  -94.75251573,\n",
      "         -85.46226301,  -76.03098202,  -66.46787137,  -56.77925941,\n",
      "         -46.96862425,  -37.03652798,  -26.98049688,  -16.79489288,\n",
      "          -6.47083994,    4.00370498,   14.64361047,   25.46578645,\n",
      "          36.48772924,   47.72511296,   59.18811115,   70.87616236,\n",
      "          82.77105451,   94.82858019,  106.96968428,  119.07296906,\n",
      "         130.97141147,  142.45664715,  153.29342376,  163.2442761 ,\n",
      "         172.10050229,  179.71183718,  186.00619608,  190.99378565,\n",
      "         194.75554875,  197.42123249,  199.14464835,  200.08247873,\n",
      "         200.37985196,  200.16287452,  199.53651922,  198.58579095,\n",
      "         197.37842501,  195.96797636,  194.39670093,  192.69799629,\n",
      "         190.89836778,  189.01897107,  187.07680516,  185.08562591,\n",
      "         183.05663883,  180.99901845,  178.92029256,  176.82662307,\n",
      "         174.72300944,  172.61343612,  170.50098095,  168.38789747,\n",
      "         166.2756806 ,  164.16512196,  162.05635868,  159.94891771,\n",
      "         157.84175597,  155.7332964 ,  153.62145875,  151.50368464,\n",
      "         149.3769558 ,  147.23780536,  145.08232203,  142.90614776,\n",
      "         140.70447016,  138.4720114 ,  136.20301585,  133.89123979,\n",
      "         131.52994616,  129.11190866,  126.62942884,  124.07437032,\n",
      "         121.43821367,  118.71213477,  115.88710849,  112.95403783,\n",
      "         109.90390705,  106.72795505,  103.41786336,   99.96595111,\n",
      "          96.36536769,   92.6102733 ,   88.69599725,   84.61916505,\n",
      "          80.37778705,   75.97130409,   71.4005885 ,   66.66790219,\n",
      "          61.77681615,   56.73209845,   51.53957889,   46.20599962,\n",
      "          40.7388605 ,   35.14626717,   29.43678865,   23.61932909,\n",
      "          17.70301715,   11.69711434,    5.6109427 ,   -0.54616925,\n",
      "          -6.76492377,  -13.03607638,  -19.35044601,  -25.6989146 ,\n",
      "         -32.0724185 ,  -38.46193314,  -44.85845238,  -51.25296359,\n",
      "         -57.63641906,  -63.99970414,  -70.33360203,  -76.62875509,\n",
      "         -82.87562209,  -89.06443084,  -95.18512533, -101.22730665,\n",
      "        -107.18016687, -113.03241554, -118.77219893, -124.38701324,\n",
      "        -129.86361482, -135.18793321, -140.34499712, -145.31889016,\n",
      "        -150.09276252, -154.6489383 , -158.96917647, -163.0351665 ,\n",
      "        -166.82936656, -170.33631763, -173.54457957, -176.44941408,\n",
      "        -179.05624801, -181.38474074, -183.47290178, -185.38014909,\n",
      "        -187.18756215, -188.99315624, -190.90028697, -192.99882013,\n",
      "        -195.3415717 , -197.92185467, -200.65986672, -203.40423719,\n",
      "        -205.95014528, -208.06928678, -209.54295225, -210.18953713,\n",
      "        -209.88122855, -208.54902251, -206.1784787 , -202.79992499,\n",
      "        -198.4765624 , -193.2929074 , -187.34490819, -180.73222282,\n",
      "        -173.55262257, -165.8982255 , -157.85318115, -149.49243806,\n",
      "        -140.88127888, -132.07537227, -123.12115149, -114.05638101,\n",
      "        -104.91081311,  -95.70686707,  -86.46028646,  -77.18074647,\n",
      "         -67.87239498,  -58.53432025,  -49.16094487,  -39.74235305,\n",
      "         -30.26456557,  -20.70978749,  -11.05666846,   -1.28063638,\n",
      "           8.64560467,   18.75128092,   29.06627749,   39.6191482 ,\n",
      "          50.43411364,   61.52673478,   72.89801308,   84.52688925,\n",
      "          96.36158052,  108.31096504,  120.23821925,  131.95981464,\n",
      "         143.25314847,  153.87476179,  163.58796605,  172.19457409,\n",
      "         179.56238319,  185.64031673,  190.45723037,  194.10631939,\n",
      "         196.72158001,  198.45381909,  199.45162258,  199.84940176,\n",
      "         199.76195434,  199.28366194,  198.49030622,  197.44195942,\n",
      "         196.18601129,  194.75988014,  193.19325934,  191.50990396,\n",
      "         189.72902001,  187.86633012,  185.93488124,  183.94564839,\n",
      "         181.90797831,  179.82990867,  177.71839261,  175.57945331,\n",
      "         173.41828848,  171.2393408 ,  169.04634613,  166.84236816,\n",
      "         164.62982492,  162.41051068,  160.18561478,  157.95573767,\n",
      "         155.72090415,  153.48057293,  151.23364195,  148.97844904,\n",
      "         146.71276764,  144.43379809,  142.13815514,  139.8218532 ,\n",
      "         137.4802913 ,  135.10824014,  132.69983443,  130.2485738 ,\n",
      "         127.747336  ,  125.18840623,  122.56352604,  119.86396513,\n",
      "         117.08061807,  114.20412719,  111.22503092,  108.13393513,\n",
      "         104.92170313,  101.57965745,   98.09978539,   94.47493849,\n",
      "          90.69901582,   86.76712131],\n",
      "       [   0.        ,  128.27472972,   66.80295186,   25.67112849,\n",
      "           1.59419972,   -9.52679251,  -11.75984893,   -8.67970721,\n",
      "          -3.09436608,    3.05106057,    8.60237151,   13.02038548,\n",
      "          16.18015552,   18.19774561,   19.30334388,   19.75851213,\n",
      "          19.80772938,   19.65398694,   19.45017489,   19.30016376,\n",
      "          19.26523717,   19.37287329,   19.62590253,   20.01085765,\n",
      "          20.50491357,   21.08121789,   21.71266848,   22.37433706,\n",
      "          23.04480094,   23.70665681,   24.34647164,   24.95439012,\n",
      "          25.52357464,   26.04960753,   26.52994148,   26.96344451,\n",
      "          27.35005423,   27.69053317,   27.98630338,   28.23933277,\n",
      "          28.45204634,   28.6272395 ,   28.76797579,   28.87745596,\n",
      "          28.95884748,   29.01506444,   29.04848684,   29.06060819,\n",
      "          29.05160387,   29.01982362,   28.96123562,   28.86889132,\n",
      "          28.73254102,   28.53859708,   28.27068515,   27.91098504,\n",
      "          27.44238521,   26.8511471 ,   26.12940664,   25.27666234,\n",
      "          24.29963467,   23.21051999,   22.02436374,   20.75659147,\n",
      "          19.42147618,   18.03172022,   16.59880615,   15.13358332,\n",
      "          13.64667953,   12.14857501,   10.649382  ,    9.15847074,\n",
      "           7.68408615,    6.23305508,    4.81062983,    3.42047146,\n",
      "           2.06475084,    0.74433504,   -0.54097471,   -1.79218273,\n",
      "          -3.01083971,   -4.19880153,   -5.35801768,   -6.49035615,\n",
      "          -7.59746786,   -8.68069154,   -9.74099744,  -10.77896723,\n",
      "         -11.79480685,  -12.7883883 ,  -13.75931719,  -14.70702324,\n",
      "         -15.63087202,  -16.53029842,  -17.40496384,  -18.2549417 ,\n",
      "         -19.08093778,  -19.88455149,  -20.66858053,  -21.43735846,\n",
      "         -22.19708897,  -22.95609535,  -23.72483973,  -24.51549765,\n",
      "         -25.34083845,  -26.2122275 ,  -27.13679866,  -28.11424611,\n",
      "         -29.13411038,  -30.17460488,  -31.20369778,  -32.18237258,\n",
      "         -33.06914777,  -33.82454775,  -34.41447265,  -34.81206063,\n",
      "         -34.99823647,  -34.96142395,  -34.69687266,  -34.20587603,\n",
      "         -33.49498671,  -32.57523842,  -31.4613556 ,  -30.17094373,\n",
      "         -28.72367427,  -27.14049334,  -25.44288804,  -23.65223954,\n",
      "         -21.78928352,  -19.87368692,  -17.92374089,  -15.95616142,\n",
      "         -13.98598441,  -12.02653893,  -10.08948175,   -8.18487687,\n",
      "          -6.32130531,   -4.50599266,   -2.74494421,   -1.04307966,\n",
      "           0.59563832,    2.16808571,    3.67187136,    5.10524486,\n",
      "           6.46701838,    7.75650165,    8.97344912,   10.11801759,\n",
      "          11.19073263,   12.19246182,   13.12439302,   13.9880158 ,\n",
      "          14.78510441,   15.51770081,   16.18809671,   16.79881353,\n",
      "          17.35257982,   17.85230584,   18.30105522,   18.70201417,\n",
      "          19.05845855,   19.37371993,   19.6511512 ,   19.89409309,\n",
      "          20.10584238,   20.28962292,   20.44856011,   20.58565953,\n",
      "          20.7037899 ,   20.80567033,   20.89386176,   20.97076198,\n",
      "          21.03860366,   21.0994548 ,   21.15522097,   21.20764873,\n",
      "          21.25833005,   21.30870724,   21.36007845,   21.41360359,\n",
      "          21.47031076,   21.53110326,   21.59676712,   21.66797927,\n",
      "          21.74531622,   21.8292632 ,   21.92022358,   22.01852847,\n",
      "          22.12444621,   22.23819161,   22.35993472,   22.48980897,\n",
      "          22.62791848,   22.77434449,   22.92915075,   23.09238794,\n",
      "          23.26409689,   23.44431079,   23.63305636,   23.83035372,\n",
      "          24.03621529,   24.25064312,   24.47362464,   24.70512618,\n",
      "          24.94508342,   25.19338758,   25.44986533,   25.71424991,\n",
      "          25.98613933,   26.26493668,   26.54976498,   26.83934758,\n",
      "          27.13184252,   27.42461815,   27.71395843,   27.99469223,\n",
      "          28.25975617,   28.4997295 ,   28.70242619,   28.85269105,\n",
      "          28.93260548,   28.92232554,   28.80169044,   28.55250817,\n",
      "          28.16107448,   27.6201704 ,   26.9297602 ,   26.09603113,\n",
      "          25.12913697,   24.04059706,   22.84136673,   21.54111641,\n",
      "          20.14859857,   18.67255644,   17.12259001,   15.50962363,\n",
      "          13.84590024,   12.14461739,   10.41938511,    8.68366407,\n",
      "           6.9502847 ,    5.23109106,    3.53671293,    1.87644791,\n",
      "           0.25822744,   -1.31135876,   -2.82700105,   -4.28458716,\n",
      "          -5.6811094 ,   -7.01456923,   -8.28388381,   -9.48879721,\n",
      "         -10.62979784,  -11.70804287,  -12.72529039,  -13.68383941,\n",
      "         -14.58647867,  -15.43644502,  -16.23739335,  -16.99338069,\n",
      "         -17.70886882,  -18.38875132,  -19.03841281,  -19.66382914,\n",
      "         -20.27171598,  -20.86972685,  -21.46668516,  -22.07280374,\n",
      "         -22.69979402,  -23.36070006,  -24.06923096,  -24.83835634,\n",
      "         -25.6780453 ,  -26.59232079,  -27.57622837,  -28.61368353,\n",
      "         -29.67717252,  -30.72976575,  -31.72903833,  -32.63176785,\n",
      "         -33.3981271 ,  -33.99453602,  -34.39501669,  -34.58139818,\n",
      "         -34.54287324,  -34.27530165,  -33.78046314,  -33.06531416,\n",
      "         -32.14123424,  -31.02324158,  -29.72917809,  -28.27888685,\n",
      "         -26.69341734,  -24.99429503,  -23.20288472,  -21.3398662 ,\n",
      "         -19.42482904,  -17.47598351,  -15.50997737,  -13.54180349,\n",
      "         -11.58478143,   -9.65059566,   -7.74937431,   -5.88979455,\n",
      "          -4.07920256,   -2.32373905,   -0.62846316,    1.00253009,\n",
      "           2.56600208,    4.05947421,    5.48114362,    6.82981069,\n",
      "           8.10481748,    9.30599588,   10.43362406,   11.48838938,\n",
      "          12.47135648,   13.3839387 ,   14.22787166,   15.00518768,\n",
      "          15.71819006,   16.36942647,   16.96166081,   17.49784347,\n",
      "          17.98107968,   18.41459637,   18.80170785,   19.14578083,\n",
      "          19.4501998 ,   19.71833333,   19.95350243,   20.15895174,\n",
      "          20.33782427,   20.49314036]]), 'th': array([[1.12995917e+00, 1.15196100e+00, 1.17503499e+00, 1.19890300e+00,\n",
      "        1.22363143e+00, 1.24942789e+00, 1.27646507e+00, 1.30480611e+00,\n",
      "        1.33440972e+00, 1.36516899e+00, 1.39695027e+00, 1.42961830e+00,\n",
      "        1.46304728e+00, 1.49712293e+00, 1.53174048e+00, 1.56680201e+00,\n",
      "        1.60221441e+00, 1.63788855e+00, 1.67373936e+00, 1.70968650e+00,\n",
      "        1.74565527e+00, 1.78157751e+00, 1.81739240e+00, 1.85304696e+00,\n",
      "        1.88849637e+00, 1.92370401e+00, 1.95864140e+00, 1.99328793e+00,\n",
      "        2.02763062e+00, 2.06166377e+00, 2.09538867e+00, 2.12881336e+00,\n",
      "        2.16195243e+00, 2.19482681e+00, 2.22746375e+00, 2.25989668e+00,\n",
      "        2.29216524e+00, 2.32431529e+00, 2.35639896e+00, 2.38847473e+00,\n",
      "        2.42060757e+00, 2.45286910e+00, 2.48533770e+00, 2.51809876e+00,\n",
      "        2.55124478e+00, 2.58487546e+00, 2.61909754e+00, 2.65402445e+00,\n",
      "        2.68977542e+00, 2.72647395e+00, 2.76424532e+00, 2.80321284e+00,\n",
      "        2.84349275e+00, 2.88518742e+00, 2.92837728e+00, 2.97311198e+00,\n",
      "        3.01940190e+00, 3.06721140e+00, 3.11645548e+00, 3.16700086e+00,\n",
      "        3.21867181e+00, 3.27125998e+00, 3.32453668e+00, 3.37826560e+00,\n",
      "        3.43221446e+00, 3.48616426e+00, 3.53991588e+00, 3.59329398e+00,\n",
      "        3.64614871e+00, 3.69835573e+00, 3.74981513e+00, 3.80044961e+00,\n",
      "        3.85020237e+00, 3.89903492e+00, 3.94692493e+00, 3.99386429e+00,\n",
      "        4.03985735e+00, 4.08491944e+00, 4.12907556e+00, 4.17235936e+00,\n",
      "        4.21481224e+00, 4.25648266e+00, 4.29742553e+00, 4.33770177e+00,\n",
      "        4.37737794e+00, 4.41652593e+00, 4.45522282e+00, 4.49355066e+00,\n",
      "        4.53159652e+00, 4.56945243e+00, 4.60721561e+00, 4.64498861e+00,\n",
      "        4.68287975e+00, 4.72100345e+00, 4.75948086e+00, 4.79844032e+00,\n",
      "        4.83801790e+00, 4.87835770e+00, 4.91961171e+00, 4.96193908e+00,\n",
      "        5.00550421e+00, 5.05047342e+00, 5.09700966e+00, 5.14526502e+00,\n",
      "        5.19537095e+00, 5.24742677e+00, 5.30148758e+00, 5.35755310e+00,\n",
      "        5.41555967e+00, 5.47537676e+00, 5.53680918e+00, 5.59960463e+00,\n",
      "        5.66346538e+00, 5.72806245e+00, 5.79305032e+00, 5.85808075e+00,\n",
      "        5.92281481e+00, 5.98693260e+00, 6.05014054e+00, 6.11217648e+00,\n",
      "        6.17281273e+00, 6.23185745e+00, 5.96923318e-03, 6.13972821e-02,\n",
      "        1.14867528e-01, 1.66321337e-01, 2.15727287e-01, 2.63078069e-01,\n",
      "        3.08387346e-01, 3.51686703e-01, 3.93022730e-01, 4.32454346e-01,\n",
      "        4.70050353e-01, 5.05887264e-01, 5.40047396e-01, 5.72617224e-01,\n",
      "        6.03685977e-01, 6.33344461e-01, 6.61684086e-01, 6.88796068e-01,\n",
      "        7.14770796e-01, 7.39697330e-01, 7.63663016e-01, 7.86753203e-01,\n",
      "        8.09051031e-01, 8.30637293e-01, 8.51590340e-01, 8.71986035e-01,\n",
      "        8.91897721e-01, 9.11396219e-01, 9.30549825e-01, 9.49424316e-01,\n",
      "        9.68082944e-01, 9.86586421e-01, 1.00499290e+00, 1.02335790e+00,\n",
      "        1.04173429e+00, 1.06017216e+00, 1.07871875e+00, 1.09741833e+00,\n",
      "        1.11631209e+00, 1.13543800e+00, 1.15483073e+00, 1.17452154e+00,\n",
      "        1.19453817e+00, 1.21490487e+00, 1.23564229e+00, 1.25676760e+00,\n",
      "        1.27829449e+00, 1.30023332e+00, 1.32259126e+00, 1.34537248e+00,\n",
      "        1.36857837e+00, 1.39220783e+00, 1.41625747e+00, 1.44072198e+00,\n",
      "        1.46559434e+00, 1.49086619e+00, 1.51652803e+00, 1.54256957e+00,\n",
      "        1.56897992e+00, 1.59574786e+00, 1.62286207e+00, 1.65031129e+00,\n",
      "        1.67808452e+00, 1.70617115e+00, 1.73456115e+00, 1.76324513e+00,\n",
      "        1.79221448e+00, 1.82146146e+00, 1.85097930e+00, 1.88076226e+00,\n",
      "        1.91080571e+00, 1.94110623e+00, 1.97166169e+00, 2.00247131e+00,\n",
      "        2.03353578e+00, 2.06485740e+00, 2.09644014e+00, 2.12828987e+00,\n",
      "        2.16041448e+00, 2.19282410e+00, 2.22553135e+00, 2.25855161e+00,\n",
      "        2.29190333e+00, 2.32560841e+00, 2.35969260e+00, 2.39418596e+00,\n",
      "        2.42912339e+00, 2.46454509e+00, 2.50049715e+00, 2.53703204e+00,\n",
      "        2.57420897e+00, 2.61209409e+00, 2.65076038e+00, 2.69028691e+00,\n",
      "        2.73075744e+00, 2.77225791e+00, 2.81487264e+00, 2.85867896e+00,\n",
      "        2.90374033e+00, 2.95009829e+00, 2.99776380e+00, 3.04670954e+00,\n",
      "        3.09686440e+00, 3.14811178e+00, 3.20029250e+00, 3.25321234e+00,\n",
      "        3.30665303e+00, 3.36038490e+00, 3.41417947e+00, 3.46782028e+00,\n",
      "        3.52111105e+00, 3.57388113e+00, 3.62598830e+00, 3.67731942e+00,\n",
      "        3.72778955e+00, 3.77734007e+00, 3.82593608e+00, 3.87356360e+00,\n",
      "        3.92022665e+00, 3.96594445e+00, 4.01074875e+00, 4.05468150e+00,\n",
      "        4.09779270e+00, 4.14013859e+00, 4.18178007e+00, 4.22278151e+00,\n",
      "        4.26320964e+00, 4.30313284e+00, 4.34262059e+00, 4.38174310e+00,\n",
      "        4.42057123e+00, 4.45917651e+00, 4.49763140e+00, 4.53600967e+00,\n",
      "        4.57438700e+00, 4.61284169e+00, 4.65145553e+00, 4.69031483e+00,\n",
      "        4.72951148e+00, 4.76914413e+00, 4.80931935e+00, 4.85015257e+00,\n",
      "        4.89176882e+00, 4.93430285e+00, 4.97789839e+00, 5.02270609e+00,\n",
      "        5.06887982e+00, 5.11657072e+00, 5.16591899e+00, 5.21704338e+00,\n",
      "        5.27002923e+00, 5.32491629e+00, 5.38168814e+00, 5.44026523e+00,\n",
      "        5.50050296e+00, 5.56219533e+00, 5.62508371e+00, 5.68886923e+00,\n",
      "        5.75322690e+00, 5.81781995e+00, 5.88231282e+00, 5.94638227e+00,\n",
      "        6.00972608e+00, 6.07206956e+00, 6.13316978e+00, 6.19281807e+00,\n",
      "        6.25084080e+00, 2.39136512e-02, 7.83014617e-02, 1.30744175e-01,\n",
      "        1.81195434e-01, 2.29634310e-01, 2.76062227e-01, 3.20499879e-01,\n",
      "        3.62984260e-01, 4.03565882e-01, 4.42306211e-01, 4.79275374e-01,\n",
      "        5.14550120e-01, 5.48212062e-01, 5.80346162e-01, 6.11039460e-01,\n",
      "        6.40380021e-01, 6.68456074e-01, 6.95355322e-01, 7.21164403e-01,\n",
      "        7.45968475e-01, 7.69850912e-01, 7.92893086e-01, 8.15174218e-01,\n",
      "        8.36771293e-01, 8.57759007e-01, 8.78209757e-01, 8.98193637e-01,\n",
      "        9.17778458e-01, 9.37029757e-01, 9.56010807e-01, 9.74782618e-01,\n",
      "        9.93403911e-01, 1.01193109e+00, 1.03041816e+00, 1.04891669e+00,\n",
      "        1.06747566e+00, 1.08614137e+00, 1.10495731e+00, 1.12396404e+00,\n",
      "        1.14319901e+00, 1.16269647e+00, 1.18248735e+00, 1.20259916e+00,\n",
      "        1.22305596e+00, 1.24387833e+00],\n",
      "       [5.83307231e+00, 5.88032930e+00, 5.93860270e+00, 5.99719625e+00,\n",
      "        6.04978585e+00, 6.09339684e+00, 6.12740390e+00, 6.15263542e+00,\n",
      "        6.17064000e+00, 6.18315544e+00, 6.19178127e+00, 6.19781953e+00,\n",
      "        6.20223211e+00, 6.20566650e+00, 6.20851372e+00, 6.21097523e+00,\n",
      "        6.21312565e+00, 6.21496498e+00, 6.21645826e+00, 6.21756316e+00,\n",
      "        6.21824710e+00, 6.21849633e+00, 6.21831901e+00, 6.21774443e+00,\n",
      "        6.21682008e+00, 6.21560760e+00, 6.21417870e+00, 6.21261146e+00,\n",
      "        6.21098728e+00, 6.20938875e+00, 6.20789820e+00, 6.20659704e+00,\n",
      "        6.20556559e+00, 6.20488343e+00, 6.20462999e+00, 6.20488535e+00,\n",
      "        6.20573127e+00, 6.20725215e+00, 6.20953621e+00, 6.21267668e+00,\n",
      "        6.21677300e+00, 6.22193220e+00, 6.22827026e+00, 6.23591348e+00,\n",
      "        6.24499989e+00, 6.25568038e+00, 6.26811963e+00, 6.28249639e+00,\n",
      "        1.58174893e-02, 3.46570422e-02, 5.60405968e-02, 8.01798178e-02,\n",
      "        1.07277605e-01, 1.37515294e-01, 1.71037020e-01, 2.07932487e-01,\n",
      "        2.48220336e-01, 2.91835046e-01, 3.38620351e-01, 3.88331279e-01,\n",
      "        4.40645146e-01, 4.95179824e-01, 5.51516081e-01, 6.09220354e-01,\n",
      "        6.67864955e-01, 7.27043916e-01, 7.86383971e-01, 8.45551084e-01,\n",
      "        9.04253382e-01, 9.62241474e-01, 1.01930700e+00, 1.07528009e+00,\n",
      "        1.13002622e+00, 1.18344278e+00, 1.23545562e+00, 1.28601573e+00,\n",
      "        1.33509604e+00, 1.38268861e+00, 1.42880202e+00, 1.47345916e+00,\n",
      "        1.51669532e+00, 1.55855662e+00, 1.59909883e+00, 1.63838639e+00,\n",
      "        1.67649192e+00, 1.71349592e+00, 1.74948683e+00, 1.78456138e+00,\n",
      "        1.81882530e+00, 1.85239423e+00, 1.88539509e+00, 1.91796758e+00,\n",
      "        1.95026610e+00, 1.98246186e+00, 2.01474519e+00, 2.04732795e+00,\n",
      "        2.08044578e+00, 2.11436001e+00, 2.14935875e+00, 2.18575649e+00,\n",
      "        2.22389169e+00, 2.26412120e+00, 2.30681093e+00, 2.35232202e+00,\n",
      "        2.40099258e+00, 2.45311605e+00, 2.50891832e+00, 2.56853701e+00,\n",
      "        2.63200641e+00, 2.69925116e+00, 2.77008985e+00, 2.84424776e+00,\n",
      "        2.92137598e+00, 3.00107359e+00, 3.08290961e+00, 3.16644269e+00,\n",
      "        3.25123716e+00, 3.33687540e+00, 3.42296672e+00, 3.50915313e+00,\n",
      "        3.59511282e+00, 3.68056160e+00, 3.76525284e+00, 3.84897631e+00,\n",
      "        3.93155619e+00, 4.01284842e+00, 4.09273784e+00, 4.17113498e+00,\n",
      "        4.24797293e+00, 4.32320425e+00, 4.39679798e+00, 4.46873694e+00,\n",
      "        4.53901519e+00, 4.60763578e+00, 4.67460877e+00, 4.73994950e+00,\n",
      "        4.80367705e+00, 4.86581298e+00, 4.92638026e+00, 4.98540231e+00,\n",
      "        5.04290231e+00, 5.09890253e+00, 5.15342387e+00, 5.20648546e+00,\n",
      "        5.25810436e+00, 5.30829535e+00, 5.35707077e+00, 5.40444047e+00,\n",
      "        5.45041181e+00, 5.49498968e+00, 5.53817661e+00, 5.57997300e+00,\n",
      "        5.62037726e+00, 5.65938617e+00, 5.69699518e+00, 5.73319880e+00,\n",
      "        5.76799102e+00, 5.80136582e+00, 5.83331762e+00, 5.86384183e+00,\n",
      "        5.89293535e+00, 5.92059710e+00, 5.94682851e+00, 5.97163392e+00,\n",
      "        5.99502102e+00, 6.01700118e+00, 6.03758965e+00, 6.05680573e+00,\n",
      "        6.07467286e+00, 6.09121859e+00, 6.10647448e+00, 6.12047589e+00,\n",
      "        6.13326179e+00, 6.14487438e+00, 6.15535883e+00, 6.16476288e+00,\n",
      "        6.17313645e+00, 6.18053129e+00, 6.18700060e+00, 6.19259873e+00,\n",
      "        6.19738082e+00, 6.20140254e+00, 6.20471987e+00, 6.20738887e+00,\n",
      "        6.20946555e+00, 6.21100575e+00, 6.21206505e+00, 6.21269871e+00,\n",
      "        6.21296174e+00, 6.21290886e+00, 6.21259462e+00, 6.21207348e+00,\n",
      "        6.21139999e+00, 6.21062890e+00, 6.20981544e+00, 6.20901552e+00,\n",
      "        6.20828606e+00, 6.20768528e+00, 6.20727311e+00, 6.20711163e+00,\n",
      "        6.20726551e+00, 6.20780262e+00, 6.20879463e+00, 6.21031772e+00,\n",
      "        6.21245336e+00, 6.21528925e+00, 6.21892023e+00, 6.22344945e+00,\n",
      "        6.22898947e+00, 6.23566354e+00, 6.24360680e+00, 6.25296749e+00,\n",
      "        6.26390787e+00, 6.27660481e+00, 8.06430378e-03, 2.48615080e-02,\n",
      "        4.40260706e-02, 6.57784042e-02, 9.03366935e-02, 1.17906075e-01,\n",
      "        1.48664661e-01, 1.82747080e-01, 2.20227118e-01, 2.61101965e-01,\n",
      "        3.05281142e-01, 3.52582888e-01, 4.02739560e-01, 4.55411620e-01,\n",
      "        5.10207838e-01, 5.66708188e-01, 6.24485842e-01, 6.83125695e-01,\n",
      "        7.42238110e-01, 8.01467834e-01, 8.60498757e-01, 9.19055493e-01,\n",
      "        9.76902778e-01, 1.03384346e+00, 1.08971571e+00, 1.14438986e+00,\n",
      "        1.19776514e+00, 1.24976651e+00, 1.30034169e+00, 1.34945848e+00,\n",
      "        1.39710232e+00, 1.44327428e+00, 1.48798927e+00, 1.53127461e+00,\n",
      "        1.57316890e+00, 1.61372121e+00, 1.65299048e+00, 1.69104526e+00,\n",
      "        1.72796365e+00, 1.76383356e+00, 1.79875313e+00, 1.83283153e+00,\n",
      "        1.86618991e+00, 1.89896268e+00, 1.93129901e+00, 1.96336465e+00,\n",
      "        1.99534389e+00, 2.02744169e+00, 2.05988584e+00, 2.09292892e+00,\n",
      "        2.12684971e+00, 2.16195364e+00, 2.19857161e+00, 2.23705638e+00,\n",
      "        2.27777564e+00, 2.32110108e+00, 2.36739288e+00, 2.41698007e+00,\n",
      "        2.47013818e+00, 2.52706667e+00, 2.58786986e+00, 2.65254459e+00,\n",
      "        2.72097746e+00, 2.79295181e+00, 2.86816315e+00, 2.94623978e+00,\n",
      "        3.02676533e+00, 3.10930020e+00, 3.19340014e+00, 3.27863113e+00,\n",
      "        3.36458058e+00, 3.45086513e+00, 3.53713570e+00, 3.62308027e+00,\n",
      "        3.70842485e+00, 3.79293302e+00, 3.87640451e+00, 3.95867296e+00,\n",
      "        4.03960320e+00, 4.11908818e+00, 4.19704584e+00, 4.27341590e+00,\n",
      "        4.34815675e+00, 4.42124259e+00, 4.49266068e+00, 4.56240891e+00,\n",
      "        4.63049359e+00, 4.69692754e+00, 4.76172839e+00, 4.82491712e+00,\n",
      "        4.88651682e+00, 4.94655165e+00, 5.00504596e+00, 5.06202358e+00,\n",
      "        5.11750718e+00, 5.17151788e+00, 5.22407479e+00, 5.27519479e+00,\n",
      "        5.32489234e+00, 5.37317931e+00, 5.42006497e+00, 5.46555598e+00,\n",
      "        5.50965652e+00, 5.55236836e+00, 5.59369110e+00, 5.63362245e+00,\n",
      "        5.67215848e+00, 5.70929406e+00, 5.74502323e+00, 5.77933965e+00,\n",
      "        5.81223714e+00, 5.84371017e+00, 5.87375435e+00, 5.90236704e+00,\n",
      "        5.92954777e+00, 5.95529878e+00, 5.97962544e+00, 6.00253659e+00,\n",
      "        6.02404487e+00, 6.04416691e+00]]), 'th_d': array([[ 6.78328891e-01,  7.33394310e-01,  7.69132985e-01,\n",
      "         7.95600102e-01,  8.24281123e-01,  8.59882111e-01,\n",
      "         9.01239063e-01,  9.44701450e-01,  9.86787085e-01,\n",
      "         1.02530883e+00,  1.05937595e+00,  1.08893440e+00,\n",
      "         1.11429953e+00,  1.13585487e+00,  1.15391849e+00,\n",
      "         1.16871753e+00,  1.18041320e+00,  1.18913801e+00,\n",
      "         1.19502716e+00,  1.19823811e+00,  1.19895887e+00,\n",
      "         1.19740802e+00,  1.19382958e+00,  1.18848535e+00,\n",
      "         1.18164689e+00,  1.17358813e+00,  1.16457964e+00,\n",
      "         1.15488453e+00,  1.14475631e+00,  1.13443812e+00,\n",
      "         1.12416328e+00,  1.11415648e+00,  1.10463550e+00,\n",
      "         1.09581293e+00,  1.08789791e+00,  1.08109762e+00,\n",
      "         1.07561867e+00,  1.07166830e+00,  1.06945555e+00,\n",
      "         1.06919241e+00,  1.07109488e+00,  1.07538405e+00,\n",
      "         1.08228669e+00,  1.09203540e+00,  1.10486757e+00,\n",
      "         1.12102256e+00,  1.14073604e+00,  1.16423034e+00,\n",
      "         1.19169904e+00,  1.22328431e+00,  1.25904537e+00,\n",
      "         1.29891759e+00,  1.34266374e+00,  1.38982227e+00,\n",
      "         1.43966193e+00,  1.49115676e+00,  1.54299715e+00,\n",
      "         1.59364991e+00,  1.64146934e+00,  1.68484602e+00,\n",
      "         1.72236503e+00,  1.75293921e+00,  1.77588991e+00,\n",
      "         1.79096412e+00,  1.79829525e+00,  1.79832668e+00,\n",
      "         1.79172062e+00,  1.77926996e+00,  1.76182429e+00,\n",
      "         1.74023417e+00,  1.71531331e+00,  1.68781585e+00,\n",
      "         1.65842530e+00,  1.62775162e+00,  1.59633377e+00,\n",
      "         1.56464537e+00,  1.53310210e+00,  1.50206949e+00,\n",
      "         1.47187066e+00,  1.44279335e+00,  1.41509618e+00,\n",
      "         1.38901397e+00,  1.36476231e+00,  1.34254130e+00,\n",
      "         1.32253881e+00,  1.30493323e+00,  1.28989616e+00,\n",
      "         1.27759490e+00,  1.26819514e+00,  1.26186387e+00,\n",
      "         1.25877248e+00,  1.25910022e+00,  1.26303769e+00,\n",
      "         1.27079017e+00,  1.28258021e+00,  1.29864865e+00,\n",
      "         1.31925278e+00,  1.34465989e+00,  1.37513390e+00,\n",
      "         1.41091236e+00,  1.45217094e+00,  1.49897357e+00,\n",
      "         1.55120810e+00,  1.60851195e+00,  1.67019756e+00,\n",
      "         1.73519420e+00,  1.80202680e+00,  1.86885087e+00,\n",
      "         1.93355220e+00,  1.99390295e+00,  2.04774747e+00,\n",
      "         2.09318153e+00,  2.12869174e+00,  2.15323581e+00,\n",
      "         2.16626224e+00,  2.16768093e+00,  2.15780204e+00,\n",
      "         2.13725951e+00,  2.10693140e+00,  2.06786471e+00,\n",
      "         2.02120850e+00,  1.96815704e+00,  1.90990317e+00,\n",
      "         1.84760163e+00,  1.78234152e+00,  1.71512698e+00,\n",
      "         1.64686501e+00,  1.57835937e+00,  1.51030927e+00,\n",
      "         1.44331187e+00,  1.37786758e+00,  1.31438720e+00,\n",
      "         1.25320023e+00,  1.19456369e+00,  1.13867107e+00,\n",
      "         1.08566093e+00,  1.03562510e+00,  9.88616152e-01,\n",
      "         9.44654162e-01,  9.03732735e-01,  8.65824261e-01,\n",
      "         8.30884455e-01,  7.98856222e-01,  7.69672900e-01,\n",
      "         7.43260935e-01,  7.19542044e-01,  6.98434914e-01,\n",
      "         6.79856487e-01,  6.63722871e-01,  6.49949926e-01,\n",
      "         6.38453548e-01,  6.29149704e-01,  6.21954253e-01,\n",
      "         6.16782586e-01,  6.13549135e-01,  6.12166798e-01,\n",
      "         6.12546325e-01,  6.14595724e-01,  6.18219730e-01,\n",
      "         6.23319404e-01,  6.29791889e-01,  6.37530390e-01,\n",
      "         6.46424384e-01,  6.56360087e-01,  6.67221177e-01,\n",
      "         6.78889750e-01,  6.91247488e-01,  7.04176966e-01,\n",
      "         7.17563058e-01,  7.31294370e-01,  7.45264619e-01,\n",
      "         7.59373911e-01,  7.73529852e-01,  7.87648455e-01,\n",
      "         8.01654809e-01,  8.15483516e-01,  8.29078872e-01,\n",
      "         8.42394837e-01,  8.55394802e-01,  8.68051190e-01,\n",
      "         8.80344935e-01,  8.92264861e-01,  9.03807017e-01,\n",
      "         9.14973981e-01,  9.25774172e-01,  9.36221201e-01,\n",
      "         9.46333258e-01,  9.56132578e-01,  9.65644976e-01,\n",
      "         9.74899469e-01,  9.83927990e-01,  9.92765201e-01,\n",
      "         1.00144839e+00,  1.01001751e+00,  1.01851524e+00,\n",
      "         1.02698725e+00,  1.03548253e+00,  1.04405380e+00,\n",
      "         1.05275815e+00,  1.06165763e+00,  1.07082021e+00,\n",
      "         1.08032065e+00,  1.09024168e+00,  1.10067527e+00,\n",
      "         1.11172401e+00,  1.12350266e+00,  1.13613970e+00,\n",
      "         1.14977893e+00,  1.16458078e+00,  1.18072329e+00,\n",
      "         1.19840217e+00,  1.21782963e+00,  1.23923089e+00,\n",
      "         1.26283754e+00,  1.28887622e+00,  1.31755098e+00,\n",
      "         1.34901770e+00,  1.38334914e+00,  1.42049090e+00,\n",
      "         1.46021048e+00,  1.50204595e+00,  1.54526512e+00,\n",
      "         1.58885042e+00,  1.63152476e+00,  1.67182868e+00,\n",
      "         1.70824576e+00,  1.73935735e+00,  1.76399488e+00,\n",
      "         1.78135608e+00,  1.79106232e+00,  1.79315264e+00,\n",
      "         1.78802681e+00,  1.77635888e+00,  1.75900281e+00,\n",
      "         1.73690568e+00,  1.71103724e+00,  1.68233788e+00,\n",
      "         1.65168393e+00,  1.61986697e+00,  1.58758397e+00,\n",
      "         1.55543507e+00,  1.52392650e+00,  1.49347682e+00,\n",
      "         1.46442510e+00,  1.43704002e+00,  1.41152941e+00,\n",
      "         1.38804959e+00,  1.36671452e+00,  1.34760431e+00,\n",
      "         1.33077342e+00,  1.31625813e+00,  1.30408370e+00,\n",
      "         1.29427100e+00,  1.28684276e+00,  1.28182961e+00,\n",
      "         1.27927572e+00,  1.27924434e+00,  1.28182295e+00,\n",
      "         1.28712813e+00,  1.29530988e+00,  1.30655493e+00,\n",
      "         1.32108855e+00,  1.33917387e+00,  1.36110734e+00,\n",
      "         1.38720841e+00,  1.41780105e+00,  1.45318442e+00,\n",
      "         1.49359007e+00,  1.53912427e+00,  1.58969678e+00,\n",
      "         1.64494225e+00,  1.70414637e+00,  1.76619515e+00,\n",
      "         1.82956856e+00,  1.89239491e+00,  1.95256974e+00,\n",
      "         2.00792424e+00,  2.05641237e+00,  2.09627957e+00,\n",
      "         2.12618381e+00,  2.14525579e+00,  2.15310163e+00,\n",
      "         2.14976243e+00,  2.13564810e+00,  2.11146042e+00,\n",
      "         2.07811588e+00,  2.03667429e+00,  1.98827630e+00,\n",
      "         1.93409076e+00,  1.87527206e+00,  1.81292702e+00,\n",
      "         1.74809046e+00,  1.68170861e+00,  1.61462922e+00,\n",
      "         1.54759724e+00,  1.48125504e+00,  1.41614604e+00,\n",
      "         1.35272072e+00,  1.29134432e+00,  1.23230542e+00,\n",
      "         1.17582488e+00,  1.12206473e+00,  1.07113665e+00,\n",
      "         1.02310994e+00,  9.78018712e-01,  9.35868437e-01,\n",
      "         8.96641600e-01,  8.60302684e-01,  8.26802399e-01,\n",
      "         7.96081244e-01,  7.68072461e-01,  7.42704417e-01,\n",
      "         7.19902489e-01,  6.99590482e-01,  6.81691650e-01,\n",
      "         6.66129349e-01,  6.52827361e-01,  6.41709953e-01,\n",
      "         6.32701683e-01,  6.25727017e-01,  6.20709787e-01,\n",
      "         6.17572542e-01,  6.16235845e-01,  6.16617564e-01,\n",
      "         6.18632203e-01,  6.22190345e-01,  6.27198244e-01,\n",
      "         6.33557612e-01,  6.41165642e-01,  6.49915293e-01,\n",
      "         6.59695839e-01,  6.70393679e-01,  6.81893386e-01,\n",
      "         6.94078944e-01],\n",
      "       [ 6.78328891e-01,  1.57523318e+00,  1.94244646e+00,\n",
      "         1.95311857e+00,  1.75298659e+00,  1.45369953e+00,\n",
      "         1.13356880e+00,  8.41050554e-01,  6.00152777e-01,\n",
      "         4.17181222e-01,  2.87527714e-01,  2.01275259e-01,\n",
      "         1.47086035e-01,  1.14479702e-01,  9.49073364e-02,\n",
      "         8.20503378e-02,  7.16807069e-02,  6.13109753e-02,\n",
      "         4.97760922e-02,  3.68297721e-02,  2.27981398e-02,\n",
      "         8.30777076e-03, -5.91083477e-03, -1.91524923e-02,\n",
      "        -3.08117522e-02, -4.04160108e-02, -4.76298947e-02,\n",
      "        -5.22415613e-02, -5.41392739e-02, -5.32843860e-02,\n",
      "        -4.96848963e-02, -4.33720980e-02, -3.43815480e-02,\n",
      "        -2.27386128e-02, -8.44818130e-03,  8.51226077e-03,\n",
      "         2.81971600e-02,  5.06959615e-02,  7.61354808e-02,\n",
      "         1.04682100e-01,  1.36544018e-01,  1.71973480e-01,\n",
      "         2.11268618e-01,  2.54774182e-01,  3.02880099e-01,\n",
      "         3.56016318e-01,  4.14641847e-01,  4.79225279e-01,\n",
      "         5.50213512e-01,  6.27985098e-01,  7.12785152e-01,\n",
      "         8.04640702e-01,  9.03259584e-01,  1.00792297e+00,\n",
      "         1.11739086e+00,  1.22984889e+00,  1.34292831e+00,\n",
      "         1.45382367e+00,  1.55951017e+00,  1.65703092e+00,\n",
      "         1.74379557e+00,  1.81782261e+00,  1.87787521e+00,\n",
      "         1.92347577e+00,  1.95482004e+00,  1.97263203e+00,\n",
      "         1.97800184e+00,  1.97223708e+00,  1.95674327e+00,\n",
      "         1.93293642e+00,  1.90218425e+00,  1.86576975e+00,\n",
      "         1.82487093e+00,  1.78055190e+00,  1.73376147e+00,\n",
      "         1.68533682e+00,  1.63601041e+00,  1.58641895e+00,\n",
      "         1.53711369e+00,  1.48857133e+00,  1.44120528e+00,\n",
      "         1.39537691e+00,  1.35140674e+00,  1.30958542e+00,\n",
      "         1.27018443e+00,  1.23346669e+00,  1.19969687e+00,\n",
      "         1.16915176e+00,  1.14213044e+00,  1.11896457e+00,\n",
      "         1.10002856e+00,  1.08574963e+00,  1.07661733e+00,\n",
      "         1.07319201e+00,  1.07611113e+00,  1.08609189e+00,\n",
      "         1.10392760e+00,  1.13047453e+00,  1.16662451e+00,\n",
      "         1.21325819e+00,  1.27117321e+00,  1.34098362e+00,\n",
      "         1.42299104e+00,  1.51703632e+00,  1.62235203e+00,\n",
      "         1.73744881e+00,  1.86007572e+00,  1.98728974e+00,\n",
      "         2.11564676e+00,  2.24149152e+00,  2.36128964e+00,\n",
      "         2.47193030e+00,  2.57094083e+00,  2.65658690e+00,\n",
      "         2.72786755e+00,  2.78443590e+00,  2.82648222e+00,\n",
      "         2.85460823e+00,  2.86971044e+00,  2.87288040e+00,\n",
      "         2.86532314e+00,  2.84829257e+00,  2.82304125e+00,\n",
      "         2.79078248e+00,  2.75266248e+00,  2.70974123e+00,\n",
      "         2.66298054e+00,  2.61323788e+00,  2.56126508e+00,\n",
      "         2.50771059e+00,  2.45312451e+00,  2.39796539e+00,\n",
      "         2.34260823e+00,  2.28735297e+00,  2.23243314e+00,\n",
      "         2.17802423e+00,  2.12425160e+00,  2.07119780e+00,\n",
      "         2.01890917e+00,  1.96740177e+00,  1.91666655e+00,\n",
      "         1.86667399e+00,  1.81737805e+00,  1.76871972e+00,\n",
      "         1.72063002e+00,  1.67303284e+00,  1.62584734e+00,\n",
      "         1.57899024e+00,  1.53237799e+00,  1.48592877e+00,\n",
      "         1.43956450e+00,  1.39321278e+00,  1.34680879e+00,\n",
      "         1.30029714e+00,  1.25363370e+00,  1.20678721e+00,\n",
      "         1.15974078e+00,  1.11249323e+00,  1.06505995e+00,\n",
      "         1.01747357e+00,  9.69784066e-01,  9.22058487e-01,\n",
      "         8.74380084e-01,  8.26846976e-01,  7.79570316e-01,\n",
      "         7.32672011e-01,  6.86282107e-01,  6.40535920e-01,\n",
      "         5.95571060e-01,  5.51524466e-01,  5.08529592e-01,\n",
      "         4.66713849e-01,  4.26196411e-01,  3.87086448e-01,\n",
      "         3.49481815e-01,  3.13468230e-01,  2.79118898e-01,\n",
      "         2.46494562e-01,  2.15643922e-01,  1.86604358e-01,\n",
      "         1.59402892e-01,  1.34057331e-01,  1.10577528e-01,\n",
      "         8.89667144e-02,  6.92228585e-02,  5.13400249e-02,\n",
      "         3.53097106e-02,  2.11221439e-02,  8.76754345e-03,\n",
      "        -1.76266437e-03, -1.04746606e-02, -1.73710719e-02,\n",
      "        -2.24498167e-02, -2.57029409e-02, -2.71154235e-02,\n",
      "        -2.66639275e-02, -2.43154730e-02, -2.00260022e-02,\n",
      "        -1.37388098e-02, -5.38280512e-03,  5.12942207e-03,\n",
      "         1.79037638e-02,  3.30670067e-02,  5.07695088e-02,\n",
      "         7.11881352e-02,  9.45294111e-02,  1.21032799e-01,\n",
      "         1.50973922e-01,  1.84667417e-01,  2.22468933e-01,\n",
      "         2.64775479e-01,  3.12022982e-01,  3.64679409e-01,\n",
      "         4.23231187e-01,  4.88160040e-01,  5.59906807e-01,\n",
      "         6.38818754e-01,  7.25077784e-01,  8.18609645e-01,\n",
      "         9.18979375e-01,  1.02528620e+00,  1.13608065e+00,\n",
      "         1.24933459e+00,  1.36249490e+00,  1.47263923e+00,\n",
      "         1.57672488e+00,  1.67188908e+00,  1.75573530e+00,\n",
      "         1.82654063e+00,  1.88334497e+00,  1.92592181e+00,\n",
      "         1.95466176e+00,  1.97041384e+00,  1.97432415e+00,\n",
      "         1.96769741e+00,  1.95189122e+00,  1.92824283e+00,\n",
      "         1.89802275e+00,  1.86240840e+00,  1.82247169e+00,\n",
      "         1.77917598e+00,  1.73337895e+00,  1.68583939e+00,\n",
      "         1.63722612e+00,  1.58812815e+00,  1.53906544e+00,\n",
      "         1.49049962e+00,  1.44284455e+00,  1.39647643e+00,\n",
      "         1.35174359e+00,  1.30897566e+00,  1.26849257e+00,\n",
      "         1.23061310e+00,  1.19566349e+00,  1.16398584e+00,\n",
      "         1.13594675e+00,  1.11194601e+00,  1.09242546e+00,\n",
      "         1.07787776e+00,  1.06885476e+00,  1.06597462e+00,\n",
      "         1.06992664e+00,  1.08147173e+00,  1.10143591e+00,\n",
      "         1.13069289e+00,  1.17013104e+00,  1.22059912e+00,\n",
      "         1.28282557e+00,  1.35730882e+00,  1.44418134e+00,\n",
      "         1.54305983e+00,  1.65290639e+00,  1.77193688e+00,\n",
      "         1.89761661e+00,  2.02677274e+00,  2.15582446e+00,\n",
      "         2.28109565e+00,  2.39914516e+00,  2.50704456e+00,\n",
      "         2.60255427e+00,  2.68418493e+00,  2.75116234e+00,\n",
      "         2.80333137e+00,  2.84103321e+00,  2.86498157e+00,\n",
      "         2.87615146e+00,  2.87568571e+00,  2.86481923e+00,\n",
      "         2.84481924e+00,  2.81693902e+00,  2.78238302e+00,\n",
      "         2.74228171e+00,  2.69767447e+00,  2.64949941e+00,\n",
      "         2.59858873e+00,  2.54566848e+00,  2.49136183e+00,\n",
      "         2.43619469e+00,  2.38060297e+00,  2.32494085e+00,\n",
      "         2.26948939e+00,  2.21446513e+00,  2.16002836e+00,\n",
      "         2.10629093e+00,  2.05332330e+00,  2.00116102e+00,\n",
      "         1.94981044e+00,  1.89925377e+00,  1.84945353e+00,\n",
      "         1.80035647e+00,  1.75189700e+00,  1.70400027e+00,\n",
      "         1.65658492e+00,  1.60956558e+00,  1.56285519e+00,\n",
      "         1.51636726e+00,  1.47001790e+00,  1.42372793e+00,\n",
      "         1.37742487e+00,  1.33104485e+00,  1.28453448e+00,\n",
      "         1.23785265e+00,  1.19097208e+00,  1.14388078e+00,\n",
      "         1.09658315e+00,  1.04910077e+00,  1.00147285e+00,\n",
      "         9.53756138e-01,  9.06024359e-01,  8.58367183e-01,\n",
      "         8.10888633e-01,  7.63705044e-01,  7.16942622e-01,\n",
      "         6.70734680e-01]]), 'th_dd': array([[ 0.00000000e+00,  1.83551397e+00,  1.19128915e+00,\n",
      "         8.82237246e-01,  9.56034027e-01,  1.18669960e+00,\n",
      "         1.37856509e+00,  1.44874621e+00,  1.40285452e+00,\n",
      "         1.28405819e+00,  1.13557067e+00,  9.85281731e-01,\n",
      "         8.45504119e-01,  7.18511575e-01,  6.02120374e-01,\n",
      "         4.93301619e-01,  3.89855683e-01,  2.90826986e-01,\n",
      "         1.96305031e-01,  1.07031443e-01,  2.40252869e-02,\n",
      "        -5.16947670e-02, -1.19281495e-01, -1.78140896e-01,\n",
      "        -2.27948852e-01, -2.68625138e-01, -3.00283212e-01,\n",
      "        -3.23170158e-01, -3.37607404e-01, -3.43939467e-01,\n",
      "        -3.42494790e-01, -3.33559947e-01, -3.17366177e-01,\n",
      "        -2.94085652e-01, -2.63834068e-01, -2.26676193e-01,\n",
      "        -1.82631618e-01, -1.31679003e-01, -7.37582975e-02,\n",
      "        -8.77156734e-03,  6.34159639e-02,  1.42972132e-01,\n",
      "         2.30087927e-01,  3.24957048e-01,  4.27739174e-01,\n",
      "         5.38499594e-01,  6.57116127e-01,  7.83143158e-01,\n",
      "         9.15623334e-01,  1.05284245e+00,  1.19203533e+00,\n",
      "         1.32907389e+00,  1.45820501e+00,  1.57195085e+00,\n",
      "         1.66132221e+00,  1.71649416e+00,  1.72801307e+00,\n",
      "         1.68842534e+00,  1.59398102e+00,  1.44588946e+00,\n",
      "         1.25063360e+00,  1.01913924e+00,  7.65023290e-01,\n",
      "         5.02473894e-01,  2.44370693e-01,  1.04785501e-03,\n",
      "        -2.20201970e-01, -4.15021985e-01, -5.81522313e-01,\n",
      "        -7.19670626e-01, -8.30695498e-01, -9.16581992e-01,\n",
      "        -9.79685092e-01, -1.02245584e+00, -1.04726174e+00,\n",
      "        -1.05627981e+00, -1.05144252e+00, -1.03442027e+00,\n",
      "        -1.00662762e+00, -9.69243607e-01, -9.23239235e-01,\n",
      "        -8.69406955e-01, -8.08388703e-01, -7.40700170e-01,\n",
      "        -6.66749895e-01, -5.86852468e-01, -5.01235698e-01,\n",
      "        -4.10042059e-01, -3.13325162e-01, -2.11042503e-01,\n",
      "        -1.03046339e-01,  1.09246406e-02,  1.31248980e-01,\n",
      "         2.58415989e-01,  3.93001419e-01,  5.35614755e-01,\n",
      "         6.86804341e-01,  8.46903594e-01,  1.01580038e+00,\n",
      "         1.19261518e+00,  1.37528624e+00,  1.56008747e+00,\n",
      "         1.74115091e+00,  1.91012837e+00,  2.05618715e+00,\n",
      "         2.16655468e+00,  2.22775334e+00,  2.22746880e+00,\n",
      "         2.15671118e+00,  2.01169176e+00,  1.79481710e+00,\n",
      "         1.51446876e+00,  1.18367357e+00,  8.18135707e-01,\n",
      "         4.34214419e-01,  4.72896862e-02, -3.29296305e-01,\n",
      "        -6.84751143e-01, -1.01093699e+00, -1.30222305e+00,\n",
      "        -1.55520690e+00, -1.76838208e+00, -1.94179562e+00,\n",
      "        -2.07671786e+00, -2.17533697e+00, -2.24048488e+00,\n",
      "        -2.27539892e+00, -2.28352133e+00, -2.26833679e+00,\n",
      "        -2.23324659e+00, -2.18147623e+00, -2.11601256e+00,\n",
      "        -2.03956575e+00, -1.95455131e+00, -1.86308757e+00,\n",
      "        -1.76700460e+00, -1.66786088e+00, -1.56696495e+00,\n",
      "        -1.46539968e+00, -1.36404757e+00, -1.26361580e+00,\n",
      "        -1.16466020e+00, -1.06760776e+00, -9.72777402e-01,\n",
      "        -8.80398832e-01, -7.90629702e-01, -7.03571003e-01,\n",
      "        -6.19280909e-01, -5.37787174e-01, -4.59098164e-01,\n",
      "        -3.83212615e-01, -3.10128125e-01, -2.39848359e-01,\n",
      "        -1.72388908e-01, -1.07781709e-01, -4.60779125e-02,\n",
      "         1.26509103e-02,  6.83133001e-02,  1.20800221e-01,\n",
      "         1.69989107e-01,  2.15749500e-01,  2.57950047e-01,\n",
      "         2.96466476e-01,  3.31190100e-01,  3.62036308e-01,\n",
      "         3.88952455e-01,  4.11924601e-01,  4.30982587e-01,\n",
      "         4.46203086e-01,  4.57710398e-01,  4.65674962e-01,\n",
      "         4.70309729e-01,  4.71864702e-01,  4.70620079e-01,\n",
      "         4.66878494e-01,  4.60956896e-01,  4.53178534e-01,\n",
      "         4.43865503e-01,  4.33332153e-01,  4.21879605e-01,\n",
      "         4.09791482e-01,  3.97330880e-01,  3.84738541e-01,\n",
      "         3.72232117e-01,  3.60006389e-01,  3.48234287e-01,\n",
      "         3.37068569e-01,  3.26644001e-01,  3.17079923e-01,\n",
      "         3.08483092e-01,  3.00950727e-01,  2.94573691e-01,\n",
      "         2.89439784e-01,  2.85637117e-01,  2.83257581e-01,\n",
      "         2.82400418e-01,  2.83175919e-01,  2.85709289e-01,\n",
      "         2.90144704e-01,  2.96649602e-01,  3.05419211e-01,\n",
      "         3.16681307e-01,  3.30701127e-01,  3.47786276e-01,\n",
      "         3.68291315e-01,  3.92621505e-01,  4.21234839e-01,\n",
      "         4.54640995e-01,  4.93395129e-01,  5.38083451e-01,\n",
      "         5.89296190e-01,  6.47581904e-01,  7.13375213e-01,\n",
      "         7.86888327e-01,  8.67956016e-01,  9.55825574e-01,\n",
      "         1.04889037e+00,  1.14438137e+00,  1.23805873e+00,\n",
      "         1.32398611e+00,  1.39451547e+00,  1.44063926e+00,\n",
      "         1.45284306e+00,  1.42247798e+00,  1.34346410e+00,\n",
      "         1.21390266e+00,  1.03705302e+00,  8.21251064e-01,\n",
      "         5.78706634e-01,  3.23541451e-01,  6.96773937e-02,\n",
      "        -1.70861204e-01, -3.88930827e-01, -5.78535921e-01,\n",
      "        -7.36570955e-01, -8.62281411e-01, -9.56645044e-01,\n",
      "        -1.02179842e+00, -1.06056552e+00, -1.07609999e+00,\n",
      "        -1.07162999e+00, -1.05028561e+00, -1.01498917e+00,\n",
      "        -9.68390823e-01, -9.12835917e-01, -8.50353796e-01,\n",
      "        -7.82660399e-01, -7.11169221e-01, -6.37006773e-01,\n",
      "        -5.61029870e-01, -4.83842943e-01, -4.05814233e-01,\n",
      "        -3.27090198e-01, -2.47607858e-01, -1.67105114e-01,\n",
      "        -8.51294851e-02, -1.04610561e-03,  8.59535073e-02,\n",
      "         1.76839531e-01,  2.72725050e-01,  3.74834865e-01,\n",
      "         4.84453900e-01,  6.02844151e-01,  7.31115808e-01,\n",
      "         8.70035497e-01,  1.01975451e+00,  1.17944577e+00,\n",
      "         1.34685520e+00,  1.51780643e+00,  1.68575036e+00,\n",
      "         1.84151590e+00,  1.97347043e+00,  2.06829270e+00,\n",
      "         2.11244706e+00,  2.09421176e+00,  2.00582740e+00,\n",
      "         1.84515023e+00,  1.61627108e+00,  1.32890635e+00,\n",
      "         9.96808005e-01,  6.35732782e-01,  2.61528032e-01,\n",
      "        -1.11306597e-01, -4.70477725e-01, -8.06255956e-01,\n",
      "        -1.11148486e+00, -1.38138627e+00, -1.61326623e+00,\n",
      "        -1.80618475e+00, -1.96062332e+00, -2.07816809e+00,\n",
      "        -2.16121862e+00, -2.21272821e+00, -2.23597982e+00,\n",
      "        -2.23439937e+00, -2.21140637e+00, -2.17029998e+00,\n",
      "        -2.11417740e+00, -2.04588009e+00, -1.96796339e+00,\n",
      "        -1.88268458e+00, -1.79200505e+00, -1.69760261e+00,\n",
      "        -1.60089053e+00, -1.50304078e+00, -1.40500918e+00,\n",
      "        -1.30756122e+00, -1.21129718e+00, -1.11667618e+00,\n",
      "        -1.02403849e+00, -9.33626109e-01, -8.45601456e-01,\n",
      "        -7.60064290e-01, -6.77066898e-01, -5.96627705e-01,\n",
      "        -5.18743390e-01, -4.43399595e-01, -3.70580270e-01,\n",
      "        -3.00275653e-01, -2.32488860e-01, -1.67241019e-01,\n",
      "        -1.04574839e-01, -4.45565419e-02,  1.27239515e-02,\n",
      "         6.71546234e-02,  1.18604746e-01,  1.66929969e-01,\n",
      "         2.11978916e-01,  2.53600998e-01,  2.91655037e-01,\n",
      "         3.26018202e-01,  3.56594687e-01,  3.83323566e-01,\n",
      "         4.06185258e-01],\n",
      "       [ 0.00000000e+00,  2.98968098e+01,  1.22404426e+01,\n",
      "         3.55737002e-01, -6.67106606e+00, -9.97623526e+00,\n",
      "        -1.06710244e+01, -9.75060817e+00, -8.02992590e+00,\n",
      "        -6.09905184e+00, -4.32178360e+00, -2.87508184e+00,\n",
      "        -1.80630746e+00, -1.08687778e+00, -6.52412177e-01,\n",
      "        -4.28566620e-01, -3.45654366e-01, -3.45657718e-01,\n",
      "        -3.84496105e-01, -4.31544003e-01, -4.67721077e-01,\n",
      "        -4.83012300e-01, -4.73953518e-01, -4.41388585e-01,\n",
      "        -3.88641997e-01, -3.20141951e-01, -2.40462798e-01,\n",
      "        -1.53722221e-01, -6.32570872e-02,  2.84962650e-02,\n",
      "         1.19982990e-01,  2.10426609e-01,  2.99685001e-01,\n",
      "         3.88097841e-01,  4.76347716e-01,  5.65348069e-01,\n",
      "         6.56163309e-01,  7.49960050e-01,  8.47983975e-01,\n",
      "         9.51553974e-01,  1.06206392e+00,  1.18098208e+00,\n",
      "         1.30983793e+00,  1.45018546e+00,  1.60353058e+00,\n",
      "         1.77120730e+00,  1.95418429e+00,  2.15278106e+00,\n",
      "         2.36627443e+00,  2.59238620e+00,  2.82666845e+00,\n",
      "         3.06185167e+00,  3.28729608e+00,  3.48877950e+00,\n",
      "         3.64892983e+00,  3.74860084e+00,  3.76931407e+00,\n",
      "         3.69651191e+00,  3.52288324e+00,  3.25069185e+00,\n",
      "         2.89215499e+00,  2.46756802e+00,  2.00175334e+00,\n",
      "         1.52001847e+00,  1.04480910e+00,  5.93733107e-01,\n",
      "         1.78993683e-01, -1.92158622e-01, -5.16460531e-01,\n",
      "        -7.93561660e-01, -1.02507211e+00, -1.21381675e+00,\n",
      "        -1.36329407e+00, -1.47730114e+00, -1.55968094e+00,\n",
      "        -1.61415489e+00, -1.64421381e+00, -1.65304863e+00,\n",
      "        -1.64350865e+00, -1.61807854e+00, -1.57886841e+00,\n",
      "        -1.52761233e+00, -1.46567217e+00, -1.39404415e+00,\n",
      "        -1.31336622e+00, -1.22392487e+00, -1.12566045e+00,\n",
      "        -1.01817040e+00, -9.00710635e-01, -7.72195753e-01,\n",
      "        -6.31200270e-01, -4.75964315e-01, -3.04409936e-01,\n",
      "        -1.14177444e-01,  9.73040641e-02,  3.32691910e-01,\n",
      "         5.94523814e-01,  8.84897411e-01,  1.20499946e+00,\n",
      "         1.55445600e+00,  1.93050055e+00,  2.32701363e+00,\n",
      "         2.73358092e+00,  3.13484266e+00,  3.51052357e+00,\n",
      "         3.83655915e+00,  4.08756398e+00,  4.24046726e+00,\n",
      "         4.27856723e+00,  4.19482531e+00,  3.99327065e+00,\n",
      "         3.68802224e+00,  3.30035073e+00,  2.85486919e+00,\n",
      "         2.37602150e+00,  1.88561179e+00,  1.40154409e+00,\n",
      "         9.37533435e-01,  5.03407115e-01,  1.05665278e-01,\n",
      "        -2.51908532e-01, -5.67685832e-01, -8.41710448e-01,\n",
      "        -1.07529239e+00, -1.27066689e+00, -1.43070807e+00,\n",
      "        -1.55868973e+00, -1.65808861e+00, -1.73242675e+00,\n",
      "        -1.78514955e+00, -1.81953604e+00, -1.83863731e+00,\n",
      "        -1.84523884e+00, -1.84184204e+00, -1.83066100e+00,\n",
      "        -1.81363038e+00, -1.79242092e+00, -1.76845994e+00,\n",
      "        -1.74295421e+00, -1.71691358e+00, -1.69117396e+00,\n",
      "        -1.66641870e+00, -1.64319780e+00, -1.62194460e+00,\n",
      "        -1.60298976e+00, -1.58657265e+00, -1.57285014e+00,\n",
      "        -1.56190324e+00, -1.55374176e+00, -1.54830738e+00,\n",
      "        -1.54547565e+00, -1.54505736e+00, -1.54679973e+00,\n",
      "        -1.55038802e+00, -1.55544803e+00, -1.56154994e+00,\n",
      "        -1.56821405e+00, -1.57491849e+00, -1.58110930e+00,\n",
      "        -1.58621281e+00, -1.58965000e+00, -1.59085261e+00,\n",
      "        -1.58928011e+00, -1.58443692e+00, -1.57588869e+00,\n",
      "        -1.56327683e+00, -1.54633015e+00, -1.52487290e+00,\n",
      "        -1.49882867e+00, -1.46821979e+00, -1.43316248e+00,\n",
      "        -1.39385811e+00, -1.35058124e+00, -1.30366545e+00,\n",
      "        -1.25348775e+00, -1.20045284e+00, -1.14497775e+00,\n",
      "        -1.08747786e+00, -1.02835465e+00, -9.67985469e-01,\n",
      "        -9.06715544e-01, -8.44852042e-01, -7.82660091e-01,\n",
      "        -7.20360450e-01, -6.58128531e-01, -5.96094452e-01,\n",
      "        -5.34343812e-01, -4.72918889e-01, -4.11820016e-01,\n",
      "        -3.51006927e-01, -2.90399873e-01, -2.29880377e-01,\n",
      "        -1.69291493e-01, -1.08437475e-01, -4.70827518e-02,\n",
      "         1.50498653e-02,  7.82818183e-02,  1.42982358e-01,\n",
      "         2.09573082e-01,  2.78533488e-01,  3.50407573e-01,\n",
      "         4.25811392e-01,  5.05441428e-01,  5.90083403e-01,\n",
      "         6.80620880e-01,  7.78042530e-01,  8.83446272e-01,\n",
      "         9.98037416e-01,  1.12311652e+00,  1.26005054e+00,\n",
      "         1.41021818e+00,  1.57491677e+00,  1.75521423e+00,\n",
      "         1.95172594e+00,  2.16429510e+00,  2.39155891e+00,\n",
      "         2.63039822e+00,  2.87530101e+00,  3.11772870e+00,\n",
      "         3.34565764e+00,  3.54356068e+00,  3.69314856e+00,\n",
      "         3.77513116e+00,  3.77201033e+00,  3.67147781e+00,\n",
      "         3.46952176e+00,  3.17213983e+00,  2.79487414e+00,\n",
      "         2.36017748e+00,  1.89347817e+00,  1.41922799e+00,\n",
      "         9.57998400e-01,  5.25069021e-01,  1.30343818e-01,\n",
      "        -2.20891257e-01, -5.26873013e-01, -7.88279746e-01,\n",
      "        -1.00733600e+00, -1.18714504e+00, -1.33122346e+00,\n",
      "        -1.44319054e+00, -1.52656753e+00, -1.58465194e+00,\n",
      "        -1.62044256e+00, -1.63659887e+00, -1.63542360e+00,\n",
      "        -1.61886064e+00, -1.58850261e+00, -1.54560375e+00,\n",
      "        -1.49109482e+00, -1.42559751e+00, -1.34943662e+00,\n",
      "        -1.26264877e+00, -1.16498707e+00, -1.05592157e+00,\n",
      "        -9.34636348e-01, -8.00024665e-01, -6.50685080e-01,\n",
      "        -4.84923258e-01, -3.00766851e-01, -9.60046225e-02,\n",
      "         1.31734000e-01,  3.84836465e-01,  6.65472497e-01,\n",
      "         9.75232649e-01,  1.31460523e+00,  1.68226914e+00,\n",
      "         2.07421497e+00,  2.48277518e+00,  2.89575068e+00,\n",
      "         3.29594969e+00,  3.66155202e+00,  3.96768272e+00,\n",
      "         4.18932448e+00,  4.30520424e+00,  4.30172405e+00,\n",
      "         4.17570645e+00,  3.93498374e+00,  3.59664641e+00,\n",
      "         3.18365726e+00,  2.72102173e+00,  2.23258063e+00,\n",
      "         1.73896760e+00,  1.25672787e+00,  7.98278622e-01,\n",
      "         3.72329891e-01, -1.55251429e-02, -3.62216166e-01,\n",
      "        -6.66666253e-01, -9.29340703e-01, -1.15186646e+00,\n",
      "        -1.33671047e+00, -1.48690796e+00, -1.60583515e+00,\n",
      "        -1.69702285e+00, -1.76400822e+00, -1.81022160e+00,\n",
      "        -1.83890492e+00, -1.85305739e+00, -1.85540392e+00,\n",
      "        -1.84838195e+00, -1.83414208e+00, -1.81455877e+00,\n",
      "        -1.79124781e+00, -1.76558767e+00, -1.73874262e+00,\n",
      "        -1.71168599e+00, -1.68522237e+00, -1.66000801e+00,\n",
      "        -1.63656877e+00, -1.61531563e+00, -1.59655752e+00,\n",
      "        -1.58051164e+00, -1.56731148e+00, -1.55701280e+00,\n",
      "        -1.54959791e+00, -1.54497871e+00, -1.54299881e+00,\n",
      "        -1.54343535e+00, -1.54600081e+00, -1.55034550e+00,\n",
      "        -1.55606108e+00, -1.56268552e+00, -1.56971001e+00,\n",
      "        -1.57658789e+00, -1.58274585e+00, -1.58759723e+00,\n",
      "        -1.59055720e+00, -1.59105930e+00, -1.58857253e+00,\n",
      "        -1.58261835e+00, -1.57278628e+00, -1.55874742e+00,\n",
      "        -1.54026473e+00]]), 'x': array([[ 1.75379141,  1.7333385 ,  1.7122381 ,  1.68614308,  1.6533522 ,\n",
      "         1.61377462,  1.56809046,  1.51722004,  1.46205597,  1.40336383,\n",
      "         1.34176897,  1.2777776 ,  1.21180642,  1.14421046,  1.0753052 ,\n",
      "         1.0053826 ,  0.934721  ,  0.8635901 ,  0.79225195,  0.72095951,\n",
      "         0.64995379,  0.57946068,  0.50968807,  0.44082365,  0.37303358,\n",
      "         0.30646199,  0.24123115,  0.17744221,  0.11517635,  0.0544961 ,\n",
      "        -0.00455315, -0.0619416 , -0.1176535 , -0.17168554, -0.22404537,\n",
      "        -0.27475003, -0.32382449, -0.37130018, -0.41721356, -0.46160474,\n",
      "        -0.50451612, -0.54599116, -0.58607312, -0.62480394, -0.66222315,\n",
      "        -0.69836689, -0.7332669 , -0.76694967, -0.79943546, -0.83073741,\n",
      "        -0.86086045, -0.88980016, -0.91754129, -0.94405609, -0.96930238,\n",
      "        -0.99322153, -1.0157368 , -1.03675245, -1.05615429, -1.07381226,\n",
      "        -1.08958506, -1.10332666, -1.11489362, -1.12415249, -1.13098605,\n",
      "        -1.13529803, -1.13701596, -1.13609258, -1.13250578, -1.1262578 ,\n",
      "        -1.11737368, -1.10589921, -1.09189866, -1.07545208, -1.05665245,\n",
      "        -1.03560272, -1.01241271, -0.98719606, -0.96006732, -0.93113926,\n",
      "        -0.90052042, -0.86831309, -0.83461168, -0.79950153, -0.76305811,\n",
      "        -0.7253468 , -0.68642294, -0.64633234, -0.60511208, -0.56279162,\n",
      "        -0.51939412, -0.47493788, -0.42943792, -0.38290754, -0.33535993,\n",
      "        -0.28680962, -0.23727383, -0.1867737 , -0.1353352 , -0.08298994,\n",
      "        -0.0297757 ,  0.0242632 ,  0.07907564,  0.13460336,  0.19078041,\n",
      "         0.24753229,  0.30477452,  0.36241104,  0.42033262,  0.47841618,\n",
      "         0.53652561,  0.59451471,  0.65223217,  0.70952796,  0.76626   ,\n",
      "         0.82229998,  0.87753743,  0.93188151,  0.98526069,  1.03762044,\n",
      "         1.08891988,  1.1391277 ,  1.18821805,  1.23616686,  1.28294873,\n",
      "         1.32853471,  1.37289075,  1.41597702,  1.45774779,  1.49815178,\n",
      "         1.53713292,  1.57463134,  1.61058443,  1.64492801,  1.67759741,\n",
      "         1.70852854,  1.73765884,  1.76492805,  1.79027896,  1.81365799,\n",
      "         1.8350156 ,  1.85430668,  1.8714908 ,  1.88653234,  1.8994006 ,\n",
      "         1.91006982,  1.91851917,  1.92473263,  1.92869898,  1.93041157,\n",
      "         1.92986829,  1.92707134,  1.92202715,  1.91474616,  1.90524274,\n",
      "         1.893535  ,  1.87964469,  1.86359703,  1.84542061,  1.82514726,\n",
      "         1.80281193,  1.77845259,  1.75211011,  1.72382816,  1.69365311,\n",
      "         1.6616339 ,  1.62782195,  1.59227107,  1.55503732,  1.51617891,\n",
      "         1.47575609,  1.43383102,  1.39046767,  1.34573168,  1.29969025,\n",
      "         1.25241199,  1.20396681,  1.15442581,  1.10386114,  1.05234586,\n",
      "         0.99995387,  0.94675976,  0.89283872,  0.83826642,  0.78311897,\n",
      "         0.72747275,  0.67140441,  0.61499073,  0.55830859,  0.5014349 ,\n",
      "         0.44444653,  0.38742024,  0.33043267,  0.27356024,  0.21687914,\n",
      "         0.16046525,  0.10439409,  0.0487408 , -0.00641997, -0.06101406,\n",
      "        -0.1149679 , -0.16820858, -0.22066387, -0.27226236, -0.32293349,\n",
      "        -0.37260765, -0.42121626, -0.46869187, -0.51496827, -0.55998054,\n",
      "        -0.60366522, -0.64596037, -0.68680568, -0.72614257, -0.76391424,\n",
      "        -0.80006579, -0.83454415, -0.86729804, -0.89827781, -0.92743516,\n",
      "        -0.95472274, -0.98009366, -1.00350104, -1.02489785, -1.04423723,\n",
      "        -1.06147359, -1.07656461, -1.08947391, -1.10017385, -1.10864783,\n",
      "        -1.11489153, -1.11891253, -1.12072875, -1.12036574, -1.11785368,\n",
      "        -1.1132244 , -1.10650902, -1.09773618, -1.08693115, -1.07411547,\n",
      "        -1.05930729, -1.04252199, -1.0237731 , -1.0030733 , -0.98043551,\n",
      "        -0.95587388, -0.92940478, -0.90104759, -0.87082543, -0.83876572,\n",
      "        -0.80490062, -0.76926733, -0.73190828, -0.69287115, -0.65220883,\n",
      "        -0.60997925, -0.56624514, -0.52107369, -0.47453614, -0.42670734,\n",
      "        -0.37766523, -0.32749031, -0.27626503, -0.22407324, -0.17099947,\n",
      "        -0.11712837, -0.06254395, -0.00732897,  0.04843568,  0.10467141,\n",
      "         0.16130207,  0.21825362,  0.2754532 ,  0.33282742,  0.39030024,\n",
      "         0.44779067,  0.50521117,  0.56246727,  0.61945903,  0.67608407,\n",
      "         0.73224161,  0.7878367 ,  0.84278347,  0.89700707,  0.95044385,\n",
      "         1.00304018,  1.05475006,  1.10553233,  1.15534773,  1.20415625,\n",
      "         1.25191511,  1.29857728,  1.34409081,  1.38839864,  1.43143897,\n",
      "         1.47314597,  1.51345076,  1.55228249,  1.58956944,  1.62524018,\n",
      "         1.65922455,  1.69145456,  1.72186519,  1.75039501,  1.77698674,\n",
      "         1.80158756,  1.82414947,  1.8446294 ,  1.86298932,  1.87919628,\n",
      "         1.89322235,  1.90504454,  1.91464469,  1.92200931,  1.92712943,\n",
      "         1.93000045,  1.93062194,  1.92899748,  1.92513453,  1.91904421,\n",
      "         1.91074121,  1.90024362,  1.88757279,  1.87275326,  1.85581258,\n",
      "         1.83678126,  1.81569264,  1.7925828 ,  1.76749048,  1.74045698,\n",
      "         1.71152609,  1.680744  ,  1.6481592 ,  1.61382242],\n",
      "       [ 1.37372226,  1.43507916,  1.50760281,  1.58117557,  1.64939604,\n",
      "         1.70895697,  1.75884062,  1.79948599,  1.83207323,  1.85800304,\n",
      "         1.87857677,  1.89483971,  1.90753656,  1.91713349,  1.92387262,\n",
      "         1.92783671,  1.92901063,  1.9273329 ,  1.92273455,  1.91516545,\n",
      "         1.9046096 ,  1.89109167,  1.87467708,  1.85546788,  1.83359627,\n",
      "         1.80921713,  1.78250053,  1.75362497,  1.7227715 ,  1.69011898,\n",
      "         1.65584038,  1.62010012,  1.58305203,  1.54483811,  1.50558765,\n",
      "         1.46541675,  1.42442815,  1.38271116,  1.34034184,  1.29738337,\n",
      "         1.25388638,  1.20988962,  1.16542056,  1.12049621,  1.07512395,\n",
      "         1.02930247,  0.98302268,  0.93626877,  0.8890191 ,  0.84124721,\n",
      "         0.79292274,  0.74401236,  0.69448083,  0.64429219,  0.59341143,\n",
      "         0.54180682,  0.48945307,  0.43633555,  0.38245517,  0.32783353,\n",
      "         0.27251737,  0.21658134,  0.16012861,  0.103289  ,  0.04621505,\n",
      "        -0.01092307, -0.06794326, -0.12465695, -0.18087397, -0.23640681,\n",
      "        -0.2910741 , -0.34470354, -0.39713423, -0.44821854, -0.49782357,\n",
      "        -0.5458321 , -0.59214306, -0.6366716 , -0.67934872, -0.72012043,\n",
      "        -0.75894662, -0.79579964, -0.8306626 , -0.86352762, -0.89439394,\n",
      "        -0.92326605, -0.95015195, -0.97506149, -0.99800484, -1.01899128,\n",
      "        -1.03802814, -1.05511999, -1.07026809, -1.08347014, -1.09472013,\n",
      "        -1.10400853, -1.11132254, -1.11664654, -1.11996257, -1.12125083,\n",
      "        -1.12049012, -1.11765815, -1.11273165, -1.10568639, -1.09649702,\n",
      "        -1.08513719, -1.07158011, -1.0558001 , -1.03777536, -1.0174921 ,\n",
      "        -0.99494935, -0.9701638 , -0.94317332, -0.91403833, -0.88284061,\n",
      "        -0.84967955, -0.81466686, -0.77792036, -0.73955804, -0.69969302,\n",
      "        -0.65842979, -0.61586203, -0.57207181, -0.52712998, -0.48109743,\n",
      "        -0.43402693, -0.38596528, -0.33695539, -0.28703836, -0.23625519,\n",
      "        -0.18464826, -0.13226248, -0.07914602, -0.02535088,  0.02906687,\n",
      "         0.08404705,  0.13952546,  0.19543414,  0.25170169,  0.30825362,\n",
      "         0.36501278,  0.42189979,  0.47883343,  0.53573103,  0.59250887,\n",
      "         0.6490825 ,  0.70536707,  0.76127761,  0.8167293 ,  0.87163767,\n",
      "         0.92591885,  0.97948974,  1.03226821,  1.08417324,  1.13512511,\n",
      "         1.18504552,  1.2338578 ,  1.28148698,  1.32786   ,  1.37290581,\n",
      "         1.41655554,  1.45874262,  1.49940291,  1.53847482,  1.57589944,\n",
      "         1.61162063,  1.64558516,  1.67774274,  1.70804614,  1.73645129,\n",
      "         1.76291729,  1.78740649,  1.80988455,  1.83032046,  1.84868658,\n",
      "         1.86495868,  1.87911588,  1.89114075,  1.90101921,  1.90874057,\n",
      "         1.91429746,  1.91768582,  1.91890482,  1.91795682,  1.91484728,\n",
      "         1.90958473,  1.90218065,  1.89264938,  1.8810081 ,  1.86727668,\n",
      "         1.85147763,  1.83363602,  1.81377939,  1.79193771,  1.76814326,\n",
      "         1.74243065,  1.71483668,  1.68540036,  1.65416284,  1.62116736,\n",
      "         1.58645924,  1.55008585,  1.51209655,  1.47254272,  1.43147768,\n",
      "         1.38895671,  1.345037  ,  1.29977761,  1.25323945,  1.20548523,\n",
      "         1.15657939,  1.10658803,  1.05557881,  1.00362081,  0.95078435,\n",
      "         0.89714078,  0.84276221,  0.7877212 ,  0.73209044,  0.67594247,\n",
      "         0.61934957,  0.5623839 ,  0.50511821,  0.44762693,  0.389988  ,\n",
      "         0.3322848 ,  0.2746079 ,  0.2170559 ,  0.15973486,  0.10275612,\n",
      "         0.04623294, -0.00972341, -0.06500735, -0.11952174, -0.17317936,\n",
      "        -0.22590317, -0.27762555, -0.32828681, -0.37783343, -0.42621616,\n",
      "        -0.47338837, -0.5193046 , -0.56391946, -0.60718686, -0.64905954,\n",
      "        -0.68948884, -0.72842472, -0.76581593, -0.80161033, -0.83575529,\n",
      "        -0.86819818, -0.8988869 , -0.92777039, -0.95479919, -0.979926  ,\n",
      "        -1.00310614, -1.02429802, -1.04346358, -1.06056864, -1.07558319,\n",
      "        -1.08848164, -1.09924298, -1.10785087, -1.11429363, -1.11856416,\n",
      "        -1.12065976, -1.12058173, -1.11833494, -1.1139271 , -1.1073679 ,\n",
      "        -1.09866797, -1.08783784, -1.07488705, -1.05982389, -1.042656  ,\n",
      "        -1.02339222, -1.00204551, -0.97863651, -0.95319693, -0.92577176,\n",
      "        -0.89641975, -0.86521182, -0.83222792, -0.79755285, -0.76127203,\n",
      "        -0.72346772, -0.68421632, -0.64358676, -0.60164011, -0.55843016,\n",
      "        -0.51400463, -0.46840684, -0.42167756, -0.37385682, -0.32498547,\n",
      "        -0.27510654, -0.2242663 , -0.17251493, -0.11990695, -0.06650143,\n",
      "        -0.0123619 ,  0.04244379,  0.09784385,  0.1537629 ,  0.21012241,\n",
      "         0.2668412 ,  0.32383589,  0.38102131,  0.438311  ,  0.49561752,\n",
      "         0.55285287,  0.60992879,  0.66675704,  0.72324969,  0.77931928,\n",
      "         0.83487911,  0.88984335,  0.94412727,  0.99764734,  1.05032142,\n",
      "         1.10206886,  1.15281067,  1.20246966,  1.25097052,  1.29823999,\n",
      "         1.34420698,  1.38880266,  1.43196061,  1.47361693,  1.51371029,\n",
      "         1.55218209,  1.58897648,  1.62404049,  1.65732406]]), 'x_d': array([[-0.9318355 , -0.72243823, -0.76319723, -0.93143999, -1.14476932,\n",
      "        -1.35747717, -1.54908943, -1.71347023, -1.85128827, -1.96575645,\n",
      "        -2.0605709 , -2.13903986, -2.20378062, -2.25668193, -2.29899676,\n",
      "        -2.33149671, -2.35464351, -2.36874588, -2.37408254, -2.37098365,\n",
      "        -2.35987267, -2.34127638, -2.31581311, -2.28416888, -2.24706937,\n",
      "        -2.20525294, -2.15944791, -2.11035519, -2.05863627, -2.0049057 ,\n",
      "        -1.94972713, -1.89361152, -1.8370169 , -1.78034878, -1.72396092,\n",
      "        -1.66815616, -1.61318745, -1.55925889, -1.50652703, -1.45510241,\n",
      "        -1.40505135, -1.3563981 , -1.30912712, -1.26318565, -1.21848638,\n",
      "        -1.17491008, -1.13230809, -1.09050442, -1.04929694, -1.00845733,\n",
      "        -0.96772898, -0.92682217, -0.88540637, -0.8431    , -0.79945992,\n",
      "        -0.75397519, -0.70607193, -0.65513667, -0.60056273, -0.54181699,\n",
      "        -0.47851501, -0.41048586, -0.33780896, -0.26081379, -0.18004585,\n",
      "        -0.09621123, -0.01011516,  0.07739397,  0.1654689 ,  0.25329582,\n",
      "         0.34011687,  0.4252459 ,  0.50808012,  0.58810885,  0.66491984,\n",
      "         0.73820327,  0.80775276,  0.87346347,  0.93532704,  0.99342368,\n",
      "         1.04791156,  1.09901435,  1.14700722,  1.19220213,  1.23493289,\n",
      "         1.27554068,  1.31436043,  1.35170846,  1.38787178,  1.42309915,\n",
      "         1.45759412,  1.49151011,  1.52494756,  1.55795314,  1.59052088,\n",
      "         1.62259525,  1.65407605,  1.68482486,  1.7146729 ,  1.74342987,\n",
      "         1.77089282,  1.7968541 ,  1.82110641,  1.84344279,  1.8636495 ,\n",
      "         1.88149126,  1.89669154,  1.90891512,  1.91776418,  1.92279854,\n",
      "         1.92358415,  1.91976212,  1.91111988,  1.89764218,  1.87952648,\n",
      "         1.85715897,  1.8310601 ,  1.80181483,  1.77000345,  1.73614478,\n",
      "         1.70065799,  1.66384396,  1.62588373,  1.58684984,  1.54672568,\n",
      "         1.50542855,  1.46283317,  1.41879307,  1.3731587 ,  1.32579153,\n",
      "         1.2765742 ,  1.22541708,  1.17226181,  1.11708228,  1.05988397,\n",
      "         1.00070186,  0.93959754,  0.87665587,  0.8119814 ,  0.7456948 ,\n",
      "         0.67792945,  0.60882827,  0.5385408 ,  0.46722072,  0.3950236 ,\n",
      "         0.32210511,  0.24861945,  0.17471821,  0.1005494 ,  0.02625681,\n",
      "        -0.04802041, -0.12214804, -0.19599686, -0.2694426 , -0.34236587,\n",
      "        -0.41465187, -0.48619021, -0.55687456, -0.62660239, -0.69527467,\n",
      "        -0.76279551, -0.82907196, -0.89401377, -0.95753315, -1.01954467,\n",
      "        -1.07996521, -1.13871386, -1.19571208, -1.25088374, -1.30415533,\n",
      "        -1.35545614, -1.40471857, -1.45187832, -1.49687471, -1.53965089,\n",
      "        -1.58015407, -1.61833566, -1.65415138, -1.68756136, -1.71853007,\n",
      "        -1.74702626, -1.77302288, -1.7964969 , -1.81742906, -1.83580373,\n",
      "        -1.85160859, -1.86483443, -1.87547488, -1.88352616, -1.88898691,\n",
      "        -1.89185795, -1.89214214, -1.88984421, -1.88497069, -1.87752982,\n",
      "        -1.8675315 , -1.8549873 , -1.83991042, -1.82231579, -1.80222012,\n",
      "        -1.77964195, -1.75460176, -1.72712211, -1.69722777, -1.66494588,\n",
      "        -1.63030612, -1.59334096, -1.5540859 , -1.51257981, -1.46886528,\n",
      "        -1.42298915, -1.37500303, -1.32496393, -1.27293502, -1.21898619,\n",
      "        -1.16319448, -1.10564396, -1.04642462, -0.98562977, -0.9233516 ,\n",
      "        -0.85967497, -0.79467049, -0.72838961, -0.66086562, -0.59212448,\n",
      "        -0.52220693, -0.45119775, -0.37925268, -0.30661093, -0.23358527,\n",
      "        -0.16053023, -0.08779767, -0.01569292,  0.05555697,  0.12581733,\n",
      "         0.19504282,  0.26326178,  0.33055416,  0.39702802,  0.46279854,\n",
      "         0.5279713 ,  0.5926303 ,  0.65683054,  0.72059421,  0.78390982,\n",
      "         0.84673332,  0.90899066,  0.97058117,  1.03138156,  1.09125007,\n",
      "         1.1500308 ,  1.20755788,  1.26365959,  1.31816215,  1.37089333,\n",
      "         1.42168574,  1.47037969,  1.51682584,  1.56088741,  1.60244212,\n",
      "         1.64138389,  1.67762435,  1.71109433,  1.74174542,  1.76955176,\n",
      "         1.79451205,  1.81665161,  1.83602408,  1.85271149,  1.86682097,\n",
      "         1.87847587,  1.88779909,  1.89488822,  1.89978591,  1.90245334,\n",
      "         1.90275851,  1.90048955,  1.8953956 ,  1.88724626,  1.87589136,\n",
      "         1.86130177,  1.8435795 ,  1.82293694,  1.79965487,  1.77403286,\n",
      "         1.74634443,  1.71680474,  1.68555372,  1.6526535 ,  1.61809681,\n",
      "         1.5818223 ,  1.54373291,  1.5037142 ,  1.46165074,  1.41743918,\n",
      "         1.37099785,  1.32227283,  1.27124095,  1.21791044,  1.16231963,\n",
      "         1.10453446,  1.04464515,  0.98276246,  0.91901395,  0.8535402 ,\n",
      "         0.78649139,  0.71802414,  0.64829875,  0.57747689,  0.50571955,\n",
      "         0.43318552,  0.36003009,  0.28640415,  0.21245349,  0.13831844,\n",
      "         0.06413357, -0.00997227, -0.08387593, -0.15745973, -0.23061122,\n",
      "        -0.30322286, -0.37519167, -0.44641883, -0.51680936, -0.5862717 ,\n",
      "        -0.65471735, -0.72206059, -0.78821808, -0.85310865, -0.91665302,\n",
      "        -0.97877364, -1.0393945 , -1.09844111, -1.15584046],\n",
      "       [ 1.18964738,  2.04566611,  2.42128084,  2.45199926,  2.26635134,\n",
      "         1.97081086,  1.64274074,  1.3305511 ,  1.0585497 ,  0.83379364,\n",
      "         0.65281158,  0.5069892 ,  0.38626938,  0.28134912,  0.18475447,\n",
      "         0.09117295, -0.00265557, -0.09827578, -0.1959398 , -0.29502741,\n",
      "        -0.39441382, -0.49276226, -0.58873657, -0.68114046, -0.7689956 ,\n",
      "        -0.85157302, -0.92839158, -0.99919593, -1.06392343, -1.12266739,\n",
      "        -1.17564145, -1.22314798, -1.26555181, -1.30325951, -1.33670357,\n",
      "        -1.36633069, -1.39259294, -1.415941  , -1.43681867, -1.45565806,\n",
      "        -1.4728753 , -1.48886651, -1.50400419, -1.51863392, -1.53307173,\n",
      "        -1.54760192, -1.56247578, -1.57791097, -1.59409175, -1.61116978,\n",
      "        -1.62926503, -1.64846601, -1.66882756, -1.69036421, -1.71303648,\n",
      "        -1.73672824, -1.76121596, -1.78613449, -1.81094992, -1.83495236,\n",
      "        -1.85727979, -1.87697473, -1.89306427, -1.90464472, -1.91095207,\n",
      "        -1.9114058 , -1.90562415, -1.89341664, -1.87476313, -1.84978785,\n",
      "        -1.81873372, -1.78193966, -1.73982065, -1.69285018, -1.64154378,\n",
      "        -1.58644312, -1.5281005 , -1.46706371, -1.40386189, -1.33899267,\n",
      "        -1.27291116, -1.20602113, -1.13866862, -1.07113802, -1.00365063,\n",
      "        -0.93636548, -0.8693822 , -0.80274569, -0.7364521 , -0.67045598,\n",
      "        -0.60467811, -0.53901373, -0.47334095, -0.40752895, -0.34144571,\n",
      "        -0.27496514, -0.2079732 , -0.14037272, -0.07208673, -0.00305971,\n",
      "         0.06674344,  0.13734095,  0.20873994,  0.28094317,  0.35395403,\n",
      "         0.42777555,  0.50239836,  0.57777414,  0.65377628,  0.73015682,\n",
      "         0.80651574,  0.88229878,  0.9568324 ,  1.02939124,  1.09928152,\n",
      "         1.16591944,  1.22888725,  1.28795867,  1.34309407,  1.39441261,\n",
      "         1.44215071,  1.48661616,  1.52814495,  1.56706544,  1.60367181,\n",
      "         1.6382072 ,  1.67085542,  1.70173965,  1.73092607,  1.75843092,\n",
      "         1.78422917,  1.80826379,  1.83045478,  1.85070734,  1.8689189 ,\n",
      "         1.88498497,  1.89880375,  1.91027954,  1.91932523,  1.92586384,\n",
      "         1.92982942,  1.93116733,  1.92983414,  1.92579717,  1.91903385,\n",
      "         1.90953096,  1.89728382,  1.88229544,  1.86457582,  1.8441412 ,\n",
      "         1.8210135 ,  1.79521985,  1.7667922 ,  1.73576704,  1.70218524,\n",
      "         1.66609193,  1.62753643,  1.58657226,  1.54325713,  1.49765295,\n",
      "         1.44982585,  1.3998462 ,  1.34778853,  1.29373151,  1.23775789,\n",
      "         1.17995436,  1.12041145,  1.05922334,  0.99648769,  0.93230541,\n",
      "         0.86678039,  0.80001926,  0.73213102,  0.66322673,  0.59341908,\n",
      "         0.52282203,  0.45155033,  0.37971907,  0.30744325,  0.23483729,\n",
      "         0.16201459,  0.08908713,  0.01616504, -0.05664369, -0.12923354,\n",
      "        -0.2015017 , -0.27334818, -0.34467599, -0.41539116, -0.48540274,\n",
      "        -0.55462272, -0.62296594, -0.69034994, -0.75669477, -0.82192283,\n",
      "        -0.88595859, -0.94872845, -1.01016047, -1.07018417, -1.12873038,\n",
      "        -1.18573099, -1.24111889, -1.29482779, -1.34679211, -1.39694697,\n",
      "        -1.44522812, -1.49157194, -1.53591552, -1.57819677, -1.6183546 ,\n",
      "        -1.65632926, -1.69206281, -1.7254998 , -1.75658826, -1.78528104,\n",
      "        -1.81153752, -1.83532559, -1.85662375, -1.87542248, -1.89172395,\n",
      "        -1.90553839, -1.91687535, -1.92572884, -1.9320576 , -1.93576517,\n",
      "        -1.93668798, -1.93460075, -1.92924417, -1.92037139, -1.90780101,\n",
      "        -1.89145987, -1.87140295, -1.84780621, -1.82093755, -1.79111648,\n",
      "        -1.75867327, -1.72391557, -1.68710597, -1.64845087, -1.60809853,\n",
      "        -1.5661436 , -1.52263544, -1.47758797, -1.43098984, -1.38281371,\n",
      "        -1.33302448, -1.28158603, -1.22846682, -1.17364406, -1.11710698,\n",
      "        -1.05885908, -0.9989195 , -0.93732386, -0.87412434, -0.80938935,\n",
      "        -0.74320273, -0.67566261, -0.60687993, -0.53697687, -0.46608497,\n",
      "        -0.39434328, -0.32189644, -0.24889269, -0.17548186, -0.1018132 ,\n",
      "        -0.02803271,  0.04572007,  0.11931657,  0.19264494,  0.26561721,\n",
      "         0.33817656,  0.41030237,  0.4820088 ,  0.55333214,  0.62430407,\n",
      "         0.69491321,  0.76506453,  0.83455139,  0.90305404,  0.97016945,\n",
      "         1.03546549,  1.09854357,  1.15909221,  1.21691938,  1.27195984,\n",
      "         1.32426072,  1.3739531 ,  1.42121761,  1.46625118,  1.50923929,\n",
      "         1.55033614,  1.58965277,  1.62725256,  1.6631523 ,  1.69732723,\n",
      "         1.7297184 ,  1.76024105,  1.78879288,  1.81526179,  1.83953241,\n",
      "         1.86149151,  1.88103209,  1.89805639,  1.9124778 ,  1.92422197,\n",
      "         1.93322727,  1.93944462,  1.94283703,  1.94337886,  1.94105493,\n",
      "         1.9358595 ,  1.92779531,  1.91687264,  1.90310846,  1.88652565,\n",
      "         1.86715237,  1.84502154,  1.82017043,  1.79264034,  1.76247645,\n",
      "         1.72972759,  1.69444627,  1.65668853,  1.61651402,  1.5739859 ,\n",
      "         1.52917087,  1.48213912,  1.43296424,  1.38172322,  1.32849624,\n",
      "         1.27336666,  1.2164208 ,  1.15774782,  1.09743956]]), 'x_dd': array([[-8.06972188e-01,  5.64703539e+00, -2.07095651e+00,\n",
      "        -5.66325729e+00, -6.79289791e+00, -6.67631629e+00,\n",
      "        -6.03486999e+00, -5.23546316e+00, -4.44349916e+00,\n",
      "        -3.72554930e+00, -3.10195815e+00, -2.57015855e+00,\n",
      "        -2.11589035e+00, -1.72029030e+00, -1.36495756e+00,\n",
      "        -1.03514168e+00, -7.21108763e-01, -4.18057150e-01,\n",
      "        -1.25136213e-01,  1.55895383e-01,  4.21974230e-01,\n",
      "         6.69773104e-01,  8.96398729e-01,  1.09976553e+00,\n",
      "         1.27871508e+00,  1.43296523e+00,  1.56296564e+00,\n",
      "         1.66971868e+00,  1.75460558e+00,  1.81924003e+00,\n",
      "         1.86535808e+00,  1.89474376e+00,  1.90918463e+00,\n",
      "         1.91044864e+00,  1.90027420e+00,  1.88036621e+00,\n",
      "         1.85239346e+00,  1.81798446e+00,  1.77872105e+00,\n",
      "         1.73612987e+00,  1.69167258e+00,  1.64673568e+00,\n",
      "         1.60262062e+00,  1.56053490e+00,  1.52158476e+00,\n",
      "         1.48677067e+00,  1.45698773e+00,  1.43303458e+00,\n",
      "         1.41563613e+00,  1.40548714e+00,  1.40332373e+00,\n",
      "         1.41002667e+00,  1.42674883e+00,  1.45503815e+00,\n",
      "         1.49689480e+00,  1.55466991e+00,  1.63070808e+00,\n",
      "         1.72669356e+00,  1.84279595e+00,  1.97688139e+00,\n",
      "         2.12414691e+00,  2.27743820e+00,  2.42823102e+00,\n",
      "         2.56795452e+00,  2.68920489e+00,  2.78650929e+00,\n",
      "         2.85654592e+00,  2.89794324e+00,  2.91087168e+00,\n",
      "         2.89661382e+00,  2.85721647e+00,  2.79525001e+00,\n",
      "         2.71365381e+00,  2.61563157e+00,  2.50456528e+00,\n",
      "         2.38392898e+00,  2.25719560e+00,  2.12773810e+00,\n",
      "         1.99873101e+00,  1.87305881e+00,  1.75323759e+00,\n",
      "         1.64135386e+00,  1.53902323e+00,  1.44736929e+00,\n",
      "         1.36702203e+00,  1.29813391e+00,  1.24041122e+00,\n",
      "         1.19315781e+00,  1.15532860e+00,  1.12559005e+00,\n",
      "         1.10238521e+00,  1.08400151e+00,  1.06863956e+00,\n",
      "         1.05448195e+00,  1.03976145e+00,  1.02282811e+00,\n",
      "         1.00221481e+00,  9.76700104e-01,  9.45365083e-01,\n",
      "         9.07637399e-01,  8.63309576e-01,  8.12511144e-01,\n",
      "         7.55608113e-01,  6.93005847e-01,  6.24853944e-01,\n",
      "         5.50703759e-01,  4.69244818e-01,  3.78307323e-01,\n",
      "         2.75296281e-01,  1.58066596e-01,  2.59958091e-02,\n",
      "        -1.19185966e-01, -2.73223174e-01, -4.29957866e-01,\n",
      "        -5.82527880e-01, -7.24698110e-01, -8.51901846e-01,\n",
      "        -9.61761643e-01, -1.05408284e+00, -1.13046242e+00,\n",
      "        -1.19370471e+00, -1.24721094e+00, -1.29445331e+00,\n",
      "        -1.33858729e+00, -1.38221159e+00, -1.42725878e+00,\n",
      "        -1.47498662e+00, -1.52603745e+00, -1.58053639e+00,\n",
      "        -1.63820516e+00, -1.69847514e+00, -1.76058959e+00,\n",
      "        -1.82368986e+00, -1.88688400e+00, -1.94929842e+00,\n",
      "        -2.01011460e+00, -2.06859324e+00, -2.12408843e+00,\n",
      "        -2.17605408e+00, -2.22404468e+00, -2.26771187e+00,\n",
      "        -2.30679823e+00, -2.34112916e+00, -2.37060379e+00,\n",
      "        -2.39518522e+00, -2.41489082e+00, -2.42978266e+00,\n",
      "        -2.43995848e+00, -2.44554333e+00, -2.44668190e+00,\n",
      "        -2.44353173e+00, -2.43625725e+00, -2.42502467e+00,\n",
      "        -2.40999770e+00, -2.39133394e+00, -2.36918204e+00,\n",
      "        -2.34367953e+00, -2.31495109e+00, -2.28310763e+00,\n",
      "        -2.24824572e+00, -2.21044780e+00, -2.16978287e+00,\n",
      "        -2.12630789e+00, -2.08006977e+00, -2.03110790e+00,\n",
      "        -1.97945728e+00, -1.92515182e+00, -1.86822793e+00,\n",
      "        -1.80872793e+00, -1.74670319e+00, -1.68221672e+00,\n",
      "        -1.61534504e+00, -1.54617922e+00, -1.47482504e+00,\n",
      "        -1.40140229e+00, -1.32604325e+00, -1.24889067e+00,\n",
      "        -1.17009521e+00, -1.08981261e+00, -1.00820093e+00,\n",
      "        -9.25417708e-01, -8.41617509e-01, -7.56949727e-01,\n",
      "        -6.71556821e-01, -5.85572981e-01, -4.99123242e-01,\n",
      "        -4.12323024e-01, -3.25278052e-01, -2.38084624e-01,\n",
      "        -1.50830164e-01, -6.35939938e-02,  2.35517171e-02,\n",
      "         1.10540901e-01,  1.97312474e-01,  2.83809212e-01,\n",
      "         3.69976638e-01,  4.55761970e-01,  5.41113129e-01,\n",
      "         6.25977820e-01,  7.10302677e-01,  7.94032438e-01,\n",
      "         8.77109130e-01,  9.59471175e-01,  1.04105236e+00,\n",
      "         1.12178055e+00,  1.20157595e+00,  1.28034888e+00,\n",
      "         1.35799662e+00,  1.43439935e+00,  1.50941471e+00,\n",
      "         1.58287101e+00,  1.65455908e+00,  1.72422328e+00,\n",
      "         1.79155314e+00,  1.85617825e+00,  1.91767116e+00,\n",
      "         1.97556523e+00,  2.02939608e+00,  2.07877404e+00,\n",
      "         2.12348823e+00,  2.16362557e+00,  2.19966187e+00,\n",
      "         2.23245510e+00,  2.26306750e+00,  2.29239309e+00,\n",
      "         2.32067607e+00,  2.34712723e+00,  2.36988045e+00,\n",
      "         2.38640851e+00,  2.39428156e+00,  2.39195669e+00,\n",
      "         2.37927240e+00,  2.35748606e+00,  2.32891113e+00,\n",
      "         2.29635108e+00,  2.26254214e+00,  2.22974489e+00,\n",
      "         2.19953111e+00,  2.17274250e+00,  2.14956634e+00,\n",
      "         2.12967052e+00,  2.11235396e+00,  2.09668544e+00,\n",
      "         2.08161832e+00,  2.06607818e+00,  2.04902585e+00,\n",
      "         2.02950042e+00,  2.00664692e+00,  1.97973293e+00,\n",
      "         1.94815723e+00,  1.91145283e+00,  1.86928603e+00,\n",
      "         1.82145236e+00,  1.76787029e+00,  1.70857312e+00,\n",
      "         1.64369958e+00,  1.57348352e+00,  1.49824347e+00,\n",
      "         1.41837267e+00,  1.33433069e+00,  1.24663785e+00,\n",
      "         1.15587388e+00,  1.06268233e+00,  9.67781770e-01,\n",
      "         8.71983626e-01,  7.76213654e-01,  6.81528969e-01,\n",
      "         5.89114809e-01,  5.00235729e-01,  4.16108937e-01,\n",
      "         3.37672146e-01,  2.65247551e-01,  1.98166077e-01,\n",
      "         1.34499403e-01,  7.11022165e-02,  4.12019937e-03,\n",
      "        -7.00679282e-02, -1.53763747e-01, -2.47164419e-01,\n",
      "        -3.48238679e-01, -4.53318124e-01, -5.58133575e-01,\n",
      "        -6.58878080e-01, -7.52954288e-01, -8.39264921e-01,\n",
      "        -9.18095652e-01, -9.90742998e-01, -1.05905278e+00,\n",
      "        -1.12499371e+00, -1.19033450e+00, -1.25644459e+00,\n",
      "        -1.32420807e+00, -1.39402438e+00, -1.46586619e+00,\n",
      "        -1.53936742e+00, -1.61392071e+00, -1.68877016e+00,\n",
      "        -1.76309130e+00, -1.83605465e+00, -1.90687271e+00,\n",
      "        -1.97483180e+00, -2.03931126e+00, -2.09979266e+00,\n",
      "        -2.15586165e+00, -2.20720450e+00, -2.25360120e+00,\n",
      "        -2.29491637e+00, -2.33108910e+00, -2.36212231e+00,\n",
      "        -2.38807226e+00, -2.40903848e+00, -2.42515435e+00,\n",
      "        -2.43657860e+00, -2.44348758e+00, -2.44606861e+00,\n",
      "        -2.44451418e+00, -2.43901708e+00, -2.42976639e+00,\n",
      "        -2.41694419e+00, -2.40072295e+00, -2.38126352e+00,\n",
      "        -2.35871351e+00, -2.33320619e+00, -2.30485958e+00,\n",
      "        -2.27377605e+00, -2.24004209e+00, -2.20372854e+00,\n",
      "        -2.16489125e+00, -2.12357217e+00, -2.07980101e+00,\n",
      "        -2.03359744e+00, -1.98497377e+00, -1.93393811e+00,\n",
      "        -1.88049779e+00],\n",
      "       [-6.32090939e-01,  2.89864763e+01,  1.26223046e+01,\n",
      "         8.79187110e-01, -6.40671220e+00, -1.00518499e+01,\n",
      "        -1.10972002e+01, -1.05360525e+01, -9.17493896e+00,\n",
      "        -7.58504506e+00, -6.11407549e+00, -4.93184270e+00,\n",
      "        -4.08571561e+00, -3.55015729e+00, -3.26392643e+00,\n",
      "        -3.15480281e+00, -3.15431512e+00, -3.20532829e+00,\n",
      "        -3.26487972e+00, -3.30405879e+00, -3.30622487e+00,\n",
      "        -3.26447220e+00, -3.17894899e+00, -3.05440167e+00,\n",
      "        -2.89813705e+00, -2.71846810e+00, -2.52362758e+00,\n",
      "        -2.32108762e+00, -2.11720354e+00, -1.91709664e+00,\n",
      "        -1.72469773e+00, -1.54288511e+00, -1.37366491e+00,\n",
      "        -1.21835617e+00, -1.07775668e+00, -9.52276924e-01,\n",
      "        -8.42039053e-01, -7.46943777e-01, -6.66712007e-01,\n",
      "        -6.00909177e-01, -5.48959713e-01, -5.10157612e-01,\n",
      "        -4.83677189e-01, -4.68586392e-01, -4.63863805e-01,\n",
      "        -4.68419688e-01, -4.81120828e-01, -5.00818285e-01,\n",
      "        -5.26375672e-01, -5.56692822e-01, -5.90714889e-01,\n",
      "        -6.27410271e-01, -6.65693782e-01, -7.04269383e-01,\n",
      "        -7.41378511e-01, -7.74476812e-01, -7.99927283e-01,\n",
      "        -8.12871411e-01, -8.07469145e-01, -7.77619355e-01,\n",
      "        -7.18070756e-01, -6.25598983e-01, -4.99819861e-01,\n",
      "        -3.43334017e-01, -1.61190098e-01,  4.00732105e-02,\n",
      "         2.53444634e-01,  4.72237960e-01,  6.90558815e-01,\n",
      "         9.03474990e-01,  1.10699556e+00,  1.29796651e+00,\n",
      "         1.47395716e+00,  1.63317264e+00,  1.77439822e+00,\n",
      "         1.89696608e+00,  2.00073081e+00,  2.08604165e+00,\n",
      "         2.15370418e+00,  2.20492855e+00,  2.24126500e+00,\n",
      "         2.26452965e+00,  2.27672473e+00,  2.27995746e+00,\n",
      "         2.27636151e+00,  2.26802434e+00,  2.25692286e+00,\n",
      "         2.24486879e+00,  2.23346475e+00,  2.22407101e+00,\n",
      "         2.21778277e+00,  2.21541708e+00,  2.21750880e+00,\n",
      "         2.22431453e+00,  2.23582408e+00,  2.25177915e+00,\n",
      "         2.27169976e+00,  2.29492008e+00,  2.32063606e+00,\n",
      "         2.34796861e+00,  2.37604496e+00,  2.40409697e+00,\n",
      "         2.43156429e+00,  2.45817149e+00,  2.48392417e+00,\n",
      "         2.50895390e+00,  2.53316268e+00,  2.55569940e+00,\n",
      "         2.57443652e+00,  2.58573094e+00,  2.58473455e+00,\n",
      "         2.56630924e+00,  2.52628869e+00,  2.46261922e+00,\n",
      "         2.37595390e+00,  2.26953080e+00,  2.14846312e+00,\n",
      "         2.01874274e+00,  1.88626727e+00,  1.75609878e+00,\n",
      "         1.63203450e+00,  1.51647104e+00,  1.41049077e+00,\n",
      "         1.31408495e+00,  1.22643729e+00,  1.14621110e+00,\n",
      "         1.07180364e+00,  1.00154969e+00,  9.33869111e-01,\n",
      "         8.67362370e-01,  8.00862278e-01,  7.33452106e-01,\n",
      "         6.64459923e-01,  5.93437687e-01,  5.20131844e-01,\n",
      "         4.44450436e-01,  3.66430110e-01,  2.86205222e-01,\n",
      "         2.03980244e-01,  1.20006060e-01,  3.45602976e-02,\n",
      "        -5.20684478e-02, -1.39592773e-01, -2.27735379e-01,\n",
      "        -3.16235139e-01, -4.04850742e-01, -4.93362314e-01,\n",
      "        -5.81571409e-01, -6.69299752e-01, -7.56387074e-01,\n",
      "        -8.42688362e-01, -9.28070797e-01, -1.01241063e+00,\n",
      "        -1.09559020e+00, -1.17749517e+00, -1.25801220e+00,\n",
      "        -1.33702703e+00, -1.41442295e+00, -1.49007973e+00,\n",
      "        -1.56387298e+00, -1.63567382e+00, -1.70534885e+00,\n",
      "        -1.77276050e+00, -1.83776755e+00, -1.90022603e+00,\n",
      "        -1.95999030e+00, -2.01691446e+00, -2.07085400e+00,\n",
      "        -2.12166765e+00, -2.16921952e+00, -2.21338122e+00,\n",
      "        -2.25403417e+00, -2.29107175e+00, -2.32440140e+00,\n",
      "        -2.35394641e+00, -2.37964742e+00, -2.40146348e+00,\n",
      "        -2.41937269e+00, -2.43337235e+00, -2.44347855e+00,\n",
      "        -2.44972538e+00, -2.45216365e+00, -2.45085918e+00,\n",
      "        -2.44589089e+00, -2.43734854e+00, -2.42533041e+00,\n",
      "        -2.40994086e+00, -2.39128797e+00, -2.36948123e+00,\n",
      "        -2.34462941e+00, -2.31683867e+00, -2.28621088e+00,\n",
      "        -2.25284226e+00, -2.21682237e+00, -2.17823330e+00,\n",
      "        -2.13714926e+00, -2.09363638e+00, -2.04775278e+00,\n",
      "        -1.99954887e+00, -1.94906774e+00, -1.89634580e+00,\n",
      "        -1.84141337e+00, -1.78429541e+00, -1.72501224e+00,\n",
      "        -1.66358033e+00, -1.60001310e+00, -1.53432185e+00,\n",
      "        -1.46651700e+00, -1.39660978e+00, -1.32461465e+00,\n",
      "        -1.25055312e+00, -1.17445940e+00, -1.09638873e+00,\n",
      "        -1.01642919e+00, -9.34717218e-01, -8.51456309e-01,\n",
      "        -7.66935548e-01, -6.81540723e-01, -5.95744429e-01,\n",
      "        -5.10055264e-01, -4.24904072e-01, -3.40456145e-01,\n",
      "        -2.56371567e-01, -1.71592077e-01, -8.42888395e-02,\n",
      "         7.88925195e-03,  1.07221961e-01,  2.15118423e-01,\n",
      "         3.31422041e-01,  4.54147665e-01,  5.79799147e-01,\n",
      "         7.04143682e-01,  8.23131000e-01,  9.33638392e-01,\n",
      "         1.03385970e+00,  1.12332766e+00,  1.20267513e+00,\n",
      "         1.27327587e+00,  1.33688129e+00,  1.39532230e+00,\n",
      "         1.45030141e+00,  1.50327093e+00,  1.55537902e+00,\n",
      "         1.60746248e+00,  1.66006756e+00,  1.71348490e+00,\n",
      "         1.76778977e+00,  1.82288198e+00,  1.87852308e+00,\n",
      "         1.93436970e+00,  1.99000285e+00,  2.04495359e+00,\n",
      "         2.09872531e+00,  2.15081313e+00,  2.20072059e+00,\n",
      "         2.24797371e+00,  2.29213247e+00,  2.33279966e+00,\n",
      "         2.36962675e+00,  2.40231687e+00,  2.43062491e+00,\n",
      "         2.45435495e+00,  2.47335629e+00,  2.48751986e+00,\n",
      "         2.49677862e+00,  2.50111711e+00,  2.50059669e+00,\n",
      "         2.49540296e+00,  2.48591675e+00,  2.47279750e+00,\n",
      "         2.45704545e+00,  2.43998096e+00,  2.42306481e+00,\n",
      "         2.40751060e+00,  2.39373539e+00,  2.38083534e+00,\n",
      "         2.36637165e+00,  2.34669751e+00,  2.31782040e+00,\n",
      "         2.27650508e+00,  2.22117920e+00,  2.15230688e+00,\n",
      "         2.07215999e+00,  1.98416420e+00,  1.89210340e+00,\n",
      "         1.79942842e+00,  1.70880397e+00,  1.62191710e+00,\n",
      "         1.53949875e+00,  1.46148243e+00,  1.38722637e+00,\n",
      "         1.31574293e+00,  1.24589995e+00,  1.17657684e+00,\n",
      "         1.10677158e+00,  1.03566296e+00,  9.62636723e-01,\n",
      "         8.87285360e-01,  8.09390637e-01,  7.28896469e-01,\n",
      "         6.45877781e-01,  5.60509275e-01,  4.73036547e-01,\n",
      "         3.83750861e-01,  2.92968119e-01,  2.01012068e-01,\n",
      "         1.08201456e-01,  1.48407343e-02, -7.87861760e-02,\n",
      "        -1.72419556e-01, -2.65825452e-01, -3.58795573e-01,\n",
      "        -4.51145918e-01, -5.42714486e-01, -6.33358389e-01,\n",
      "        -7.22950648e-01, -8.11376908e-01, -8.98532270e-01,\n",
      "        -9.84318393e-01, -1.06864096e+00, -1.15140760e+00,\n",
      "        -1.23252626e+00, -1.31190396e+00, -1.38944608e+00,\n",
      "        -1.46505584e+00, -1.53863408e+00, -1.61007931e+00,\n",
      "        -1.67928778e+00, -1.74615376e+00, -1.81056981e+00,\n",
      "        -1.87242727e+00, -1.93161673e+00, -1.98802875e+00,\n",
      "        -2.04155467e+00]])}\n"
     ]
    }
   ],
   "source": [
    "# YOUR CODE HERE\n",
    "import scipy.io as sio\n",
    "import numpy as np\n",
    "data = sio.loadmat(\"assets/training_data.mat\")\n",
    "th = np.array(data['th'])\n",
    "tau = np.array(data['tau'])\n",
    "print(data)\n",
    "#data = io.loadmat(\"robot_data.mat\")\n",
    "#raise NotImplementedError()"
   ]
  },
  {
   "cell_type": "code",
   "execution_count": 119,
   "metadata": {
    "deletable": false,
    "editable": false,
    "nbgrader": {
     "cell_type": "code",
     "checksum": "30b7a830ad3d7824842641c57ff9375a",
     "grade": true,
     "grade_id": "cell-fd2a9372d4afe943",
     "locked": true,
     "points": 1,
     "schema_version": 3,
     "solution": false,
     "task": false
    }
   },
   "outputs": [],
   "source": [
    "assert th[0,0]==1.1299591748647653\n",
    "assert tau[0,100]==82.7710545117184"
   ]
  },
  {
   "cell_type": "markdown",
   "metadata": {
    "deletable": false,
    "editable": false,
    "nbgrader": {
     "cell_type": "markdown",
     "checksum": "e415808ece9bc3317a25524b6cfc73d4",
     "grade": false,
     "grade_id": "cell-8a667cac0f607fd3",
     "locked": true,
     "schema_version": 3,
     "solution": false,
     "task": false
    }
   },
   "source": [
    "plot the joint angles of the first degree of freedom (over the samples)"
   ]
  },
  {
   "cell_type": "code",
   "execution_count": 127,
   "metadata": {
    "deletable": false,
    "nbgrader": {
     "cell_type": "code",
     "checksum": "6125618c10ed030ac30689596d5874e3",
     "grade": true,
     "grade_id": "cell-6e49bb28851d1b7f",
     "locked": false,
     "points": 0.25,
     "schema_version": 3,
     "solution": true,
     "task": false
    }
   },
   "outputs": [
    {
     "data": {
      "text/plain": [
       "[<matplotlib.lines.Line2D at 0x7f91ab3f3f10>]"
      ]
     },
     "execution_count": 127,
     "metadata": {},
     "output_type": "execute_result"
    },
    {
     "data": {
      "image/png": "[encoded data removed]",
      "text/plain": [
       "<Figure size 432x288 with 1 Axes>"
      ]
     },
     "metadata": {
      "needs_background": "light"
     },
     "output_type": "display_data"
    }
   ],
   "source": [
    "# YOUR CODE HERE\n",
    "import matplotlib.pyplot as plt\n",
    "import numpy as np\n",
    "\n",
    "fig = plt.figure()\n",
    "ax = fig.add_subplot(1,1,1)\n",
    "ax.set_title('Joint angles of the first degree of freedom')\n",
    "ax.set_xlabel('Samples number')\n",
    "ax.set_ylabel('Joint angle')\n",
    "ax.plot(th[0,:])\n",
    "#print(np.amax(th[1,:]))\n",
    "#raise NotImplementedError()"
   ]
  },
  {
   "cell_type": "markdown",
   "metadata": {
    "deletable": false,
    "editable": false,
    "nbgrader": {
     "cell_type": "markdown",
     "checksum": "c5e4fc505ccdc70e9c666ee1f6784bea",
     "grade": false,
     "grade_id": "cell-6376eb6a59e311fd",
     "locked": true,
     "schema_version": 3,
     "solution": false,
     "task": false
    }
   },
   "source": [
    "and the torques of the first degree of freedom (over the samples)"
   ]
  },
  {
   "cell_type": "code",
   "execution_count": 128,
   "metadata": {
    "deletable": false,
    "nbgrader": {
     "cell_type": "code",
     "checksum": "aeedceb4a20236558177c9fa8f7cfc31",
     "grade": true,
     "grade_id": "cell-6ae4a5000dc8d4ca",
     "locked": false,
     "points": 0.25,
     "schema_version": 3,
     "solution": true,
     "task": false
    }
   },
   "outputs": [
    {
     "name": "stdout",
     "output_type": "stream",
     "text": [
      "200.37985196491476\n"
     ]
    },
    {
     "data": {
      "image/png": "[encoded data removed]",
      "text/plain": [
       "<Figure size 432x288 with 1 Axes>"
      ]
     },
     "metadata": {
      "needs_background": "light"
     },
     "output_type": "display_data"
    }
   ],
   "source": [
    "# YOUR CODE HERE\n",
    "fig = plt.figure()\n",
    "ax = fig.add_subplot(1,1,1)\n",
    "ax.set_title('Torque of the first degree of freedom')\n",
    "ax.set_xlabel('Samples number')\n",
    "ax.set_ylabel('Torque')\n",
    "ax.plot(tau[0,:])\n",
    "print(np.amax(tau[0,:]))\n",
    "#raise NotImplementedError()"
   ]
  },
  {
   "cell_type": "markdown",
   "metadata": {
    "deletable": false,
    "editable": false,
    "nbgrader": {
     "cell_type": "markdown",
     "checksum": "3f56f53a81df6b4ed14f1cbe66103f69",
     "grade": false,
     "grade_id": "cell-fa2439cb49df91bf",
     "locked": true,
     "schema_version": 3,
     "solution": false,
     "task": false
    }
   },
   "source": [
    "Now let's try applying Scikit-Learn blindly (following the example in Chapter 1). \n",
    "\n",
    "First we need to get the training data in the right format:\n",
    "Use the joint angles of the first degree of freedom for the inputs `X` and the torques of the first joint as outputs `y`."
   ]
  },
  {
   "cell_type": "code",
   "execution_count": 129,
   "metadata": {
    "deletable": false,
    "nbgrader": {
     "cell_type": "code",
     "checksum": "f77499760f2ff249295258b2257fe2da",
     "grade": false,
     "grade_id": "cell-f68a86b6a9538e86",
     "locked": false,
     "schema_version": 3,
     "solution": true,
     "task": false
    }
   },
   "outputs": [
    {
     "name": "stdout",
     "output_type": "stream",
     "text": [
      "(334, 1)\n",
      "(334, 1)\n"
     ]
    }
   ],
   "source": [
    "# YOUR CODE HERE\n",
    "X = np.reshape(th[0,:],(len(th[0,:]),1))\n",
    "y = np.reshape(tau[0,:],(len(tau[0,:]),1))\n",
    "print(X.shape)\n",
    "print(y.shape)\n",
    "#raise NotImplementedError()"
   ]
  },
  {
   "cell_type": "code",
   "execution_count": 130,
   "metadata": {
    "deletable": false,
    "editable": false,
    "nbgrader": {
     "cell_type": "code",
     "checksum": "df39d122db9d6748b2a6da97f8337b9d",
     "grade": true,
     "grade_id": "cell-a4ab34022d90d5a0",
     "locked": true,
     "points": 0.25,
     "schema_version": 3,
     "solution": false,
     "task": false
    }
   },
   "outputs": [],
   "source": [
    "assert isinstance(X,np.ndarray)\n",
    "assert X.shape==(334, 1)"
   ]
  },
  {
   "cell_type": "markdown",
   "metadata": {
    "deletable": false,
    "editable": false,
    "nbgrader": {
     "cell_type": "markdown",
     "checksum": "7040ade2f7e42910b381533b4a6b6698",
     "grade": false,
     "grade_id": "cell-d8eabe39eb3f8307",
     "locked": true,
     "schema_version": 3,
     "solution": false,
     "task": false
    }
   },
   "source": [
    "train a linear regression model using `sklearn`"
   ]
  },
  {
   "cell_type": "code",
   "execution_count": 131,
   "metadata": {
    "deletable": false,
    "nbgrader": {
     "cell_type": "code",
     "checksum": "831ddc9f804caf9b88dc5c5ac8165be5",
     "grade": true,
     "grade_id": "cell-9e924f6e6fc1b74f",
     "locked": false,
     "points": 0.5,
     "schema_version": 3,
     "solution": true,
     "task": false
    }
   },
   "outputs": [
    {
     "name": "stdout",
     "output_type": "stream",
     "text": [
      "[49.61840443] [[-14.57838171]]\n"
     ]
    },
    {
     "data": {
      "text/plain": [
       "(49.6184044321234, -14.578381705587148)"
      ]
     },
     "execution_count": 131,
     "metadata": {},
     "output_type": "execute_result"
    }
   ],
   "source": [
    "# YOUR CODE HERE\n",
    "from sklearn import linear_model\n",
    "lin1 = linear_model.LinearRegression()\n",
    "\n",
    "lin1.fit(X,y)\n",
    "t0, t1 = lin1.intercept_[0], lin1.coef_[0][0]\n",
    "print(lin1.intercept_,lin1.coef_)\n",
    "t0, t1\n",
    "#raise NotImplementedError()"
   ]
  },
  {
   "cell_type": "markdown",
   "metadata": {
    "deletable": false,
    "editable": false,
    "nbgrader": {
     "cell_type": "markdown",
     "checksum": "399d89aa01354978ea3630bd8fa142c6",
     "grade": false,
     "grade_id": "cell-3adcdf66a45f886a",
     "locked": true,
     "schema_version": 3,
     "solution": false,
     "task": false
    }
   },
   "source": [
    "Calculate the RMSE using the funtion you created above and assign it to the variable `rmse_lin`"
   ]
  },
  {
   "cell_type": "code",
   "execution_count": 132,
   "metadata": {
    "deletable": false,
    "nbgrader": {
     "cell_type": "code",
     "checksum": "da3ad04184b01d11c13e847b5038dc84",
     "grade": false,
     "grade_id": "cell-949dd64cdaeb049e",
     "locked": false,
     "schema_version": 3,
     "solution": true,
     "task": false
    }
   },
   "outputs": [
    {
     "name": "stdout",
     "output_type": "stream",
     "text": [
      "139.08026218037347\n"
     ]
    }
   ],
   "source": [
    "from sklearn.metrics import mean_squared_error\n",
    "from math import sqrt\n",
    "\n",
    "# YOUR CODE HERE\n",
    "y_hatlin = t0 + (t1 * X)\n",
    "\n",
    "rmse_lin = rmse(y, y_hatlin)\n",
    "print(rmse_lin)\n",
    "#raise NotImplementedError()"
   ]
  },
  {
   "cell_type": "code",
   "execution_count": 133,
   "metadata": {
    "deletable": false,
    "editable": false,
    "nbgrader": {
     "cell_type": "code",
     "checksum": "0afcb931d0bb489178d2587e95c56a33",
     "grade": true,
     "grade_id": "cell-2df19e03a3834c68",
     "locked": true,
     "points": 0.25,
     "schema_version": 3,
     "solution": false,
     "task": false
    }
   },
   "outputs": [],
   "source": [
    "assert rmse_lin==139.08026218037347"
   ]
  },
  {
   "cell_type": "markdown",
   "metadata": {
    "deletable": false,
    "editable": false,
    "nbgrader": {
     "cell_type": "markdown",
     "checksum": "a0b74930ea4a416c441181abd07e8edb",
     "grade": false,
     "grade_id": "cell-8de744bfaa4ace02",
     "locked": true,
     "schema_version": 3,
     "solution": false,
     "task": false
    }
   },
   "source": [
    "Now let's do the same thing with a k NearestNeighbor Model (use k=3, and store the RMSE in `rmse_knn`)"
   ]
  },
  {
   "cell_type": "code",
   "execution_count": 136,
   "metadata": {
    "deletable": false,
    "nbgrader": {
     "cell_type": "code",
     "checksum": "3e77c8f100e1c19e742a202c004e26e1",
     "grade": false,
     "grade_id": "cell-bff757f0700fc6ca",
     "locked": false,
     "schema_version": 3,
     "solution": true,
     "task": false
    }
   },
   "outputs": [
    {
     "name": "stdout",
     "output_type": "stream",
     "text": [
      "7.6787983406330165\n"
     ]
    }
   ],
   "source": [
    "# YOUR CODE HERE\n",
    "import sklearn.neighbors\n",
    "knn_model = sklearn.neighbors.KNeighborsRegressor(n_neighbors=3)\n",
    "\n",
    "knn_model.fit(X,y)\n",
    "y_hatknn = knn_model.predict(X)\n",
    "rmse_knn = rmse(y, y_hatknn)\n",
    "print(rmse_knn)\n",
    "#raise NotImplementedError()"
   ]
  },
  {
   "cell_type": "code",
   "execution_count": 137,
   "metadata": {
    "deletable": false,
    "editable": false,
    "nbgrader": {
     "cell_type": "code",
     "checksum": "e9354cfd882cbeec7faee69439e70f94",
     "grade": true,
     "grade_id": "cell-25045b511b2def79",
     "locked": true,
     "points": 0.5,
     "schema_version": 3,
     "solution": false,
     "task": false
    }
   },
   "outputs": [
    {
     "ename": "AssertionError",
     "evalue": "",
     "output_type": "error",
     "traceback": [
      "\u001b[0;31m---------------------------------------------------------------------------\u001b[0m",
      "\u001b[0;31mAssertionError\u001b[0m                            Traceback (most recent call last)",
      "\u001b[0;32m<ipython-input-137-3a9c8810fe43>\u001b[0m in \u001b[0;36m<module>\u001b[0;34m\u001b[0m\n\u001b[0;32m----> 1\u001b[0;31m \u001b[0;32massert\u001b[0m \u001b[0mrmse_knn\u001b[0m\u001b[0;34m==\u001b[0m\u001b[0;36m7.678798340633015\u001b[0m\u001b[0;34m\u001b[0m\u001b[0;34m\u001b[0m\u001b[0m\n\u001b[0m",
      "\u001b[0;31mAssertionError\u001b[0m: "
     ]
    }
   ],
   "source": [
    "assert rmse_knn==7.678798340633015"
   ]
  },
  {
   "cell_type": "markdown",
   "metadata": {
    "deletable": false,
    "editable": false,
    "nbgrader": {
     "cell_type": "markdown",
     "checksum": "977f59c3c8bbb12f4ddbc413b07a57b6",
     "grade": false,
     "grade_id": "cell-828a57b4e5bc2fa1",
     "locked": true,
     "schema_version": 3,
     "solution": false,
     "task": false
    }
   },
   "source": [
    "Plot `y` as a function of `X`, as well as the corresponding predictions of the linear and kNN model."
   ]
  },
  {
   "cell_type": "code",
   "execution_count": 138,
   "metadata": {
    "deletable": false,
    "nbgrader": {
     "cell_type": "code",
     "checksum": "fd6e8b37e8dc30e041879e57aaa7a73b",
     "grade": true,
     "grade_id": "cell-09e2b66ceaa76f0a",
     "locked": false,
     "points": 0.5,
     "schema_version": 3,
     "solution": true,
     "task": false
    }
   },
   "outputs": [
    {
     "data": {
      "text/plain": [
       "<matplotlib.legend.Legend at 0x7f91ab2f4eb0>"
      ]
     },
     "execution_count": 138,
     "metadata": {},
     "output_type": "execute_result"
    },
    {
     "data": {
      "image/png": "[encoded data removed]",
      "text/plain": [
       "<Figure size 432x288 with 2 Axes>"
      ]
     },
     "metadata": {
      "needs_background": "light"
     },
     "output_type": "display_data"
    }
   ],
   "source": [
    "import matplotlib.pyplot as plt\n",
    "# YOUR CODE HERE\n",
    "ax1 = plt.subplot(2, 1, 1)\n",
    "ax2 = plt.subplot(2, 1, 2)\n",
    "#ax1.figure(figsize=(8,3))\n",
    "\n",
    "ax1.set_xlabel(\"Theta\")\n",
    "ax1.set_ylabel('Torque')\n",
    "ax1.set_title(\"Theta vs Torque for the linear model\")\n",
    "\n",
    "x_plot = np.linspace(np.amin(X), np.amax(X), 1000)\n",
    "\n",
    "#plotting the linear regression\n",
    "ax1.plot(x_plot, t0 + t1 * x_plot, \"r--\", label=\"Linear model on data\")\n",
    "ax1.plot(X,y, \"bo\")\n",
    "ax1.legend(loc=\"lower right\")\n",
    "\n",
    "#plotting the knn fit\n",
    "#yknn_predict = knn_model.predict(np.reshape(x_plot,(1000,1)))\n",
    "#print(yknn_predict)\n",
    "ax2.plot(x_plot,knn_model.predict(np.reshape(x_plot,(1000,1))),'k--', label=\"KNN model on data\")\n",
    "ax2.plot(X,y, \"rs\")\n",
    "ax2.legend(loc=\"lower right\")\n",
    "#raise NotImplementedError()"
   ]
  },
  {
   "cell_type": "markdown",
   "metadata": {
    "deletable": false,
    "editable": false,
    "nbgrader": {
     "cell_type": "markdown",
     "checksum": "c93ab46cad4069900824a9cf2673adba",
     "grade": false,
     "grade_id": "cell-6d9404ea9c9e092e",
     "locked": true,
     "schema_version": 3,
     "solution": false,
     "task": false
    }
   },
   "source": [
    "Linear regression performs really badly. Give reasons (based on the above plot)."
   ]
  },
  {
   "cell_type": "markdown",
   "metadata": {
    "deletable": false,
    "nbgrader": {
     "cell_type": "markdown",
     "checksum": "23eb52b90ad2e959004186fbef06dd76",
     "grade": true,
     "grade_id": "cell-f919de05985c469f",
     "locked": false,
     "points": 0.5,
     "schema_version": 3,
     "solution": true,
     "task": false
    }
   },
   "source": [
    "YOUR ANSWER HERE. The RMSE error of the linera model is quite high and the data is more scattered away compared to the KNN fitted model therefore it shows very high error. Also linear regression is model driven model wearas the Knn is data driven model therefore the fitting og the data points for the KNN model is much better."
   ]
  },
  {
   "cell_type": "markdown",
   "metadata": {
    "deletable": false,
    "editable": false,
    "nbgrader": {
     "cell_type": "markdown",
     "checksum": "ffa4050a5083fefd8b2db4034abe5d5f",
     "grade": false,
     "grade_id": "cell-4ec7d6e784d99d3c",
     "locked": true,
     "schema_version": 3,
     "solution": false,
     "task": false
    }
   },
   "source": [
    "As we'll discuss in the next lectures, feature engineering is often crucial in machine learning. If you look at the plot above, you'll notice that is resembels a cosine. Using this insight, transform the input `X` before training a linear regression model. You should get the RMSE down to about 17.4"
   ]
  },
  {
   "cell_type": "code",
   "execution_count": 110,
   "metadata": {
    "deletable": false,
    "nbgrader": {
     "cell_type": "code",
     "checksum": "2d68a823b309f8f939e52ba3e3a327a6",
     "grade": true,
     "grade_id": "cell-dc2ffb793cccd481",
     "locked": false,
     "points": 0.5,
     "schema_version": 3,
     "solution": true,
     "task": false
    }
   },
   "outputs": [],
   "source": [
    "# YOUR CODE HERE\n",
    "\n",
    "#raise NotImplementedError()"
   ]
  },
  {
   "cell_type": "markdown",
   "metadata": {
    "deletable": false,
    "editable": false,
    "nbgrader": {
     "cell_type": "markdown",
     "checksum": "a48a53e2e96b162c87a51a13a42b5f65",
     "grade": false,
     "grade_id": "cell-5e170b289dced727",
     "locked": true,
     "schema_version": 3,
     "solution": false,
     "task": false
    }
   },
   "source": [
    "This notebook is inspired by <em>Python Numpy [Tutorial](https://cs231n.github.io/python-numpy-tutorial/)</em>."
   ]
  }
 ],
 "metadata": {
  "kernelspec": {
   "display_name": "Python 3",
   "language": "python",
   "name": "python3"
  },
  "language_info": {
   "codemirror_mode": {
    "name": "ipython",
    "version": 3
   },
   "file_extension": ".py",
   "mimetype": "text/x-python",
   "name": "python",
   "nbconvert_exporter": "python",
   "pygments_lexer": "ipython3",
   "version": "3.8.3"
  }
 },
 "nbformat": 4,
 "nbformat_minor": 4
}
