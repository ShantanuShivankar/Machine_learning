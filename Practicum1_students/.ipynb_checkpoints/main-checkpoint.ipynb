{
 "cells": [
  {
   "cell_type": "markdown",
   "metadata": {},
   "source": [
    "# Practicum1 - RO47002 Machine Learning for Robotics\n",
    "### Submission Due Date: Sept 13th, 2020"
   ]
  },
  {
   "cell_type": "markdown",
   "metadata": {},
   "source": [
    "Before you turn this problem in, make sure everything runs as expected. First, **restart the kernel** (in the menubar, select Kernel$\\rightarrow$Restart) and then **run all cells** (in the menubar, select Cell$\\rightarrow$Run All).\n",
    "\n",
    "Make sure you fill in any place that says `YOUR CODE HERE` or `YOUR ANSWER HERE`. Moreover, if you see an empty cell, please DO NOT delete it, instead run that cell as you would run all other cells. Please fill in your name(s) and other required details below:"
   ]
  },
  {
   "cell_type": "code",
   "execution_count": 231,
   "metadata": {},
   "outputs": [
    {
     "ename": "SyntaxError",
     "evalue": "invalid syntax (<ipython-input-231-7eda60db192b>, line 2)",
     "output_type": "error",
     "traceback": [
      "\u001b[0;36m  File \u001b[0;32m\"<ipython-input-231-7eda60db192b>\"\u001b[0;36m, line \u001b[0;32m2\u001b[0m\n\u001b[0;31m    NAME = \"Rishabh Singh Jakhar\"                           STUDENT_NUMBER = \"4779819\"\u001b[0m\n\u001b[0m                                                            ^\u001b[0m\n\u001b[0;31mSyntaxError\u001b[0m\u001b[0;31m:\u001b[0m invalid syntax\n"
     ]
    }
   ],
   "source": [
    "GROUP_NUMBER = \"8\"\n",
    "NAME = \"Rishabh Singh Jakhar\"                           STUDENT_NUMBER = \"4779819\"\n",
    "NAME = \"Shantanu Shivankar\"                             STUDENT_NUMBER = \"5032814\""
   ]
  },
  {
   "cell_type": "markdown",
   "metadata": {},
   "source": [
    "---"
   ]
  },
  {
   "cell_type": "markdown",
   "metadata": {
    "deletable": false,
    "editable": false,
    "nbgrader": {
     "cell_type": "markdown",
     "checksum": "997782de55cfc5580830431a29c12079",
     "grade": false,
     "grade_id": "cell-692065a70d4a185a",
     "locked": true,
     "schema_version": 3,
     "solution": false,
     "task": false
    }
   },
   "source": [
    "# Python\n",
    "Python is a high-level, dynamically typed multiparadigm programming language. Python code is often said to be almost like pseudocode, since it allows you to express very powerful ideas in very few lines of code while being very readable.\n",
    "\n",
    "## Basic data types\n",
    "\n",
    "Like most languages, Python has a number of basic types including integers, floats, booleans, and strings. These data types behave in ways that are familiar from other programming languages.\n",
    "\n",
    "### Numbers\n",
    "Integers and floats work as you would expect from other languages:"
   ]
  },
  {
   "cell_type": "code",
   "execution_count": 232,
   "metadata": {},
   "outputs": [
    {
     "name": "stdout",
     "output_type": "stream",
     "text": [
      "3\n",
      "Type of x is:  <class 'int'>\n",
      "3.5\n",
      "Type of y is:  <class 'float'>\n"
     ]
    }
   ],
   "source": [
    "x = 3\n",
    "y = 3.5\n",
    "\n",
    "print(x)\n",
    "print(\"Type of x is: \", type(x))\n",
    "print(y)\n",
    "print(\"Type of y is: \", type(y))"
   ]
  },
  {
   "cell_type": "markdown",
   "metadata": {
    "deletable": false,
    "editable": false,
    "nbgrader": {
     "cell_type": "markdown",
     "checksum": "35623ee865ffdaf0f37ed843cfc95054",
     "grade": false,
     "grade_id": "cell-eff6677736343a45",
     "locked": true,
     "schema_version": 3,
     "solution": false,
     "task": false
    }
   },
   "source": [
    "Common mathematical operations are:\n",
    "\n",
    "Addition: $a+b$ := <code>a + b</code> <br />\n",
    "Subtraction: $a-b$ := <code>a - b</code> <br />\n",
    "Division: $a\\div b$ := <code>a / b</code> <br />\n",
    "Multiplication: $a\\times b$ := <code>a * b</code> <br />\n",
    "Power: $a^b$ := <code>a ** b</code> <br />"
   ]
  },
  {
   "cell_type": "code",
   "execution_count": 233,
   "metadata": {},
   "outputs": [
    {
     "name": "stdout",
     "output_type": "stream",
     "text": [
      "1 6 9\n"
     ]
    }
   ],
   "source": [
    "print(x + 1 - 3, x * 2, x ** 2)"
   ]
  },
  {
   "cell_type": "code",
   "execution_count": 234,
   "metadata": {},
   "outputs": [
    {
     "name": "stdout",
     "output_type": "stream",
     "text": [
      "1.5 7.0 12.25\n"
     ]
    }
   ],
   "source": [
    "print(y + 1 -3, y * 2, y ** 2)"
   ]
  },
  {
   "cell_type": "markdown",
   "metadata": {
    "deletable": false,
    "editable": false,
    "nbgrader": {
     "cell_type": "markdown",
     "checksum": "07bd9c930dd84eb73e0ac8c16910275f",
     "grade": false,
     "grade_id": "cell-18b00d0e2be11dde",
     "locked": true,
     "schema_version": 3,
     "solution": false,
     "task": false
    }
   },
   "source": [
    "Implement the following equation and save the output in the <strong>output</strong> variable.\n",
    "\n",
    "\\begin{equation*}\n",
    "3xy^2 + \\frac{y}{x} + 77\n",
    "\\end{equation*}"
   ]
  },
  {
   "cell_type": "code",
   "execution_count": 235,
   "metadata": {
    "deletable": false,
    "nbgrader": {
     "cell_type": "code",
     "checksum": "7da93ab0b2a0f227242e4b9ecfeea1c4",
     "grade": false,
     "grade_id": "cell-c8385b1f04239dd1",
     "locked": false,
     "schema_version": 3,
     "solution": true,
     "task": false
    }
   },
   "outputs": [],
   "source": [
    "def eq1(x, y):\n",
    "    # YOUR CODE HERE\n",
    "    output = (3*x*y*y)+(y/x)+(77)\n",
    "    #raise NotImplementedError()\n",
    "    return output"
   ]
  },
  {
   "cell_type": "code",
   "execution_count": 236,
   "metadata": {},
   "outputs": [
    {
     "name": "stdout",
     "output_type": "stream",
     "text": [
      "91.0\n"
     ]
    }
   ],
   "source": [
    "print(eq1(1,2))"
   ]
  },
  {
   "cell_type": "code",
   "execution_count": 237,
   "metadata": {
    "deletable": false,
    "editable": false,
    "nbgrader": {
     "cell_type": "code",
     "checksum": "a959037b0475d3084622a64d578a589f",
     "grade": true,
     "grade_id": "cell-36d54aaef9ee4ab8",
     "locked": true,
     "points": 1,
     "schema_version": 3,
     "solution": false,
     "task": false
    }
   },
   "outputs": [],
   "source": [
    "assert eq1(1, 2) == 91.0\n",
    "assert eq1(3, 4) == 222.33333333333334"
   ]
  },
  {
   "cell_type": "markdown",
   "metadata": {
    "deletable": false,
    "editable": false,
    "nbgrader": {
     "cell_type": "markdown",
     "checksum": "3bcf9126c59e5693db5d0575abc2aad8",
     "grade": false,
     "grade_id": "cell-41ce23bd9f2fd741",
     "locked": true,
     "schema_version": 3,
     "solution": false,
     "task": false
    }
   },
   "source": [
    "## Booleans and logical operations\n",
    "Python implements all of the usual operators for Boolean logic, but uses English words e.g., <strong>and</strong>, <strong>or</strong>, <strong>not</strong> rather than symbols.\n",
    "\n",
    "Some examples are as follows:\n",
    "\n",
    "Logical AND: $a \\land b$ := <code>a and b</code> <br />\n",
    "Logical OR : $a \\lor b$ := <code>a or b</code> <br />\n",
    "Logical NOT: $a \\lnot b$ := <code>a not b</code> <br />\n",
    "Logical XOR: $a \\oplus b$ := <code>a != b</code> <br />"
   ]
  },
  {
   "cell_type": "code",
   "execution_count": 238,
   "metadata": {},
   "outputs": [
    {
     "name": "stdout",
     "output_type": "stream",
     "text": [
      "Type of a is <class 'bool'> and type of b is <class 'bool'>.\n",
      "False\n"
     ]
    }
   ],
   "source": [
    "a = True\n",
    "b = False\n",
    "\n",
    "print(\"Type of a is {} and type of b is {}.\".format(type(a), type(b)))\n",
    "print(a and b)"
   ]
  },
  {
   "cell_type": "markdown",
   "metadata": {
    "deletable": false,
    "editable": false,
    "nbgrader": {
     "cell_type": "markdown",
     "checksum": "66c85730e1e0cdbff88456d43c8bbe76",
     "grade": false,
     "grade_id": "cell-42e55ed06926b8da",
     "locked": true,
     "schema_version": 3,
     "solution": false,
     "task": false
    }
   },
   "source": [
    "Perform logical operations between <strong>a</strong> and <strong>b</strong>."
   ]
  },
  {
   "cell_type": "code",
   "execution_count": 9,
   "metadata": {
    "deletable": false,
    "nbgrader": {
     "cell_type": "code",
     "checksum": "3b048c1003ba9a199415e67f9666965a",
     "grade": false,
     "grade_id": "cell-42e55ed06926b8db",
     "locked": false,
     "schema_version": 3,
     "solution": true,
     "task": false
    }
   },
   "outputs": [],
   "source": [
    "def logical_AND(a, b):\n",
    "     # YOUR CODE HERE\n",
    "    output = a and b\n",
    "    #print(output)\n",
    "    #raise NotImplementedError()\n",
    "    return output\n",
    "\n",
    "def logical_OR(a, b):\n",
    "     # YOUR CODE HERE\n",
    "    output = a or b\n",
    "    #raise NotImplementedError()\n",
    "    return output\n",
    "\n",
    "def logical_NOT(a):\n",
    "     # YOUR CODE HERE\n",
    "    output = not(a)\n",
    "    #raise NotImplementedError()\n",
    "    return output\n",
    "\n",
    "def logical_XOR(a, b):\n",
    "     # YOUR CODE HERE\n",
    "    output = (a^b)\n",
    "    #raise NotImplementedError()\n",
    "    return output"
   ]
  },
  {
   "cell_type": "code",
   "execution_count": 10,
   "metadata": {},
   "outputs": [
    {
     "name": "stdout",
     "output_type": "stream",
     "text": [
      "False\n",
      "True\n",
      "False\n",
      "True\n"
     ]
    }
   ],
   "source": [
    "print(logical_AND(a,b))\n",
    "print(logical_OR(a,b))\n",
    "print(logical_NOT(a))\n",
    "print(logical_XOR(a,b))"
   ]
  },
  {
   "cell_type": "code",
   "execution_count": 11,
   "metadata": {
    "deletable": false,
    "editable": false,
    "nbgrader": {
     "cell_type": "code",
     "checksum": "f674027b018872e8f030491d2c5cd3bc",
     "grade": true,
     "grade_id": "cell-66e7d270b501202a",
     "locked": true,
     "points": 1,
     "schema_version": 3,
     "solution": false,
     "task": false
    }
   },
   "outputs": [],
   "source": [
    "assert logical_AND(True, False) == False\n",
    "assert logical_OR(False, True) == True\n",
    "assert logical_NOT(True) == False\n",
    "assert logical_XOR(True, True) == False\n"
   ]
  },
  {
   "cell_type": "markdown",
   "metadata": {
    "deletable": false,
    "editable": false,
    "nbgrader": {
     "cell_type": "markdown",
     "checksum": "b375e2d1543bffc3353e8d8fc2aab800",
     "grade": false,
     "grade_id": "cell-5906fd44cbfe3ba7",
     "locked": true,
     "schema_version": 3,
     "solution": false,
     "task": false
    }
   },
   "source": [
    "Implement XNOR between two booleans <strong>a</strong> and <strong>b</strong> ($a \\odot b$) and save the <strong>output</strong> in output variable:"
   ]
  },
  {
   "cell_type": "code",
   "execution_count": 12,
   "metadata": {
    "deletable": false,
    "nbgrader": {
     "cell_type": "code",
     "checksum": "5f57febdacbe9470be291ea7c7d7e304",
     "grade": false,
     "grade_id": "cell-fd541367faa71c44",
     "locked": false,
     "schema_version": 3,
     "solution": true,
     "task": false
    }
   },
   "outputs": [],
   "source": [
    "def xnor(a, b):\n",
    "    # YOUR CODE HERE\n",
    "    output = not(a^b)\n",
    "    #raise NotImplementedError()\n",
    "    return output"
   ]
  },
  {
   "cell_type": "code",
   "execution_count": 13,
   "metadata": {},
   "outputs": [
    {
     "name": "stdout",
     "output_type": "stream",
     "text": [
      "False\n"
     ]
    }
   ],
   "source": [
    "print(xnor(False, True))"
   ]
  },
  {
   "cell_type": "code",
   "execution_count": 14,
   "metadata": {
    "deletable": false,
    "editable": false,
    "nbgrader": {
     "cell_type": "code",
     "checksum": "f65a8eb42812defe4b0aa833ae213761",
     "grade": true,
     "grade_id": "cell-4e4acf4752814f0c",
     "locked": true,
     "points": 0.5,
     "schema_version": 3,
     "solution": false,
     "task": false
    }
   },
   "outputs": [],
   "source": [
    "assert xnor(True, False) == False"
   ]
  },
  {
   "cell_type": "markdown",
   "metadata": {
    "deletable": false,
    "editable": false,
    "nbgrader": {
     "cell_type": "markdown",
     "checksum": "669496bc3601b40f8811cc0836eaa5c8",
     "grade": false,
     "grade_id": "cell-70fc57561c3142a9",
     "locked": true,
     "schema_version": 3,
     "solution": false,
     "task": false
    }
   },
   "source": [
    "## Strings"
   ]
  },
  {
   "cell_type": "code",
   "execution_count": 15,
   "metadata": {},
   "outputs": [
    {
     "name": "stdout",
     "output_type": "stream",
     "text": [
      "foo\n",
      "3\n"
     ]
    }
   ],
   "source": [
    "foo = 'foo' # Single quotes can be used for String literals\n",
    "bar = \"bar\" # or double quotes\n",
    "print(foo)\n",
    "print(len(bar)) # String length"
   ]
  },
  {
   "cell_type": "code",
   "execution_count": 16,
   "metadata": {},
   "outputs": [
    {
     "name": "stdout",
     "output_type": "stream",
     "text": [
      "foo bar\n"
     ]
    }
   ],
   "source": [
    "foo_bar = foo + ' ' + bar # String concatenation\n",
    "print(foo_bar)"
   ]
  },
  {
   "cell_type": "code",
   "execution_count": 17,
   "metadata": {},
   "outputs": [
    {
     "name": "stdout",
     "output_type": "stream",
     "text": [
      "foo bar 10\n"
     ]
    }
   ],
   "source": [
    "foo_bar10 = '%s %s %d' % (foo, bar, 10) # sprintf style string formatting\n",
    "print(foo_bar10)"
   ]
  },
  {
   "cell_type": "markdown",
   "metadata": {
    "deletable": false,
    "editable": false,
    "nbgrader": {
     "cell_type": "markdown",
     "checksum": "7e498dd36221f41ce665a1d260bfbba1",
     "grade": false,
     "grade_id": "cell-1174450421b019fe",
     "locked": true,
     "schema_version": 3,
     "solution": false,
     "task": false
    }
   },
   "source": [
    "### Methods of String object"
   ]
  },
  {
   "cell_type": "code",
   "execution_count": 18,
   "metadata": {},
   "outputs": [
    {
     "name": "stdout",
     "output_type": "stream",
     "text": [
      "Hello\n",
      "HELLO\n",
      "  hello\n",
      " hello \n",
      "he(ell)(ell)o\n",
      "world\n"
     ]
    }
   ],
   "source": [
    "s = 'hello'\n",
    "print(s.capitalize())\n",
    "print(s.upper())\n",
    "print(s.rjust(7))\n",
    "print(s.center(7))\n",
    "print(s.replace('l', '(ell)'))\n",
    "\n",
    "print('  world '.strip()) # strip leading and training whitespaces, prints \"world\""
   ]
  },
  {
   "cell_type": "markdown",
   "metadata": {
    "deletable": false,
    "editable": false,
    "nbgrader": {
     "cell_type": "markdown",
     "checksum": "8c8ad27781cd2ae05879dcafe93c367e",
     "grade": false,
     "grade_id": "cell-d2627b01b747d2c7",
     "locked": true,
     "schema_version": 3,
     "solution": false,
     "task": false
    }
   },
   "source": [
    "## Containers\n",
    "Python includes several built-in container types: lists, dictionaries, sets, and tuples\n",
    "\n",
    "### Lists\n",
    "A list is the Python equivalent of an array, but is resizeable and can contain elements of different types:\n",
    "\n",
    "A list containing 3 elements can be created simply as: \n",
    "\n",
    "    sample_list = [3, 6, 2]\n",
    "    \n",
    "Indexing of the list starts from $0$ (zero). <code>sample_list[1]</code> which is equal to $6$ here. A list can be indexed from the end as well using negative indices e.g., <code>sample_list[-1]</code> which is equal to $2$ here.\n",
    "\n",
    "Lists may contain elements of different types e.g., <code>sample_list[2] = 'hello'</code>. Now the elements of this list would become: <code>[3, 6, 'hello']</code>.\n",
    "\n",
    "Elements can be added (appended) in to the lists e.g., <code>sample_list.append('world')</code> which appends 'world' in the end of the list making it a $4$ elements list now. Moreover, elements can be popped out of the list e.g., <code>last_elem = sample_list.pop()</code> would save last element 'world' in <strong>last_elem</strong> variable.\n",
    "\n",
    "Create a new list of your own. Perform the above mentioned opeartions on your list and print the output of each operation here."
   ]
  },
  {
   "cell_type": "code",
   "execution_count": 19,
   "metadata": {
    "deletable": false,
    "nbgrader": {
     "cell_type": "code",
     "checksum": "0f2bb5d27de6d0bec97841a17d173be8",
     "grade": true,
     "grade_id": "cell-40bdfad50d6f22ff",
     "locked": false,
     "points": 0.5,
     "schema_version": 3,
     "solution": true,
     "task": false
    }
   },
   "outputs": [
    {
     "name": "stdout",
     "output_type": "stream",
     "text": [
      "6\n",
      "2\n",
      "[3, 6, 'hello']\n",
      "The new sample list\n",
      "None\n",
      "world\n"
     ]
    }
   ],
   "source": [
    "# YOUR CODE HERE\n",
    "sample_list = [3, 6, 2]\n",
    "print(sample_list[1])\n",
    "print(sample_list[-1])\n",
    "sample_list[2] = 'hello'\n",
    "print(sample_list)\n",
    "print(\"The new sample list\")\n",
    "sample_list = [3, 6, 2]\n",
    "print(sample_list.append('world'))\n",
    "print(sample_list.pop())\n",
    "#raise NotImplementedError()"
   ]
  },
  {
   "cell_type": "markdown",
   "metadata": {
    "deletable": false,
    "editable": false,
    "nbgrader": {
     "cell_type": "markdown",
     "checksum": "f2e1b3fafd92c83b1671b17baf05c719",
     "grade": false,
     "grade_id": "cell-3418e8a232246f4f",
     "locked": true,
     "schema_version": 3,
     "solution": false,
     "task": false
    }
   },
   "source": [
    "## Slicing\n",
    "\n",
    "In addition to accessing list elements one at a time, Python provides concise syntax to access sublists; this is known as slicing.\n",
    "\n",
    "To exercise this, we can create a list by using command <code>range(int)</code> e.g., <code>nums = list(range(5))</code> which gives us a list with elements <code>[0, 1, 2, 3, 4]</code>. To get elements from index 2 to 4 <strong>(exclusive)</strong>, we can write <code>nums[2:4]</code> which should give us <code>[2, 3]</code> in this case.\n",
    "\n",
    "To get a <em>slice</em> from index 2 to the end, we write <code>nums[2:]</code>. Similarly for a <em>slice</em> from the start to index 2 <strong>exclusive</strong>, we write <code>nums[:2]</code>. And to <em> slice</em> the whole list, we write <code>nums[:]</code>.\n",
    "    \n",
    "<em>Slicing</em> can be performed with negative indices as well e.g., <code>nums[:-2]</code> will give us all elements from the list ignoring only the last two element (in this case <code>[0, 1, 2]</code>.\n",
    "\n",
    "Create a list of your own. Perform the above mentioned opeartions on your list and print the output of each operation here."
   ]
  },
  {
   "cell_type": "code",
   "execution_count": 20,
   "metadata": {
    "deletable": false,
    "nbgrader": {
     "cell_type": "code",
     "checksum": "9c3ff4dd364f09f1768bf38355d9214b",
     "grade": true,
     "grade_id": "cell-0567306e5255ae77",
     "locked": false,
     "points": 0.5,
     "schema_version": 3,
     "solution": true,
     "task": false
    }
   },
   "outputs": [
    {
     "name": "stdout",
     "output_type": "stream",
     "text": [
      "The list of numbers are [0, 1, 2, 3, 4]\n",
      "[2, 3]\n",
      "[2, 3, 4]\n",
      "[0, 1]\n",
      "[0, 1, 2, 3, 4]\n",
      "[0, 1, 2]\n"
     ]
    }
   ],
   "source": [
    "# YOUR CODE HERE\n",
    "nums = list(range(5))\n",
    "print(\"The list of numbers are\",nums)\n",
    "print(nums[2:4])\n",
    "print(nums[2:])\n",
    "print(nums[:2])\n",
    "print(nums[:])\n",
    "print(nums[:-2])\n",
    "#raise NotImplementedError()"
   ]
  },
  {
   "cell_type": "markdown",
   "metadata": {
    "deletable": false,
    "editable": false,
    "nbgrader": {
     "cell_type": "markdown",
     "checksum": "40b51f5fd5d2d3a38bb18ae44f4ae67c",
     "grade": false,
     "grade_id": "cell-2087c7b344d12524",
     "locked": true,
     "schema_version": 3,
     "solution": false,
     "task": false
    }
   },
   "source": [
    "## Loops\n",
    "You can loop over the elements of a list like this:\n",
    "\n",
    "    list = ['element A', 'element B', 'element C', 'element D'] \n",
    "    for element in list: \n",
    "        print(element) \n",
    "\n",
    "Implement the code in the cell below for the following list: \n",
    "\n",
    "      actuators = ['Pneumatic', 'Hydraulic', 'Electric'] "
   ]
  },
  {
   "cell_type": "code",
   "execution_count": 21,
   "metadata": {
    "deletable": false,
    "nbgrader": {
     "cell_type": "code",
     "checksum": "f07d121d2c71d0cefb681bb812baf2f9",
     "grade": false,
     "grade_id": "cell-2a7a4bfe0cafde1e",
     "locked": false,
     "schema_version": 3,
     "solution": true,
     "task": false
    }
   },
   "outputs": [
    {
     "name": "stdout",
     "output_type": "stream",
     "text": [
      "Pneumatic\n",
      "Hydraulic\n",
      "Electric\n"
     ]
    }
   ],
   "source": [
    "# YOUR CODE HERE\n",
    "actuators = ['Pneumatic', 'Hydraulic', 'Electric'] \n",
    "for element in actuators:\n",
    "    print(element)\n",
    "#raise NotImplementedError()"
   ]
  },
  {
   "cell_type": "code",
   "execution_count": 22,
   "metadata": {
    "deletable": false,
    "editable": false,
    "nbgrader": {
     "cell_type": "code",
     "checksum": "0b04f2f50c1f1c92e848a0fb1fd9bab2",
     "grade": true,
     "grade_id": "cell-4e04922282b36d43",
     "locked": true,
     "points": 1,
     "schema_version": 3,
     "solution": false,
     "task": false
    }
   },
   "outputs": [],
   "source": [
    "assert isinstance(actuators, list)"
   ]
  },
  {
   "cell_type": "markdown",
   "metadata": {
    "deletable": false,
    "editable": false,
    "nbgrader": {
     "cell_type": "markdown",
     "checksum": "6e2950099cfa747ff2290d00917456d8",
     "grade": false,
     "grade_id": "cell-1fc79ee7d4f787fc",
     "locked": true,
     "schema_version": 3,
     "solution": false,
     "task": false
    }
   },
   "source": [
    "If you want access to the index of each element within the body of a loop, use the built-in enumerate function: \n",
    "\n",
    "    list = ['element A', 'element B', 'element C', 'element D'] \n",
    "    for idx, element in enumerate(list): \n",
    "        print('#%d: %s' % (idx + 1, element)) \n",
    "\n",
    "This will print \"#1: element A\", \"#2: element B\", \"#3: element C\", , \"#4: element D\", each on its own line. \n",
    "\n",
    "Practice enumerate function in the following cell with the list of actuators. "
   ]
  },
  {
   "cell_type": "code",
   "execution_count": 23,
   "metadata": {
    "deletable": false,
    "nbgrader": {
     "cell_type": "code",
     "checksum": "4c3b64395f0cb95b44cf11c4e72d3721",
     "grade": true,
     "grade_id": "cell-ce18ac5d963e5a00",
     "locked": false,
     "points": 1,
     "schema_version": 3,
     "solution": true,
     "task": false
    }
   },
   "outputs": [
    {
     "name": "stdout",
     "output_type": "stream",
     "text": [
      "#1: Pneumatic\n",
      "#2: Hydraulic\n",
      "#3: Electric\n"
     ]
    }
   ],
   "source": [
    "# YOUR CODE HERE\n",
    "actuators = ['Pneumatic', 'Hydraulic', 'Electric']\n",
    "for idx,element in enumerate(actuators):\n",
    "    print('#%d: %s' % (idx + 1, element))\n",
    "#raise NotImplementedError()"
   ]
  },
  {
   "cell_type": "markdown",
   "metadata": {
    "deletable": false,
    "editable": false,
    "nbgrader": {
     "cell_type": "markdown",
     "checksum": "1875526157ab9dc0b6bcb74f977c4237",
     "grade": false,
     "grade_id": "cell-8c1d2caed753031e",
     "locked": true,
     "schema_version": 3,
     "solution": false,
     "task": false
    }
   },
   "source": [
    "## List Comprehension\n",
    "When programming, frequently we want to transform one type of data into another. As a simple example, consider the following code that computes square numbers:\n",
    "\n",
    "    nums = [0, 1, 2, 3, 4]\n",
    "    squares = []\n",
    "    for x in nums:\n",
    "        squares.append(x ** 2)\n",
    "\n",
    "This prints <code>[0, 1, 4, 9, 16]</code>. With the use of list comprehension, this can be written as: <code>squares = [x ** 2 for x in nums]</code>.\n",
    "\n",
    "List comprehensions can also contain conditions e.g., <code>even_squares = [x ** 2 for x in nums if x % 2 == 0]</code>.\n",
    "\n",
    "Practice the above mentioned concepts below:"
   ]
  },
  {
   "cell_type": "code",
   "execution_count": 24,
   "metadata": {
    "deletable": false,
    "nbgrader": {
     "cell_type": "code",
     "checksum": "fb86344dbb146c05dd85039e0b6e7e05",
     "grade": true,
     "grade_id": "cell-c1f04b85b559e0f3",
     "locked": false,
     "points": 1,
     "schema_version": 3,
     "solution": true,
     "task": false
    }
   },
   "outputs": [
    {
     "name": "stdout",
     "output_type": "stream",
     "text": [
      "[0, 1, 4, 9, 16] [0, 4, 16]\n"
     ]
    }
   ],
   "source": [
    "# YOUR CODE HERE\n",
    "nums = [0, 1, 2, 3, 4]\n",
    "squares = []\n",
    "for x in nums:\n",
    "    squares.append(x ** 2)\n",
    "even_squares = [x ** 2 for x in nums if x % 2 == 0]\n",
    "print(squares,even_squares)\n",
    "#raise NotImplementedError()"
   ]
  },
  {
   "cell_type": "markdown",
   "metadata": {
    "deletable": false,
    "editable": false,
    "nbgrader": {
     "cell_type": "markdown",
     "checksum": "0cb43f9fc8316cbdf94e92e12357e447",
     "grade": false,
     "grade_id": "cell-692a9b9ee620c466",
     "locked": true,
     "schema_version": 3,
     "solution": false,
     "task": false
    }
   },
   "source": [
    "# Dictionaries\n",
    "A dictionary stores (key, value) pairs. Please refer to this [link](https://docs.python.org/3.5/library/stdtypes.html#dict) for details. We can create a dictionary as <code>d = {'cat': 'cute', 'dog': 'furry'}</code>. To check if a dictionary has a given key, we write <code>print('cat' in d)</code>. A new entry can be set in the dictionary as <code>d['fish'] = 'wet'</code>. To get an element with a default, write <code>print(d.get('monkey', 'N/A'))</code>; this should print \"N/A\" as \"monkey\" is not a key of <strong>d</strong>. To remove an element from a dictionary, we write <code>del d['fish']</code>.\n",
    "\n",
    "Practice these concepts below:"
   ]
  },
  {
   "cell_type": "code",
   "execution_count": 25,
   "metadata": {
    "deletable": false,
    "nbgrader": {
     "cell_type": "code",
     "checksum": "96df8913951a1447110793ceed77ac1f",
     "grade": true,
     "grade_id": "cell-c67e730f0b22800f",
     "locked": false,
     "points": 0.5,
     "schema_version": 3,
     "solution": true,
     "task": false
    }
   },
   "outputs": [
    {
     "name": "stdout",
     "output_type": "stream",
     "text": [
      "True\n",
      "N/A\n"
     ]
    }
   ],
   "source": [
    "# YOUR CODE HERE\n",
    "d = {'cat': 'cute', 'dog': 'furry'}\n",
    "print('cat' in d)\n",
    "d['fish'] = 'wet'\n",
    "print(d.get('monkey', 'N/A'))\n",
    "del d['fish']\n",
    "#raise NotImplementedError()"
   ]
  },
  {
   "cell_type": "markdown",
   "metadata": {
    "deletable": false,
    "editable": false,
    "nbgrader": {
     "cell_type": "markdown",
     "checksum": "90a4ec11885d93df16e98ad535e1cb69",
     "grade": false,
     "grade_id": "cell-2a681f622db0d501",
     "locked": true,
     "schema_version": 3,
     "solution": false,
     "task": false
    }
   },
   "source": [
    "## Loops\n",
    "It is easy to iterate over the keys in a dictionary. Let say, we have a dictionary <code>d = {'person': 2, 'cat': 4, 'spider': 8}</code>. We can iterate over this dictionary through the following code:\n",
    "    \n",
    "    for animal in d:\n",
    "        legs = d[animal]\n",
    "        print('A %s has %d legs' % (animal, legs))\n",
    "This will print:<br />\n",
    "    \n",
    "    A person has 2 legs\n",
    "    A cat has 4 legs\n",
    "    A spider has 8 legs\n",
    "    \n",
    "Create a dictionary as mentioned above, and replicate the output by using [items](https://www.learnbyexample.org/python-dictionary-items-method/) method."
   ]
  },
  {
   "cell_type": "code",
   "execution_count": 26,
   "metadata": {
    "deletable": false,
    "nbgrader": {
     "cell_type": "code",
     "checksum": "652a61cdd53775294633a98454ac41d2",
     "grade": true,
     "grade_id": "cell-ab25bf1c75b8ad3e",
     "locked": false,
     "points": 1,
     "schema_version": 3,
     "solution": true,
     "task": false
    }
   },
   "outputs": [
    {
     "name": "stdout",
     "output_type": "stream",
     "text": [
      "A person has 2 legs\n",
      "A cat has 4 legs\n",
      "A spider has 8 legs\n"
     ]
    }
   ],
   "source": [
    "# YOUR CODE HERE\n",
    "# creating the dictopnary\n",
    "d = {'person': 2, 'cat': 4, 'spider': 8}\n",
    "legs = d.values()\n",
    "animal = d.keys()\n",
    "\n",
    "for i in d:\n",
    "    print('A %s has %d legs' % (i, d[i]))\n",
    "\n",
    "#raise NotImplementedError()"
   ]
  },
  {
   "cell_type": "markdown",
   "metadata": {
    "deletable": false,
    "editable": false,
    "nbgrader": {
     "cell_type": "markdown",
     "checksum": "28ed5a41c8168ec8c80720ad22defbff",
     "grade": false,
     "grade_id": "cell-f4cb216d4271d61a",
     "locked": true,
     "schema_version": 3,
     "solution": false,
     "task": false
    }
   },
   "source": [
    "### Dictionary comprehensions:\n",
    "These are similar to list comprehensions, but allow you to easily construct dictionaries. For example \n",
    "    \n",
    "    nums = [0, 1, 2, 3, 4]\n",
    "    even_num_to_square = {x: x ** 2 for x in nums if x % 2 == 0}\n",
    "Printing <code>even_num_to_square</code>, we will get <code>{0: 0, 2: 4, 4: 16}</code>. Try this in the cell below."
   ]
  },
  {
   "cell_type": "code",
   "execution_count": 27,
   "metadata": {
    "deletable": false,
    "nbgrader": {
     "cell_type": "code",
     "checksum": "2a998c2046232e2a8abcc5e161c743d3",
     "grade": true,
     "grade_id": "cell-e91f4e402897bf34",
     "locked": false,
     "points": 0.5,
     "schema_version": 3,
     "solution": true,
     "task": false
    }
   },
   "outputs": [
    {
     "name": "stdout",
     "output_type": "stream",
     "text": [
      "{0: 0, 2: 4, 4: 16}\n"
     ]
    }
   ],
   "source": [
    "# YOUR CODE HERE\n",
    "nums = [0, 1, 2, 3, 4]\n",
    "even_num_to_square = {x: x ** 2 for x in nums if x % 2 == 0}\n",
    "print(even_num_to_square)\n",
    "#raise NotImplementedError()"
   ]
  },
  {
   "cell_type": "markdown",
   "metadata": {
    "deletable": false,
    "editable": false,
    "nbgrader": {
     "cell_type": "markdown",
     "checksum": "cbd34db3d76edb80bd2dbe07395796ce",
     "grade": false,
     "grade_id": "cell-8bab6b3aa9cd95ca",
     "locked": true,
     "schema_version": 3,
     "solution": false,
     "task": false
    }
   },
   "source": [
    "# Sets\n",
    "A set is an unordered collection of distinct elements. The details can be found [here](https://docs.python.org/3.5/library/stdtypes.html#set). As a simple example, consider the following:"
   ]
  },
  {
   "cell_type": "code",
   "execution_count": 28,
   "metadata": {},
   "outputs": [
    {
     "name": "stdout",
     "output_type": "stream",
     "text": [
      "True\n",
      "False\n",
      "True\n",
      "3\n",
      "3\n",
      "2\n"
     ]
    }
   ],
   "source": [
    "animals = {'cat', 'dog'}\n",
    "print('cat' in animals)   # Check if an element is in a set; prints \"True\"\n",
    "print('fish' in animals)  # prints \"False\"\n",
    "animals.add('fish')       # Add an element to a set\n",
    "print('fish' in animals)  # Prints \"True\"\n",
    "print(len(animals))       # Number of elements in a set; prints \"3\"\n",
    "animals.add('cat')        # Adding an element that is already in the set does nothing\n",
    "print(len(animals))       # Prints \"3\"\n",
    "animals.remove('cat')     # Remove an element from a set\n",
    "print(len(animals))       # Prints \"2\""
   ]
  },
  {
   "cell_type": "markdown",
   "metadata": {
    "deletable": false,
    "editable": false,
    "nbgrader": {
     "cell_type": "markdown",
     "checksum": "1a85a60b1c9f76c41271398b6bd29098",
     "grade": false,
     "grade_id": "cell-10241b4f9a00be8d",
     "locked": true,
     "schema_version": 3,
     "solution": false,
     "task": false
    }
   },
   "source": [
    "### Loops:\n",
    "Iterating over a set has the same syntax as iterating over a list; however since sets are unordered, you cannot make assumptions about the order in which you visit the elements of the set:"
   ]
  },
  {
   "cell_type": "code",
   "execution_count": 29,
   "metadata": {},
   "outputs": [
    {
     "name": "stdout",
     "output_type": "stream",
     "text": [
      "#1: dog\n",
      "#2: fish\n",
      "#3: cat\n"
     ]
    }
   ],
   "source": [
    "animals = {'cat', 'dog', 'fish'}\n",
    "for idx, animal in enumerate(animals):\n",
    "    print('#%d: %s' % (idx + 1, animal))\n",
    "# Prints \"#1: fish\", \"#2: dog\", \"#3: cat\""
   ]
  },
  {
   "cell_type": "markdown",
   "metadata": {
    "deletable": false,
    "editable": false,
    "nbgrader": {
     "cell_type": "markdown",
     "checksum": "1cb06a633a4d47902f489e82a225e67a",
     "grade": false,
     "grade_id": "cell-28822c47c6cdb154",
     "locked": true,
     "schema_version": 3,
     "solution": false,
     "task": false
    }
   },
   "source": [
    "### Set comprehensions:\n",
    "Like lists and dictionaries, we can easily construct sets using set comprehensions:"
   ]
  },
  {
   "cell_type": "code",
   "execution_count": 30,
   "metadata": {},
   "outputs": [
    {
     "name": "stdout",
     "output_type": "stream",
     "text": [
      "{0, 1, 2, 3, 4, 5}\n"
     ]
    }
   ],
   "source": [
    "from math import sqrt\n",
    "nums = {int(sqrt(x)) for x in range(30)}\n",
    "print(nums)  # Prints \"{0, 1, 2, 3, 4, 5}\""
   ]
  },
  {
   "cell_type": "markdown",
   "metadata": {
    "deletable": false,
    "editable": false,
    "nbgrader": {
     "cell_type": "markdown",
     "checksum": "a48142c6e21da3affe1be85e501f750c",
     "grade": false,
     "grade_id": "cell-48851e4a92797f87",
     "locked": true,
     "schema_version": 3,
     "solution": false,
     "task": false
    }
   },
   "source": [
    "# Tuples\n",
    "A tuple is an (immutable) ordered list of values. A tuple is in many ways similar to a list; one of the most important differences is that tuples can be used as keys in dictionaries and as elements of sets, while lists cannot. For more information see the [documentation](https://docs.python.org/3.5/tutorial/datastructures.html#tuples-and-sequences). Here is a trivial example:"
   ]
  },
  {
   "cell_type": "code",
   "execution_count": 31,
   "metadata": {},
   "outputs": [
    {
     "name": "stdout",
     "output_type": "stream",
     "text": [
      "<class 'tuple'>\n",
      "5\n",
      "1\n"
     ]
    }
   ],
   "source": [
    "d = {(x, x + 1): x for x in range(10)} # Create a dictionary with tuple keys\n",
    "t = (5, 6)        # Create a tuple\n",
    "print(type(t))    # Prints \"<class 'tuple'>\"\n",
    "print(d[t])       # Prints \"5\"\n",
    "print(d[(1, 2)])  # Prints \"1\""
   ]
  },
  {
   "cell_type": "markdown",
   "metadata": {
    "deletable": false,
    "editable": false,
    "nbgrader": {
     "cell_type": "markdown",
     "checksum": "65ef5e849e447fde41d80febf9a63ada",
     "grade": false,
     "grade_id": "cell-f8074d383d2a3587",
     "locked": true,
     "schema_version": 3,
     "solution": false,
     "task": false
    }
   },
   "source": [
    "# Functions\n",
    "Python functions are defined using the <code>def</code> keyword. For example:\n",
    "\n",
    "    def sign(x):\n",
    "        if x > 0:\n",
    "            return 'positive'\n",
    "        elif x < 0:\n",
    "            return 'negative'\n",
    "        else:\n",
    "            return 'zero'\n",
    " \n",
    "Iterate over a list with elements starting from -1 to 1, and print the output of this function while passing the current loop value to it. Do not forget to write this function first in your code."
   ]
  },
  {
   "cell_type": "code",
   "execution_count": 32,
   "metadata": {
    "deletable": false,
    "nbgrader": {
     "cell_type": "code",
     "checksum": "cd1b9e3ea57e03751cbdcfa5d6f57476",
     "grade": true,
     "grade_id": "cell-7b160761c3d5b08b",
     "locked": false,
     "points": 1,
     "schema_version": 3,
     "solution": true,
     "task": false
    }
   },
   "outputs": [
    {
     "name": "stdout",
     "output_type": "stream",
     "text": [
      "[-1, 0, 1]\n",
      "negative\n",
      "zero\n",
      "positive\n"
     ]
    }
   ],
   "source": [
    "# YOUR CODE HERE\n",
    "def sign(x):\n",
    "    if x > 0:\n",
    "        return 'positive'\n",
    "    elif x < 0:\n",
    "        return 'negative'\n",
    "    else:\n",
    "        return 'zero'\n",
    "    \n",
    "\n",
    "lists = list(range(-1,2))\n",
    "print(lists)\n",
    "for i in lists:\n",
    "    #print(i)\n",
    "    print(sign(i))\n",
    "#raise NotImplementedError()"
   ]
  },
  {
   "cell_type": "markdown",
   "metadata": {
    "deletable": false,
    "editable": false,
    "nbgrader": {
     "cell_type": "markdown",
     "checksum": "fa93a8cc91b989bbf8add196a1320079",
     "grade": false,
     "grade_id": "cell-230a3cd1657b9c95",
     "locked": true,
     "schema_version": 3,
     "solution": false,
     "task": false
    }
   },
   "source": [
    "We will often define functions to take optional keyword arguments, like this:"
   ]
  },
  {
   "cell_type": "code",
   "execution_count": 33,
   "metadata": {},
   "outputs": [
    {
     "name": "stdout",
     "output_type": "stream",
     "text": [
      "Hello, Bob\n",
      "HELLO, FRED!\n"
     ]
    }
   ],
   "source": [
    "def hello(name, loud=False):\n",
    "    if loud:\n",
    "        print('HELLO, %s!' % name.upper())\n",
    "    else:\n",
    "        print('Hello, %s' % name)\n",
    "\n",
    "hello('Bob') # Prints \"Hello, Bob\"\n",
    "hello('Fred', loud=True)  # Prints \"HELLO, FRED!\""
   ]
  },
  {
   "cell_type": "markdown",
   "metadata": {
    "deletable": false,
    "editable": false,
    "nbgrader": {
     "cell_type": "markdown",
     "checksum": "5c15efcc530f03f4164e244092c41db2",
     "grade": false,
     "grade_id": "cell-f8f76b0ef8a347dd",
     "locked": true,
     "schema_version": 3,
     "solution": false,
     "task": false
    }
   },
   "source": [
    "For more information, see the [documentaion](https://docs.python.org/3.5/tutorial/controlflow.html#defining-functions)."
   ]
  },
  {
   "cell_type": "markdown",
   "metadata": {},
   "source": [
    "Create a function named <strong>squared_sum</strong> and implement the equation in the following:\n",
    "$$out = \\sum i^{2}$$\n",
    "This [hint](https://docs.python.org/3/library/functions.html#sum) can help you calculate the sum of an input <strong>list</strong> without using loops. Don't forget to use <em>List Comprehensions</em> which are already presented in this notebook."
   ]
  },
  {
   "cell_type": "code",
   "execution_count": 34,
   "metadata": {
    "deletable": false,
    "nbgrader": {
     "cell_type": "code",
     "checksum": "d8621ad9176296b9b457e830740b7611",
     "grade": true,
     "grade_id": "cell-0062ee1763362c54",
     "locked": false,
     "points": 1,
     "schema_version": 3,
     "solution": true,
     "task": false
    }
   },
   "outputs": [
    {
     "name": "stdout",
     "output_type": "stream",
     "text": [
      "The input list is [0, 1, 2, 3, 4, 5, 6, 7, 8, 9]\n"
     ]
    }
   ],
   "source": [
    "# YOUR CODE HERE\n",
    "def squared_sum(x):\n",
    "    sum = 0\n",
    "    for i in x:\n",
    "        sum = sum + (i*i)\n",
    "    \n",
    "    return sum\n",
    "\n",
    "\n",
    "\n",
    "lists = list(range(10))\n",
    "print(\"The input list is\", lists)\n",
    "#raise NotImplementedError()"
   ]
  },
  {
   "cell_type": "code",
   "execution_count": 35,
   "metadata": {},
   "outputs": [
    {
     "name": "stdout",
     "output_type": "stream",
     "text": [
      "55\n"
     ]
    }
   ],
   "source": [
    "sample_list = [1, 2, 3, 4, 5]\n",
    "print(squared_sum(sample_list))"
   ]
  },
  {
   "cell_type": "code",
   "execution_count": 36,
   "metadata": {
    "deletable": false,
    "editable": false,
    "nbgrader": {
     "cell_type": "code",
     "checksum": "64eeb2a35d148aa69f53949bdb5389bd",
     "grade": true,
     "grade_id": "cell-c60f43ea086135f0",
     "locked": true,
     "points": 1,
     "schema_version": 3,
     "solution": false,
     "task": false
    }
   },
   "outputs": [],
   "source": [
    "assert squared_sum([-1]) == 1"
   ]
  },
  {
   "cell_type": "markdown",
   "metadata": {
    "deletable": false,
    "editable": false,
    "nbgrader": {
     "cell_type": "markdown",
     "checksum": "cb12d057a6b063eb4799391a873c9c12",
     "grade": false,
     "grade_id": "cell-8835fd72034050ec",
     "locked": true,
     "schema_version": 3,
     "solution": false,
     "task": false
    }
   },
   "source": [
    "# Classes\n",
    "The syntax for defining classes in Python is straightforward:"
   ]
  },
  {
   "cell_type": "code",
   "execution_count": 37,
   "metadata": {},
   "outputs": [
    {
     "name": "stdout",
     "output_type": "stream",
     "text": [
      "Hello, Fred\n",
      "HELLO, FRED!\n"
     ]
    }
   ],
   "source": [
    "class Greeter(object):\n",
    "\n",
    "    # Constructor\n",
    "    def __init__(self, name):\n",
    "        self.name = name  # Create an instance variable\n",
    "\n",
    "    # Instance method\n",
    "    def greet(self, loud=False):\n",
    "        if loud:\n",
    "            print('HELLO, %s!' % self.name.upper())\n",
    "        else:\n",
    "            print('Hello, %s' % self.name)\n",
    "\n",
    "g = Greeter('Fred')  # Construct an instance of the Greeter class\n",
    "g.greet()            # Call an instance method; prints \"Hello, Fred\"\n",
    "g.greet(loud=True)   # Call an instance method; prints \"HELLO, FRED!\""
   ]
  },
  {
   "cell_type": "markdown",
   "metadata": {
    "deletable": false,
    "editable": false,
    "nbgrader": {
     "cell_type": "markdown",
     "checksum": "db557ad9718d570a55d1c982318e617a",
     "grade": false,
     "grade_id": "cell-a4f8a6af19f34f17",
     "locked": true,
     "schema_version": 3,
     "solution": false,
     "task": false
    }
   },
   "source": [
    "There is a lot more about Python classes in the [documentation](https://docs.python.org/3.5/tutorial/classes.html)."
   ]
  },
  {
   "cell_type": "markdown",
   "metadata": {
    "deletable": false,
    "editable": false,
    "nbgrader": {
     "cell_type": "markdown",
     "checksum": "0414ba245c122171120ee86d79d47955",
     "grade": false,
     "grade_id": "cell-f6b10aa3784888e0",
     "locked": true,
     "schema_version": 3,
     "solution": false,
     "task": false
    }
   },
   "source": [
    "# Numpy\n",
    "Numpy is the core library for scientific computing in Python. It provides a high-performance multidimensional array object, and tools for working with these arrays. If you are already familiar with MATLAB, you might find this tutorial useful to get started with Numpy.\n",
    "\n",
    "## Arrays\n",
    "A numpy array is a grid of values, all of the same type, and is indexed by a tuple of nonnegative integers. The number of dimensions is the rank of the array; the shape of an array is a tuple of integers giving the size of the array along each dimension.\n",
    "\n",
    "We can initialize numpy arrays from nested Python lists, and access elements using square brackets:\n",
    "\n",
    "    a = np.array([1, 2, 3])            # Create a rank 1 array\n",
    "    b = np.array([[1,2,3],[4,5,6]])    # Create a rank 2 array\n",
    "    \n",
    "    print(type(a))                     # Prints \"<class 'numpy.ndarray'>\"\n",
    "    print(a.shape)                     # Prints \"(3,)\"\n",
    "    print(a[0], a[1], a[2])            # Prints \"1 2 3\"\n",
    "    a[0] = 5                           # Change an element of the array\n",
    "    print(a)                           # Prints \"[5, 2, 3]\"\n",
    "    \n",
    "    print(b.shape)                     # Prints \"(2, 3)\"\n",
    "    print(b[0, 0], b[0, 1], b[1, 0])   # Prints \"1 2 4\"\n",
    "    \n",
    "Practice these concepts below."
   ]
  },
  {
   "cell_type": "code",
   "execution_count": 38,
   "metadata": {
    "deletable": false,
    "nbgrader": {
     "cell_type": "code",
     "checksum": "351a31f80876eede889a7d724ce2203c",
     "grade": true,
     "grade_id": "cell-d57783c2a907ce51",
     "locked": false,
     "points": 1,
     "schema_version": 3,
     "solution": true,
     "task": false
    }
   },
   "outputs": [
    {
     "name": "stdout",
     "output_type": "stream",
     "text": [
      "<class 'numpy.ndarray'>\n",
      "(3,)\n",
      "1 2 3\n",
      "[5 2 3]\n",
      "(2, 3)\n",
      "1 2 4\n"
     ]
    }
   ],
   "source": [
    "import numpy as np\n",
    "\n",
    "# YOUR CODE HERE\n",
    "a = np.array([1, 2, 3])            # Create a rank 1 array\n",
    "b = np.array([[1,2,3],[4,5,6]])    # Create a rank 2 array\n",
    "\n",
    "print(type(a))                     # Prints \"<class 'numpy.ndarray'>\"\n",
    "print(a.shape)                     # Prints \"(3,)\"\n",
    "print(a[0], a[1], a[2])            # Prints \"1 2 3\"\n",
    "a[0] = 5                           # Change an element of the array\n",
    "print(a)                           # Prints \"[5, 2, 3]\"\n",
    "\n",
    "print(b.shape)                     # Prints \"(2, 3)\"\n",
    "print(b[0, 0], b[0, 1], b[1, 0])   # Prints \"1 2 4\"\n",
    "#raise NotImplementedError()"
   ]
  },
  {
   "cell_type": "markdown",
   "metadata": {
    "deletable": false,
    "editable": false,
    "nbgrader": {
     "cell_type": "markdown",
     "checksum": "0fd328f3421c93c21c4a0154821e36f0",
     "grade": false,
     "grade_id": "cell-669f60dfc6ff54e4",
     "locked": true,
     "schema_version": 3,
     "solution": false,
     "task": false
    }
   },
   "source": [
    "Numpy also provides many functions to create arrays:\n",
    "\n",
    "    a = np.zeros((2,2))          # Create an array of all zeros\n",
    "    print(a)                     # Prints \"[[ 0.  0.]\n",
    "                                 #          [ 0.  0.]]\"\n",
    "\n",
    "    b = np.ones((1,2))           # Create an array of all ones\n",
    "    print(b)                     # Prints \"[[ 1.  1.]]\"\n",
    "    \n",
    "    c = np.full((2,2), 7)        # Create a constant array\n",
    "    print(c)                     # Prints \"[[ 7.  7.]\n",
    "                                 #          [ 7.  7.]]\"\n",
    "\n",
    "    d = np.eye(2)                # Create a 2x2 identity matrix\n",
    "    print(d)                     # Prints \"[[ 1.  0.]\n",
    "                                 #          [ 0.  1.]]\"\n",
    "\n",
    "    e = np.random.random((2,2))  # Create an array filled with random values\n",
    "    print(e)                     # Might print \"[[ 0.91940167  0.08143941]\n",
    "                                 #               [ 0.68744134  0.87236687]]\"\n",
    "                                 \n",
    "Use these functions below to create numpy arrays of different shapes."
   ]
  },
  {
   "cell_type": "code",
   "execution_count": 39,
   "metadata": {
    "deletable": false,
    "nbgrader": {
     "cell_type": "code",
     "checksum": "0c9bddff1f61f8b3489345ad6bbdf0e9",
     "grade": true,
     "grade_id": "cell-e2367e80c78b68a9",
     "locked": false,
     "points": 0.5,
     "schema_version": 3,
     "solution": true,
     "task": false
    }
   },
   "outputs": [
    {
     "name": "stdout",
     "output_type": "stream",
     "text": [
      "[[0. 0.]\n",
      " [0. 0.]]\n",
      "[[1. 1.]]\n",
      "[[7 7]\n",
      " [7 7]]\n",
      "[[1. 0.]\n",
      " [0. 1.]]\n",
      "[[0.53912684 0.55761829]\n",
      " [0.98046626 0.88008993]]\n"
     ]
    }
   ],
   "source": [
    "# YOUR CODE HERE\n",
    "a = np.zeros((2,2))          # Create an array of all zeros\n",
    "print(a)                     # Prints \"[[ 0.  0.]\n",
    "                             #          [ 0.  0.]]\"\n",
    "\n",
    "b = np.ones((1,2))           # Create an array of all ones\n",
    "print(b)                     # Prints \"[[ 1.  1.]]\"\n",
    "\n",
    "c = np.full((2,2), 7)        # Create a constant array\n",
    "print(c)                     # Prints \"[[ 7.  7.]\n",
    "                             #          [ 7.  7.]]\"\n",
    "\n",
    "d = np.eye(2)                # Create a 2x2 identity matrix\n",
    "print(d)                     # Prints \"[[ 1.  0.]\n",
    "                             #          [ 0.  1.]]\"\n",
    "\n",
    "e = np.random.random((2,2))  # Create an array filled with random values\n",
    "print(e)                     # Might print \"[[ 0.91940167  0.08143941]\n",
    "                             #               [ 0.68744134  0.87236687]]\"\n",
    "#raise NotImplementedError()"
   ]
  },
  {
   "cell_type": "markdown",
   "metadata": {
    "deletable": false,
    "editable": false,
    "nbgrader": {
     "cell_type": "markdown",
     "checksum": "877e9b232d676b77a95d2cf2d7c1dce1",
     "grade": false,
     "grade_id": "cell-93a66384e5041f3c",
     "locked": true,
     "schema_version": 3,
     "solution": false,
     "task": false
    }
   },
   "source": [
    "You can read about other methods of array creation in the [documentation](http://docs.scipy.org/doc/numpy/user/basics.creation.html#arrays-creation)."
   ]
  },
  {
   "cell_type": "markdown",
   "metadata": {
    "deletable": false,
    "editable": false,
    "nbgrader": {
     "cell_type": "markdown",
     "checksum": "ded2ce584d10482a2e437106e0ef1444",
     "grade": false,
     "grade_id": "cell-1112399ec6d1342e",
     "locked": true,
     "schema_version": 3,
     "solution": false,
     "task": false
    }
   },
   "source": [
    "## Array indexing\n",
    "Numpy offers several ways to index into arrays.\n",
    "\n",
    "### Slicing\n",
    "Similar to Python lists, numpy arrays can be sliced. Since arrays may be multidimensional, you must specify a slice for each dimension of the array.\n",
    "\n",
    "Create the following rank 2 array with shape (3, 4)\n",
    "   \n",
    "    [[ 1  2  3  4]\n",
    "     [ 5  6  7  8]\n",
    "     [ 9 10 11 12]]\n",
    "\n",
    "Use slicing to pull out the subarray consisting of the first 2 rows and columns 1 and 2; b is the following array of shape (2, 2):\n",
    "    \n",
    "    [[2 3]\n",
    "     [6 7]]\n",
    "     \n",
    "A slice of an array is a view into the same data, so modifying it will modify the original array. Check this by typing the following commands.\n",
    "\n",
    "    print(a[0, 1])   # Prints \"2\"\n",
    "    b[0, 0] = 77     # b[0, 0] is the same piece of data as a[0, 1]\n",
    "    print(a[0, 1])   # Prints \"77\" "
   ]
  },
  {
   "cell_type": "code",
   "execution_count": 40,
   "metadata": {
    "deletable": false,
    "nbgrader": {
     "cell_type": "code",
     "checksum": "89cc1dca74f086fd15c2dc8f0aec0ae0",
     "grade": true,
     "grade_id": "cell-7a1f6ec23919e8be",
     "locked": false,
     "points": 0.5,
     "schema_version": 3,
     "solution": true,
     "task": false
    }
   },
   "outputs": [
    {
     "name": "stdout",
     "output_type": "stream",
     "text": [
      "[[ 1  2  3  4]\n",
      " [ 5  6  7  8]\n",
      " [ 9 10 11 12]]\n",
      "[[2 3]\n",
      " [6 7]]\n",
      "2\n",
      "77\n"
     ]
    }
   ],
   "source": [
    "# YOUR CODE HERE\n",
    "a = np.array([[1,2,3,4],[5,6,7,8],[9,10,11,12]])\n",
    "print(a)\n",
    "b = a[0:2,1:3]\n",
    "print(b)\n",
    "print(a[0, 1])   # Prints \"2\"\n",
    "b[0, 0] = 77     # b[0, 0] is the same piece of data as a[0, 1]\n",
    "print(a[0, 1])   # Prints \"77\" \n",
    "#raise NotImplementedError()"
   ]
  },
  {
   "cell_type": "markdown",
   "metadata": {
    "deletable": false,
    "editable": false,
    "nbgrader": {
     "cell_type": "markdown",
     "checksum": "ede0422402e836a72de546ec630eba4b",
     "grade": false,
     "grade_id": "cell-8b5118ef9e486234",
     "locked": true,
     "schema_version": 3,
     "solution": false,
     "task": false
    }
   },
   "source": [
    "You can also mix integer indexing with slice indexing. However, doing so will yield an array of lower rank than the original array.\n",
    "\n",
    "Create the following Rank 2 numpy array (say <strong>a</strong>) with shape (3, 4) \n",
    " \n",
    "         [[ 1  2  3  4]\n",
    "     a =  [ 5  6  7  8]\n",
    "          [ 9 10 11 12]]\n",
    "          \n",
    "Two ways of accessing the data in the middle row of the array.<br/>\n",
    "1. Mixing integer indexing with slices yields an array of lower rank e.g.:\n",
    "        \n",
    "         a[1, :]     # Rank 1 view of the second row of a\n",
    "        \n",
    "2. while using only slices yields an array of the same rank as the original array e.g.:\n",
    "\n",
    "         a[1:2, :]  # Rank 2 view of the second row of a\n",
    "         \n",
    "Implement this in the cell below and print the ranks (use <code>a.shape</code>) command) of the resulting array. Also repeat the same operation for columns of <strong>a</strong>."
   ]
  },
  {
   "cell_type": "code",
   "execution_count": 41,
   "metadata": {
    "deletable": false,
    "nbgrader": {
     "cell_type": "code",
     "checksum": "fa7b276bb69f6dfd22f22d891e98accc",
     "grade": true,
     "grade_id": "cell-c69ae5eaf2f7342b",
     "locked": false,
     "points": 0.5,
     "schema_version": 3,
     "solution": true,
     "task": false
    }
   },
   "outputs": [
    {
     "name": "stdout",
     "output_type": "stream",
     "text": [
      "(4,)\n",
      "(1, 4)\n"
     ]
    }
   ],
   "source": [
    "# YOUR CODE HERE\n",
    "a = np.array([[1,2,3,4],[5,6,7,8],[9,10,11,12]])\n",
    "b = a[1, :]\n",
    "c = a[1:2, :]\n",
    "print(b.shape)\n",
    "print(c.shape)\n",
    "#raise NotImplementedError()"
   ]
  },
  {
   "cell_type": "markdown",
   "metadata": {
    "deletable": false,
    "editable": false,
    "nbgrader": {
     "cell_type": "markdown",
     "checksum": "8d9b02c87e331dceac03d2a5d9b2181b",
     "grade": false,
     "grade_id": "cell-fa97a250cca2b598",
     "locked": true,
     "schema_version": 3,
     "solution": false,
     "task": false
    }
   },
   "source": [
    "Integer array indexing: When you index into numpy arrays using slicing, the resulting array view will always be a subarray of the original array. In contrast, integer array indexing allows you to construct arbitrary arrays using the data from another array. Here is an example:"
   ]
  },
  {
   "cell_type": "code",
   "execution_count": 42,
   "metadata": {},
   "outputs": [
    {
     "name": "stdout",
     "output_type": "stream",
     "text": [
      "[[1 2]\n",
      " [3 4]\n",
      " [5 6]]\n",
      "[1 4 5]\n",
      "[1 4 5]\n",
      "[2 2]\n",
      "[2 2]\n"
     ]
    }
   ],
   "source": [
    "import numpy as np\n",
    "\n",
    "a = np.array([[1,2], [3, 4], [5, 6]])\n",
    "\n",
    "print(a)\n",
    "\n",
    "# An example of integer array indexing.\n",
    "# The returned array will have shape (3,) and\n",
    "print(a[[0, 1, 2], [0, 1, 0]])  # Prints \"[1 4 5]\"\n",
    "\n",
    "# The above example of integer array indexing is equivalent to this:\n",
    "print(np.array([a[0, 0], a[1, 1], a[2, 0]]))  # Prints \"[1 4 5]\"\n",
    "\n",
    "# When using integer array indexing, you can reuse the same\n",
    "# element from the source array:\n",
    "print(a[[0, 0], [1, 1]])  # Prints \"[2 2]\"\n",
    "\n",
    "# Equivalent to the previous integer array indexing example\n",
    "print(np.array([a[0, 1], a[0, 1]]))  # Prints \"[2 2]\""
   ]
  },
  {
   "cell_type": "markdown",
   "metadata": {},
   "source": [
    "For a numpy array:\n",
    "    \n",
    "    x = [[5, 7, 8],\n",
    "         [4, 2, 54],\n",
    "         [6, 43, 12]]\n",
    "         \n",
    "What would be the output of command <code>print(np.array(x[[0, 1, 1], [1, 0, 2]]))</code>"
   ]
  },
  {
   "cell_type": "code",
   "execution_count": 43,
   "metadata": {
    "deletable": false,
    "nbgrader": {
     "cell_type": "code",
     "checksum": "4adfcd57000511656fe1b8ed6c3b92e2",
     "grade": true,
     "grade_id": "cell-d3fe2b8ce15dd122",
     "locked": false,
     "points": 1,
     "schema_version": 3,
     "solution": true,
     "task": false
    }
   },
   "outputs": [
    {
     "name": "stdout",
     "output_type": "stream",
     "text": [
      "[ 7  4 54]\n"
     ]
    }
   ],
   "source": [
    "# YOUR CODE HERE\n",
    "x = np.array([[5, 7, 8],\n",
    "     [4, 2, 54],\n",
    "     [6, 43, 12]])\n",
    "print(np.array(x[[0, 1, 1], [1, 0, 2]]))\n",
    "#raise NotImplementedError()"
   ]
  },
  {
   "cell_type": "markdown",
   "metadata": {
    "deletable": false,
    "editable": false,
    "nbgrader": {
     "cell_type": "markdown",
     "checksum": "34a192ebe4fb367424fe363d644c59c9",
     "grade": false,
     "grade_id": "cell-11a95e0fe207183d",
     "locked": true,
     "schema_version": 3,
     "solution": false,
     "task": false
    }
   },
   "source": [
    "One useful trick with integer array indexing is selecting or mutating one element from each row of a matrix:\n",
    "\n",
    "Create a new array from which we will select elements\n",
    "    \n",
    "    a = np.array([[1,2,3], [4,5,6], [7,8,9], [10, 11, 12]])\n",
    "\n",
    "    print(a)  # prints \"array([[ 1,  2,  3],\n",
    "              #                [ 4,  5,  6],\n",
    "              #                [ 7,  8,  9],\n",
    "              #                [10, 11, 12]])\"\n",
    "    \n",
    "Create an array of indices\n",
    "\n",
    "    b = np.array([0, 2, 0, 1])\n",
    "\n",
    "Select one element from each row of a using the indices in b\n",
    "\n",
    "    print(a[np.arange(4), b])  # Prints \"[ 1  6  7 11]\"\n",
    "\n",
    "Mutate one element from each row of a using the indices in b\n",
    "\n",
    "    a[np.arange(4), b] += 10\n",
    "\n",
    "    print(a)  # prints \"array([[11,  2,  3],\n",
    "              #                [ 4,  5, 16],\n",
    "              #                [17,  8,  9],\n",
    "              #                [10, 21, 12]])\n",
    "              \n",
    "Practice this concept in the cell below:"
   ]
  },
  {
   "cell_type": "code",
   "execution_count": 44,
   "metadata": {
    "deletable": false,
    "nbgrader": {
     "cell_type": "code",
     "checksum": "19638f3c75594dd92519ab9538225a77",
     "grade": true,
     "grade_id": "cell-8a122bb7c71b49c5",
     "locked": false,
     "points": 0.5,
     "schema_version": 3,
     "solution": true,
     "task": false
    }
   },
   "outputs": [
    {
     "name": "stdout",
     "output_type": "stream",
     "text": [
      "[[ 1  2  3]\n",
      " [ 4  5  6]\n",
      " [ 7  8  9]\n",
      " [10 11 12]]\n",
      "[ 1  6  7 11]\n",
      "[[11  2  3]\n",
      " [ 4  5 16]\n",
      " [17  8  9]\n",
      " [10 21 12]]\n"
     ]
    }
   ],
   "source": [
    "# YOUR CODE HERE\n",
    "a = np.array([[1,2,3], [4,5,6], [7,8,9], [10, 11, 12]])\n",
    "\n",
    "print(a)  # prints \"array([[ 1,  2,  3],\n",
    "          #                [ 4,  5,  6],\n",
    "          #                [ 7,  8,  9],\n",
    "          #                [10, 11, 12]])\"\n",
    "b = np.array([0, 2, 0, 1])\n",
    "print(a[np.arange(4), b])\n",
    "a[np.arange(4), b] += 10\n",
    "print(a)\n",
    "#raise NotImplementedError()"
   ]
  },
  {
   "cell_type": "markdown",
   "metadata": {
    "deletable": false,
    "editable": false,
    "nbgrader": {
     "cell_type": "markdown",
     "checksum": "2dfad891bcb498517603f2b8a7cc3203",
     "grade": false,
     "grade_id": "cell-4266f2e3a4f31523",
     "locked": true,
     "schema_version": 3,
     "solution": false,
     "task": false
    }
   },
   "source": [
    "### Boolean array indexing:\n",
    "Boolean array indexing lets you pick out arbitrary elements of an array. Frequently this type of indexing is used to select the elements of an array that satisfy some condition. Here is an example:"
   ]
  },
  {
   "cell_type": "code",
   "execution_count": 45,
   "metadata": {},
   "outputs": [
    {
     "name": "stdout",
     "output_type": "stream",
     "text": [
      "[[False False]\n",
      " [ True  True]\n",
      " [ True  True]]\n",
      "[3 4 5 6]\n",
      "[3 4 5 6]\n"
     ]
    }
   ],
   "source": [
    "import numpy as np\n",
    "\n",
    "a = np.array([[1,2], [3, 4], [5, 6]])\n",
    "\n",
    "bool_idx = (a > 2)   # Find the elements of a that are bigger than 2;\n",
    "                     # this returns a numpy array of Booleans of the same\n",
    "                     # shape as a, where each slot of bool_idx tells\n",
    "                     # whether that element of a is > 2.\n",
    "\n",
    "print(bool_idx)      # Prints \"[[False False]\n",
    "                     #          [ True  True]\n",
    "                     #          [ True  True]]\"\n",
    "\n",
    "# We use boolean array indexing to construct a rank 1 array \n",
    "# consisting of the elements of a corresponding to the True values\n",
    "# of bool_idx\n",
    "print(a[bool_idx])  # Prints \"[3 4 5 6]\"\n",
    "\n",
    "# We can do all of the above in a single concise statement:\n",
    "print(a[a > 2])     # Prints \"[3 4 5 6]\""
   ]
  },
  {
   "cell_type": "markdown",
   "metadata": {
    "deletable": false,
    "editable": false,
    "nbgrader": {
     "cell_type": "markdown",
     "checksum": "9121a72ebda730450dcf23d4559bb1b8",
     "grade": false,
     "grade_id": "cell-bcda2a66a0807eb2",
     "locked": true,
     "schema_version": 3,
     "solution": false,
     "task": false
    }
   },
   "source": [
    "For more details, please see the [documentation.](http://docs.scipy.org/doc/numpy/reference/arrays.indexing.html)"
   ]
  },
  {
   "cell_type": "markdown",
   "metadata": {
    "deletable": false,
    "editable": false,
    "nbgrader": {
     "cell_type": "markdown",
     "checksum": "2757aaf2c63b22eb69e8f270d5724468",
     "grade": false,
     "grade_id": "cell-1cf29e8f1f33b636",
     "locked": true,
     "schema_version": 3,
     "solution": false,
     "task": false
    }
   },
   "source": [
    "### Datatypes\n",
    "Every numpy array is a grid of elements of the same type. Numpy provides a large set of numeric datatypes that you can use to construct arrays. Numpy tries to guess a datatype when you create an array, but functions that construct arrays usually also include an optional argument to explicitly specify the datatype. Here is an example:"
   ]
  },
  {
   "cell_type": "code",
   "execution_count": 46,
   "metadata": {},
   "outputs": [
    {
     "name": "stdout",
     "output_type": "stream",
     "text": [
      "int64\n",
      "float64\n",
      "int64\n"
     ]
    }
   ],
   "source": [
    "import numpy as np\n",
    "\n",
    "x = np.array([1, 2])                   # Let numpy choose the datatype\n",
    "print(x.dtype)                         # Prints \"int64\"\n",
    "\n",
    "x = np.array([1.0, 2.0])               # Let numpy choose the datatype\n",
    "print(x.dtype)                         # Prints \"float64\"\n",
    "\n",
    "x = np.array([1, 2], dtype=np.int64)   # Force a particular datatype\n",
    "print(x.dtype)                         # Prints \"int64\""
   ]
  },
  {
   "cell_type": "markdown",
   "metadata": {
    "deletable": false,
    "editable": false,
    "nbgrader": {
     "cell_type": "markdown",
     "checksum": "2c352d7f9a827a1b5f4059189610bf41",
     "grade": false,
     "grade_id": "cell-b7f13ebb035a0b26",
     "locked": true,
     "schema_version": 3,
     "solution": false,
     "task": false
    }
   },
   "source": [
    "For more details, please see the [documentation.](http://docs.scipy.org/doc/numpy/reference/arrays.dtypes.html)"
   ]
  },
  {
   "cell_type": "markdown",
   "metadata": {
    "deletable": false,
    "editable": false,
    "nbgrader": {
     "cell_type": "markdown",
     "checksum": "ed2659e7f2e0a4a0ed6fbc872b70dcda",
     "grade": false,
     "grade_id": "cell-8a4f64b712515580",
     "locked": true,
     "schema_version": 3,
     "solution": false,
     "task": false
    }
   },
   "source": [
    "### Array math\n",
    "Basic mathematical functions operate elementwise on arrays, and are available both as operator overloads and as functions in the numpy module:"
   ]
  },
  {
   "cell_type": "code",
   "execution_count": 47,
   "metadata": {},
   "outputs": [
    {
     "name": "stdout",
     "output_type": "stream",
     "text": [
      "[[ 6.  8.]\n",
      " [10. 12.]]\n",
      "[[ 6.  8.]\n",
      " [10. 12.]]\n",
      "[[-4. -4.]\n",
      " [-4. -4.]]\n",
      "[[-4. -4.]\n",
      " [-4. -4.]]\n",
      "[[ 5. 12.]\n",
      " [21. 32.]]\n",
      "[[ 5. 12.]\n",
      " [21. 32.]]\n",
      "[[0.2        0.33333333]\n",
      " [0.42857143 0.5       ]]\n",
      "[[0.2        0.33333333]\n",
      " [0.42857143 0.5       ]]\n",
      "[[1.         1.41421356]\n",
      " [1.73205081 2.        ]]\n"
     ]
    }
   ],
   "source": [
    "import numpy as np\n",
    "\n",
    "x = np.array([[1,2],[3,4]], dtype=np.float64)\n",
    "y = np.array([[5,6],[7,8]], dtype=np.float64)\n",
    "\n",
    "# Elementwise sum; both produce the array\n",
    "# [[ 6.0  8.0]\n",
    "#  [10.0 12.0]]\n",
    "print(x + y)\n",
    "print(np.add(x, y))\n",
    "\n",
    "# Elementwise difference; both produce the array\n",
    "# [[-4.0 -4.0]\n",
    "#  [-4.0 -4.0]]\n",
    "print(x - y)\n",
    "print(np.subtract(x, y))\n",
    "\n",
    "# Elementwise product; both produce the array\n",
    "# [[ 5.0 12.0]\n",
    "#  [21.0 32.0]]\n",
    "print(x * y)\n",
    "print(np.multiply(x, y))\n",
    "\n",
    "# Elementwise division; both produce the array\n",
    "# [[ 0.2         0.33333333]\n",
    "#  [ 0.42857143  0.5       ]]\n",
    "print(x / y)\n",
    "print(np.divide(x, y))\n",
    "\n",
    "# Elementwise square root; produces the array\n",
    "# [[ 1.          1.41421356]\n",
    "#  [ 1.73205081  2.        ]]\n",
    "print(np.sqrt(x))"
   ]
  },
  {
   "cell_type": "markdown",
   "metadata": {
    "deletable": false,
    "editable": false,
    "nbgrader": {
     "cell_type": "markdown",
     "checksum": "aedd06f7afcd16a5a3c2c93f99c19199",
     "grade": false,
     "grade_id": "cell-b8d4656b60fa6e7c",
     "locked": true,
     "schema_version": 3,
     "solution": false,
     "task": false
    }
   },
   "source": [
    " Write a function named <strong>rmse</strong>, that takes two 1D numpy arrays (of the same length) as input, calculate the <strong>RMSE</strong> between them and return the output. Implement the following equation only using array math functions. For hint, please see [this](https://numpy.org/doc/stable/reference/generated/numpy.power.html). Also note, that the lenth of a np.array can also be obtained using <code>len()</code> command.\n",
    " \n",
    " RMSE = $\\sqrt{\\frac{1}{n}\\sum_{t=1}^{n}(\\hat{y_t} - y_t)^2}$ "
   ]
  },
  {
   "cell_type": "code",
   "execution_count": 214,
   "metadata": {
    "deletable": false,
    "nbgrader": {
     "cell_type": "code",
     "checksum": "87a4ed033d5e3c07df9d431b9a091e27",
     "grade": false,
     "grade_id": "cell-eb32476ad1486115",
     "locked": false,
     "schema_version": 3,
     "solution": true,
     "task": false
    }
   },
   "outputs": [],
   "source": [
    "import math\n",
    "\n",
    "\n",
    "def rmse(y, y_hat):\n",
    "    sums = np.ones(len(y))\n",
    "    for i in range(len(y)):\n",
    "        #print(i)\n",
    "        sums[i] = math.pow((y_hat[i]-y[i]),2)\n",
    "    sums = math.fsum(sums)\n",
    "    rmse = math.sqrt(sums/len(y))\n",
    "    return rmse\n",
    "# YOUR CODE HERE\n",
    "\n",
    "#raise NotImplementedError()"
   ]
  },
  {
   "cell_type": "code",
   "execution_count": 215,
   "metadata": {},
   "outputs": [
    {
     "name": "stdout",
     "output_type": "stream",
     "text": [
      "164.27153841531202\n",
      "<class 'numpy.ndarray'>\n"
     ]
    }
   ],
   "source": [
    "y = np.array([1.4, 2, 5.6, 400, 52, 61], dtype=np.float64)\n",
    "y_hat = np.array([0.9, 1.8, 3.1, 4.2, 5.1, 5.8], dtype=np.float64)\n",
    "\n",
    "print(rmse(y, y_hat))\n",
    "print(type(y))"
   ]
  },
  {
   "cell_type": "code",
   "execution_count": 216,
   "metadata": {
    "deletable": false,
    "editable": false,
    "nbgrader": {
     "cell_type": "code",
     "checksum": "cced31038a117bbda85afbc4a917d0ca",
     "grade": true,
     "grade_id": "cell-2251e5722ee61804",
     "locked": true,
     "points": 1.5,
     "schema_version": 3,
     "solution": false,
     "task": false
    }
   },
   "outputs": [],
   "source": [
    "assert rmse(np.array([1, 2, 3, 4, 5, 6]), np.array([0.9, 1.8, 3.1, 4.2, 5.1, 5.8]))==0.158113883008419"
   ]
  },
  {
   "cell_type": "markdown",
   "metadata": {
    "deletable": false,
    "editable": false,
    "nbgrader": {
     "cell_type": "markdown",
     "checksum": "bbedb13a44be9b2274cef28c435daa60",
     "grade": false,
     "grade_id": "cell-1302309136817333",
     "locked": true,
     "schema_version": 3,
     "solution": false,
     "task": false
    }
   },
   "source": [
    "Note that unlike MATLAB, * is elementwise multiplication, not matrix multiplication. We instead use the dot function to compute inner products of vectors, to multiply a vector by a matrix, and to multiply matrices. dot is available both as a function in the numpy module and as an instance method of array objects:"
   ]
  },
  {
   "cell_type": "code",
   "execution_count": 51,
   "metadata": {},
   "outputs": [
    {
     "name": "stdout",
     "output_type": "stream",
     "text": [
      "219\n",
      "219\n",
      "[29 67]\n",
      "[29 67]\n",
      "[[19 22]\n",
      " [43 50]]\n",
      "[[19 22]\n",
      " [43 50]]\n"
     ]
    }
   ],
   "source": [
    "import numpy as np\n",
    "\n",
    "x = np.array([[1,2],[3,4]])\n",
    "y = np.array([[5,6],[7,8]])\n",
    "\n",
    "v = np.array([9,10])\n",
    "w = np.array([11, 12])\n",
    "\n",
    "# Inner product of vectors; both produce 219\n",
    "print(v.dot(w))\n",
    "print(np.dot(v, w))\n",
    "\n",
    "# Matrix / vector product; both produce the rank 1 array [29 67]\n",
    "print(x.dot(v))\n",
    "print(np.dot(x, v))\n",
    "\n",
    "# Matrix / matrix product; both produce the rank 2 array\n",
    "# [[19 22]\n",
    "#  [43 50]]\n",
    "print(x.dot(y))\n",
    "print(np.dot(x, y))"
   ]
  },
  {
   "cell_type": "markdown",
   "metadata": {
    "deletable": false,
    "editable": false,
    "nbgrader": {
     "cell_type": "markdown",
     "checksum": "6d77b9aef36f72b54a3afa93906372a2",
     "grade": false,
     "grade_id": "cell-34ae80e5b820879d",
     "locked": true,
     "schema_version": 3,
     "solution": false,
     "task": false
    }
   },
   "source": [
    "Numpy provides many useful functions for performing computations on arrays; one of the most useful is sum:"
   ]
  },
  {
   "cell_type": "code",
   "execution_count": 52,
   "metadata": {},
   "outputs": [
    {
     "name": "stdout",
     "output_type": "stream",
     "text": [
      "10\n",
      "[4 6]\n",
      "[3 7]\n"
     ]
    }
   ],
   "source": [
    "import numpy as np\n",
    "\n",
    "x = np.array([[1,2],[3,4]])\n",
    "\n",
    "print(np.sum(x))          # Compute sum of all elements; prints \"10\"\n",
    "print(np.sum(x, axis=0))  # Compute sum of each column; prints \"[4 6]\"\n",
    "print(np.sum(x, axis=1))  # Compute sum of each row; prints \"[3 7]\""
   ]
  },
  {
   "cell_type": "markdown",
   "metadata": {
    "deletable": false,
    "editable": false,
    "nbgrader": {
     "cell_type": "markdown",
     "checksum": "e0abf993791dbda00d0d0df4f7eed5d2",
     "grade": false,
     "grade_id": "cell-e416bcdd29749b2b",
     "locked": true,
     "schema_version": 3,
     "solution": false,
     "task": false
    }
   },
   "source": [
    "You can find the full list of mathematical functions provided by numpy in the [documentation](http://docs.scipy.org/doc/numpy/reference/routines.math.html).\n",
    "\n",
    "Apart from computing mathematical functions using arrays, we frequently need to reshape or otherwise manipulate data in arrays. The simplest example of this type of operation is transposing a matrix; to transpose a matrix, simply use the <strong>T</strong> attribute of an array object:\n",
    "\n",
    "    x = np.array([[1,2], [3,4]])\n",
    "    print(x)                           # Prints \"[[1 2]\n",
    "                                       #          [3 4]]\"\n",
    "                                       \n",
    "    print(x.T)                         # Prints \"[[1 3]\n",
    "                                       #          [2 4]]\"\n",
    "                                       \n",
    "Note that taking the transpose of a rank 1 array does nothing:\n",
    "    \n",
    "    v = np.array([1,2,3])\n",
    "    print(v)                           # Prints \"[1 2 3]\"\n",
    "    print(v.T)                         # Prints \"[1 2 3]\"\n",
    "    \n",
    "Practice in the below."
   ]
  },
  {
   "cell_type": "code",
   "execution_count": 53,
   "metadata": {
    "deletable": false,
    "nbgrader": {
     "cell_type": "code",
     "checksum": "d7f3b8caea167025eaaa01b903ddedf1",
     "grade": true,
     "grade_id": "cell-450259d7819e1fe9",
     "locked": false,
     "points": 0.25,
     "schema_version": 3,
     "solution": true,
     "task": false
    }
   },
   "outputs": [
    {
     "name": "stdout",
     "output_type": "stream",
     "text": [
      "Two dimensional array is \n",
      " [[1 2]\n",
      " [3 4]]\n",
      "Transpose is \n",
      " [[1 3]\n",
      " [2 4]]\n",
      "One dimensional array is \n",
      " [1 2 3]\n",
      "Transpose of 1D \n",
      " [1 2 3]\n"
     ]
    }
   ],
   "source": [
    "# YOUR CODE HERE\n",
    "import numpy as np\n",
    "x = np.array([[1,2], [3,4]])\n",
    "print(\"Two dimensional array is \\n\",x)\n",
    "print(\"Transpose is \\n\",x.T)\n",
    "v = np.array([1,2,3])\n",
    "print(\"One dimensional array is \\n\",v)\n",
    "print(\"Transpose of 1D \\n\",v.T)\n",
    "#raise NotImplementedError()"
   ]
  },
  {
   "cell_type": "markdown",
   "metadata": {
    "deletable": false,
    "editable": false,
    "nbgrader": {
     "cell_type": "markdown",
     "checksum": "96cb96a9abc89fd2eba2b51b0db46bc3",
     "grade": false,
     "grade_id": "cell-50916c18e4de6d10",
     "locked": true,
     "schema_version": 3,
     "solution": false,
     "task": false
    }
   },
   "source": [
    "For more information, please see the [documentation.](http://docs.scipy.org/doc/numpy/reference/routines.array-manipulation.html)"
   ]
  },
  {
   "cell_type": "markdown",
   "metadata": {
    "deletable": false,
    "editable": false,
    "nbgrader": {
     "cell_type": "markdown",
     "checksum": "1348b4838d2f2026a8c50e5b85526f0a",
     "grade": false,
     "grade_id": "cell-14bf2d69f663c001",
     "locked": true,
     "schema_version": 3,
     "solution": false,
     "task": false
    }
   },
   "source": [
    "### Broadcasting\n",
    "Broadcasting is a powerful mechanism that allows numpy to work with arrays of different shapes when performing arithmetic operations. Frequently we have a smaller array and a larger array, and we want to use the smaller array multiple times to perform some operation on the larger array.\n",
    "\n",
    "For example, suppose that we want to add a constant vector to each row of a matrix. We could do it like this:\n",
    "\n",
    "We will add the vector v to each row of the matrix x, storing the result in the matrix y\n",
    "\n",
    "    x = np.array([[1,2,3], [4,5,6], [7,8,9], [10, 11, 12]])\n",
    "    v = np.array([1, 0, 1])\n",
    "    y = np.empty_like(x)                       # Create an empty matrix with the same shape as x\n",
    "    \n",
    "Add the vector v to each row of the matrix x with an explicit loop\n",
    "\n",
    "    for i in range(4):\n",
    "    y[i, :] = x[i, :] + v\n",
    "    \n",
    "Print the ouput.\n",
    "\n",
    "Similary, create add <code>[2, 3, 4, 6]</code> in each column of the matrix and print the output in the cell below."
   ]
  },
  {
   "cell_type": "code",
   "execution_count": 54,
   "metadata": {
    "deletable": false,
    "nbgrader": {
     "cell_type": "code",
     "checksum": "686597b44ae70c7202c1cdbbd03fcfbd",
     "grade": true,
     "grade_id": "cell-697e2eb16cd85894",
     "locked": false,
     "points": 0.5,
     "schema_version": 3,
     "solution": true,
     "task": false
    }
   },
   "outputs": [
    {
     "name": "stdout",
     "output_type": "stream",
     "text": [
      "[[ 3  2  5]\n",
      " [ 6  5  8]\n",
      " [ 9  8 11]\n",
      " [12 11 14]]\n",
      "[[ 4  2  6]\n",
      " [ 7  5  9]\n",
      " [10  8 12]\n",
      " [13 11 15]]\n",
      "[[ 5  2  7]\n",
      " [ 8  5 10]\n",
      " [11  8 13]\n",
      " [14 11 16]]\n",
      "[[ 7  2  9]\n",
      " [10  5 12]\n",
      " [13  8 15]\n",
      " [16 11 18]]\n"
     ]
    }
   ],
   "source": [
    "import numpy as np\n",
    "\n",
    "# We will add the vector v to each row of the matrix x,\n",
    "# storing the result in the matrix y\n",
    "x = np.array([[1,2,3], [4,5,6], [7,8,9], [10, 11, 12]])\n",
    "v1 = np.array([2, 0, 2])\n",
    "v2 = np.array([3, 0, 3])\n",
    "v3 = np.array([4, 0, 4])\n",
    "v4 = np.array([6, 0, 6])\n",
    "y1 = np.empty_like(x) # Create an empty matrix with the same shape as x\n",
    "y2 = np.empty_like(x)\n",
    "y3 = np.empty_like(x)\n",
    "y4 = np.empty_like(x)\n",
    "\n",
    "# Add the vector v to each row of the matrix x with an explicit loop\n",
    "for i in range(4):\n",
    "    y1[i, :] = x[i, :] + v1\n",
    "    y2[i, :] = x[i, :] + v2\n",
    "    y3[i, :] = x[i, :] + v3\n",
    "    y4[i, :] = x[i, :] + v4\n",
    "    \n",
    "# Now y is the following\n",
    "# [[ 2  2  4]\n",
    "#  [ 5  5  7]\n",
    "#  [ 8  8 10]\n",
    "#  [11 11 13]]\n",
    "print(y1)\n",
    "print(y2)\n",
    "print(y3)\n",
    "print(y4)\n",
    "\n",
    "# YOUR CODE HERE\n",
    "#raise NotImplementedError()"
   ]
  },
  {
   "cell_type": "markdown",
   "metadata": {
    "deletable": false,
    "editable": false,
    "nbgrader": {
     "cell_type": "markdown",
     "checksum": "e39f31cd23bccfb2fc7df3731d98e2cc",
     "grade": false,
     "grade_id": "cell-9ad1dfcbe7bf0d35",
     "locked": true,
     "schema_version": 3,
     "solution": false,
     "task": false
    }
   },
   "source": [
    "This works; however when the matrix <strong>x</strong> is very large, computing an explicit loop in Python could be slow. Note that adding the vector <strong>v</strong> to each row of the matrix <strong>x</strong> is equivalent to forming a matrix <strong>vv</strong> by stacking multiple copies of <strong>v</strong> vertically, then performing elementwise summation of <strong>x</strong> and <strong>vv</strong>. We could implement this approach like this:\n",
    "\n",
    "    v = np.array([1, 0, 1])\n",
    "    vv = np.tile(v, (4, 1))   # Stack 4 copies of v on top of each other\n",
    "    print(vv)                 # Prints \"[[1 0 1]\n",
    "                              #          [1 0 1]\n",
    "                              #          [1 0 1]\n",
    "                              #          [1 0 1]]\"\n",
    "                              \n",
    "Repeat the steps and add <code>[3, 4, 5]</code> in matrix <strong>x</strong>"
   ]
  },
  {
   "cell_type": "code",
   "execution_count": 55,
   "metadata": {
    "deletable": false,
    "nbgrader": {
     "cell_type": "code",
     "checksum": "21dc4f1c6dd2bdfe952e79f511985ed9",
     "grade": true,
     "grade_id": "cell-7bcf3f309b768c41",
     "locked": false,
     "points": 0.25,
     "schema_version": 3,
     "solution": true,
     "task": false
    }
   },
   "outputs": [
    {
     "name": "stdout",
     "output_type": "stream",
     "text": [
      "The tiled array is \n",
      " [[3 4 5]\n",
      " [3 4 5]\n",
      " [3 4 5]\n",
      " [3 4 5]]\n",
      "The added array is \n",
      " [[ 4  6  8]\n",
      " [ 7  9 11]\n",
      " [10 12 14]\n",
      " [13 15 17]]\n"
     ]
    }
   ],
   "source": [
    "import numpy as np\n",
    "\n",
    "# We will add the vector v to each row of the matrix x,\n",
    "# storing the result in the matrix y\n",
    "x = np.array([[1,2,3], [4,5,6], [7,8,9], [10, 11, 12]])\n",
    "v = np.array([3, 4, 5])\n",
    "vv = np.tile(v,(4,1))\n",
    "print(\"The tiled array is \\n\",vv)\n",
    "print(\"The added array is \\n\",x + vv)\n",
    "# YOUR CODE HERE\n",
    "#raise NotImplementedError()"
   ]
  },
  {
   "cell_type": "markdown",
   "metadata": {
    "deletable": false,
    "editable": false,
    "nbgrader": {
     "cell_type": "markdown",
     "checksum": "3a0226927a71383e5bb8ce2568e582ef",
     "grade": false,
     "grade_id": "cell-80d7243323906e79",
     "locked": true,
     "schema_version": 3,
     "solution": false,
     "task": false
    }
   },
   "source": [
    "Numpy broadcasting allows us to perform this computation without actually creating multiple copies of v. Consider this version, using broadcasting:"
   ]
  },
  {
   "cell_type": "code",
   "execution_count": 56,
   "metadata": {},
   "outputs": [
    {
     "name": "stdout",
     "output_type": "stream",
     "text": [
      "[[ 4  6  8]\n",
      " [ 7  9 11]\n",
      " [10 12 14]\n",
      " [13 15 17]]\n"
     ]
    }
   ],
   "source": [
    "import numpy as np\n",
    "\n",
    "# We will add the vector v to each row of the matrix x,\n",
    "# storing the result in the matrix y\n",
    "x = np.array([[1,2,3], [4,5,6], [7,8,9], [10, 11, 12]])\n",
    "v = np.array([3,4,5])\n",
    "y = x + v  # Add v to each row of x using broadcasting\n",
    "print(y)  # Prints \"[[ 2  2  4]\n",
    "          #          [ 5  5  7]\n",
    "          #          [ 8  8 10]\n",
    "          #          [11 11 13]]\""
   ]
  },
  {
   "cell_type": "markdown",
   "metadata": {
    "deletable": false,
    "editable": false,
    "nbgrader": {
     "cell_type": "markdown",
     "checksum": "ac22ac4f8ea7947f2ccd31c9d85fe863",
     "grade": false,
     "grade_id": "cell-09663a0387195e55",
     "locked": true,
     "schema_version": 3,
     "solution": false,
     "task": false
    }
   },
   "source": [
    "The line <strong>y = x + v</strong> works even though <strong>x</strong> has shape <strong>(4, 3)</strong> and <strong>v</strong> has shape <strong>(3,)</strong> due to broadcasting; this line works as if <strong>v</strong> actually had shape <strong>(4, 3)</strong>, where each row was a copy of <strong>v</strong>, and the sum was performed elementwise.\n"
   ]
  },
  {
   "cell_type": "markdown",
   "metadata": {
    "deletable": false,
    "editable": false,
    "nbgrader": {
     "cell_type": "markdown",
     "checksum": "746afdd8faa5d85e319bc5ffc5d6cb84",
     "grade": false,
     "grade_id": "cell-cce8fd6082554d4e",
     "locked": true,
     "schema_version": 3,
     "solution": false,
     "task": false
    }
   },
   "source": [
    "Broadcasting two arrays together follows these rules:\n",
    "\n",
    "If the arrays do not have the same rank, prepend the shape of the lower rank array with 1s until both shapes have the same length.\n",
    "The two arrays are said to be compatible in a dimension if they have the same size in the dimension, or if one of the arrays has size 1 in that dimension.\n",
    "The arrays can be broadcast together if they are compatible in all dimensions.\n",
    "After broadcasting, each array behaves as if it had shape equal to the elementwise maximum of shapes of the two input arrays.\n",
    "In any dimension where one array had size 1 and the other array had size greater than 1, the first array behaves as if it were copied along that dimension\n",
    "If this explanation does not make sense, try reading the explanation from the [documentation](http://docs.scipy.org/doc/numpy/user/basics.broadcasting.html) or this [explanation](http://scipy.github.io/old-wiki/pages/EricsBroadcastingDoc).\n",
    "\n",
    "Functions that support broadcasting are known as universal functions. You can find the list of all universal functions in the [documentation](http://docs.scipy.org/doc/numpy/reference/ufuncs.html#available-ufuncs).\n",
    "\n",
    "Here are some applications of broadcasting:\n",
    "\n",
    "<strong>Compute outer product of vectors</strong>\n",
    "\n",
    "    v = np.array([1,2,3])  # v has shape (3,)\n",
    "    w = np.array([4,5])    # w has shape (2,)\n",
    "    \n",
    "To compute an outer product, we first reshape v to be a column vector of shape (3, 1); we can then broadcast it against w to yield an output of shape (3, 2), which is the outer product of v and w:\n",
    "\n",
    "    [[ 4  5]\n",
    "     [ 8 10]\n",
    "     [12 15]]\n",
    "     \n",
    "Write the code to obtain the outer product of v and w below.\n",
    "\n",
    "<strong>Add a vector to each row of a matrix</strong>\n",
    "\n",
    "    x = np.array([[1,2,3], [4,5,6]])\n",
    "    \n",
    "x has shape (2, 3) and v has shape (3,) so they broadcast to (2, 3), giving the following matrix:\n",
    "\n",
    "    [[2 4 6]\n",
    "     [5 7 9]]\n",
    "     \n",
    "Write the code to obtain the sum of x and v below.\n",
    "\n",
    "<strong>Add a vector to each column of a matrix</strong>\n",
    "\n",
    "x has shape (2, 3) and w has shape (2,). If we transpose x then it has shape (3, 2) and can be broadcast against w to yield a result of shape (3, 2); transposing this result yields the final result of shape (2, 3) which is the matrix x with the vector w added to each column. Gives the following matrix:\n",
    "\n",
    "    [[ 5  6  7]\n",
    "     [ 9 10 11]]\n",
    "     \n",
    "Write the code to obtain the above matrix following the procedure mentioned. (Another solution is to reshape w to be a column vector of shape (2, 1); we can then broadcast it directly against x to produce the same output.)\n",
    "\n",
    "<strong>Multiply a matrix by a constant:</strong>\n",
    "x has shape (2, 3). Numpy treats scalars as arrays of shape (); these can be broadcast together to shape (2, 3), producing the following array:\n",
    "\n",
    "    [[ 2  4  6]\n",
    "     [ 8 10 12]]\n",
    "     \n",
    "Write the code to multiply integer 2 with matrix <strong>x</strong>."
   ]
  },
  {
   "cell_type": "code",
   "execution_count": 57,
   "metadata": {
    "deletable": false,
    "nbgrader": {
     "cell_type": "code",
     "checksum": "c2a6f44f491963e8724d3ac87e6c0f7d",
     "grade": true,
     "grade_id": "cell-22f9c684674c76bb",
     "locked": false,
     "points": 1,
     "schema_version": 3,
     "solution": true,
     "task": false
    }
   },
   "outputs": [
    {
     "name": "stdout",
     "output_type": "stream",
     "text": [
      "[[ 4  5]\n",
      " [ 8 10]\n",
      " [12 15]]\n",
      "[[2 4 6]\n",
      " [5 7 9]]\n",
      "[[ 5  6  7]\n",
      " [ 9 10 11]]\n",
      "[[ 2  4  6]\n",
      " [ 8 10 12]]\n"
     ]
    }
   ],
   "source": [
    "import numpy as np\n",
    "\n",
    "# Compute outer product of vectors\n",
    "v = np.array([1,2,3])  # v has shape (3,)\n",
    "w = np.array([4,5])    # w has shape (2,)\n",
    "\n",
    "# YOUR CODE HERE\n",
    "print(np.reshape(v,(3,1))*w)\n",
    "#raise NotImplementedError()\n",
    "\n",
    "# Add a vector to each row of a matrix\n",
    "x = np.array([[1,2,3], [4,5,6]])\n",
    "\n",
    "# YOUR CODE HERE\n",
    "print(x+v)\n",
    "#raise NotImplementedError()\n",
    "\n",
    "# Add a vector to each column of a matrix\n",
    "\n",
    "# YOUR CODE HERE\n",
    "print(x + np.reshape(w,(2,1)))\n",
    "#raise NotImplementedError()\n",
    "\n",
    "# Multiply a matrix by a constant:\n",
    "# YOUR CODE HERE\n",
    "print(x*2)\n",
    "#raise NotImplementedError()"
   ]
  },
  {
   "cell_type": "markdown",
   "metadata": {
    "deletable": false,
    "editable": false,
    "nbgrader": {
     "cell_type": "markdown",
     "checksum": "f8ae4e7ab6f5bb55b030556971357eef",
     "grade": false,
     "grade_id": "cell-bdb8f90c466324cd",
     "locked": true,
     "schema_version": 3,
     "solution": false,
     "task": false
    }
   },
   "source": [
    "Broadcasting typically makes your code more concise and faster, so you should strive to use it where possible."
   ]
  },
  {
   "cell_type": "markdown",
   "metadata": {
    "deletable": false,
    "editable": false,
    "nbgrader": {
     "cell_type": "markdown",
     "checksum": "fad1d91b6649607957e70f2f4fbc5812",
     "grade": false,
     "grade_id": "cell-ca3480026a0a9be8",
     "locked": true,
     "schema_version": 3,
     "solution": false,
     "task": false
    }
   },
   "source": [
    "### Numpy Documentation\n",
    "This brief overview has touched on many of the important things that you need to know about numpy, but is far from complete. Check out the [numpy reference](http://docs.scipy.org/doc/numpy/reference/) to find out much more about numpy."
   ]
  },
  {
   "cell_type": "markdown",
   "metadata": {
    "deletable": false,
    "editable": false,
    "nbgrader": {
     "cell_type": "markdown",
     "checksum": "087cc9aa69f4166f02d81e0da2a74e92",
     "grade": false,
     "grade_id": "cell-84c4eee7a68bdc1a",
     "locked": true,
     "schema_version": 3,
     "solution": false,
     "task": false
    }
   },
   "source": [
    "# SciPy\n",
    "Numpy provides a high-performance multidimensional array and basic tools to compute with and manipulate these arrays. [SciPy](http://docs.scipy.org/doc/scipy/reference/) builds on this, and provides a large number of functions that operate on numpy arrays and are useful for different types of scientific and engineering applications.\n",
    "\n",
    "The best way to get familiar with SciPy is to browse the [documentation](http://docs.scipy.org/doc/scipy/reference/index.html). We will highlight some parts of SciPy that you might find useful for this class.\n",
    "\n",
    "## MATLAB files\n",
    "The functions <strong>scipy.io.loadmat</strong> and <strong>scipy.io.savemat</strong> allow you to read and write MATLAB files. You can read about them in the [documentation](http://docs.scipy.org/doc/scipy/reference/io.html).\n",
    "\n",
    "## Distance between points\n",
    "SciPy defines some useful functions for computing distances between sets of points.\n",
    "\n",
    "The function <code>scipy.spatial.distance.pdist</code> computes the distance between all pairs of points in a given set.\n",
    "\n",
    "Create the following array <strong>x</strong> where each row is a point in 2D space:\n",
    "  \n",
    "    [[0 1]\n",
    "     [1 0]\n",
    "     [2 0]]\n",
    "\n",
    "Compute the Euclidean distance between all rows of x. <code>d[i, j]</code> is the Euclidean distance between <code>x[i, :]</code> and <code>x[j, :]</code>, and <strong>d</strong> is the following array:\n",
    "  \n",
    "    [[ 0.          1.41421356  2.23606798]\n",
    "     [ 1.41421356  0.          1.        ]\n",
    "     [ 2.23606798  1.          0.        ]]"
   ]
  },
  {
   "cell_type": "code",
   "execution_count": 58,
   "metadata": {},
   "outputs": [
    {
     "name": "stdout",
     "output_type": "stream",
     "text": [
      "[[0 1]\n",
      " [1 0]\n",
      " [2 0]]\n",
      "[[0.         1.41421356 2.23606798]\n",
      " [1.41421356 0.         1.        ]\n",
      " [2.23606798 1.         0.        ]]\n"
     ]
    }
   ],
   "source": [
    "import numpy as np\n",
    "from scipy.spatial.distance import pdist, squareform\n",
    "\n",
    "x = np.array([[0, 1], [1, 0], [2, 0]])\n",
    "print(x)\n",
    "\n",
    "d = squareform(pdist(x, 'euclidean'))\n",
    "print(d)"
   ]
  },
  {
   "cell_type": "markdown",
   "metadata": {
    "deletable": false,
    "editable": false,
    "nbgrader": {
     "cell_type": "markdown",
     "checksum": "4917187b6597d09397997aa0d3196203",
     "grade": false,
     "grade_id": "cell-db4cabc29a3b3654",
     "locked": true,
     "schema_version": 3,
     "solution": false,
     "task": false
    }
   },
   "source": [
    "You can read all the details about this function in the [documentation](http://docs.scipy.org/doc/scipy/reference/generated/scipy.spatial.distance.pdist.html).\n",
    "\n",
    "A similar function <strong>(scipy.spatial.distance.cdist)</strong> computes the distance between all pairs across two sets of points; you can read about it in the [documentation](http://docs.scipy.org/doc/scipy/reference/generated/scipy.spatial.distance.cdist.html)."
   ]
  },
  {
   "cell_type": "markdown",
   "metadata": {
    "deletable": false,
    "editable": false,
    "nbgrader": {
     "cell_type": "markdown",
     "checksum": "1d70d48afd152de5edce489fa73009fc",
     "grade": false,
     "grade_id": "cell-329685b85b47e4c7",
     "locked": true,
     "schema_version": 3,
     "solution": false,
     "task": false
    }
   },
   "source": [
    "# Matplotlib\n",
    "\n",
    "[Matplotlib](http://matplotlib.org/) is a plotting library. In this section give a brief introduction to the <strong>matplotlib.pyplot</strong> module, which provides a plotting system similar to that of MATLAB.\n",
    "\n",
    "## Plotting\n",
    "The most important function in matplotlib is plot, which allows you to plot 2D data. Here is a simple example:"
   ]
  },
  {
   "cell_type": "code",
   "execution_count": 59,
   "metadata": {},
   "outputs": [
    {
     "data": {
      "image/png": "[encoded data removed]",
      "text/plain": [
       "<Figure size 432x288 with 1 Axes>"
      ]
     },
     "metadata": {
      "needs_background": "light"
     },
     "output_type": "display_data"
    }
   ],
   "source": [
    "import numpy as np\n",
    "import matplotlib.pyplot as plt\n",
    "\n",
    "# Compute the x and y coordinates for points on a sine curve\n",
    "x = np.arange(0, 3 * np.pi, 0.1)\n",
    "y = np.sin(x)\n",
    "\n",
    "# Plot the points using matplotlib\n",
    "plt.plot(x, y)\n",
    "plt.show()  # You must call plt.show() to make graphics appear."
   ]
  },
  {
   "cell_type": "markdown",
   "metadata": {
    "deletable": false,
    "editable": false,
    "nbgrader": {
     "cell_type": "markdown",
     "checksum": "4570071dc162cfbca227f60cc6c21e0f",
     "grade": false,
     "grade_id": "cell-87d4f7968e59d76d",
     "locked": true,
     "schema_version": 3,
     "solution": false,
     "task": false
    }
   },
   "source": [
    "With just a little bit of extra work we can easily plot multiple lines at once, and add a title, legend, and axis labels:"
   ]
  },
  {
   "cell_type": "code",
   "execution_count": 60,
   "metadata": {},
   "outputs": [
    {
     "data": {
      "image/png": "[encoded data removed]",
      "text/plain": [
       "<Figure size 432x288 with 1 Axes>"
      ]
     },
     "metadata": {
      "needs_background": "light"
     },
     "output_type": "display_data"
    }
   ],
   "source": [
    "import numpy as np\n",
    "import matplotlib.pyplot as plt\n",
    "\n",
    "# Compute the x and y coordinates for points on sine and cosine curves\n",
    "x = np.arange(0, 3 * np.pi, 0.1)\n",
    "y_sin = np.sin(x)\n",
    "y_cos = np.cos(x)\n",
    "\n",
    "# Plot the points using matplotlib\n",
    "plt.plot(x, y_sin)\n",
    "plt.plot(x, y_cos)\n",
    "plt.xlabel('x axis label')\n",
    "plt.ylabel('y axis label')\n",
    "plt.title('Sine and Cosine')\n",
    "plt.legend(['Sine', 'Cosine'])\n",
    "plt.show()"
   ]
  },
  {
   "cell_type": "markdown",
   "metadata": {
    "deletable": false,
    "editable": false,
    "nbgrader": {
     "cell_type": "markdown",
     "checksum": "7de020f5c47d09843afc45be69087c98",
     "grade": false,
     "grade_id": "cell-e8fbcd35df24ecba",
     "locked": true,
     "schema_version": 3,
     "solution": false,
     "task": false
    }
   },
   "source": [
    "You can read much more about the <strong>plot</strong> function in the [documentation](http://matplotlib.org/api/pyplot_api.html#matplotlib.pyplot.plot)."
   ]
  },
  {
   "cell_type": "markdown",
   "metadata": {
    "deletable": false,
    "editable": false,
    "nbgrader": {
     "cell_type": "markdown",
     "checksum": "230da89fbbc8af75cd2586c1c394b8af",
     "grade": false,
     "grade_id": "cell-ed9e3272b78375b0",
     "locked": true,
     "schema_version": 3,
     "solution": false,
     "task": false
    }
   },
   "source": [
    "## Subplots\n",
    "You can plot different things in the same figure using the subplot function. Here is an example:"
   ]
  },
  {
   "cell_type": "code",
   "execution_count": 61,
   "metadata": {},
   "outputs": [
    {
     "data": {
      "image/png": "[encoded data removed]",
      "text/plain": [
       "<Figure size 432x288 with 2 Axes>"
      ]
     },
     "metadata": {
      "needs_background": "light"
     },
     "output_type": "display_data"
    }
   ],
   "source": [
    "import numpy as np\n",
    "import matplotlib.pyplot as plt\n",
    "\n",
    "# Compute the x and y coordinates for points on sine and cosine curves\n",
    "x = np.arange(0, 3 * np.pi, 0.1)\n",
    "y_sin = np.sin(x)\n",
    "y_cos = np.cos(x)\n",
    "\n",
    "# Set up a subplot grid that has height 2 and width 1,\n",
    "# and set the first such subplot as active.\n",
    "plt.subplot(2, 1, 1)\n",
    "\n",
    "# Make the first plot\n",
    "plt.plot(x, y_sin)\n",
    "plt.title('Sine')\n",
    "\n",
    "# Set the second subplot as active, and make the second plot.\n",
    "plt.subplot(2, 1, 2)\n",
    "plt.plot(x, y_cos)\n",
    "plt.title('Cosine')\n",
    "\n",
    "# Show the figure.\n",
    "plt.show()"
   ]
  },
  {
   "cell_type": "markdown",
   "metadata": {
    "deletable": false,
    "editable": false,
    "nbgrader": {
     "cell_type": "markdown",
     "checksum": "8e16ad44e4bb1a8c22d2695d48d7cce9",
     "grade": false,
     "grade_id": "cell-9869d58efd03bf2d",
     "locked": true,
     "schema_version": 3,
     "solution": false,
     "task": false
    }
   },
   "source": [
    "You can read much more about the <strong>subplot</strong> function in the [documentation](http://matplotlib.org/api/pyplot_api.html#matplotlib.pyplot.subplot)."
   ]
  },
  {
   "attachments": {
    "image.png": {
     "image/png": "[encoded data removed]"
    }
   },
   "cell_type": "markdown",
   "metadata": {
    "deletable": false,
    "editable": false,
    "nbgrader": {
     "cell_type": "markdown",
     "checksum": "868591e0818be95ad920db22281409f0",
     "grade": false,
     "grade_id": "cell-22321312c7f53e55",
     "locked": true,
     "schema_version": 3,
     "solution": false,
     "task": false
    }
   },
   "source": [
    "Create a linearly spaced numpy array with 100 values ranging from -5 to +5 and show a subplot of functions $x^2$ and $x^3$ as shown below.\n",
    "\n",
    "To adjust the axis spines of the plot, you can use commands e.g., <code>ax.spines['left'].set_position('center')</code>. If you want to remove any of the axis spine, you may write <code>ax.spines['right'].set_color('none')</code>.\n",
    "\n",
    "![image.png](attachment:image.png)"
   ]
  },
  {
   "cell_type": "code",
   "execution_count": 62,
   "metadata": {
    "deletable": false,
    "nbgrader": {
     "cell_type": "code",
     "checksum": "b84da066b23e64f45558a39d0ae50061",
     "grade": true,
     "grade_id": "cell-b7da1df7e1331e59",
     "locked": false,
     "points": 2,
     "schema_version": 3,
     "solution": true,
     "task": false
    }
   },
   "outputs": [
    {
     "data": {
      "image/png": "[encoded data removed]",
      "text/plain": [
       "<Figure size 432x288 with 2 Axes>"
      ]
     },
     "metadata": {
      "needs_background": "light"
     },
     "output_type": "display_data"
    }
   ],
   "source": [
    "# YOUR CODE HERE\n",
    "import numpy as np\n",
    "import matplotlib.pyplot as plt\n",
    "\n",
    "x = np.linspace(-5,5,100)\n",
    "y1 = x **2\n",
    "y2 = x **3\n",
    "\n",
    "fig = plt.figure()\n",
    "#plotting the first graph\n",
    "ax = fig.add_subplot(1,2,1)\n",
    "ax.set_title('Graph of x^2')\n",
    "ax.plot(x,y1)\n",
    "ax.spines['left'].set_position('center')\n",
    "ax.spines['right'].set_color('none')\n",
    "ax.spines['top'].set_color('none')\n",
    "\n",
    "\n",
    "#plt.subplot(1,2,1)\n",
    "#plt.plot(x,y1)\n",
    "#ax.spines['left'].set_position('center')\n",
    "#plt.show()\n",
    "\n",
    "#plotting the second graph\n",
    "ax = fig.add_subplot(1,2,2)\n",
    "ax.set_title('Graph of x^3')\n",
    "ax.plot(x,y2)\n",
    "ax.spines['left'].set_position('center')\n",
    "ax.spines['right'].set_color('none')\n",
    "ax.spines['top'].set_color('none')\n",
    "\n",
    "#raise NotImplementedError()"
   ]
  },
  {
   "attachments": {
    "two_.png": {
     "image/png": "[encoded data removed]"
    }
   },
   "cell_type": "markdown",
   "metadata": {
    "deletable": false,
    "editable": false,
    "nbgrader": {
     "cell_type": "markdown",
     "checksum": "e470a487b92e12267ef6024b2abbfd96",
     "grade": false,
     "grade_id": "cell-b65346061bc06715",
     "locked": true,
     "schema_version": 3,
     "solution": false,
     "task": false
    }
   },
   "source": [
    "## Images\n",
    "You can use the <strong>imshow</strong> function to show images. Here is an example:\n",
    "\n",
    "    import numpy as np\n",
    "    import matplotlib.pyplot as plt\n",
    "    \n",
    "    img = plt.imread('assets/cat.jpg')\n",
    "    img_tinted = img * [1, 0.95, 0.9]\n",
    "    \n",
    "    # Show the original image\n",
    "    plt.subplot(1, 2, 1)\n",
    "    plt.imshow(img)\n",
    "    \n",
    "    # Show the tinted image\n",
    "    plt.subplot(1, 2, 2)\n",
    "    \n",
    "    # A slight gotcha with imshow is that it might give strange results\n",
    "    # if presented with data that is not uint8. To work around this, we\n",
    "    # explicitly cast the image to uint8 before displaying it.\n",
    "    \n",
    "    plt.imshow(np.uint8(img_tinted))\n",
    "    plt.show()\n",
    "    \n",
    "![two_.png](attachment:two_.png)\n",
    "\n",
    "Try recreating this plot."
   ]
  },
  {
   "cell_type": "code",
   "execution_count": 63,
   "metadata": {
    "deletable": false,
    "nbgrader": {
     "cell_type": "code",
     "checksum": "652011f3ff2d1f3725ca933866766038",
     "grade": true,
     "grade_id": "cell-08c529518839204c",
     "locked": false,
     "points": 1,
     "schema_version": 3,
     "solution": true,
     "task": false
    }
   },
   "outputs": [
    {
     "data": {
      "image/png": "[encoded data removed]",
      "text/plain": [
       "<Figure size 432x288 with 2 Axes>"
      ]
     },
     "metadata": {
      "needs_background": "light"
     },
     "output_type": "display_data"
    }
   ],
   "source": [
    "# YOUR CODE HERE\n",
    "import numpy as np\n",
    "import matplotlib.pyplot as plt\n",
    "\n",
    "img = plt.imread('assets/cat.jpg')\n",
    "img_tinted = img * [1, 0.95, 0.9]\n",
    "\n",
    "# Show the original image\n",
    "plt.subplot(1, 2, 1)\n",
    "plt.imshow(img)\n",
    "\n",
    "# Show the tinted image\n",
    "plt.subplot(1, 2, 2)\n",
    "\n",
    "# A slight gotcha with imshow is that it might give strange results\n",
    "# if presented with data that is not uint8. To work around this, we\n",
    "# explicitly cast the image to uint8 before displaying it.\n",
    "\n",
    "plt.imshow(np.uint8(img_tinted))\n",
    "plt.show()\n",
    "#raise NotImplementedError()"
   ]
  },
  {
   "cell_type": "markdown",
   "metadata": {
    "deletable": false,
    "editable": false,
    "nbgrader": {
     "cell_type": "markdown",
     "checksum": "b13b71dfc0c48de124f2ba5bb396e764",
     "grade": false,
     "grade_id": "cell-cd9e228c946fd744",
     "locked": true,
     "schema_version": 3,
     "solution": false,
     "task": false
    }
   },
   "source": [
    "# Scikit-Image\n",
    "<strong>scikit-image</strong> is a collection of algorithms for image processing for the Python programming language. It includes algorithms for segmentation, geometric transformations, color space manipulation, analysis, filtering, morphology, feature detection, and more. It is designed to interoperate with the Python numerical and scientific libraries NumPy and SciPy. We implement some functions from <strong>scikit-image</strong> in the following:\n",
    "\n",
    "## Image Operations\n",
    "\n",
    "<strong>Rescale</strong> operation resizes an image by a given scaling factor. The scaling factor can either be a single floating point value, or multiple values - one along each axis.\n",
    "\n",
    "<strong>Resize</strong> serves the same purpose, but allows to specify an output image shape instead of a scaling factor.\n",
    "\n",
    "<strong>rgb2gray</strong> operation converts an image with RGB channels into an image with a single grayscale channel."
   ]
  },
  {
   "cell_type": "code",
   "execution_count": 64,
   "metadata": {},
   "outputs": [
    {
     "data": {
      "image/png": "[encoded data removed]",
      "text/plain": [
       "<Figure size 432x288 with 4 Axes>"
      ]
     },
     "metadata": {
      "needs_background": "light"
     },
     "output_type": "display_data"
    }
   ],
   "source": [
    "import matplotlib.pyplot as plt\n",
    "\n",
    "from skimage import data\n",
    "from skimage.color import rgb2gray\n",
    "from skimage.transform import rescale, resize\n",
    "\n",
    "image = plt.imread('assets/cat.jpg')\n",
    "\n",
    "image_rescaled = rescale(image, scale=(0.5, 0.5, 1))\n",
    "\n",
    "grayscale = rgb2gray(image)\n",
    "\n",
    "image_resized = resize(image, (image.shape[0] // 4, image.shape[1] // 4))\n",
    "\n",
    "fig, axes = plt.subplots(nrows=2, ncols=2)\n",
    "\n",
    "ax = axes.ravel()\n",
    "\n",
    "ax[0].imshow(image)\n",
    "ax[0].set_title(\"Original image\")\n",
    "\n",
    "ax[1].imshow(grayscale, cmap=plt.cm.gray)\n",
    "ax[1].set_title(\"grayscale image\")\n",
    "\n",
    "ax[2].imshow(image_rescaled)\n",
    "ax[2].set_title(\"Rescaled image\")\n",
    "\n",
    "ax[3].imshow(image_resized)\n",
    "ax[3].set_title(\"Resized image\")\n",
    "\n",
    "#ax[0].set_xlim(0, 512)\n",
    "#ax[0].set_ylim(512, 0)\n",
    "plt.tight_layout()\n",
    "plt.show()"
   ]
  },
  {
   "cell_type": "markdown",
   "metadata": {
    "deletable": false,
    "editable": false,
    "nbgrader": {
     "cell_type": "markdown",
     "checksum": "0cce5c4130481c6e0ed844a71757a06c",
     "grade": false,
     "grade_id": "cell-234f26745ccd01af",
     "locked": true,
     "schema_version": 3,
     "solution": false,
     "task": false
    }
   },
   "source": [
    "Did you notice any change in the output of rescaled or resized images above? If not, then explain why? And if yes, then explain why all photos appear to be of the same size?"
   ]
  },
  {
   "cell_type": "markdown",
   "metadata": {
    "deletable": false,
    "nbgrader": {
     "cell_type": "markdown",
     "checksum": "c7a96e3adfec06c35156fec0942d42df",
     "grade": true,
     "grade_id": "cell-e40f4c7ae18a48b1",
     "locked": false,
     "points": 1,
     "schema_version": 3,
     "solution": true,
     "task": false
    }
   },
   "source": [
    "YOUR ANSWER HERE\n",
    "Resizing and rescaling woks in the similar fashion , just differs in the input which is required. Rescaling woks with the scaling factor in the input and resizing takes the input of the size of the final image instaed of the scaling factor."
   ]
  },
  {
   "cell_type": "markdown",
   "metadata": {
    "deletable": false,
    "editable": false,
    "nbgrader": {
     "cell_type": "markdown",
     "checksum": "be9fc789d2f542908330a83febdb6352",
     "grade": false,
     "grade_id": "cell-7abfca689f9df5dc",
     "locked": true,
     "schema_version": 3,
     "solution": false,
     "task": false
    }
   },
   "source": [
    "## Simple robot learning example\n",
    "The dataset `robot_data.mat` is from a simple simulation of a two degree of freedom robot that is tracking an ellipse."
   ]
  },
  {
   "cell_type": "markdown",
   "metadata": {
    "deletable": false,
    "editable": false,
    "nbgrader": {
     "cell_type": "markdown",
     "checksum": "457e6c3fb5753b1314171a03d2aee339",
     "grade": false,
     "grade_id": "cell-058ae0e65ef8d244",
     "locked": true,
     "schema_version": 3,
     "solution": false,
     "task": false
    }
   },
   "source": [
    "![RobotAnim](assets/robot_anim.gif \"RobotAnim\")"
   ]
  },
  {
   "cell_type": "markdown",
   "metadata": {
    "deletable": false,
    "editable": false,
    "nbgrader": {
     "cell_type": "markdown",
     "checksum": "55315fbf1f50880a4465512bb2c2b821",
     "grade": false,
     "grade_id": "cell-187e0de05854e6d8",
     "locked": true,
     "schema_version": 3,
     "solution": false,
     "task": false
    }
   },
   "source": [
    "The file contains a number of matrices\n",
    "* `th` joint angles/positions\n",
    "* `th_d` joint veclocities\n",
    "* `th_dd` joint accelerations\n",
    "* `tau` joint torques\n",
    "* `x` Cartesian position of the end-effector\n",
    "* `x_d` Cartesian velocity of the end-effector\n",
    "* `x_dd` Cartesian acceleration of the end-effector\n",
    "\n",
    "We now want to learn a very simple feedforward controller, that is a function that maps from joint positions to joint torques.\n",
    "\n"
   ]
  },
  {
   "cell_type": "markdown",
   "metadata": {
    "deletable": false,
    "editable": false,
    "nbgrader": {
     "cell_type": "markdown",
     "checksum": "e4ef725e920c4c06ef21f762ac578b38",
     "grade": false,
     "grade_id": "cell-f3f9678addc4acc1",
     "locked": true,
     "schema_version": 3,
     "solution": false,
     "task": false
    }
   },
   "source": [
    "Load the dataset using the `scipy` functionality for loading MATLAB files described above. Extract `th` and `tau` to NumPy arrays of the same name."
   ]
  },
  {
   "cell_type": "code",
   "execution_count": 217,
   "metadata": {
    "deletable": false,
    "nbgrader": {
     "cell_type": "code",
     "checksum": "f6856a09806376cb47182507210d5ffe",
     "grade": false,
     "grade_id": "cell-159d270ea071b93f",
     "locked": false,
     "schema_version": 3,
     "solution": true,
     "task": false
    }
   },
   "outputs": [],
   "source": [
    "# YOUR CODE HERE\n",
    "import scipy.io as sio\n",
    "import numpy as np\n",
    "data = sio.loadmat(\"assets/training_data.mat\")\n",
    "th = np.array(data['th'])\n",
    "tau = np.array(data['tau'])\n",
    "#print(data)\n",
    "#data = io.loadmat(\"robot_data.mat\")\n",
    "#raise NotImplementedError()"
   ]
  },
  {
   "cell_type": "code",
   "execution_count": 218,
   "metadata": {
    "deletable": false,
    "editable": false,
    "nbgrader": {
     "cell_type": "code",
     "checksum": "30b7a830ad3d7824842641c57ff9375a",
     "grade": true,
     "grade_id": "cell-fd2a9372d4afe943",
     "locked": true,
     "points": 1,
     "schema_version": 3,
     "solution": false,
     "task": false
    }
   },
   "outputs": [],
   "source": [
    "assert th[0,0]==1.1299591748647653\n",
    "assert tau[0,100]==82.7710545117184"
   ]
  },
  {
   "cell_type": "markdown",
   "metadata": {
    "deletable": false,
    "editable": false,
    "nbgrader": {
     "cell_type": "markdown",
     "checksum": "e415808ece9bc3317a25524b6cfc73d4",
     "grade": false,
     "grade_id": "cell-8a667cac0f607fd3",
     "locked": true,
     "schema_version": 3,
     "solution": false,
     "task": false
    }
   },
   "source": [
    "plot the joint angles of the first degree of freedom (over the samples)"
   ]
  },
  {
   "cell_type": "code",
   "execution_count": 219,
   "metadata": {
    "deletable": false,
    "nbgrader": {
     "cell_type": "code",
     "checksum": "6125618c10ed030ac30689596d5874e3",
     "grade": true,
     "grade_id": "cell-6e49bb28851d1b7f",
     "locked": false,
     "points": 0.25,
     "schema_version": 3,
     "solution": true,
     "task": false
    }
   },
   "outputs": [
    {
     "data": {
      "text/plain": [
       "[<matplotlib.lines.Line2D at 0x7fddece249a0>]"
      ]
     },
     "execution_count": 219,
     "metadata": {},
     "output_type": "execute_result"
    },
    {
     "data": {
      "image/png": "[encoded data removed]",
      "text/plain": [
       "<Figure size 432x288 with 1 Axes>"
      ]
     },
     "metadata": {
      "needs_background": "light"
     },
     "output_type": "display_data"
    }
   ],
   "source": [
    "# YOUR CODE HERE\n",
    "import matplotlib.pyplot as plt\n",
    "import numpy as np\n",
    "\n",
    "fig = plt.figure()\n",
    "ax = fig.add_subplot(1,1,1)\n",
    "ax.set_title('Joint angles of the first degree of freedom')\n",
    "ax.set_xlabel('Samples number')\n",
    "ax.set_ylabel('Joint angle')\n",
    "ax.plot(th[0,:])\n",
    "#print(np.amax(th[1,:]))\n",
    "#raise NotImplementedError()"
   ]
  },
  {
   "cell_type": "markdown",
   "metadata": {
    "deletable": false,
    "editable": false,
    "nbgrader": {
     "cell_type": "markdown",
     "checksum": "c5e4fc505ccdc70e9c666ee1f6784bea",
     "grade": false,
     "grade_id": "cell-6376eb6a59e311fd",
     "locked": true,
     "schema_version": 3,
     "solution": false,
     "task": false
    }
   },
   "source": [
    "and the torques of the first degree of freedom (over the samples)"
   ]
  },
  {
   "cell_type": "code",
   "execution_count": 220,
   "metadata": {
    "deletable": false,
    "nbgrader": {
     "cell_type": "code",
     "checksum": "aeedceb4a20236558177c9fa8f7cfc31",
     "grade": true,
     "grade_id": "cell-6ae4a5000dc8d4ca",
     "locked": false,
     "points": 0.25,
     "schema_version": 3,
     "solution": true,
     "task": false
    }
   },
   "outputs": [
    {
     "name": "stdout",
     "output_type": "stream",
     "text": [
      "200.37985196491476\n"
     ]
    },
    {
     "data": {
      "image/png": "[encoded data removed]",
      "text/plain": [
       "<Figure size 432x288 with 1 Axes>"
      ]
     },
     "metadata": {
      "needs_background": "light"
     },
     "output_type": "display_data"
    }
   ],
   "source": [
    "# YOUR CODE HERE\n",
    "fig = plt.figure()\n",
    "ax = fig.add_subplot(1,1,1)\n",
    "ax.set_title('Torque of the first degree of freedom')\n",
    "ax.set_xlabel('Samples number')\n",
    "ax.set_ylabel('Torque')\n",
    "ax.plot(tau[0,:])\n",
    "print(np.amax(tau[0,:]))\n",
    "#raise NotImplementedError()"
   ]
  },
  {
   "cell_type": "markdown",
   "metadata": {
    "deletable": false,
    "editable": false,
    "nbgrader": {
     "cell_type": "markdown",
     "checksum": "3f56f53a81df6b4ed14f1cbe66103f69",
     "grade": false,
     "grade_id": "cell-fa2439cb49df91bf",
     "locked": true,
     "schema_version": 3,
     "solution": false,
     "task": false
    }
   },
   "source": [
    "Now let's try applying Scikit-Learn blindly (following the example in Chapter 1). \n",
    "\n",
    "First we need to get the training data in the right format:\n",
    "Use the joint angles of the first degree of freedom for the inputs `X` and the torques of the first joint as outputs `y`."
   ]
  },
  {
   "cell_type": "code",
   "execution_count": 221,
   "metadata": {
    "deletable": false,
    "nbgrader": {
     "cell_type": "code",
     "checksum": "f77499760f2ff249295258b2257fe2da",
     "grade": false,
     "grade_id": "cell-f68a86b6a9538e86",
     "locked": false,
     "schema_version": 3,
     "solution": true,
     "task": false
    }
   },
   "outputs": [
    {
     "name": "stdout",
     "output_type": "stream",
     "text": [
      "(334, 1)\n",
      "(334, 1)\n"
     ]
    }
   ],
   "source": [
    "# YOUR CODE HERE\n",
    "X = np.reshape(th[0,:],(len(th[0,:]),1))\n",
    "y = np.reshape(tau[0,:],(len(tau[0,:]),1))\n",
    "print(X.shape)\n",
    "print(y.shape)\n",
    "#raise NotImplementedError()"
   ]
  },
  {
   "cell_type": "code",
   "execution_count": 222,
   "metadata": {
    "deletable": false,
    "editable": false,
    "nbgrader": {
     "cell_type": "code",
     "checksum": "df39d122db9d6748b2a6da97f8337b9d",
     "grade": true,
     "grade_id": "cell-a4ab34022d90d5a0",
     "locked": true,
     "points": 0.25,
     "schema_version": 3,
     "solution": false,
     "task": false
    }
   },
   "outputs": [],
   "source": [
    "assert isinstance(X,np.ndarray)\n",
    "assert X.shape==(334, 1)"
   ]
  },
  {
   "cell_type": "markdown",
   "metadata": {
    "deletable": false,
    "editable": false,
    "nbgrader": {
     "cell_type": "markdown",
     "checksum": "7040ade2f7e42910b381533b4a6b6698",
     "grade": false,
     "grade_id": "cell-d8eabe39eb3f8307",
     "locked": true,
     "schema_version": 3,
     "solution": false,
     "task": false
    }
   },
   "source": [
    "train a linear regression model using `sklearn`"
   ]
  },
  {
   "cell_type": "code",
   "execution_count": 223,
   "metadata": {
    "deletable": false,
    "nbgrader": {
     "cell_type": "code",
     "checksum": "831ddc9f804caf9b88dc5c5ac8165be5",
     "grade": true,
     "grade_id": "cell-9e924f6e6fc1b74f",
     "locked": false,
     "points": 0.5,
     "schema_version": 3,
     "solution": true,
     "task": false
    }
   },
   "outputs": [
    {
     "data": {
      "text/plain": [
       "(49.6184044321234, -14.578381705587148)"
      ]
     },
     "execution_count": 223,
     "metadata": {},
     "output_type": "execute_result"
    }
   ],
   "source": [
    "# YOUR CODE HERE\n",
    "from sklearn import linear_model\n",
    "lin1 = linear_model.LinearRegression()\n",
    "\n",
    "lin1.fit(X,y)\n",
    "t0, t1 = lin1.intercept_[0], lin1.coef_[0][0]\n",
    "t0, t1\n",
    "#raise NotImplementedError()"
   ]
  },
  {
   "cell_type": "markdown",
   "metadata": {
    "deletable": false,
    "editable": false,
    "nbgrader": {
     "cell_type": "markdown",
     "checksum": "399d89aa01354978ea3630bd8fa142c6",
     "grade": false,
     "grade_id": "cell-3adcdf66a45f886a",
     "locked": true,
     "schema_version": 3,
     "solution": false,
     "task": false
    }
   },
   "source": [
    "Calculate the RMSE using the funtion you created above and assign it to the variable `rmse_lin`"
   ]
  },
  {
   "cell_type": "code",
   "execution_count": 224,
   "metadata": {
    "deletable": false,
    "nbgrader": {
     "cell_type": "code",
     "checksum": "da3ad04184b01d11c13e847b5038dc84",
     "grade": false,
     "grade_id": "cell-949dd64cdaeb049e",
     "locked": false,
     "schema_version": 3,
     "solution": true,
     "task": false
    }
   },
   "outputs": [
    {
     "name": "stdout",
     "output_type": "stream",
     "text": [
      "139.08026218037347\n",
      "<class 'float'>\n"
     ]
    }
   ],
   "source": [
    "# YOUR CODE HERE\n",
    "y_hatlin = t0 + (t1 * X)\n",
    "rmse_lin = rmse(y, y_hatlin)\n",
    "print(rmse_lin)\n",
    "print(type(rmse_lin))\n",
    "#raise NotImplementedError()"
   ]
  },
  {
   "cell_type": "code",
   "execution_count": 225,
   "metadata": {
    "deletable": false,
    "editable": false,
    "nbgrader": {
     "cell_type": "code",
     "checksum": "0afcb931d0bb489178d2587e95c56a33",
     "grade": true,
     "grade_id": "cell-2df19e03a3834c68",
     "locked": true,
     "points": 0.25,
     "schema_version": 3,
     "solution": false,
     "task": false
    }
   },
   "outputs": [],
   "source": [
    "assert rmse_lin==139.08026218037347"
   ]
  },
  {
   "cell_type": "markdown",
   "metadata": {
    "deletable": false,
    "editable": false,
    "nbgrader": {
     "cell_type": "markdown",
     "checksum": "a0b74930ea4a416c441181abd07e8edb",
     "grade": false,
     "grade_id": "cell-8de744bfaa4ace02",
     "locked": true,
     "schema_version": 3,
     "solution": false,
     "task": false
    }
   },
   "source": [
    "Now let's do the same thing with a k NearestNeighbor Model (use k=3, and store the RMSE in `rmse_knn`)"
   ]
  },
  {
   "cell_type": "code",
   "execution_count": 226,
   "metadata": {
    "deletable": false,
    "nbgrader": {
     "cell_type": "code",
     "checksum": "3e77c8f100e1c19e742a202c004e26e1",
     "grade": false,
     "grade_id": "cell-bff757f0700fc6ca",
     "locked": false,
     "schema_version": 3,
     "solution": true,
     "task": false
    }
   },
   "outputs": [
    {
     "name": "stdout",
     "output_type": "stream",
     "text": [
      "7.678798340633015\n"
     ]
    }
   ],
   "source": [
    "# YOUR CODE HERE\n",
    "import numpy as np\n",
    "import sklearn.neighbors\n",
    "import math\n",
    "from scipy.io import savemat\n",
    "\n",
    "knn_model = sklearn.neighbors.KNeighborsRegressor(n_neighbors=3)\n",
    "\n",
    "knn_model.fit(X,y)\n",
    "y_hatknn = knn_model.predict(X)\n",
    "\n",
    "rmse_knn = rmse(y,y_hatknn)\n",
    "print(rmse_knn)\n",
    "\n"
   ]
  },
  {
   "cell_type": "code",
   "execution_count": 227,
   "metadata": {
    "deletable": false,
    "editable": false,
    "nbgrader": {
     "cell_type": "code",
     "checksum": "e9354cfd882cbeec7faee69439e70f94",
     "grade": true,
     "grade_id": "cell-25045b511b2def79",
     "locked": true,
     "points": 0.5,
     "schema_version": 3,
     "solution": false,
     "task": false
    }
   },
   "outputs": [],
   "source": [
    "assert rmse_knn==7.678798340633015"
   ]
  },
  {
   "cell_type": "markdown",
   "metadata": {
    "deletable": false,
    "editable": false,
    "nbgrader": {
     "cell_type": "markdown",
     "checksum": "977f59c3c8bbb12f4ddbc413b07a57b6",
     "grade": false,
     "grade_id": "cell-828a57b4e5bc2fa1",
     "locked": true,
     "schema_version": 3,
     "solution": false,
     "task": false
    }
   },
   "source": [
    "Plot `y` as a function of `X`, as well as the corresponding predictions of the linear and kNN model."
   ]
  },
  {
   "cell_type": "code",
   "execution_count": 156,
   "metadata": {
    "deletable": false,
    "nbgrader": {
     "cell_type": "code",
     "checksum": "fd6e8b37e8dc30e041879e57aaa7a73b",
     "grade": true,
     "grade_id": "cell-09e2b66ceaa76f0a",
     "locked": false,
     "points": 0.5,
     "schema_version": 3,
     "solution": true,
     "task": false
    }
   },
   "outputs": [
    {
     "data": {
      "text/plain": [
       "Text(0, 0.5, 'Torque')"
      ]
     },
     "execution_count": 156,
     "metadata": {},
     "output_type": "execute_result"
    },
    {
     "data": {
      "image/png": "[encoded data removed]",
      "text/plain": [
       "<Figure size 432x288 with 2 Axes>"
      ]
     },
     "metadata": {
      "needs_background": "light"
     },
     "output_type": "display_data"
    }
   ],
   "source": [
    "import matplotlib.pyplot as plt\n",
    "# YOUR CODE HERE\n",
    "ax1 = plt.subplot(2, 1, 1)\n",
    "ax2 = plt.subplot(2, 1, 2)\n",
    "#ax1.figure(figsize=(8,3))\n",
    "\n",
    "ax1.set_xlabel(\"Theta\")\n",
    "ax1.set_ylabel('Torque')\n",
    "ax1.set_title(\"Theta vs Torque for the linear model\")\n",
    "\n",
    "x_plot = np.linspace(np.amin(X), np.amax(X), 1000)\n",
    "\n",
    "#plotting the linear regression\n",
    "ax1.plot(x_plot, t0 + t1 * x_plot, \"r--\", label=\"Linear model on data\")\n",
    "ax1.plot(X,y, \"b.\")\n",
    "ax1.legend(loc=\"lower right\")\n",
    "\n",
    "#plotting the knn fit\n",
    "#yknn_predict = knn_model.predict(np.reshape(x_plot,(1000,1)))\n",
    "#print(yknn_predict)\n",
    "ax2.plot(X,y, \"r.\")\n",
    "ax2.plot(x_plot,knn_model.predict(np.reshape(x_plot,(1000,1))),'k--', label=\"KNN model on data\")\n",
    "ax2.legend(loc=\"lower right\")\n",
    "ax2.set_xlabel(\"Theta\")\n",
    "ax2.set_ylabel('Torque')\n",
    "#raise NotImplementedError()"
   ]
  },
  {
   "cell_type": "markdown",
   "metadata": {
    "deletable": false,
    "editable": false,
    "nbgrader": {
     "cell_type": "markdown",
     "checksum": "c93ab46cad4069900824a9cf2673adba",
     "grade": false,
     "grade_id": "cell-6d9404ea9c9e092e",
     "locked": true,
     "schema_version": 3,
     "solution": false,
     "task": false
    }
   },
   "source": [
    "Linear regression performs really badly. Give reasons (based on the above plot)."
   ]
  },
  {
   "cell_type": "markdown",
   "metadata": {
    "deletable": false,
    "nbgrader": {
     "cell_type": "markdown",
     "checksum": "23eb52b90ad2e959004186fbef06dd76",
     "grade": true,
     "grade_id": "cell-f919de05985c469f",
     "locked": false,
     "points": 0.5,
     "schema_version": 3,
     "solution": true,
     "task": false
    }
   },
   "source": [
    "YOUR ANSWER HERE. The RMSE error of the linera model is quite high and the data is more scattered away compared to the KNN fitted model therefore it shows very high error. Also linear regression is model driven model wearas the Knn is data driven model therefore the fitting og the data points for the KNN model is much better."
   ]
  },
  {
   "cell_type": "markdown",
   "metadata": {
    "deletable": false,
    "editable": false,
    "nbgrader": {
     "cell_type": "markdown",
     "checksum": "ffa4050a5083fefd8b2db4034abe5d5f",
     "grade": false,
     "grade_id": "cell-4ec7d6e784d99d3c",
     "locked": true,
     "schema_version": 3,
     "solution": false,
     "task": false
    }
   },
   "source": [
    "As we'll discuss in the next lectures, feature engineering is often crucial in machine learning. If you look at the plot above, you'll notice that is resembels a cosine. Using this insight, transform the input `X` before training a linear regression model. You should get the RMSE down to about 17.4"
   ]
  },
  {
   "cell_type": "code",
   "execution_count": 171,
   "metadata": {
    "deletable": false,
    "nbgrader": {
     "cell_type": "code",
     "checksum": "2d68a823b309f8f939e52ba3e3a327a6",
     "grade": true,
     "grade_id": "cell-dc2ffb793cccd481",
     "locked": false,
     "points": 0.5,
     "schema_version": 3,
     "solution": true,
     "task": false
    }
   },
   "outputs": [
    {
     "name": "stdout",
     "output_type": "stream",
     "text": [
      "The RMSE error of the transformed data =  17.42871419555081\n"
     ]
    },
    {
     "data": {
      "text/plain": [
       "<matplotlib.legend.Legend at 0x7fddeccdce20>"
      ]
     },
     "execution_count": 171,
     "metadata": {},
     "output_type": "execute_result"
    },
    {
     "data": {
      "image/png": "[encoded data removed]",
      "text/plain": [
       "<Figure size 432x288 with 1 Axes>"
      ]
     },
     "metadata": {
      "needs_background": "light"
     },
     "output_type": "display_data"
    }
   ],
   "source": [
    "# YOUR CODE HERE\n",
    "import numpy as np\n",
    "from sklearn.preprocessing import FunctionTransformer\n",
    "import matplotlib.pyplot as plt\n",
    "from sklearn import linear_model\n",
    "\n",
    "X_transformed = np.cos(X)\n",
    "\n",
    "\n",
    "ax1 = plt.subplot(2, 1, 1)\n",
    "ax1.set_xlabel(\"Theta\")\n",
    "ax1.set_ylabel('Torque')\n",
    "ax1.set_title(\"Theta vs Torque transformed data\")\n",
    "ax1.plot(X_transformed, y, \"r--\", label=\"Transformed data of the data\")\n",
    "\n",
    "lin2 = linear_model.LinearRegression()\n",
    "lin2.fit(X_transformed,y)\n",
    "\n",
    "#pulling out the coefficients of the liner regression\n",
    "t0_transformed, t1_transformed = lin2.intercept_[0], lin2.coef_[0][0]\n",
    "\n",
    "#Calculating the rmse error\n",
    "y_hat_transformed = t0_transformed + (X_transformed * t1_transformed)\n",
    "rmse_lin_transformed = rmse(y, y_hat_transformed)\n",
    "print(\"The RMSE error of the transformed data = \",rmse_lin_transformed)\n",
    "\n",
    "#plotting the fitted curve\n",
    "ax1.plot(X_transformed,y_hat_transformed,'k--', label=\"liner regression curve\")\n",
    "ax1.legend(loc=\"lower right\")\n",
    "\n",
    "#raise NotImplementedError()"
   ]
  },
  {
   "cell_type": "markdown",
   "metadata": {
    "deletable": false,
    "editable": false,
    "nbgrader": {
     "cell_type": "markdown",
     "checksum": "a48a53e2e96b162c87a51a13a42b5f65",
     "grade": false,
     "grade_id": "cell-5e170b289dced727",
     "locked": true,
     "schema_version": 3,
     "solution": false,
     "task": false
    }
   },
   "source": [
    "This notebook is inspired by <em>Python Numpy [Tutorial](https://cs231n.github.io/python-numpy-tutorial/)</em>."
   ]
  }
 ],
 "metadata": {
  "kernelspec": {
   "display_name": "Python 3",
   "language": "python",
   "name": "python3"
  },
  "language_info": {
   "codemirror_mode": {
    "name": "ipython",
    "version": 3
   },
   "file_extension": ".py",
   "mimetype": "text/x-python",
   "name": "python",
   "nbconvert_exporter": "python",
   "pygments_lexer": "ipython3",
   "version": "3.8.3"
  }
 },
 "nbformat": 4,
 "nbformat_minor": 4
}
