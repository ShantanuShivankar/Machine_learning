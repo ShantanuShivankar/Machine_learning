{
 "cells": [
  {
   "cell_type": "markdown",
   "metadata": {},
   "source": [
    "# RO47002 Machine Learning for Robotics\n",
    "* (c) TU Delft, 2020\n",
    "* Period: 2020-2021, Q1\n",
    "* Course homepage: https://brightspace.tudelft.nl/d2l/home/318952"
   ]
  },
  {
   "cell_type": "markdown",
   "metadata": {},
   "source": [
    "Make sure you fill in any place that says `YOUR CODE HERE` or `YOUR ANSWER HERE`. Moreover, if you see an empty cell, please DO NOT delete it, instead run that cell as you would run all other cells. Please fill in your name(s) and other required details below:"
   ]
  },
  {
   "cell_type": "code",
   "execution_count": 49,
   "metadata": {},
   "outputs": [],
   "source": [
    "GROUP_NUMBER = \"8\"\n",
    "STUDENT_NAME1 = \"Rishabh Singh Jakhar\"\n",
    "STUDENT_NUMBER1 = \"4779819\"\n",
    "STUDENT_NAME2 = \"Shantanu Shivankar\"\n",
    "STUDENT_NUMBER2 = \"5032814\""
   ]
  },
  {
   "cell_type": "code",
   "execution_count": 50,
   "metadata": {
    "deletable": false,
    "editable": false,
    "nbgrader": {
     "cell_type": "code",
     "checksum": "e3f76d6a626db81c484191482b101edb",
     "grade": true,
     "grade_id": "cell-c35e4c8223095209",
     "locked": true,
     "points": 0,
     "schema_version": 3,
     "solution": false,
     "task": false
    }
   },
   "outputs": [],
   "source": [
    "# Note: this block is a check that you have filled in the above information.\n",
    "# It will throw an AssertionError until all fields are filled\n",
    "assert(GROUP_NUMBER != \"\")\n",
    "assert(STUDENT_NAME1 != \"\")\n",
    "assert(STUDENT_NUMBER1 != \"\")\n",
    "assert(STUDENT_NAME2 != \"\")\n",
    "assert(STUDENT_NUMBER2 != \"\")"
   ]
  },
  {
   "cell_type": "markdown",
   "metadata": {},
   "source": [
    "### General announcements\n",
    "\n",
    "* Do *not* share your solutions, and do *not* copy solutions from others. By submitting your solutions, you claim that you and your lab partner alone are responsible for this code.\n",
    "\n",
    "* Do *not* email questions directly, since we want to provide everybody with the same information and avoid repeating the same answers. Instead, please post your questions regarding this assignment in the correct support forum on Brightspace, this way everybody can benefit from the response. If you do have a particular question that you want to ask directly, please use the scheduled practicum hours to ask a TA.\n",
    "\n",
    "* There is a strict deadline for each assignment. Students are responsible to ensure that they have uploaded their work in time. So, please double check that your upload succeeded to the Brightspace and avoid any late penalties.\n",
    "\n",
    "* This [Jupyter notebook](https://jupyter.org/) uses `nbgrader` to help us with automated tests. `nbgrader` will make various cells in this notebook \"uneditable\" or \"unremovable\" and gives them a special id in the cell metadata. This way, when we run our checks, the system will check the existence of the cell ids and verify the number of points and which checks must be run. While there are ways that you can edit the metadata and work around the restrictions to delete or modify these special cells, you should not do that since then our nbgrader backend will not be able to parse your notebook and give you points for the assignment. You are free to add additional cells, but if you find a cell that you cannot modify or remove, please know that this is on purpose.\n",
    "\n",
    "* This notebook will have in various places a line that throws a `NotImplementedError` exception. These are locations where the assignment requires you to adapt the code! These lines are just there as a reminder for youthat you have not yet adapted that particular piece of code, especially when you execute all the cells. Once your solution code replaced these lines, it should accordingly *not* throw any exceptions anymore.\n",
    "\n",
    "Before you turn this problem in, make sure everything runs as expected. First, **restart the kernel** (in the menubar, select Kernel$\\rightarrow$Restart) and then **run all cells** (in the menubar, select Cell$\\rightarrow$Run All)."
   ]
  },
  {
   "cell_type": "markdown",
   "metadata": {},
   "source": [
    "---"
   ]
  },
  {
   "cell_type": "markdown",
   "metadata": {
    "deletable": false,
    "editable": false,
    "nbgrader": {
     "cell_type": "markdown",
     "checksum": "4521c2f843bd94125174ffaf7e7d2cd7",
     "grade": false,
     "grade_id": "cell-a887e22cb74efcc4",
     "locked": true,
     "schema_version": 3,
     "solution": false,
     "task": false
    }
   },
   "source": [
    "# Practicum 4\n",
    "* Before performing this practicum, work through Book chapters: 5, 6, 7\n",
    "* **Deadline**: Sunday, October 4, 2020, 23:59\n",
    "\n",
    "## Objectives\n",
    "### Part 1\n",
    "* Discover a data set and prepare it for algorithms\n",
    "* Inspect a decision tree\n",
    "* Re-implement a linear SVM\n",
    "* Re-implement a voting classifier\n",
    "* Explore how bagging improves a very simple classifier\n",
    "\n",
    "### Part 2 (Imitation Learning and Motion Planning)\n",
    "* Build a dataset using an oracle\n",
    "* Use a classifier to imitate the behavior of a motion planning algorithm\n",
    "* Explore how the construction of the dataset can affect the performance of the classifier\n"
   ]
  },
  {
   "cell_type": "markdown",
   "metadata": {
    "deletable": false,
    "editable": false,
    "nbgrader": {
     "cell_type": "markdown",
     "checksum": "6ea9237519cfe81b977dffcc2485d34d",
     "grade": false,
     "grade_id": "cell-c02407656f556f99",
     "locked": true,
     "schema_version": 3,
     "solution": false,
     "task": false
    }
   },
   "source": [
    "### Setup common python stuff\n",
    "We will start by loading a few common python dependencies"
   ]
  },
  {
   "cell_type": "code",
   "execution_count": 51,
   "metadata": {
    "deletable": false,
    "editable": false,
    "nbgrader": {
     "cell_type": "code",
     "checksum": "3587857e178647256e5af28540b91c80",
     "grade": false,
     "grade_id": "cell-81c44a132932427c",
     "locked": true,
     "schema_version": 3,
     "solution": false,
     "task": false
    }
   },
   "outputs": [],
   "source": [
    "# Python ≥3.5 is required\n",
    "import sys\n",
    "assert sys.version_info >= (3, 5)\n",
    "\n",
    "# Scikit-Learn ≥0.20 is required\n",
    "import sklearn\n",
    "assert sklearn.__version__ == \"0.23.2\"\n",
    "\n",
    "# Common imports\n",
    "import numpy as np\n",
    "import pandas as pd\n",
    "import os\n",
    "\n",
    "# to make this notebook's output stable across runs\n",
    "np.random.seed(42)\n",
    "\n",
    "# To plot pretty figures\n",
    "%matplotlib inline\n",
    "import matplotlib as mpl\n",
    "import matplotlib.pyplot as plt\n",
    "mpl.rc('axes', labelsize=14)\n",
    "mpl.rc('xtick', labelsize=12)\n",
    "mpl.rc('ytick', labelsize=12)"
   ]
  },
  {
   "cell_type": "code",
   "execution_count": 52,
   "metadata": {
    "deletable": false,
    "editable": false,
    "nbgrader": {
     "cell_type": "code",
     "checksum": "b82a2e25c44cf5fe3640f669a9775c90",
     "grade": false,
     "grade_id": "cell-bbc833735a9dd261",
     "locked": true,
     "schema_version": 3,
     "solution": false,
     "task": false
    }
   },
   "outputs": [],
   "source": [
    "def plot_feature_space_function(f, X, y, axes, class_1=0, class_2=1, res=0.1):\n",
    "    \"\"\" Plot the 2D feature space of the first two features of the data in X.\n",
    "        For the feature space, plot the samples in X with their class labels y,\n",
    "        and also overlay a countour plot with the function f(x) evaluated at a grid within\n",
    "        the shown region of the feature space (the size of the region is determined by the extent of the data).\n",
    "        based on https://scikit-learn.org/stable/auto_examples/ensemble/plot_voting_decision_regions.html\n",
    "    \"\"\"\n",
    "    \n",
    "    if f is not None:\n",
    "        xx, yy = np.meshgrid(np.arange(axes[0], axes[1], res),np.arange(axes[2], axes[3], res))\n",
    "\n",
    "        Z = f(np.c_[xx.ravel(), yy.ravel()])\n",
    "        Z = Z.reshape(xx.shape)\n",
    "\n",
    "        plt.contourf(xx, yy, Z, alpha=0.4)\n",
    "        \n",
    "    plt.plot(X[y==class_1,0], X[y==class_1,1], '.', label='class '+str(class_1), zorder=-1)\n",
    "    plt.plot(X[y==class_2,0], X[y==class_2,1], '.', label='class '+str(class_2), zorder=-1)\n",
    "    plt.grid('on')\n",
    "    plt.axis(axes)\n",
    "    plt.legend()"
   ]
  },
  {
   "cell_type": "code",
   "execution_count": 53,
   "metadata": {
    "deletable": false,
    "editable": false,
    "nbgrader": {
     "cell_type": "code",
     "checksum": "ee499b68ec37df67327050d5be338df6",
     "grade": false,
     "grade_id": "cell-afdbc31fbf0d3f77",
     "locked": true,
     "schema_version": 3,
     "solution": false,
     "task": false
    }
   },
   "outputs": [],
   "source": [
    "from sklearn.metrics import confusion_matrix\n",
    "from sklearn.metrics import accuracy_score\n",
    "\n",
    "def print_accuracy_confusion(y_test, y_pred, clf_name=''):\n",
    "    print(clf_name, 'accuracy score:', accuracy_score(y_test, y_pred))\n",
    "    print(clf_name, 'confusion matrix:\\n', confusion_matrix(y_test, y_pred))"
   ]
  },
  {
   "cell_type": "markdown",
   "metadata": {
    "deletable": false,
    "editable": false,
    "nbgrader": {
     "cell_type": "markdown",
     "checksum": "ee951a8d8d8ecbeac846b108ec214197",
     "grade": false,
     "grade_id": "cell-486bfa6c08d7b717",
     "locked": true,
     "schema_version": 3,
     "solution": false,
     "task": false
    }
   },
   "source": [
    "## Exploring and preparing a dataset\n",
    "We are going to use a dataset for classifying hand gestures from EMG signals for the first part of this practicum. The description and original source can be found here: https://www.kaggle.com/kyr7plus/emg-4\n",
    "\n",
    "This kind of data can not only used for controlling prosthetics, but also for other human-robot interaction applications. Here is a little example from another CoR stuff member, Luka Peternel, on the use of EMG sensors in human-robot interaction https://youtu.be/i42X_rVVQWU\n",
    "\n",
    "Your first task is to read the description on the website and to figure out how the dataset is structured.\n",
    "Load the correct file (included in folder `hand_gestures` in this practicum) for each variable `df_rock`, `df_paper`, `df_scissors`, and `df_ok` using "
   ]
  },
  {
   "cell_type": "code",
   "execution_count": 54,
   "metadata": {
    "deletable": false,
    "nbgrader": {
     "cell_type": "code",
     "checksum": "77dd402e4b6ce1a5e83be72ec0f0a001",
     "grade": false,
     "grade_id": "cell-ccc71feef2301bcf",
     "locked": false,
     "schema_version": 3,
     "solution": true,
     "task": false
    }
   },
   "outputs": [
    {
     "data": {
      "text/html": [
       "<div>\n",
       "<style scoped>\n",
       "    .dataframe tbody tr th:only-of-type {\n",
       "        vertical-align: middle;\n",
       "    }\n",
       "\n",
       "    .dataframe tbody tr th {\n",
       "        vertical-align: top;\n",
       "    }\n",
       "\n",
       "    .dataframe thead th {\n",
       "        text-align: right;\n",
       "    }\n",
       "</style>\n",
       "<table border=\"1\" class=\"dataframe\">\n",
       "  <thead>\n",
       "    <tr style=\"text-align: right;\">\n",
       "      <th></th>\n",
       "      <th>0</th>\n",
       "      <th>1</th>\n",
       "      <th>2</th>\n",
       "      <th>3</th>\n",
       "      <th>4</th>\n",
       "      <th>5</th>\n",
       "      <th>6</th>\n",
       "      <th>7</th>\n",
       "      <th>8</th>\n",
       "      <th>9</th>\n",
       "      <th>...</th>\n",
       "      <th>55</th>\n",
       "      <th>56</th>\n",
       "      <th>57</th>\n",
       "      <th>58</th>\n",
       "      <th>59</th>\n",
       "      <th>60</th>\n",
       "      <th>61</th>\n",
       "      <th>62</th>\n",
       "      <th>63</th>\n",
       "      <th>64</th>\n",
       "    </tr>\n",
       "  </thead>\n",
       "  <tbody>\n",
       "    <tr>\n",
       "      <th>0</th>\n",
       "      <td>26.0</td>\n",
       "      <td>4.0</td>\n",
       "      <td>5.0</td>\n",
       "      <td>8.0</td>\n",
       "      <td>-1.0</td>\n",
       "      <td>-13.0</td>\n",
       "      <td>-109.0</td>\n",
       "      <td>-66.0</td>\n",
       "      <td>-9.0</td>\n",
       "      <td>2.0</td>\n",
       "      <td>...</td>\n",
       "      <td>-28.0</td>\n",
       "      <td>61.0</td>\n",
       "      <td>4.0</td>\n",
       "      <td>8.0</td>\n",
       "      <td>5.0</td>\n",
       "      <td>4.0</td>\n",
       "      <td>-7.0</td>\n",
       "      <td>-59.0</td>\n",
       "      <td>16.0</td>\n",
       "      <td>0</td>\n",
       "    </tr>\n",
       "    <tr>\n",
       "      <th>1</th>\n",
       "      <td>-47.0</td>\n",
       "      <td>-6.0</td>\n",
       "      <td>-5.0</td>\n",
       "      <td>-7.0</td>\n",
       "      <td>13.0</td>\n",
       "      <td>-1.0</td>\n",
       "      <td>35.0</td>\n",
       "      <td>-10.0</td>\n",
       "      <td>10.0</td>\n",
       "      <td>-4.0</td>\n",
       "      <td>...</td>\n",
       "      <td>-25.0</td>\n",
       "      <td>47.0</td>\n",
       "      <td>6.0</td>\n",
       "      <td>6.0</td>\n",
       "      <td>5.0</td>\n",
       "      <td>13.0</td>\n",
       "      <td>21.0</td>\n",
       "      <td>111.0</td>\n",
       "      <td>15.0</td>\n",
       "      <td>0</td>\n",
       "    </tr>\n",
       "    <tr>\n",
       "      <th>2</th>\n",
       "      <td>-19.0</td>\n",
       "      <td>-8.0</td>\n",
       "      <td>-8.0</td>\n",
       "      <td>-8.0</td>\n",
       "      <td>-21.0</td>\n",
       "      <td>-6.0</td>\n",
       "      <td>-79.0</td>\n",
       "      <td>12.0</td>\n",
       "      <td>0.0</td>\n",
       "      <td>5.0</td>\n",
       "      <td>...</td>\n",
       "      <td>-83.0</td>\n",
       "      <td>7.0</td>\n",
       "      <td>7.0</td>\n",
       "      <td>1.0</td>\n",
       "      <td>-8.0</td>\n",
       "      <td>7.0</td>\n",
       "      <td>21.0</td>\n",
       "      <td>114.0</td>\n",
       "      <td>48.0</td>\n",
       "      <td>0</td>\n",
       "    </tr>\n",
       "    <tr>\n",
       "      <th>3</th>\n",
       "      <td>2.0</td>\n",
       "      <td>3.0</td>\n",
       "      <td>0.0</td>\n",
       "      <td>2.0</td>\n",
       "      <td>0.0</td>\n",
       "      <td>22.0</td>\n",
       "      <td>106.0</td>\n",
       "      <td>-14.0</td>\n",
       "      <td>-16.0</td>\n",
       "      <td>-2.0</td>\n",
       "      <td>...</td>\n",
       "      <td>-38.0</td>\n",
       "      <td>-11.0</td>\n",
       "      <td>4.0</td>\n",
       "      <td>7.0</td>\n",
       "      <td>11.0</td>\n",
       "      <td>33.0</td>\n",
       "      <td>39.0</td>\n",
       "      <td>119.0</td>\n",
       "      <td>43.0</td>\n",
       "      <td>0</td>\n",
       "    </tr>\n",
       "    <tr>\n",
       "      <th>4</th>\n",
       "      <td>6.0</td>\n",
       "      <td>0.0</td>\n",
       "      <td>0.0</td>\n",
       "      <td>-2.0</td>\n",
       "      <td>-14.0</td>\n",
       "      <td>10.0</td>\n",
       "      <td>-51.0</td>\n",
       "      <td>5.0</td>\n",
       "      <td>7.0</td>\n",
       "      <td>0.0</td>\n",
       "      <td>...</td>\n",
       "      <td>38.0</td>\n",
       "      <td>-35.0</td>\n",
       "      <td>-8.0</td>\n",
       "      <td>2.0</td>\n",
       "      <td>6.0</td>\n",
       "      <td>-13.0</td>\n",
       "      <td>-24.0</td>\n",
       "      <td>-112.0</td>\n",
       "      <td>-69.0</td>\n",
       "      <td>0</td>\n",
       "    </tr>\n",
       "  </tbody>\n",
       "</table>\n",
       "<p>5 rows × 65 columns</p>\n",
       "</div>"
      ],
      "text/plain": [
       "     0    1    2    3     4     5      6     7     8    9   ...    55    56  \\\n",
       "0  26.0  4.0  5.0  8.0  -1.0 -13.0 -109.0 -66.0  -9.0  2.0  ... -28.0  61.0   \n",
       "1 -47.0 -6.0 -5.0 -7.0  13.0  -1.0   35.0 -10.0  10.0 -4.0  ... -25.0  47.0   \n",
       "2 -19.0 -8.0 -8.0 -8.0 -21.0  -6.0  -79.0  12.0   0.0  5.0  ... -83.0   7.0   \n",
       "3   2.0  3.0  0.0  2.0   0.0  22.0  106.0 -14.0 -16.0 -2.0  ... -38.0 -11.0   \n",
       "4   6.0  0.0  0.0 -2.0 -14.0  10.0  -51.0   5.0   7.0  0.0  ...  38.0 -35.0   \n",
       "\n",
       "    57   58    59    60    61     62    63  64  \n",
       "0  4.0  8.0   5.0   4.0  -7.0  -59.0  16.0   0  \n",
       "1  6.0  6.0   5.0  13.0  21.0  111.0  15.0   0  \n",
       "2  7.0  1.0  -8.0   7.0  21.0  114.0  48.0   0  \n",
       "3  4.0  7.0  11.0  33.0  39.0  119.0  43.0   0  \n",
       "4 -8.0  2.0   6.0 -13.0 -24.0 -112.0 -69.0   0  \n",
       "\n",
       "[5 rows x 65 columns]"
      ]
     },
     "execution_count": 54,
     "metadata": {},
     "output_type": "execute_result"
    }
   ],
   "source": [
    "df_rock = pd.read_csv('./hand_gestures/0.csv', header = None)\n",
    "df_scissors = pd.read_csv('./hand_gestures/1.csv', header = None)\n",
    "df_paper = pd.read_csv('./hand_gestures/2.csv', header = None)\n",
    "df_ok = pd.read_csv('./hand_gestures/3.csv', header = None)\n",
    "\n",
    "# YOUR CODE HERE\n",
    "#raise NotImplementedError()\n",
    "\n",
    "df = pd.concat([df_rock, df_scissors, df_ok,  df_paper])\n",
    "\n",
    "df.head()\n",
    "#df_ok"
   ]
  },
  {
   "cell_type": "code",
   "execution_count": 55,
   "metadata": {
    "deletable": false,
    "editable": false,
    "nbgrader": {
     "cell_type": "code",
     "checksum": "1b00fd5b42f63e596b46939fa4a6015f",
     "grade": true,
     "grade_id": "cell-6e590d1471ce418b",
     "locked": true,
     "points": 1,
     "schema_version": 3,
     "solution": false,
     "task": false
    }
   },
   "outputs": [],
   "source": [
    "assert df.shape[0] == 11678\n",
    "assert df.shape[1] == 65"
   ]
  },
  {
   "cell_type": "markdown",
   "metadata": {
    "deletable": false,
    "editable": false,
    "nbgrader": {
     "cell_type": "markdown",
     "checksum": "862d12c496d3706e8f2c34d84fbd74a6",
     "grade": false,
     "grade_id": "cell-94ef96efc24b6038",
     "locked": true,
     "schema_version": 3,
     "solution": false,
     "task": false
    }
   },
   "source": [
    "Now convert the pandas dataframe to numpy matrices `X_4class` and `y_4class` for the features and labels respectively."
   ]
  },
  {
   "cell_type": "code",
   "execution_count": 56,
   "metadata": {
    "deletable": false,
    "nbgrader": {
     "cell_type": "code",
     "checksum": "aba7782092a6a2d58949bfc02b3a2ad5",
     "grade": false,
     "grade_id": "cell-ddfe447ad56d567a",
     "locked": false,
     "schema_version": 3,
     "solution": true,
     "task": false
    }
   },
   "outputs": [],
   "source": [
    "# hint: use df.iloc.values and Boolean indexing \n",
    "\n",
    "# YOUR CODE HERE\n",
    "X_4class = df.iloc[:,0:64].to_numpy()\n",
    "y_4class = df.iloc[:,64].to_numpy()\n",
    "\n",
    "#raise NotImplementedError()\n"
   ]
  },
  {
   "cell_type": "code",
   "execution_count": 57,
   "metadata": {
    "deletable": false,
    "editable": false,
    "nbgrader": {
     "cell_type": "code",
     "checksum": "bf78a43d1c534bf8d53cd1aacd539ce9",
     "grade": true,
     "grade_id": "cell-50d1f04b4183587c",
     "locked": true,
     "points": 1,
     "schema_version": 3,
     "solution": false,
     "task": false
    }
   },
   "outputs": [],
   "source": [
    "assert X_4class.shape[0] == 11678\n",
    "assert y_4class.shape[0] == 11678\n",
    "assert y_4class.ndim == 1"
   ]
  },
  {
   "cell_type": "code",
   "execution_count": 58,
   "metadata": {},
   "outputs": [],
   "source": [
    "#if you are stuck here, uncomment the lines below to load variables\n",
    "\n",
    "#npzfile = np.load('./get_unstuck/4class.npz')\n",
    "#X_4class_ = npzfile['X_4class']\n",
    "#y_4class_ = npzfile['y_4class']\n",
    "\n",
    "#print(np.subtract(y_4class,y_4class_))"
   ]
  },
  {
   "cell_type": "markdown",
   "metadata": {
    "deletable": false,
    "editable": false,
    "nbgrader": {
     "cell_type": "markdown",
     "checksum": "8e855224329c382c4f20e45be5de70f1",
     "grade": false,
     "grade_id": "cell-7ff74ff0aeecdfe7",
     "locked": true,
     "schema_version": 3,
     "solution": false,
     "task": false
    }
   },
   "source": [
    "Let's split the dataset into a training and testing set and train a random forest classifier. Use `random_state=0` as an argument for the classifier to ensure reproducible results."
   ]
  },
  {
   "cell_type": "code",
   "execution_count": 59,
   "metadata": {
    "deletable": false,
    "nbgrader": {
     "cell_type": "code",
     "checksum": "411170e6b06cf2eb466120be72de6f85",
     "grade": false,
     "grade_id": "cell-bc4d9f7500509990",
     "locked": false,
     "schema_version": 3,
     "solution": true,
     "task": false
    }
   },
   "outputs": [
    {
     "name": "stdout",
     "output_type": "stream",
     "text": [
      " accuracy score: 0.9154109589041096\n",
      " confusion matrix:\n",
      " [[689   0   5  12]\n",
      " [  0 640  26  43]\n",
      " [ 13   9 715  27]\n",
      " [ 46  26  40 629]]\n",
      "my score 0.9154109589041096\n"
     ]
    }
   ],
   "source": [
    "# Splitting the dataset into the Training set and Test set\n",
    "from sklearn.model_selection import train_test_split\n",
    "X_4class_train, X_4class_test, y_4class_train, y_4class_test = train_test_split(X_4class, y_4class, test_size = 0.25, random_state = 0)\n",
    "\n",
    "# Feature Scaling\n",
    "from sklearn.preprocessing import StandardScaler\n",
    "sc_4class = StandardScaler()\n",
    "X_4class_train = sc_4class.fit_transform(X_4class_train)\n",
    "X_4class_test = sc_4class.transform(X_4class_test)\n",
    "\n",
    "# Defining and fitting classifier\n",
    "# YOUR CODE HERE\n",
    "#raise NotImplementedError()\n",
    "from sklearn.ensemble import RandomForestClassifier\n",
    "rf_clf_4class = RandomForestClassifier(n_estimators=100,random_state=0,)\n",
    "rf_clf_4class.fit(X_4class_train, y_4class_train)\n",
    "\n",
    "# Predicting the Test set results\n",
    "rf_y_4class_pred = rf_clf_4class.predict(X_4class_test)\n",
    "print_accuracy_confusion(y_4class_test, rf_y_4class_pred)\n",
    "print(\"my score\",accuracy_score(y_4class_test, rf_y_4class_pred))"
   ]
  },
  {
   "cell_type": "code",
   "execution_count": 60,
   "metadata": {
    "deletable": false,
    "editable": false,
    "nbgrader": {
     "cell_type": "code",
     "checksum": "8fdcb0f50c28f9fa3d527f1b30d03fda",
     "grade": true,
     "grade_id": "cell-264b11653944ada1",
     "locked": true,
     "points": 1,
     "schema_version": 3,
     "solution": false,
     "task": false
    }
   },
   "outputs": [],
   "source": [
    "assert np.abs(accuracy_score(y_4class_test, rf_y_4class_pred)-0.9154109589041096)<1e-6"
   ]
  },
  {
   "cell_type": "markdown",
   "metadata": {
    "deletable": false,
    "editable": false,
    "nbgrader": {
     "cell_type": "markdown",
     "checksum": "53e6e941f04033954b84bcedde3fae68",
     "grade": false,
     "grade_id": "cell-91f18c6ab6da1333",
     "locked": true,
     "schema_version": 3,
     "solution": false,
     "task": false
    }
   },
   "source": [
    "We are now are going to consider only 2 out of the 4 classes in this dataset, so we can focus on binary classifiers.\n",
    "Based on the confusion matrix above, which classes are easiest to distinguish?"
   ]
  },
  {
   "cell_type": "code",
   "execution_count": 61,
   "metadata": {
    "deletable": false,
    "nbgrader": {
     "cell_type": "code",
     "checksum": "b156d33c83d86d048e270d71417c25eb",
     "grade": false,
     "grade_id": "cell-6f064a7a97e16d75",
     "locked": false,
     "schema_version": 3,
     "solution": true,
     "task": false
    }
   },
   "outputs": [],
   "source": [
    "class_1= 0  # 42 is obviously nonsense, replace by the correct class\n",
    "class_2= 2  # ensure that class_1 < class_2\n",
    "\n",
    "# YOUR CODE HERE\n",
    "#raise NotImplementedError()"
   ]
  },
  {
   "cell_type": "code",
   "execution_count": null,
   "metadata": {
    "deletable": false,
    "editable": false,
    "nbgrader": {
     "cell_type": "code",
     "checksum": "9ceb913828254b369c1e574a8db5a024",
     "grade": true,
     "grade_id": "cell-60b03215d52728a6",
     "locked": true,
     "points": 1,
     "schema_version": 3,
     "solution": false,
     "task": false
    }
   },
   "outputs": [],
   "source": []
  },
  {
   "cell_type": "markdown",
   "metadata": {
    "deletable": false,
    "editable": false,
    "nbgrader": {
     "cell_type": "markdown",
     "checksum": "3bb840231790d22afb6653854c0e79ed",
     "grade": false,
     "grade_id": "cell-918210eafbf80e1f",
     "locked": true,
     "schema_version": 3,
     "solution": false,
     "task": false
    }
   },
   "source": [
    "Now we create 2 new variables `X_binary` and `y_binary` that only contain these 2 classes (the easiest to distinguish). Hint: use Boolean indexing and bitwise logic operators."
   ]
  },
  {
   "cell_type": "code",
   "execution_count": 62,
   "metadata": {
    "deletable": false,
    "nbgrader": {
     "cell_type": "code",
     "checksum": "876f9c17d94b8a8991586e1054e8433d",
     "grade": false,
     "grade_id": "cell-20a5fd57aae1ef95",
     "locked": false,
     "schema_version": 3,
     "solution": true,
     "task": false
    }
   },
   "outputs": [],
   "source": [
    "# YOUR CODE HERE\n",
    "#raise NotImplementedError()\n",
    "X_binary = X_4class[(y_4class == 0) | (y_4class == 1)]  \n",
    "y_binary = y_4class[(y_4class == 0) | (y_4class == 1)]\n",
    "#print(X_binary.shape[0])\n",
    "#print(type(X_binary))"
   ]
  },
  {
   "cell_type": "code",
   "execution_count": 63,
   "metadata": {
    "deletable": false,
    "editable": false,
    "nbgrader": {
     "cell_type": "code",
     "checksum": "8f8957304e70b03f2ee1aac584cf4d26",
     "grade": true,
     "grade_id": "cell-376259a6c43bfd54",
     "locked": true,
     "points": 1,
     "schema_version": 3,
     "solution": false,
     "task": false
    }
   },
   "outputs": [],
   "source": [
    "assert X_binary.shape[0] == 5813\n",
    "assert X_binary.shape[1] == 64\n",
    "assert y_binary.ndim == 1\n",
    "assert X_binary[0,0] == 26.0\n",
    "assert X_binary[5812,0] == -16.0"
   ]
  },
  {
   "cell_type": "code",
   "execution_count": 64,
   "metadata": {},
   "outputs": [],
   "source": [
    "#if you are stuck here, uncomment the lines below to load variables\n",
    "\n",
    "#npzfile = np.load('./get_unstuck/binary.npz')\n",
    "#X_binary = npzfile['X_binary']\n",
    "#y_binary = npzfile['y_binary']\n",
    "#print(y_binary)"
   ]
  },
  {
   "cell_type": "markdown",
   "metadata": {
    "deletable": false,
    "editable": false,
    "nbgrader": {
     "cell_type": "markdown",
     "checksum": "c1c2b10d7f3723ae4441c6012ba1a582",
     "grade": false,
     "grade_id": "cell-f3532565b7bb6968",
     "locked": true,
     "schema_version": 3,
     "solution": false,
     "task": false
    }
   },
   "source": [
    "Preparing the modified dataset..."
   ]
  },
  {
   "cell_type": "code",
   "execution_count": 65,
   "metadata": {
    "deletable": false,
    "editable": false,
    "nbgrader": {
     "cell_type": "code",
     "checksum": "4ab0aeda20a91986902848ca8f988d10",
     "grade": false,
     "grade_id": "cell-9d267ab71fb9f873",
     "locked": true,
     "schema_version": 3,
     "solution": false,
     "task": false
    }
   },
   "outputs": [],
   "source": [
    "# Splitting the dataset into the Training set and Test set\n",
    "from sklearn.model_selection import train_test_split\n",
    "X_binary_train, X_binary_test, y_binary_train, y_binary_test = train_test_split(X_binary, y_binary, test_size = 0.25, random_state = 0)\n",
    "\n",
    "# Feature Scaling\n",
    "from sklearn.preprocessing import StandardScaler\n",
    "sc_binary = StandardScaler()\n",
    "X_binary_train = sc_binary.fit_transform(X_binary_train)\n",
    "X_binary_test = sc_binary.transform(X_binary_test)"
   ]
  },
  {
   "cell_type": "markdown",
   "metadata": {},
   "source": [
    "Now let's create a few more classifiers to see how they perform.\n",
    "- a SGD classifier `sgd_clf_binary` (with `loss='log', random_state=0`, all other parameters as default)\n",
    "- a decision tree classifier `dt_clf_binary` (with `random_state=0`, all other parameters as default)\n",
    "- a random forest classifier `rf_clf_binary` (with `random_state=0`, all other parameters as default)\n",
    "\n",
    "define them, fit them, and predict the values for the test set (use the variable names in the stub that displays the results)"
   ]
  },
  {
   "cell_type": "code",
   "execution_count": 66,
   "metadata": {
    "deletable": false,
    "nbgrader": {
     "cell_type": "code",
     "checksum": "427501d8d502f7d61857365217f9ae6e",
     "grade": false,
     "grade_id": "cell-5e70451b4e008276",
     "locked": false,
     "schema_version": 3,
     "solution": true,
     "task": false
    }
   },
   "outputs": [
    {
     "name": "stdout",
     "output_type": "stream",
     "text": [
      "sgd accuracy score: 0.5845942228335625\n",
      "sgd confusion matrix:\n",
      " [[317 411]\n",
      " [193 533]]\n",
      "dt accuracy score: 0.9773039889958735\n",
      "dt confusion matrix:\n",
      " [[707  21]\n",
      " [ 12 714]]\n",
      "rf accuracy score: 0.9917469050894085\n",
      "rf confusion matrix:\n",
      " [[726   2]\n",
      " [ 10 716]]\n"
     ]
    }
   ],
   "source": [
    "# Defining and fitting mutliple classifiers\n",
    "\n",
    "# YOUR CODE HERE\n",
    "#raise NotImplementedError()\n",
    "from sklearn.linear_model import SGDClassifier\n",
    "from sklearn.tree import DecisionTreeClassifier\n",
    "from sklearn.ensemble import RandomForestClassifier\n",
    "\n",
    "sgd_clf = SGDClassifier(loss=\"log\", random_state=0)\n",
    "dt_clf = DecisionTreeClassifier(random_state=0) # this should be the Decision Tree classifer\n",
    "rf_clf = RandomForestClassifier(random_state=0) # this should be the Random Forest classifier\n",
    "\n",
    "sgd_clf.fit(X_binary_train, y_binary_train)\n",
    "dt_clf.fit(X_binary_train, y_binary_train)\n",
    "rf_clf.fit(X_binary_train, y_binary_train)\n",
    "            \n",
    "sgd_y_binary_pred = sgd_clf.predict(X_binary_test)\n",
    "dt_y_binary_pred = dt_clf.predict(X_binary_test)\n",
    "rf_y_binary_pred = rf_clf.predict(X_binary_test)\n",
    "\n",
    "#print(sgd_y_binary_pred)\n",
    "\n",
    "# Printing results\n",
    "print_accuracy_confusion(y_binary_test, sgd_y_binary_pred, 'sgd')\n",
    "print_accuracy_confusion(y_binary_test, dt_y_binary_pred, 'dt')\n",
    "print_accuracy_confusion(y_binary_test, rf_y_binary_pred, 'rf')"
   ]
  },
  {
   "cell_type": "code",
   "execution_count": 67,
   "metadata": {
    "deletable": false,
    "editable": false,
    "nbgrader": {
     "cell_type": "code",
     "checksum": "77fd649ae6b25d02118a099f97cf4a86",
     "grade": true,
     "grade_id": "cell-da93408c21b1035c",
     "locked": true,
     "points": 3,
     "schema_version": 3,
     "solution": false,
     "task": false
    }
   },
   "outputs": [],
   "source": [
    "assert np.abs(accuracy_score(y_binary_test, sgd_y_binary_pred)-0.5845942228335625)<1e-6\n",
    "assert np.abs(accuracy_score(y_binary_test, dt_y_binary_pred)-0.9773039889958735)<1e-6\n",
    "assert np.abs(accuracy_score(y_binary_test, rf_y_binary_pred)-0.9917469050894085)<1e-6"
   ]
  },
  {
   "cell_type": "markdown",
   "metadata": {
    "deletable": false,
    "editable": false,
    "nbgrader": {
     "cell_type": "markdown",
     "checksum": "32cf81e9fead263e6da330f3abd75206",
     "grade": false,
     "grade_id": "cell-39db39c4dbd1a8ec",
     "locked": true,
     "schema_version": 3,
     "solution": false,
     "task": false
    }
   },
   "source": [
    "The dataset has 64 features, which are virtually impossible to visualize in 2D. The next steps are going to take us from those 64 features down to 2 features.\n",
    "\n",
    "Take a look again at the description of the data set. Each sample contains measurements from 8 sensors, over 8 consecutive time steps. The measurements are very noisy anyhow, so average over the 8 time steps and create a new variable `X_binary_avg`. That can be done in 2 lines with numpy functions."
   ]
  },
  {
   "cell_type": "code",
   "execution_count": 68,
   "metadata": {
    "deletable": false,
    "nbgrader": {
     "cell_type": "code",
     "checksum": "47a88101464f513bcad90636b9e9b1f7",
     "grade": false,
     "grade_id": "cell-2b159c3cd7d5d052",
     "locked": false,
     "schema_version": 3,
     "solution": true,
     "task": false
    }
   },
   "outputs": [],
   "source": [
    "# YOUR CODE HERE\n",
    "X_binary_avg = np.empty((len(X_binary),8))\n",
    "for i in range(8):\n",
    "    X_binary_avg[:,i] = np.mean(X_binary[:,i:63:8],axis=1)\n",
    "\n",
    "#print(np.shape(X_binary_avg))\n",
    "#raise NotImplementedError()"
   ]
  },
  {
   "cell_type": "code",
   "execution_count": 69,
   "metadata": {
    "deletable": false,
    "editable": false,
    "nbgrader": {
     "cell_type": "code",
     "checksum": "4adcfd80db28bad5b9109bd5cd22a2b5",
     "grade": true,
     "grade_id": "cell-091228faef2a93b9",
     "locked": true,
     "points": 1,
     "schema_version": 3,
     "solution": false,
     "task": false
    }
   },
   "outputs": [],
   "source": [
    "assert X_binary_avg.shape[0] == 5813\n",
    "assert X_binary_avg.shape[1] == 8\n",
    "assert X_binary_avg[0,0] == 8\n",
    "assert X_binary_avg[5812,0] == 1.375"
   ]
  },
  {
   "cell_type": "code",
   "execution_count": 70,
   "metadata": {},
   "outputs": [],
   "source": [
    "#if you are stuck here, uncomment the lines below to load variables\n",
    "\n",
    "#npzfile = np.load('./get_unstuck/binary_avg.npz')\n",
    "#X_binary_avg= npzfile['X_binary_avg']"
   ]
  },
  {
   "cell_type": "markdown",
   "metadata": {
    "deletable": false,
    "editable": false,
    "nbgrader": {
     "cell_type": "markdown",
     "checksum": "af3c3473b5244cae9def35e95195699e",
     "grade": false,
     "grade_id": "cell-07fc1b3a180f1476",
     "locked": true,
     "schema_version": 3,
     "solution": false,
     "task": false
    }
   },
   "source": [
    "Explore the dataset to see which features clearly distinguish the 2 classes. The function below can help with that."
   ]
  },
  {
   "cell_type": "code",
   "execution_count": 71,
   "metadata": {
    "deletable": false,
    "editable": false,
    "nbgrader": {
     "cell_type": "code",
     "checksum": "c48426a67ada3b8cd635971c74cd4028",
     "grade": false,
     "grade_id": "cell-c99d472de2b66c6a",
     "locked": true,
     "schema_version": 3,
     "solution": false,
     "task": false
    }
   },
   "outputs": [],
   "source": [
    "def plot_data(X, y, feat_1, feat_2, class_1=0, class_2=1):\n",
    "    plt.plot(X[y==class_1,feat_1], X[y==class_1,feat_2], '.', label='class '+str(class_1))\n",
    "    plt.plot(X[y==class_2,feat_1], X[y==class_2,feat_2], '.', label='class '+str(class_2))\n",
    "    plt.grid('on')\n",
    "    plt.axis('equal')\n",
    "    plt.xlabel('feature '+str(feat_1))\n",
    "    plt.ylabel('feature '+str(feat_2))\n",
    "    plt.legend()"
   ]
  },
  {
   "cell_type": "code",
   "execution_count": 72,
   "metadata": {},
   "outputs": [
    {
     "data": {
      "image/png": "[encoded data removed]",
      "text/plain": [
       "<Figure size 432x288 with 1 Axes>"
      ]
     },
     "metadata": {
      "needs_background": "light"
     },
     "output_type": "display_data"
    }
   ],
   "source": [
    "# an empty cell for your own code\n",
    "plot_data(X_4class , y_4class , 3,6 )"
   ]
  },
  {
   "cell_type": "code",
   "execution_count": 73,
   "metadata": {
    "deletable": false,
    "nbgrader": {
     "cell_type": "code",
     "checksum": "ead2c2144e524c1701489d5a1fb5f6c4",
     "grade": false,
     "grade_id": "cell-30c5feef60068c4c",
     "locked": false,
     "schema_version": 3,
     "solution": true,
     "task": false
    }
   },
   "outputs": [
    {
     "data": {
      "image/png": "[encoded data removed]",
      "text/plain": [
       "<Figure size 432x288 with 1 Axes>"
      ]
     },
     "metadata": {
      "needs_background": "light"
     },
     "output_type": "display_data"
    }
   ],
   "source": [
    "feat_1 = 3 #42 is obviously nonsense, replace by the correct feature\n",
    "feat_2 = 6 # ensure that feat_1 < feat_2\n",
    "# YOUR CODE HERE\n",
    "#raise NotImplementedError()\n",
    "plot_data(X_binary_avg, y_binary, feat_1, feat_2)\n",
    "from sklearn.tree import export_graphviz"
   ]
  },
  {
   "cell_type": "code",
   "execution_count": null,
   "metadata": {
    "deletable": false,
    "editable": false,
    "nbgrader": {
     "cell_type": "code",
     "checksum": "f360d2917c63e67c9e017678b01c80d3",
     "grade": true,
     "grade_id": "cell-6ca7aa733bf6eb5c",
     "locked": true,
     "points": 1,
     "schema_version": 3,
     "solution": false,
     "task": false
    }
   },
   "outputs": [],
   "source": []
  },
  {
   "cell_type": "markdown",
   "metadata": {},
   "source": [
    "We can also use an auto-generated decision tree to help us decide on the must informative features."
   ]
  },
  {
   "cell_type": "code",
   "execution_count": 74,
   "metadata": {
    "deletable": false,
    "editable": false,
    "nbgrader": {
     "cell_type": "code",
     "checksum": "143202872dbd57c66e6ea0f745b4f8e1",
     "grade": false,
     "grade_id": "cell-5982ab5b77789271",
     "locked": true,
     "schema_version": 3,
     "solution": false,
     "task": false
    }
   },
   "outputs": [
    {
     "name": "stdout",
     "output_type": "stream",
     "text": [
      "dt_simple accuracy score: 0.9044016506189821\n",
      "dt_simple confusion matrix:\n",
      " [[615 113]\n",
      " [ 26 700]]\n"
     ]
    }
   ],
   "source": [
    "X_simple_train, X_simple_test, y_simple_train, y_simple_test = train_test_split(X_binary_avg, y_binary, test_size = 0.25, random_state = 0)\n",
    "\n",
    "from sklearn.tree import DecisionTreeClassifier\n",
    "dt_clf_simple = DecisionTreeClassifier(random_state=0, max_depth=3)\n",
    "dt_clf_simple.fit(X_simple_train, y_simple_train)\n",
    "dt_y_simple_pred = dt_clf_simple.predict(X_simple_test)\n",
    "\n",
    "print_accuracy_confusion(y_simple_test, dt_y_simple_pred, 'dt_simple')"
   ]
  },
  {
   "cell_type": "code",
   "execution_count": 75,
   "metadata": {
    "deletable": false,
    "editable": false,
    "nbgrader": {
     "cell_type": "code",
     "checksum": "f338d8ba03b71114a4aaf61e810c8dc1",
     "grade": false,
     "grade_id": "cell-1965177da9e27e0a",
     "locked": true,
     "schema_version": 3,
     "solution": false,
     "task": false
    }
   },
   "outputs": [
    {
     "data": {
      "image/svg+xml": [
       "<?xml version=\"1.0\" encoding=\"UTF-8\" standalone=\"no\"?>\n",
       "<!DOCTYPE svg PUBLIC \"-//W3C//DTD SVG 1.1//EN\"\n",
       " \"http://www.w3.org/Graphics/SVG/1.1/DTD/svg11.dtd\">\n",
       "<!-- Generated by graphviz version 2.40.1 (20161225.0304)\n",
       " -->\n",
       "<!-- Title: Tree Pages: 1 -->\n",
       "<svg width=\"1022pt\" height=\"373pt\"\n",
       " viewBox=\"0.00 0.00 1021.50 373.00\" xmlns=\"http://www.w3.org/2000/svg\" xmlns:xlink=\"http://www.w3.org/1999/xlink\">\n",
       "<g id=\"graph0\" class=\"graph\" transform=\"scale(1 1) rotate(0) translate(4 369)\">\n",
       "<title>Tree</title>\n",
       "<polygon fill=\"#ffffff\" stroke=\"transparent\" points=\"-4,4 -4,-369 1017.5,-369 1017.5,4 -4,4\"/>\n",
       "<!-- 0 -->\n",
       "<g id=\"node1\" class=\"node\">\n",
       "<title>0</title>\n",
       "<path fill=\"#ffffff\" stroke=\"#000000\" d=\"M527,-365C527,-365 411,-365 411,-365 405,-365 399,-359 399,-353 399,-353 399,-309 399,-309 399,-303 405,-297 411,-297 411,-297 527,-297 527,-297 533,-297 539,-303 539,-309 539,-309 539,-353 539,-353 539,-359 533,-365 527,-365\"/>\n",
       "<text text-anchor=\"middle\" x=\"469\" y=\"-349.8\" font-family=\"Helvetica,sans-Serif\" font-size=\"14.00\" fill=\"#000000\">X[6] &lt;= &#45;2.312</text>\n",
       "<text text-anchor=\"middle\" x=\"469\" y=\"-334.8\" font-family=\"Helvetica,sans-Serif\" font-size=\"14.00\" fill=\"#000000\">gini = 0.5</text>\n",
       "<text text-anchor=\"middle\" x=\"469\" y=\"-319.8\" font-family=\"Helvetica,sans-Serif\" font-size=\"14.00\" fill=\"#000000\">samples = 4359</text>\n",
       "<text text-anchor=\"middle\" x=\"469\" y=\"-304.8\" font-family=\"Helvetica,sans-Serif\" font-size=\"14.00\" fill=\"#000000\">value = [2182, 2177]</text>\n",
       "</g>\n",
       "<!-- 1 -->\n",
       "<g id=\"node2\" class=\"node\">\n",
       "<title>1</title>\n",
       "<path fill=\"#e6833d\" stroke=\"#000000\" d=\"M402.5,-261C402.5,-261 301.5,-261 301.5,-261 295.5,-261 289.5,-255 289.5,-249 289.5,-249 289.5,-205 289.5,-205 289.5,-199 295.5,-193 301.5,-193 301.5,-193 402.5,-193 402.5,-193 408.5,-193 414.5,-199 414.5,-205 414.5,-205 414.5,-249 414.5,-249 414.5,-255 408.5,-261 402.5,-261\"/>\n",
       "<text text-anchor=\"middle\" x=\"352\" y=\"-245.8\" font-family=\"Helvetica,sans-Serif\" font-size=\"14.00\" fill=\"#000000\">X[6] &lt;= &#45;2.812</text>\n",
       "<text text-anchor=\"middle\" x=\"352\" y=\"-230.8\" font-family=\"Helvetica,sans-Serif\" font-size=\"14.00\" fill=\"#000000\">gini = 0.038</text>\n",
       "<text text-anchor=\"middle\" x=\"352\" y=\"-215.8\" font-family=\"Helvetica,sans-Serif\" font-size=\"14.00\" fill=\"#000000\">samples = 1096</text>\n",
       "<text text-anchor=\"middle\" x=\"352\" y=\"-200.8\" font-family=\"Helvetica,sans-Serif\" font-size=\"14.00\" fill=\"#000000\">value = [1075, 21]</text>\n",
       "</g>\n",
       "<!-- 0&#45;&gt;1 -->\n",
       "<g id=\"edge1\" class=\"edge\">\n",
       "<title>0&#45;&gt;1</title>\n",
       "<path fill=\"none\" stroke=\"#000000\" d=\"M430.6898,-296.9465C420.2859,-287.6986 408.911,-277.5876 398.1243,-267.9994\"/>\n",
       "<polygon fill=\"#000000\" stroke=\"#000000\" points=\"400.1956,-265.1577 390.3962,-261.13 395.5451,-270.3896 400.1956,-265.1577\"/>\n",
       "<text text-anchor=\"middle\" x=\"391.8643\" y=\"-282.3869\" font-family=\"Helvetica,sans-Serif\" font-size=\"14.00\" fill=\"#000000\">True</text>\n",
       "</g>\n",
       "<!-- 8 -->\n",
       "<g id=\"node9\" class=\"node\">\n",
       "<title>8</title>\n",
       "<path fill=\"#9fcff2\" stroke=\"#000000\" d=\"M670,-261C670,-261 554,-261 554,-261 548,-261 542,-255 542,-249 542,-249 542,-205 542,-205 542,-199 548,-193 554,-193 554,-193 670,-193 670,-193 676,-193 682,-199 682,-205 682,-205 682,-249 682,-249 682,-255 676,-261 670,-261\"/>\n",
       "<text text-anchor=\"middle\" x=\"612\" y=\"-245.8\" font-family=\"Helvetica,sans-Serif\" font-size=\"14.00\" fill=\"#000000\">X[6] &lt;= 0.812</text>\n",
       "<text text-anchor=\"middle\" x=\"612\" y=\"-230.8\" font-family=\"Helvetica,sans-Serif\" font-size=\"14.00\" fill=\"#000000\">gini = 0.448</text>\n",
       "<text text-anchor=\"middle\" x=\"612\" y=\"-215.8\" font-family=\"Helvetica,sans-Serif\" font-size=\"14.00\" fill=\"#000000\">samples = 3263</text>\n",
       "<text text-anchor=\"middle\" x=\"612\" y=\"-200.8\" font-family=\"Helvetica,sans-Serif\" font-size=\"14.00\" fill=\"#000000\">value = [1107, 2156]</text>\n",
       "</g>\n",
       "<!-- 0&#45;&gt;8 -->\n",
       "<g id=\"edge8\" class=\"edge\">\n",
       "<title>0&#45;&gt;8</title>\n",
       "<path fill=\"none\" stroke=\"#000000\" d=\"M515.8235,-296.9465C528.9098,-287.4293 543.253,-276.9978 556.7759,-267.163\"/>\n",
       "<polygon fill=\"#000000\" stroke=\"#000000\" points=\"559.0425,-269.8423 565.0713,-261.13 554.9253,-264.1812 559.0425,-269.8423\"/>\n",
       "<text text-anchor=\"middle\" x=\"561.1722\" y=\"-282.1241\" font-family=\"Helvetica,sans-Serif\" font-size=\"14.00\" fill=\"#000000\">False</text>\n",
       "</g>\n",
       "<!-- 2 -->\n",
       "<g id=\"node3\" class=\"node\">\n",
       "<title>2</title>\n",
       "<path fill=\"#e5823a\" stroke=\"#000000\" d=\"M225.5,-157C225.5,-157 132.5,-157 132.5,-157 126.5,-157 120.5,-151 120.5,-145 120.5,-145 120.5,-101 120.5,-101 120.5,-95 126.5,-89 132.5,-89 132.5,-89 225.5,-89 225.5,-89 231.5,-89 237.5,-95 237.5,-101 237.5,-101 237.5,-145 237.5,-145 237.5,-151 231.5,-157 225.5,-157\"/>\n",
       "<text text-anchor=\"middle\" x=\"179\" y=\"-141.8\" font-family=\"Helvetica,sans-Serif\" font-size=\"14.00\" fill=\"#000000\">X[6] &lt;= &#45;3.312</text>\n",
       "<text text-anchor=\"middle\" x=\"179\" y=\"-126.8\" font-family=\"Helvetica,sans-Serif\" font-size=\"14.00\" fill=\"#000000\">gini = 0.014</text>\n",
       "<text text-anchor=\"middle\" x=\"179\" y=\"-111.8\" font-family=\"Helvetica,sans-Serif\" font-size=\"14.00\" fill=\"#000000\">samples = 1008</text>\n",
       "<text text-anchor=\"middle\" x=\"179\" y=\"-96.8\" font-family=\"Helvetica,sans-Serif\" font-size=\"14.00\" fill=\"#000000\">value = [1001, 7]</text>\n",
       "</g>\n",
       "<!-- 1&#45;&gt;2 -->\n",
       "<g id=\"edge2\" class=\"edge\">\n",
       "<title>1&#45;&gt;2</title>\n",
       "<path fill=\"none\" stroke=\"#000000\" d=\"M295.3533,-192.9465C279.0737,-183.1599 261.186,-172.4066 244.423,-162.3294\"/>\n",
       "<polygon fill=\"#000000\" stroke=\"#000000\" points=\"246.1478,-159.2826 235.7739,-157.13 242.5412,-165.282 246.1478,-159.2826\"/>\n",
       "</g>\n",
       "<!-- 5 -->\n",
       "<g id=\"node6\" class=\"node\">\n",
       "<title>5</title>\n",
       "<path fill=\"#ea995e\" stroke=\"#000000\" d=\"M395,-157C395,-157 309,-157 309,-157 303,-157 297,-151 297,-145 297,-145 297,-101 297,-101 297,-95 303,-89 309,-89 309,-89 395,-89 395,-89 401,-89 407,-95 407,-101 407,-101 407,-145 407,-145 407,-151 401,-157 395,-157\"/>\n",
       "<text text-anchor=\"middle\" x=\"352\" y=\"-141.8\" font-family=\"Helvetica,sans-Serif\" font-size=\"14.00\" fill=\"#000000\">X[4] &lt;= &#45;4.25</text>\n",
       "<text text-anchor=\"middle\" x=\"352\" y=\"-126.8\" font-family=\"Helvetica,sans-Serif\" font-size=\"14.00\" fill=\"#000000\">gini = 0.268</text>\n",
       "<text text-anchor=\"middle\" x=\"352\" y=\"-111.8\" font-family=\"Helvetica,sans-Serif\" font-size=\"14.00\" fill=\"#000000\">samples = 88</text>\n",
       "<text text-anchor=\"middle\" x=\"352\" y=\"-96.8\" font-family=\"Helvetica,sans-Serif\" font-size=\"14.00\" fill=\"#000000\">value = [74, 14]</text>\n",
       "</g>\n",
       "<!-- 1&#45;&gt;5 -->\n",
       "<g id=\"edge5\" class=\"edge\">\n",
       "<title>1&#45;&gt;5</title>\n",
       "<path fill=\"none\" stroke=\"#000000\" d=\"M352,-192.9465C352,-184.776 352,-175.9318 352,-167.3697\"/>\n",
       "<polygon fill=\"#000000\" stroke=\"#000000\" points=\"355.5001,-167.13 352,-157.13 348.5001,-167.13 355.5001,-167.13\"/>\n",
       "</g>\n",
       "<!-- 3 -->\n",
       "<g id=\"node4\" class=\"node\">\n",
       "<title>3</title>\n",
       "<path fill=\"#e58139\" stroke=\"#000000\" d=\"M98,-53C98,-53 12,-53 12,-53 6,-53 0,-47 0,-41 0,-41 0,-12 0,-12 0,-6 6,0 12,0 12,0 98,0 98,0 104,0 110,-6 110,-12 110,-12 110,-41 110,-41 110,-47 104,-53 98,-53\"/>\n",
       "<text text-anchor=\"middle\" x=\"55\" y=\"-37.8\" font-family=\"Helvetica,sans-Serif\" font-size=\"14.00\" fill=\"#000000\">gini = 0.004</text>\n",
       "<text text-anchor=\"middle\" x=\"55\" y=\"-22.8\" font-family=\"Helvetica,sans-Serif\" font-size=\"14.00\" fill=\"#000000\">samples = 934</text>\n",
       "<text text-anchor=\"middle\" x=\"55\" y=\"-7.8\" font-family=\"Helvetica,sans-Serif\" font-size=\"14.00\" fill=\"#000000\">value = [932, 2]</text>\n",
       "</g>\n",
       "<!-- 2&#45;&gt;3 -->\n",
       "<g id=\"edge3\" class=\"edge\">\n",
       "<title>2&#45;&gt;3</title>\n",
       "<path fill=\"none\" stroke=\"#000000\" d=\"M135.2822,-88.9777C123.0451,-79.4545 109.7645,-69.1191 97.5934,-59.6473\"/>\n",
       "<polygon fill=\"#000000\" stroke=\"#000000\" points=\"99.4125,-56.628 89.3711,-53.2485 95.1134,-62.1523 99.4125,-56.628\"/>\n",
       "</g>\n",
       "<!-- 4 -->\n",
       "<g id=\"node5\" class=\"node\">\n",
       "<title>4</title>\n",
       "<path fill=\"#e78a47\" stroke=\"#000000\" d=\"M218,-53C218,-53 140,-53 140,-53 134,-53 128,-47 128,-41 128,-41 128,-12 128,-12 128,-6 134,0 140,0 140,0 218,0 218,0 224,0 230,-6 230,-12 230,-12 230,-41 230,-41 230,-47 224,-53 218,-53\"/>\n",
       "<text text-anchor=\"middle\" x=\"179\" y=\"-37.8\" font-family=\"Helvetica,sans-Serif\" font-size=\"14.00\" fill=\"#000000\">gini = 0.126</text>\n",
       "<text text-anchor=\"middle\" x=\"179\" y=\"-22.8\" font-family=\"Helvetica,sans-Serif\" font-size=\"14.00\" fill=\"#000000\">samples = 74</text>\n",
       "<text text-anchor=\"middle\" x=\"179\" y=\"-7.8\" font-family=\"Helvetica,sans-Serif\" font-size=\"14.00\" fill=\"#000000\">value = [69, 5]</text>\n",
       "</g>\n",
       "<!-- 2&#45;&gt;4 -->\n",
       "<g id=\"edge4\" class=\"edge\">\n",
       "<title>2&#45;&gt;4</title>\n",
       "<path fill=\"none\" stroke=\"#000000\" d=\"M179,-88.9777C179,-80.7364 179,-71.887 179,-63.5153\"/>\n",
       "<polygon fill=\"#000000\" stroke=\"#000000\" points=\"182.5001,-63.2484 179,-53.2485 175.5001,-63.2485 182.5001,-63.2484\"/>\n",
       "</g>\n",
       "<!-- 6 -->\n",
       "<g id=\"node7\" class=\"node\">\n",
       "<title>6</title>\n",
       "<path fill=\"#399de5\" stroke=\"#000000\" d=\"M331.5,-53C331.5,-53 260.5,-53 260.5,-53 254.5,-53 248.5,-47 248.5,-41 248.5,-41 248.5,-12 248.5,-12 248.5,-6 254.5,0 260.5,0 260.5,0 331.5,0 331.5,0 337.5,0 343.5,-6 343.5,-12 343.5,-12 343.5,-41 343.5,-41 343.5,-47 337.5,-53 331.5,-53\"/>\n",
       "<text text-anchor=\"middle\" x=\"296\" y=\"-37.8\" font-family=\"Helvetica,sans-Serif\" font-size=\"14.00\" fill=\"#000000\">gini = 0.0</text>\n",
       "<text text-anchor=\"middle\" x=\"296\" y=\"-22.8\" font-family=\"Helvetica,sans-Serif\" font-size=\"14.00\" fill=\"#000000\">samples = 4</text>\n",
       "<text text-anchor=\"middle\" x=\"296\" y=\"-7.8\" font-family=\"Helvetica,sans-Serif\" font-size=\"14.00\" fill=\"#000000\">value = [0, 4]</text>\n",
       "</g>\n",
       "<!-- 5&#45;&gt;6 -->\n",
       "<g id=\"edge6\" class=\"edge\">\n",
       "<title>5&#45;&gt;6</title>\n",
       "<path fill=\"none\" stroke=\"#000000\" d=\"M332.2565,-88.9777C327.2083,-80.2786 321.7669,-70.9018 316.6734,-62.1247\"/>\n",
       "<polygon fill=\"#000000\" stroke=\"#000000\" points=\"319.5689,-60.1409 311.5224,-53.2485 313.5145,-63.6544 319.5689,-60.1409\"/>\n",
       "</g>\n",
       "<!-- 7 -->\n",
       "<g id=\"node8\" class=\"node\">\n",
       "<title>7</title>\n",
       "<path fill=\"#e99254\" stroke=\"#000000\" d=\"M460,-53C460,-53 374,-53 374,-53 368,-53 362,-47 362,-41 362,-41 362,-12 362,-12 362,-6 368,0 374,0 374,0 460,0 460,0 466,0 472,-6 472,-12 472,-12 472,-41 472,-41 472,-47 466,-53 460,-53\"/>\n",
       "<text text-anchor=\"middle\" x=\"417\" y=\"-37.8\" font-family=\"Helvetica,sans-Serif\" font-size=\"14.00\" fill=\"#000000\">gini = 0.21</text>\n",
       "<text text-anchor=\"middle\" x=\"417\" y=\"-22.8\" font-family=\"Helvetica,sans-Serif\" font-size=\"14.00\" fill=\"#000000\">samples = 84</text>\n",
       "<text text-anchor=\"middle\" x=\"417\" y=\"-7.8\" font-family=\"Helvetica,sans-Serif\" font-size=\"14.00\" fill=\"#000000\">value = [74, 10]</text>\n",
       "</g>\n",
       "<!-- 5&#45;&gt;7 -->\n",
       "<g id=\"edge7\" class=\"edge\">\n",
       "<title>5&#45;&gt;7</title>\n",
       "<path fill=\"none\" stroke=\"#000000\" d=\"M374.9166,-88.9777C380.8994,-80.0954 387.3582,-70.5067 393.377,-61.5711\"/>\n",
       "<polygon fill=\"#000000\" stroke=\"#000000\" points=\"396.2991,-63.4978 398.9829,-53.2485 390.4933,-59.5871 396.2991,-63.4978\"/>\n",
       "</g>\n",
       "<!-- 9 -->\n",
       "<g id=\"node10\" class=\"node\">\n",
       "<title>9</title>\n",
       "<path fill=\"#5fb0ea\" stroke=\"#000000\" d=\"M666,-157C666,-157 558,-157 558,-157 552,-157 546,-151 546,-145 546,-145 546,-101 546,-101 546,-95 552,-89 558,-89 558,-89 666,-89 666,-89 672,-89 678,-95 678,-101 678,-101 678,-145 678,-145 678,-151 672,-157 666,-157\"/>\n",
       "<text text-anchor=\"middle\" x=\"612\" y=\"-141.8\" font-family=\"Helvetica,sans-Serif\" font-size=\"14.00\" fill=\"#000000\">X[3] &lt;= &#45;2.438</text>\n",
       "<text text-anchor=\"middle\" x=\"612\" y=\"-126.8\" font-family=\"Helvetica,sans-Serif\" font-size=\"14.00\" fill=\"#000000\">gini = 0.269</text>\n",
       "<text text-anchor=\"middle\" x=\"612\" y=\"-111.8\" font-family=\"Helvetica,sans-Serif\" font-size=\"14.00\" fill=\"#000000\">samples = 2520</text>\n",
       "<text text-anchor=\"middle\" x=\"612\" y=\"-96.8\" font-family=\"Helvetica,sans-Serif\" font-size=\"14.00\" fill=\"#000000\">value = [403, 2117]</text>\n",
       "</g>\n",
       "<!-- 8&#45;&gt;9 -->\n",
       "<g id=\"edge9\" class=\"edge\">\n",
       "<title>8&#45;&gt;9</title>\n",
       "<path fill=\"none\" stroke=\"#000000\" d=\"M612,-192.9465C612,-184.776 612,-175.9318 612,-167.3697\"/>\n",
       "<polygon fill=\"#000000\" stroke=\"#000000\" points=\"615.5001,-167.13 612,-157.13 608.5001,-167.13 615.5001,-167.13\"/>\n",
       "</g>\n",
       "<!-- 12 -->\n",
       "<g id=\"node13\" class=\"node\">\n",
       "<title>12</title>\n",
       "<path fill=\"#e68844\" stroke=\"#000000\" d=\"M869.5,-157C869.5,-157 776.5,-157 776.5,-157 770.5,-157 764.5,-151 764.5,-145 764.5,-145 764.5,-101 764.5,-101 764.5,-95 770.5,-89 776.5,-89 776.5,-89 869.5,-89 869.5,-89 875.5,-89 881.5,-95 881.5,-101 881.5,-101 881.5,-145 881.5,-145 881.5,-151 875.5,-157 869.5,-157\"/>\n",
       "<text text-anchor=\"middle\" x=\"823\" y=\"-141.8\" font-family=\"Helvetica,sans-Serif\" font-size=\"14.00\" fill=\"#000000\">X[6] &lt;= 1.062</text>\n",
       "<text text-anchor=\"middle\" x=\"823\" y=\"-126.8\" font-family=\"Helvetica,sans-Serif\" font-size=\"14.00\" fill=\"#000000\">gini = 0.099</text>\n",
       "<text text-anchor=\"middle\" x=\"823\" y=\"-111.8\" font-family=\"Helvetica,sans-Serif\" font-size=\"14.00\" fill=\"#000000\">samples = 743</text>\n",
       "<text text-anchor=\"middle\" x=\"823\" y=\"-96.8\" font-family=\"Helvetica,sans-Serif\" font-size=\"14.00\" fill=\"#000000\">value = [704, 39]</text>\n",
       "</g>\n",
       "<!-- 8&#45;&gt;12 -->\n",
       "<g id=\"edge12\" class=\"edge\">\n",
       "<title>8&#45;&gt;12</title>\n",
       "<path fill=\"none\" stroke=\"#000000\" d=\"M681.0893,-192.9465C704.8566,-181.2318 731.4339,-168.1321 755.1052,-156.4647\"/>\n",
       "<polygon fill=\"#000000\" stroke=\"#000000\" points=\"756.9426,-159.4612 764.3649,-151.9007 753.8479,-153.1825 756.9426,-159.4612\"/>\n",
       "</g>\n",
       "<!-- 10 -->\n",
       "<g id=\"node11\" class=\"node\">\n",
       "<title>10</title>\n",
       "<path fill=\"#f2c2a0\" stroke=\"#000000\" d=\"M588,-53C588,-53 502,-53 502,-53 496,-53 490,-47 490,-41 490,-41 490,-12 490,-12 490,-6 496,0 502,0 502,0 588,0 588,0 594,0 600,-6 600,-12 600,-12 600,-41 600,-41 600,-47 594,-53 588,-53\"/>\n",
       "<text text-anchor=\"middle\" x=\"545\" y=\"-37.8\" font-family=\"Helvetica,sans-Serif\" font-size=\"14.00\" fill=\"#000000\">gini = 0.45</text>\n",
       "<text text-anchor=\"middle\" x=\"545\" y=\"-22.8\" font-family=\"Helvetica,sans-Serif\" font-size=\"14.00\" fill=\"#000000\">samples = 85</text>\n",
       "<text text-anchor=\"middle\" x=\"545\" y=\"-7.8\" font-family=\"Helvetica,sans-Serif\" font-size=\"14.00\" fill=\"#000000\">value = [56, 29]</text>\n",
       "</g>\n",
       "<!-- 9&#45;&gt;10 -->\n",
       "<g id=\"edge10\" class=\"edge\">\n",
       "<title>9&#45;&gt;10</title>\n",
       "<path fill=\"none\" stroke=\"#000000\" d=\"M588.3783,-88.9777C582.2113,-80.0954 575.5539,-70.5067 569.3499,-61.5711\"/>\n",
       "<polygon fill=\"#000000\" stroke=\"#000000\" points=\"572.1497,-59.4666 563.5715,-53.2485 566.3997,-63.4589 572.1497,-59.4666\"/>\n",
       "</g>\n",
       "<!-- 11 -->\n",
       "<g id=\"node12\" class=\"node\">\n",
       "<title>11</title>\n",
       "<path fill=\"#5aade9\" stroke=\"#000000\" d=\"M738,-53C738,-53 630,-53 630,-53 624,-53 618,-47 618,-41 618,-41 618,-12 618,-12 618,-6 624,0 630,0 630,0 738,0 738,0 744,0 750,-6 750,-12 750,-12 750,-41 750,-41 750,-47 744,-53 738,-53\"/>\n",
       "<text text-anchor=\"middle\" x=\"684\" y=\"-37.8\" font-family=\"Helvetica,sans-Serif\" font-size=\"14.00\" fill=\"#000000\">gini = 0.244</text>\n",
       "<text text-anchor=\"middle\" x=\"684\" y=\"-22.8\" font-family=\"Helvetica,sans-Serif\" font-size=\"14.00\" fill=\"#000000\">samples = 2435</text>\n",
       "<text text-anchor=\"middle\" x=\"684\" y=\"-7.8\" font-family=\"Helvetica,sans-Serif\" font-size=\"14.00\" fill=\"#000000\">value = [347, 2088]</text>\n",
       "</g>\n",
       "<!-- 9&#45;&gt;11 -->\n",
       "<g id=\"edge11\" class=\"edge\">\n",
       "<title>9&#45;&gt;11</title>\n",
       "<path fill=\"none\" stroke=\"#000000\" d=\"M637.3845,-88.9777C644.08,-80.0039 651.3135,-70.3089 658.039,-61.295\"/>\n",
       "<polygon fill=\"#000000\" stroke=\"#000000\" points=\"660.8677,-63.3565 664.0426,-53.2485 655.2573,-59.1704 660.8677,-63.3565\"/>\n",
       "</g>\n",
       "<!-- 13 -->\n",
       "<g id=\"node14\" class=\"node\">\n",
       "<title>13</title>\n",
       "<path fill=\"#f2c29f\" stroke=\"#000000\" d=\"M866,-53C866,-53 780,-53 780,-53 774,-53 768,-47 768,-41 768,-41 768,-12 768,-12 768,-6 774,0 780,0 780,0 866,0 866,0 872,0 878,-6 878,-12 878,-12 878,-41 878,-41 878,-47 872,-53 866,-53\"/>\n",
       "<text text-anchor=\"middle\" x=\"823\" y=\"-37.8\" font-family=\"Helvetica,sans-Serif\" font-size=\"14.00\" fill=\"#000000\">gini = 0.449</text>\n",
       "<text text-anchor=\"middle\" x=\"823\" y=\"-22.8\" font-family=\"Helvetica,sans-Serif\" font-size=\"14.00\" fill=\"#000000\">samples = 53</text>\n",
       "<text text-anchor=\"middle\" x=\"823\" y=\"-7.8\" font-family=\"Helvetica,sans-Serif\" font-size=\"14.00\" fill=\"#000000\">value = [35, 18]</text>\n",
       "</g>\n",
       "<!-- 12&#45;&gt;13 -->\n",
       "<g id=\"edge13\" class=\"edge\">\n",
       "<title>12&#45;&gt;13</title>\n",
       "<path fill=\"none\" stroke=\"#000000\" d=\"M823,-88.9777C823,-80.7364 823,-71.887 823,-63.5153\"/>\n",
       "<polygon fill=\"#000000\" stroke=\"#000000\" points=\"826.5001,-63.2484 823,-53.2485 819.5001,-63.2485 826.5001,-63.2484\"/>\n",
       "</g>\n",
       "<!-- 14 -->\n",
       "<g id=\"node15\" class=\"node\">\n",
       "<title>14</title>\n",
       "<path fill=\"#e6853f\" stroke=\"#000000\" d=\"M1001.5,-53C1001.5,-53 908.5,-53 908.5,-53 902.5,-53 896.5,-47 896.5,-41 896.5,-41 896.5,-12 896.5,-12 896.5,-6 902.5,0 908.5,0 908.5,0 1001.5,0 1001.5,0 1007.5,0 1013.5,-6 1013.5,-12 1013.5,-12 1013.5,-41 1013.5,-41 1013.5,-47 1007.5,-53 1001.5,-53\"/>\n",
       "<text text-anchor=\"middle\" x=\"955\" y=\"-37.8\" font-family=\"Helvetica,sans-Serif\" font-size=\"14.00\" fill=\"#000000\">gini = 0.059</text>\n",
       "<text text-anchor=\"middle\" x=\"955\" y=\"-22.8\" font-family=\"Helvetica,sans-Serif\" font-size=\"14.00\" fill=\"#000000\">samples = 690</text>\n",
       "<text text-anchor=\"middle\" x=\"955\" y=\"-7.8\" font-family=\"Helvetica,sans-Serif\" font-size=\"14.00\" fill=\"#000000\">value = [669, 21]</text>\n",
       "</g>\n",
       "<!-- 12&#45;&gt;14 -->\n",
       "<g id=\"edge14\" class=\"edge\">\n",
       "<title>12&#45;&gt;14</title>\n",
       "<path fill=\"none\" stroke=\"#000000\" d=\"M869.5383,-88.9777C882.6901,-79.3629 896.9743,-68.9203 910.032,-59.3743\"/>\n",
       "<polygon fill=\"#000000\" stroke=\"#000000\" points=\"912.4042,-61.9757 918.4114,-53.2485 908.273,-56.3247 912.4042,-61.9757\"/>\n",
       "</g>\n",
       "</g>\n",
       "</svg>\n"
      ],
      "text/plain": [
       "<graphviz.files.Source at 0x7f4e5c8322b0>"
      ]
     },
     "execution_count": 75,
     "metadata": {},
     "output_type": "execute_result"
    }
   ],
   "source": [
    "from sklearn import tree\n",
    "import graphviz \n",
    "dot_data = tree.export_graphviz(dt_clf_simple, out_file=None, filled=True, rounded=True)  \n",
    "graph = graphviz.Source(dot_data) \n",
    "graph"
   ]
  },
  {
   "cell_type": "markdown",
   "metadata": {
    "deletable": false,
    "editable": false,
    "nbgrader": {
     "cell_type": "markdown",
     "checksum": "8de6d9d01e791326f701de0697902970",
     "grade": false,
     "grade_id": "cell-3273989405b4ba1b",
     "locked": true,
     "schema_version": 3,
     "solution": false,
     "task": false
    }
   },
   "source": [
    "Hopefully you'll come to a similar conclusion than with manual inspection."
   ]
  },
  {
   "cell_type": "code",
   "execution_count": 76,
   "metadata": {
    "deletable": false,
    "nbgrader": {
     "cell_type": "code",
     "checksum": "7f273ccf4b1b5433c21f362b5b3edf33",
     "grade": false,
     "grade_id": "cell-97fc4c0d0ac0c06c",
     "locked": false,
     "schema_version": 3,
     "solution": true,
     "task": false
    }
   },
   "outputs": [],
   "source": [
    "feat_1 = 3 #42 is obviously nonsense, replace by the correct feature\n",
    "feat_2 = 6# ensure that feat_1 < feat_2\n",
    "# YOUR CODE HERE\n",
    "#aise NotImplementedError()"
   ]
  },
  {
   "cell_type": "code",
   "execution_count": null,
   "metadata": {
    "deletable": false,
    "editable": false,
    "nbgrader": {
     "cell_type": "code",
     "checksum": "299a9e47627066f9d20bee8a68d369b1",
     "grade": true,
     "grade_id": "cell-7ab1d153fa98eb3d",
     "locked": true,
     "points": 0,
     "schema_version": 3,
     "solution": false,
     "task": false
    }
   },
   "outputs": [],
   "source": []
  },
  {
   "cell_type": "markdown",
   "metadata": {
    "deletable": false,
    "editable": false,
    "nbgrader": {
     "cell_type": "markdown",
     "checksum": "8763a3f2f6fa3d82802b99041644018e",
     "grade": false,
     "grade_id": "cell-7bff6afb2c3b922a",
     "locked": true,
     "schema_version": 3,
     "solution": false,
     "task": false
    }
   },
   "source": [
    "One of the features is clearly dominant. Which other feature to use is a bit less clear cut. In any case use the one with the lower number. We are next going to look at SVMs. Those work best with small to medium data sets.\n",
    "\n",
    "Create a new subset of the data (`X_binary_subset` and `y_binary_subset`) containing only the 2 features you chose and only every 3rd sample."
   ]
  },
  {
   "cell_type": "code",
   "execution_count": 77,
   "metadata": {
    "deletable": false,
    "nbgrader": {
     "cell_type": "code",
     "checksum": "df6d8dd8937fd43dd774b3c5f1706881",
     "grade": false,
     "grade_id": "cell-a6be45f64a76f37a",
     "locked": false,
     "schema_version": 3,
     "solution": true,
     "task": false
    }
   },
   "outputs": [],
   "source": [
    "# YOUR CODE HERE\n",
    "#raise NotImplementedError()\n",
    "X_binary_subset = X_binary_avg[0:-1:3,(3,6)]\n",
    "y_binary_subset = np.reshape(y_binary[0:-1:3],(1938,1))\n",
    "#print(X_binary_avg)\n",
    "#print(np.shape(y_binary_subset))\n",
    "#print(np.shape(X_binary_subset))"
   ]
  },
  {
   "cell_type": "code",
   "execution_count": 78,
   "metadata": {
    "deletable": false,
    "editable": false,
    "nbgrader": {
     "cell_type": "code",
     "checksum": "be4d74f2ccc5a72b8c27daff0fdc7f8e",
     "grade": true,
     "grade_id": "cell-53c8681590e84abb",
     "locked": true,
     "points": 1,
     "schema_version": 3,
     "solution": false,
     "task": false
    }
   },
   "outputs": [],
   "source": [
    "assert X_binary_subset.shape[0] == 1938\n",
    "assert y_binary_subset.shape[0] == 1938\n",
    "assert X_binary_subset.shape[1] == 2\n",
    "assert X_binary_subset[0,0] == 0.5\n",
    "assert X_binary_subset[1937,0] == -0.375\n",
    "assert y_binary_subset[1937] == 1"
   ]
  },
  {
   "cell_type": "code",
   "execution_count": 79,
   "metadata": {},
   "outputs": [],
   "source": [
    "#if you are stuck here, uncomment the lines below to load variables\n",
    "\n",
    "#npzfile = np.load('./get_unstuck/binary_subset.npz')\n",
    "#X_binary_subset = npzfile['X_binary_subset']\n",
    "#y_binary_subset = npzfile['y_binary_subset']\n",
    "#print(X_binary_subset)\n",
    "y_binary_subset = y_binary[0:-1:3]"
   ]
  },
  {
   "cell_type": "markdown",
   "metadata": {
    "deletable": false,
    "editable": false,
    "nbgrader": {
     "cell_type": "markdown",
     "checksum": "233acd28741088c360e15f20e4cc5957",
     "grade": false,
     "grade_id": "cell-dfafa226001ccddf",
     "locked": true,
     "schema_version": 3,
     "solution": false,
     "task": false
    }
   },
   "source": [
    "Again some setup of the data etc."
   ]
  },
  {
   "cell_type": "code",
   "execution_count": 80,
   "metadata": {
    "deletable": false,
    "editable": false,
    "nbgrader": {
     "cell_type": "code",
     "checksum": "612c94f6bc8e81f2535843f19c6b418e",
     "grade": false,
     "grade_id": "cell-9c07530ece09be9d",
     "locked": true,
     "schema_version": 3,
     "solution": false,
     "task": false
    }
   },
   "outputs": [],
   "source": [
    "# Splitting the dataset into the Training set and Test set\n",
    "from sklearn.model_selection import train_test_split\n",
    "X_subset_train, X_subset_test, y_subset_train, y_subset_test = train_test_split(X_binary_subset, y_binary_subset, test_size = 0.25, random_state = 0)\n",
    "\n",
    "axes_subset = np.array([X_binary_subset[:, 0].min() - 1, X_binary_subset[:, 0].max() + 1, X_binary_subset[:, 1].min() - 1, X_binary_subset[:, 1].max() + 1])\n"
   ]
  },
  {
   "cell_type": "markdown",
   "metadata": {
    "deletable": false,
    "editable": false,
    "nbgrader": {
     "cell_type": "markdown",
     "checksum": "a38e8e84306125e5a8ffae5bfb901f3d",
     "grade": false,
     "grade_id": "cell-c9cbb9b65ecddb46",
     "locked": true,
     "schema_version": 3,
     "solution": false,
     "task": false
    }
   },
   "source": [
    "Here is a random forest classifier to see how well we can still perform on this very reduced dataset."
   ]
  },
  {
   "cell_type": "code",
   "execution_count": 81,
   "metadata": {},
   "outputs": [],
   "source": [
    "#y_binary_subset = y_binary[0:-1:3]\n",
    "#print(np.shape(y_binary_subset))\n",
    "#print(np.shape(y_subset_train))"
   ]
  },
  {
   "cell_type": "code",
   "execution_count": 82,
   "metadata": {
    "deletable": false,
    "editable": false,
    "nbgrader": {
     "cell_type": "code",
     "checksum": "b2a6428524fc904c0e4e5d47a58d037d",
     "grade": false,
     "grade_id": "cell-6101f91405275b03",
     "locked": true,
     "schema_version": 3,
     "solution": false,
     "task": false
    }
   },
   "outputs": [
    {
     "name": "stdout",
     "output_type": "stream",
     "text": [
      "rf accuracy score: 0.9010309278350516\n",
      "rf confusion matrix:\n",
      " [[221  26]\n",
      " [ 22 216]]\n"
     ]
    },
    {
     "data": {
      "image/png": "[encoded data removed]",
      "text/plain": [
       "<Figure size 432x288 with 1 Axes>"
      ]
     },
     "metadata": {
      "needs_background": "light"
     },
     "output_type": "display_data"
    }
   ],
   "source": [
    "# Defining and fitting mutliple classifiers\n",
    "from sklearn.ensemble import RandomForestClassifier\n",
    "\n",
    "rf_clf_subset = RandomForestClassifier(random_state=0)\n",
    "rf_clf_subset.fit(X_subset_train, y_subset_train)\n",
    "\n",
    "# Predicting the Test set results\n",
    "rf_y_subset_pred = rf_clf_subset.predict(X_subset_test)\n",
    "\n",
    "print_accuracy_confusion(y_subset_test, rf_y_subset_pred, 'rf')\n",
    "plot_feature_space_function(rf_clf_subset.predict, X_binary_subset, y_binary_subset, axes_subset)"
   ]
  },
  {
   "cell_type": "markdown",
   "metadata": {
    "deletable": false,
    "editable": false,
    "nbgrader": {
     "cell_type": "markdown",
     "checksum": "9c71d2d725c5819c7cc4a0ec29c4f543",
     "grade": false,
     "grade_id": "cell-6b3d2a4fa4325887",
     "locked": true,
     "schema_version": 3,
     "solution": false,
     "task": false
    }
   },
   "source": [
    "We can still do surprisingly well compared to the full dataset, even though we have drastically reduced the number of features.\n",
    "\n",
    "Now create an no-linear SVM classifier `svm_clf_subset` that beats the random forest classifier in terms of accuracy."
   ]
  },
  {
   "cell_type": "code",
   "execution_count": 83,
   "metadata": {
    "deletable": false,
    "nbgrader": {
     "cell_type": "code",
     "checksum": "13ebfd8fc866c7a522686b363ba53a2e",
     "grade": false,
     "grade_id": "cell-2304532fe44da893",
     "locked": false,
     "schema_version": 3,
     "solution": true,
     "task": false
    }
   },
   "outputs": [
    {
     "name": "stdout",
     "output_type": "stream",
     "text": [
      "svm accuracy score: 0.934020618556701\n",
      "svm confusion matrix:\n",
      " [[227  20]\n",
      " [ 12 226]]\n"
     ]
    },
    {
     "data": {
      "image/png": "[encoded data removed]",
      "text/plain": [
       "<Figure size 432x288 with 1 Axes>"
      ]
     },
     "metadata": {
      "needs_background": "light"
     },
     "output_type": "display_data"
    }
   ],
   "source": [
    "# YOUR CODE HERE\n",
    "#raise NotImplementedError()\n",
    "from sklearn.svm import NuSVC\n",
    "\n",
    "svm_clf_subset = NuSVC(gamma='auto')\n",
    "svm_clf_subset.fit(X_subset_train, y_subset_train)\n",
    "\n",
    "svm_y_subset_pred = svm_clf_subset.predict(X_subset_test)\n",
    "#rf_clf_subset.predict, X_binary_subset, y_binary_subset, axes_subset\n",
    "#print(np.shape(rf_y_subset_pred))\n",
    "#print(np.shape(svm_y_subset_pred))\n",
    "\n",
    "\n",
    "print_accuracy_confusion(y_subset_test, svm_y_subset_pred, 'svm')\n",
    "plot_feature_space_function(svm_clf_subset.predict, X_binary_subset, y_binary_subset, axes_subset)"
   ]
  },
  {
   "cell_type": "code",
   "execution_count": 84,
   "metadata": {
    "deletable": false,
    "editable": false,
    "nbgrader": {
     "cell_type": "code",
     "checksum": "a8c34bc2d8164fb7d5b8ce6b86cc519f",
     "grade": true,
     "grade_id": "cell-9311bb578419ce2a",
     "locked": true,
     "points": 2,
     "schema_version": 3,
     "solution": false,
     "task": false
    }
   },
   "outputs": [],
   "source": [
    "assert accuracy_score(y_subset_test, svm_y_subset_pred) > 0.90103"
   ]
  },
  {
   "cell_type": "markdown",
   "metadata": {
    "deletable": false,
    "editable": false,
    "nbgrader": {
     "cell_type": "markdown",
     "checksum": "7010305e57144b81d798bf34d7d60bc0",
     "grade": false,
     "grade_id": "cell-348dcdd01e2a3e67",
     "locked": true,
     "schema_version": 3,
     "solution": false,
     "task": false
    }
   },
   "source": [
    "Next we are going to re-implement a linear SVM. As the data above can clearly not be separated by a linear decision boundary, so we'll transform it once more. This obviously does not remove the overlap of the classes. Finally, the definition of an SVM expects labels/targets with -1 for one class and +1 for the other, so we also change the labels accordingly."
   ]
  },
  {
   "cell_type": "code",
   "execution_count": 85,
   "metadata": {
    "deletable": false,
    "editable": false,
    "nbgrader": {
     "cell_type": "code",
     "checksum": "48fcdb72c03e4642d667a87a79e6a363",
     "grade": false,
     "grade_id": "cell-3892615979f61539",
     "locked": true,
     "schema_version": 3,
     "solution": false,
     "task": false
    }
   },
   "outputs": [
    {
     "data": {
      "image/png": "[encoded data removed]",
      "text/plain": [
       "<Figure size 432x288 with 1 Axes>"
      ]
     },
     "metadata": {
      "needs_background": "light"
     },
     "output_type": "display_data"
    }
   ],
   "source": [
    "X_lin = np.abs(X_binary_subset)\n",
    "y_lin = 2.*y_binary_subset - 1.\n",
    "\n",
    "plot_data(np.abs(X_lin), y_lin, 0, 1, -1, 1)\n",
    "plt.title('Absolute value')\n",
    "\n",
    "# Splitting the dataset into the Training set and Test set\n",
    "from sklearn.model_selection import train_test_split\n",
    "X_train, X_test, y_train, y_test = train_test_split(X_lin, y_lin, test_size = 0.25, random_state = 0)\n",
    "\n",
    "axes = np.array([X_lin[:, 0].min() - 1, X_lin[:, 0].max() + 1, X_lin[:, 1].min() - 1, X_lin[:, 1].max() + 1])"
   ]
  },
  {
   "cell_type": "markdown",
   "metadata": {
    "deletable": false,
    "editable": false,
    "nbgrader": {
     "cell_type": "markdown",
     "checksum": "8c2b28d830d14fcb6e94c7f923aca137",
     "grade": false,
     "grade_id": "cell-28cffd0caba7b9c6",
     "locked": true,
     "schema_version": 3,
     "solution": false,
     "task": false
    }
   },
   "source": [
    "Let's see how well linear classifiers do now..."
   ]
  },
  {
   "cell_type": "code",
   "execution_count": 86,
   "metadata": {
    "deletable": false,
    "editable": false,
    "nbgrader": {
     "cell_type": "code",
     "checksum": "8b21e79389add1ea6d99b06ea0bb3440",
     "grade": false,
     "grade_id": "cell-53a17ab3c2f57d34",
     "locked": true,
     "schema_version": 3,
     "solution": false,
     "task": false
    }
   },
   "outputs": [
    {
     "name": "stdout",
     "output_type": "stream",
     "text": [
      "sgd accuracy score: 0.845360824742268\n",
      "sgd confusion matrix:\n",
      " [[228  19]\n",
      " [ 56 182]]\n"
     ]
    },
    {
     "data": {
      "image/png": "[encoded data removed]",
      "text/plain": [
       "<Figure size 432x288 with 1 Axes>"
      ]
     },
     "metadata": {
      "needs_background": "light"
     },
     "output_type": "display_data"
    }
   ],
   "source": [
    "from sklearn.linear_model import SGDClassifier\n",
    "sgd_clf = SGDClassifier(random_state=0)\n",
    "sgd_clf.fit(X_train, y_train);\n",
    "sgd_y_pred = sgd_clf.predict(X_test)\n",
    "print_accuracy_confusion(y_test, sgd_y_pred, 'sgd')\n",
    "plot_feature_space_function(sgd_clf.predict, X_lin, y_lin, axes, -1 ,1)"
   ]
  },
  {
   "cell_type": "markdown",
   "metadata": {
    "deletable": false,
    "editable": false,
    "nbgrader": {
     "cell_type": "markdown",
     "checksum": "0f626e0273de0b56e1dc8b01d1123a32",
     "grade": false,
     "grade_id": "cell-eab3cadb2c452ba9",
     "locked": true,
     "schema_version": 3,
     "solution": false,
     "task": false
    }
   },
   "source": [
    "Actually a lot better than on the initial dataset...\n",
    "\n",
    "Now let's test with a linear SVM (using a linear kernel achieves the same as using LinearSVC, but this way of doing it gives us access to the support vectors). We'll compare our own implementation to this one later on."
   ]
  },
  {
   "cell_type": "code",
   "execution_count": 87,
   "metadata": {
    "deletable": false,
    "editable": false,
    "nbgrader": {
     "cell_type": "code",
     "checksum": "273d6c69b4d2391eb9e2f497b33a8629",
     "grade": false,
     "grade_id": "cell-17f604f7187ba43b",
     "locked": true,
     "schema_version": 3,
     "solution": false,
     "task": false
    }
   },
   "outputs": [
    {
     "name": "stdout",
     "output_type": "stream",
     "text": [
      "lin_svm accuracy score: 0.8907216494845361\n",
      "lin_svm confusion matrix:\n",
      " [[202  45]\n",
      " [  8 230]]\n"
     ]
    },
    {
     "data": {
      "text/plain": [
       "<matplotlib.legend.Legend at 0x7f4e841b7610>"
      ]
     },
     "execution_count": 87,
     "metadata": {},
     "output_type": "execute_result"
    },
    {
     "data": {
      "image/png": "[encoded data removed]",
      "text/plain": [
       "<Figure size 432x288 with 1 Axes>"
      ]
     },
     "metadata": {
      "needs_background": "light"
     },
     "output_type": "display_data"
    }
   ],
   "source": [
    "from sklearn.svm import SVC\n",
    "lin_svm_clf = SVC(kernel=\"linear\", C=2)\n",
    "lin_svm_clf.fit(X_train, y_train)\n",
    "lin_svm_y_pred = lin_svm_clf.predict(X_test)\n",
    "\n",
    "print_accuracy_confusion(y_test, lin_svm_y_pred, 'lin_svm')\n",
    "plot_feature_space_function(lin_svm_clf.predict, X_lin, y_lin, axes, -1, 1)\n",
    "svs = lin_svm_clf.support_vectors_\n",
    "plt.scatter(svs[:, 0], svs[:, 1], s=1, facecolors='#009900', label='support vectors')\n",
    "plt.legend()"
   ]
  },
  {
   "cell_type": "markdown",
   "metadata": {
    "deletable": false,
    "editable": false,
    "nbgrader": {
     "cell_type": "markdown",
     "checksum": "9d77ec4eaf45f0d3589b837964382d03",
     "grade": false,
     "grade_id": "cell-9ba0f8b1c083f050",
     "locked": true,
     "schema_version": 3,
     "solution": false,
     "task": false
    }
   },
   "source": [
    "Is the data linearly separable?\n",
    "Do we hence use a hard margin or a soft margin SVM?"
   ]
  },
  {
   "cell_type": "code",
   "execution_count": 88,
   "metadata": {
    "deletable": false,
    "nbgrader": {
     "cell_type": "code",
     "checksum": "d180d5356076108d60aca472de7851d4",
     "grade": false,
     "grade_id": "cell-6936a4bdba0b0d19",
     "locked": false,
     "schema_version": 3,
     "solution": true,
     "task": false
    }
   },
   "outputs": [],
   "source": [
    "#uncomment the correct answers\n",
    "\n",
    "linearly_separable = 'yes'\n",
    "#linearly_separable = 'no'\n",
    "\n",
    "#SVM_margin = 'hard'\n",
    "SVM_margin = 'soft'\n",
    "\n",
    "# YOUR CODE HERE\n",
    "#raise NotImplementedError()"
   ]
  },
  {
   "cell_type": "code",
   "execution_count": null,
   "metadata": {
    "deletable": false,
    "editable": false,
    "nbgrader": {
     "cell_type": "code",
     "checksum": "3979ef877a29c1af5935cde6f15f48c2",
     "grade": true,
     "grade_id": "cell-c498612561b2cd60",
     "locked": true,
     "points": 1,
     "schema_version": 3,
     "solution": false,
     "task": false
    }
   },
   "outputs": [],
   "source": []
  },
  {
   "cell_type": "markdown",
   "metadata": {
    "deletable": false,
    "editable": false,
    "nbgrader": {
     "cell_type": "markdown",
     "checksum": "14d8dea80bef5cbf9c723499ca159a6c",
     "grade": false,
     "grade_id": "cell-c5e1eea9da4dd571",
     "locked": true,
     "schema_version": 3,
     "solution": false,
     "task": false
    }
   },
   "source": [
    "\n",
    "### Re-implemeting a linear SVM classifier"
   ]
  },
  {
   "cell_type": "markdown",
   "metadata": {
    "deletable": false,
    "editable": false,
    "nbgrader": {
     "cell_type": "markdown",
     "checksum": "92554d2a0346517ff5f1e7ab63d408cf",
     "grade": false,
     "grade_id": "cell-18630899c33c7443",
     "locked": true,
     "schema_version": 3,
     "solution": false,
     "task": false
    }
   },
   "source": [
    "We are using CVXOPT to solve the quadratic programming problem. According to https://cvxopt.org/userguide/coneprog.html#quadratic-programming the optimization problem needs to be in the following form\n",
    "\n",
    "$$\\begin{array}[t]{ll}\\mbox{minimize} & (1/2) x^TPx + q^T x \\\\\\mbox{subject to} & Gx \\preceq h \\\\ & Ax = b\\end{array}$$\n",
    "\n",
    "with the corresponding API\n",
    "`cvxopt.solvers.qp(P, q[, G, h[, A, b[, solver[, initvals]]]])`\n",
    "\n",
    "The dual form of the hard margin linear SVM objective is (page 169 of the book)\n",
    "\n",
    "$$\\min_{\\alpha} \\frac{1}{2} \\sum_{i}^m \\sum_{j}^m \\alpha^{(i)}\\alpha^{(j)}t^{(i)}t^{(j)}\\mathbf{x}^{(i)\\mathsf{T}}\\mathbf{x}^{(j)}  - \\sum_{i=1}^m \\alpha^{(i)}$$\n",
    "$$\\textrm{subject to } \\alpha^{(i)} \\geq 0 $$\n",
    "\n",
    "Rewriting the SVM objective in vector/matrix form, and changing the constraint to the correct form, we get\n",
    "\n",
    "$$\\min_{\\alpha} \\frac{1}{2} \\boldsymbol{\\alpha}^{\\mathsf{T}} \\mathbf{H} \\boldsymbol{\\alpha} -  \\mathbf{1}^{\\mathsf{T}}\\boldsymbol{\\alpha}$$\n",
    "$$\\textrm{subject to } -\\boldsymbol{\\alpha} \\leq \\boldsymbol{0} $$\n",
    "where matrix $\\mathbf{H}$ has elements $H_{i,j} = t^{(i)}t^{(j)}\\mathbf{x}^{(i)\\mathsf{T}}\\mathbf{x}^{(j)}$\n",
    "\n",
    "we additionally know that $\\sum_i^m \\alpha^{(i)} t^{(i)} = 0 $ (page 763) which can be rewritten to $\\ \\mathbf{t}^{\\mathsf{T}}\\boldsymbol{\\alpha} = 0 $"
   ]
  },
  {
   "cell_type": "markdown",
   "metadata": {
    "deletable": false,
    "editable": false,
    "nbgrader": {
     "cell_type": "markdown",
     "checksum": "7563be8317aaf2cfa45991adad3d7f16",
     "grade": false,
     "grade_id": "cell-11df6664af20d70d",
     "locked": true,
     "schema_version": 3,
     "solution": false,
     "task": false
    }
   },
   "source": [
    "Now map the terms from the SVM objective to the CVXOPT syntax"
   ]
  },
  {
   "cell_type": "code",
   "execution_count": 89,
   "metadata": {
    "deletable": false,
    "nbgrader": {
     "cell_type": "code",
     "checksum": "585e55a4d7fd1bf88e5bfcd091416c87",
     "grade": false,
     "grade_id": "cell-019330c6e32789d9",
     "locked": false,
     "schema_version": 3,
     "solution": true,
     "task": false
    }
   },
   "outputs": [],
   "source": [
    "# use 'alpha', 'H', 't', 'ones', 'identity', zero', 'zeros'\n",
    "# for negtive values '-alpha' etc.\n",
    "x = '-alpha'\n",
    "P = 'H'\n",
    "q = 'identity'\n",
    "G = 'identity'\n",
    "h = 'zeros'\n",
    "A = 't.T'\n",
    "b = 'zero'\n",
    "# YOUR CODE HERE\n",
    "#raise NotImplementedError()"
   ]
  },
  {
   "cell_type": "code",
   "execution_count": null,
   "metadata": {
    "deletable": false,
    "editable": false,
    "nbgrader": {
     "cell_type": "code",
     "checksum": "0eac50bff4e4f6d0694806a0aeca7509",
     "grade": true,
     "grade_id": "cell-3c4be1b71c0d205e",
     "locked": true,
     "points": 2,
     "schema_version": 3,
     "solution": false,
     "task": false
    }
   },
   "outputs": [],
   "source": []
  },
  {
   "cell_type": "markdown",
   "metadata": {
    "deletable": false,
    "editable": false,
    "nbgrader": {
     "cell_type": "markdown",
     "checksum": "828d9655e1f7fd2470e86522776a5ff3",
     "grade": false,
     "grade_id": "cell-b5fb1c4ed0c65b4c",
     "locked": true,
     "schema_version": 3,
     "solution": false,
     "task": false
    }
   },
   "source": [
    "For the soft margin SVM the constraint changes to $C \\geq \\alpha^{(i)} \\geq 0$ so we get\n",
    "$$\n",
    "\\begin{aligned}\n",
    "    \\min_{\\alpha} & \\frac{1}{2} \\boldsymbol{\\alpha}^{\\mathsf{T}} \\mathbf{H} \\boldsymbol{\\alpha} -  \\mathbf{1}^{\\mathsf{T}}\\boldsymbol{\\alpha}\n",
    "    \\\\\n",
    "     \\textrm{subject to } & -\\boldsymbol{\\alpha} \\leq \\boldsymbol{0} \n",
    "    \\\\\n",
    "     & \\boldsymbol{\\alpha} \\leq \\boldsymbol{C}\n",
    "     \\\\\n",
    "     & \\mathbf{t}^{\\mathsf{T}}\\boldsymbol{\\alpha} = 0  \n",
    "\\end{aligned}$$\n",
    "where the two inequalities can be stacked in a combined matrix/vector `G` and `h`.\n"
   ]
  },
  {
   "cell_type": "markdown",
   "metadata": {
    "deletable": false,
    "editable": false,
    "nbgrader": {
     "cell_type": "markdown",
     "checksum": "56216e6b67f8ad6546340eef0696bb61",
     "grade": false,
     "grade_id": "cell-3a5e016e3b9cedd0",
     "locked": true,
     "schema_version": 3,
     "solution": false,
     "task": false
    }
   },
   "source": [
    "The only remaining question is now: \"How can we efficiently calculate $\\mathbf{H}$?\" Let's consider a simple example with 2 samples $\\{x^{(1)}, x^{(2)}\\} \\in \\mathbb{R}^2$ which are two dimensional vectors. i.e. $\\mathbf{x}^{(1)} = (x_1^{(1)} , x_2^{(1)})^\\mathsf{T}$\n",
    "\n",
    "$$X = \\begin{bmatrix} x_1^{(1)} & x_2^{(1)} \\\\ x_1^{(2)} & x_2^{(2)} \\end{bmatrix} \\ \\ \\ t = \\begin{bmatrix} t^{(1)}  \\\\ t^{(2)} \\end{bmatrix}$$\n",
    "\n",
    "We now proceed to creating a new matrix $\\mathbf{X}'$ where each input sample $\\mathbf{x}$ is multiplied by the corresponding output label $t$. This can be done easily in Numpy using vectorization and padding.\n",
    "\n",
    "$$\\mathbf{X}' = \\begin{bmatrix} x^{(1)}_1 t^{(1)} & x^{(1)}_2t^{(1)} \\\\\n",
    "x^{(2)}_1t^{(2)} & x^{(2)}_2t^{(2)} \\end{bmatrix}$$\n",
    "\n",
    "Finally we take the matrix multiplication of $\\mathbf{X}'$ and its transpose giving\n",
    "\n",
    "$$\\mathbf{H} = {\\mathbf{X}'} {\\mathbf{X}'^\\mathsf{T}} = \\begin{bmatrix} x^{(1)}_1 t^{(1)} & x^{(1)}_2t^{(1)} \\\\\n",
    "x^{(2)}_1t^{(2)} & x^{(2)}_2t^{(2)} \\end{bmatrix} \\begin{bmatrix} x^{(1)}_1 t^{(1)} & x^{(2)}_1 t^{(2)}  \\\\\n",
    "x^{(1)}_2t^{(1)} & x^{(2)}_2t^{(2)} \\end{bmatrix}$$\n",
    "\n",
    "$$\\mathbf{H} = \\begin{bmatrix}  x^{(1)}_1 x^{(1)}_1t^{(1)}t^{(1)} + x^{(1)}_2x^{(1)}_2t^{(1)}t^{(1)} & x^{(1)}_1 x^{(2)}_1t^{(1)}t^{(2)} + x^{(1)}_2x^{(2)}_2t^{(1)}t^{(2)} \\\\ x^{(2)}_1 x^{(1)}_1t^{(2)}t^{(1)} + x^{(2)}_2x^{(1)}_2t^{(2)}t^{(1)} & x^{(2)}_1 x^{(2)}_1t^{(2)}t^{(2)} + x^{(2)}_2x^{(2)}_2t^{(2)}t^{(2)} \\end{bmatrix}$$"
   ]
  },
  {
   "cell_type": "markdown",
   "metadata": {
    "deletable": false,
    "editable": false,
    "nbgrader": {
     "cell_type": "markdown",
     "checksum": "1070ced91ba0bdf7e0be92ceb1e0bd8c",
     "grade": false,
     "grade_id": "cell-33e302cc29da46ec",
     "locked": true,
     "schema_version": 3,
     "solution": false,
     "task": false
    }
   },
   "source": [
    "#### Install cvxopt\n",
    "The `tf2` environment does not include a solver for QPs. So we need to install an additional package. This is easy to do on a command line with\n",
    "`conda install cvxopt`"
   ]
  },
  {
   "cell_type": "code",
   "execution_count": 90,
   "metadata": {
    "deletable": false,
    "editable": false,
    "nbgrader": {
     "cell_type": "code",
     "checksum": "d3c61c4d45a8776f9374ac66d48685ca",
     "grade": false,
     "grade_id": "cell-93894b3e78261818",
     "locked": true,
     "schema_version": 3,
     "solution": false,
     "task": false
    }
   },
   "outputs": [],
   "source": [
    "#Importing with custom names to avoid issues with numpy / sympy matrix\n",
    "from cvxopt import matrix as cvxopt_matrix\n",
    "from cvxopt import solvers as cvxopt_solvers\n",
    "\n",
    "#Initializing values\n",
    "C = 2\n",
    "m,n = X_train.shape"
   ]
  },
  {
   "cell_type": "code",
   "execution_count": 91,
   "metadata": {
    "deletable": false,
    "nbgrader": {
     "cell_type": "code",
     "checksum": "c5444dc634b64baa09c723ca32d56900",
     "grade": false,
     "grade_id": "cell-4a79f06c849d59da",
     "locked": false,
     "schema_version": 3,
     "solution": true,
     "task": false
    }
   },
   "outputs": [],
   "source": [
    "#Calculating H\n",
    "# YOUR CODE HERE\n",
    "X_traindash = np.zeros(np.shape(X_train))\n",
    "for i in range(np.shape(X_train)[1]):\n",
    "    for j in range(len(X_train)):\n",
    "        X_traindash[j,i] = X_train[j,i] * y_train[j]\n",
    "\n",
    "H = np.matmul(X_traindash,X_traindash.T)\n"
   ]
  },
  {
   "cell_type": "code",
   "execution_count": 92,
   "metadata": {
    "deletable": false,
    "editable": false,
    "nbgrader": {
     "cell_type": "code",
     "checksum": "9aced0e85d211a11160d82bee4010575",
     "grade": true,
     "grade_id": "cell-9cc7f82127b8848b",
     "locked": true,
     "points": 2,
     "schema_version": 3,
     "solution": false,
     "task": false
    }
   },
   "outputs": [],
   "source": [
    "assert H.shape[0] == 1453\n",
    "assert H.shape[1] == 1453\n",
    "assert H[0,0] == 1.265625\n",
    "assert H[-1,-1] == 0.5625"
   ]
  },
  {
   "cell_type": "code",
   "execution_count": 93,
   "metadata": {
    "deletable": false,
    "nbgrader": {
     "cell_type": "code",
     "checksum": "267d7c1d491612ebd68d7f0edf884bd7",
     "grade": false,
     "grade_id": "cell-18c8091cbf810d2d",
     "locked": false,
     "schema_version": 3,
     "solution": true,
     "task": false
    }
   },
   "outputs": [],
   "source": [
    "# YOUR CODE HERE\n",
    "#P = H\n",
    "#q = -1 * np.ones((1453,1))\n",
    "#G = np.concatenate((-1 *np.identity(1453),np.identity(1453)),axis=0)\n",
    "#h = np.zeros((2906))\n",
    "#print(np.transpose(y_train))\n",
    "#A = np.reshape(y_train.T,(len(y_train.T),1))\n",
    "#b = np.array([0])\n",
    "#b = b.astype('float')\n",
    "#print(b)\n",
    "#print(h.ndim)\n",
    "#print(-1 *np.identity(1453))\n",
    "#raise NotImplementedError()"
   ]
  },
  {
   "cell_type": "code",
   "execution_count": 94,
   "metadata": {
    "deletable": false,
    "editable": false,
    "nbgrader": {
     "cell_type": "code",
     "checksum": "decc8f9ded889a77928382f22632dce4",
     "grade": true,
     "grade_id": "cell-f0a62a2221a2ec3c",
     "locked": true,
     "points": 4,
     "schema_version": 3,
     "solution": false,
     "task": false
    }
   },
   "outputs": [
    {
     "ename": "AttributeError",
     "evalue": "'str' object has no attribute 'shape'",
     "output_type": "error",
     "traceback": [
      "\u001b[0;31m---------------------------------------------------------------------------\u001b[0m",
      "\u001b[0;31mAttributeError\u001b[0m                            Traceback (most recent call last)",
      "\u001b[0;32m<ipython-input-94-b8bf71679300>\u001b[0m in \u001b[0;36m<module>\u001b[0;34m\u001b[0m\n\u001b[0;32m----> 1\u001b[0;31m \u001b[0;32massert\u001b[0m \u001b[0mP\u001b[0m\u001b[0;34m.\u001b[0m\u001b[0mshape\u001b[0m\u001b[0;34m[\u001b[0m\u001b[0;36m0\u001b[0m\u001b[0;34m]\u001b[0m \u001b[0;34m==\u001b[0m \u001b[0;36m1453\u001b[0m\u001b[0;34m\u001b[0m\u001b[0;34m\u001b[0m\u001b[0m\n\u001b[0m\u001b[1;32m      2\u001b[0m \u001b[0;32massert\u001b[0m \u001b[0mP\u001b[0m\u001b[0;34m.\u001b[0m\u001b[0mshape\u001b[0m\u001b[0;34m[\u001b[0m\u001b[0;36m1\u001b[0m\u001b[0;34m]\u001b[0m \u001b[0;34m==\u001b[0m \u001b[0;36m1453\u001b[0m\u001b[0;34m\u001b[0m\u001b[0;34m\u001b[0m\u001b[0m\n\u001b[1;32m      3\u001b[0m \u001b[0;34m\u001b[0m\u001b[0m\n\u001b[1;32m      4\u001b[0m \u001b[0;32massert\u001b[0m \u001b[0mq\u001b[0m\u001b[0;34m.\u001b[0m\u001b[0mshape\u001b[0m\u001b[0;34m[\u001b[0m\u001b[0;36m0\u001b[0m\u001b[0;34m]\u001b[0m \u001b[0;34m==\u001b[0m \u001b[0;36m1453\u001b[0m\u001b[0;34m\u001b[0m\u001b[0;34m\u001b[0m\u001b[0m\n\u001b[1;32m      5\u001b[0m \u001b[0;32massert\u001b[0m \u001b[0mq\u001b[0m\u001b[0;34m.\u001b[0m\u001b[0mshape\u001b[0m\u001b[0;34m[\u001b[0m\u001b[0;36m1\u001b[0m\u001b[0;34m]\u001b[0m \u001b[0;34m==\u001b[0m \u001b[0;36m1\u001b[0m\u001b[0;34m\u001b[0m\u001b[0;34m\u001b[0m\u001b[0m\n",
      "\u001b[0;31mAttributeError\u001b[0m: 'str' object has no attribute 'shape'"
     ]
    }
   ],
   "source": [
    "assert P.shape[0] == 1453\n",
    "assert P.shape[1] == 1453\n",
    "\n",
    "assert q.shape[0] == 1453\n",
    "assert q.shape[1] == 1\n",
    "assert q[0,0] == -1\n",
    "\n",
    "assert G.shape[0] == 2906\n",
    "assert G.shape[1] == 1453\n",
    "assert G[-1,-1] == 1.0\n",
    "\n",
    "assert h.shape[0] == 2906\n",
    "assert h.ndim == 1\n",
    "assert h[0] == 0.0\n",
    "\n",
    "assert A.shape[0] == 1\n",
    "assert A.shape[1] == 1453\n",
    "assert A[0,0] == 1.0\n",
    "\n",
    "assert b.shape[0] == 1\n",
    "assert b.ndim == 1\n"
   ]
  },
  {
   "cell_type": "code",
   "execution_count": 95,
   "metadata": {},
   "outputs": [],
   "source": [
    "#if you are stuck here, uncomment the lines below to load variables\n",
    "\n",
    "npzfile = np.load('./get_unstuck/cvxopt.npz')\n",
    "P = npzfile['P']\n",
    "q = npzfile['q']\n",
    "G = npzfile['G']\n",
    "h = npzfile['h']\n",
    "A = npzfile['A']\n",
    "b = npzfile['b']\n",
    "#print(b)\n",
    "#print(A)"
   ]
  },
  {
   "cell_type": "markdown",
   "metadata": {
    "deletable": false,
    "editable": false,
    "nbgrader": {
     "cell_type": "markdown",
     "checksum": "2696a6c0daaeab7c3f4c13e377b47496",
     "grade": false,
     "grade_id": "cell-e13535b615000caa",
     "locked": true,
     "schema_version": 3,
     "solution": false,
     "task": false
    }
   },
   "source": [
    "Now we are almost ready to run the solver..."
   ]
  },
  {
   "cell_type": "code",
   "execution_count": 96,
   "metadata": {
    "deletable": false,
    "editable": false,
    "nbgrader": {
     "cell_type": "code",
     "checksum": "90b2886e2984ee9b524c1b131135cdd0",
     "grade": false,
     "grade_id": "cell-6dab062bafd57b64",
     "locked": true,
     "schema_version": 3,
     "solution": false,
     "task": false
    }
   },
   "outputs": [],
   "source": [
    "#Converting into cvxopt format\n",
    "P = cvxopt_matrix(P)\n",
    "q = cvxopt_matrix(q)\n",
    "G = cvxopt_matrix(G)\n",
    "h = cvxopt_matrix(h)\n",
    "A = cvxopt_matrix(A)\n",
    "b = cvxopt_matrix(b)\n",
    "\n",
    "#Setting solver parameters \n",
    "cvxopt_solvers.options['show_progress'] = False\n",
    "cvxopt_solvers.options['abstol'] = 1e-10\n",
    "cvxopt_solvers.options['reltol'] = 1e-10\n",
    "cvxopt_solvers.options['feastol'] = 1e-10"
   ]
  },
  {
   "cell_type": "markdown",
   "metadata": {
    "deletable": false,
    "editable": false,
    "nbgrader": {
     "cell_type": "markdown",
     "checksum": "c8757f5a9a11feb379a5ec71ec7ed27c",
     "grade": false,
     "grade_id": "cell-ada8d93154bf5320",
     "locked": true,
     "schema_version": 3,
     "solution": false,
     "task": false
    }
   },
   "source": [
    "Run the solver and store the results in `sol`"
   ]
  },
  {
   "cell_type": "code",
   "execution_count": 97,
   "metadata": {
    "deletable": false,
    "nbgrader": {
     "cell_type": "code",
     "checksum": "2177de7819ddb85b4e145c962f53098a",
     "grade": false,
     "grade_id": "cell-9b524cbbbe4b23b4",
     "locked": false,
     "schema_version": 3,
     "solution": true,
     "task": false
    }
   },
   "outputs": [],
   "source": [
    "# YOUR CODE HERE\n",
    "#raise NotImplementedError()\n",
    "#from cvxopt import solvers\n",
    "\n",
    "sol = cvxopt_solvers.qp(P, q, G, h, A, b)\n",
    "#print(sol)\n",
    "alphas = np.array(sol['x'])\n",
    "#print(alphas)"
   ]
  },
  {
   "cell_type": "code",
   "execution_count": 98,
   "metadata": {
    "deletable": false,
    "editable": false,
    "nbgrader": {
     "cell_type": "code",
     "checksum": "866d021aab04c38977551f0b7fbc6d4f",
     "grade": true,
     "grade_id": "cell-12a49d56e5d129b2",
     "locked": true,
     "points": 2,
     "schema_version": 3,
     "solution": false,
     "task": false
    }
   },
   "outputs": [],
   "source": [
    "assert isinstance(sol, dict)\n",
    "assert 'primal objective' in sol.keys()\n",
    "assert alphas.shape[0] == 1453\n"
   ]
  },
  {
   "cell_type": "markdown",
   "metadata": {
    "deletable": false,
    "editable": false,
    "nbgrader": {
     "cell_type": "markdown",
     "checksum": "16339f268d3a24447b0c6af68fcef613",
     "grade": false,
     "grade_id": "cell-adbc2b8bd17ba02e",
     "locked": true,
     "schema_version": 3,
     "solution": false,
     "task": false
    }
   },
   "source": [
    "Calculate `w_svm` and `b_svm` (see page 169)"
   ]
  },
  {
   "cell_type": "code",
   "execution_count": 99,
   "metadata": {
    "deletable": false,
    "nbgrader": {
     "cell_type": "code",
     "checksum": "6b1b78f3ed00997cff8cd3121bce42a1",
     "grade": false,
     "grade_id": "cell-5b6e3d887dcd32d6",
     "locked": false,
     "schema_version": 3,
     "solution": true,
     "task": false
    }
   },
   "outputs": [
    {
     "name": "stdout",
     "output_type": "stream",
     "text": [
      "w =  [-0.42666667 -1.06666667]\n",
      "b =  2.061274725243283\n"
     ]
    }
   ],
   "source": [
    "#==================Computing parameters===============================#\n",
    "# use a threshold of 1e-4 (rather than 0) for computing b\n",
    "#print(X_train.shape)\n",
    "#print(type(X_train))\n",
    "#print(type(alphas))\n",
    "#print(type(y_train))\n",
    "\n",
    "# YOUR CODE HERE\n",
    "#raise NotImplementedError()\n",
    "y_train = np.reshape(y_train,(1453,1))\n",
    "X_train1 = np.reshape(X_train[:,0],(1453,1))\n",
    "X_train2 = np.reshape(X_train[:,1],(1453,1))\n",
    "w_svm = np.array([np.sum(((alphas * y_train)* X_train1)), np.sum(((alphas * y_train)* X_train2))])\n",
    "diff_term = np.array([])\n",
    "for i in range(len(y_train)):\n",
    "    if (alphas[i] > 1e-4):\n",
    "        diff_term = np.append(diff_term,(y_train[i] - np.matmul(X_train[i],w_svm.T))) \n",
    "        \n",
    "#print(diff_term.shape)\n",
    "b_svm = (1/len(diff_term)) * np.sum(diff_term) \n",
    "\n",
    "#Display results\n",
    "w_svm = w_svm.flatten()\n",
    "#print('Alphas = \\n',alphas[alphas > 1e-4])\n",
    "print('w = ', w_svm)\n",
    "print('b = ', b_svm)"
   ]
  },
  {
   "cell_type": "code",
   "execution_count": 100,
   "metadata": {
    "deletable": false,
    "editable": false,
    "nbgrader": {
     "cell_type": "code",
     "checksum": "ae1c05e5bb5f62481a1623e38a866283",
     "grade": true,
     "grade_id": "cell-2637a561213c57ff",
     "locked": true,
     "points": 3,
     "schema_version": 3,
     "solution": false,
     "task": false
    }
   },
   "outputs": [],
   "source": [
    "assert np.abs(w_svm[0] - -0.42666667) < 1e-6\n",
    "assert np.abs(b_svm - 2.06127472524322) < 1e-6\n"
   ]
  },
  {
   "cell_type": "markdown",
   "metadata": {
    "deletable": false,
    "editable": false,
    "nbgrader": {
     "cell_type": "markdown",
     "checksum": "38bc8051cb054334da4a242df4591c55",
     "grade": false,
     "grade_id": "cell-2e086eb5ff8abc3b",
     "locked": true,
     "schema_version": 3,
     "solution": false,
     "task": false
    }
   },
   "source": [
    "Implement the SVC prediction (see page 165)"
   ]
  },
  {
   "cell_type": "code",
   "execution_count": 101,
   "metadata": {
    "deletable": false,
    "nbgrader": {
     "cell_type": "code",
     "checksum": "7456bb124f068c8284f99cb54785eb17",
     "grade": false,
     "grade_id": "cell-0aaed0932cd77be5",
     "locked": false,
     "schema_version": 3,
     "solution": true,
     "task": false
    }
   },
   "outputs": [],
   "source": [
    "def own_svm_predict(b,w,X):\n",
    "    if (isinstance(X, list)):\n",
    "        y_pred = np.matmul(w,np.transpose(X)) + b\n",
    "        if (y_pred >= 0):\n",
    "            return 1\n",
    "        else:\n",
    "            return -1\n",
    "    else:\n",
    "        #print(type(X))\n",
    "        #print(len(X))\n",
    "        y_pred = np.array([])\n",
    "        for i in range(len(X)):\n",
    "            if (np.matmul(w,X[i].T)+b >= 0):\n",
    "                y_pred = np.append(y_pred,1)\n",
    "            else:\n",
    "                y_pred = np.append(y_pred,-1)\n",
    "            \n",
    "        return y_pred\n",
    "    \n",
    "#YOUR CODE HERE\n",
    "#raise NotImplementedError()\n"
   ]
  },
  {
   "cell_type": "code",
   "execution_count": 102,
   "metadata": {
    "deletable": false,
    "editable": false,
    "nbgrader": {
     "cell_type": "code",
     "checksum": "03f1af2c9ec3867ab3dfd08f56c690ef",
     "grade": true,
     "grade_id": "cell-b92088e8b41e4145",
     "locked": true,
     "points": 0,
     "schema_version": 3,
     "solution": false,
     "task": false
    }
   },
   "outputs": [],
   "source": [
    "assert own_svm_predict(1,[2, 3],[4, 5]) == 1\n",
    "assert own_svm_predict(-1,[0, 1],[1, 0]) == -1"
   ]
  },
  {
   "cell_type": "code",
   "execution_count": 103,
   "metadata": {
    "deletable": false,
    "editable": false,
    "nbgrader": {
     "cell_type": "code",
     "checksum": "932d7f546fd63230c027b9c41094e24c",
     "grade": false,
     "grade_id": "cell-86ba206969f3ccb6",
     "locked": true,
     "schema_version": 3,
     "solution": false,
     "task": false
    }
   },
   "outputs": [
    {
     "name": "stdout",
     "output_type": "stream",
     "text": [
      "own_svm accuracy score: 0.8948453608247423\n",
      "own_svm confusion matrix:\n",
      " [[219  28]\n",
      " [ 23 215]]\n"
     ]
    },
    {
     "data": {
      "image/png": "[encoded data removed]",
      "text/plain": [
       "<Figure size 432x288 with 1 Axes>"
      ]
     },
     "metadata": {
      "needs_background": "light"
     },
     "output_type": "display_data"
    }
   ],
   "source": [
    "own_svm_y_pred = own_svm_predict(b_svm,w_svm,X_test)\n",
    "print_accuracy_confusion(y_test, own_svm_y_pred, 'own_svm')\n",
    "\n",
    "# a few lines to make own_svm_predict work with plot_feature_space_function (without implementing a fullblown sklearn calssifier)\n",
    "import functools\n",
    "own_svm_predict_param = functools.partial(own_svm_predict, b_svm, w_svm)\n",
    "\n",
    "plot_feature_space_function(own_svm_predict_param, X_lin, y_lin, axes, -1, 1)"
   ]
  },
  {
   "cell_type": "markdown",
   "metadata": {
    "deletable": false,
    "editable": false,
    "nbgrader": {
     "cell_type": "markdown",
     "checksum": "bc77abbadcb20c760cba9603457100c5",
     "grade": false,
     "grade_id": "cell-eb09ad784e0508a5",
     "locked": true,
     "schema_version": 3,
     "solution": false,
     "task": false
    }
   },
   "source": [
    "Let's compare our solution to the one from sklearn"
   ]
  },
  {
   "cell_type": "code",
   "execution_count": 104,
   "metadata": {
    "deletable": false,
    "editable": false,
    "nbgrader": {
     "cell_type": "code",
     "checksum": "0475906ea1d3e1e6d9b275bb30af4b21",
     "grade": false,
     "grade_id": "cell-12a93884abb386fb",
     "locked": true,
     "schema_version": 3,
     "solution": false,
     "task": false
    }
   },
   "outputs": [
    {
     "name": "stdout",
     "output_type": "stream",
     "text": [
      "w =  [[-0.42697222 -1.06654914]]\n",
      "b =  [2.49401716]\n",
      "lin_svm accuracy score: 0.8907216494845361\n",
      "lin_svm confusion matrix:\n",
      " [[202  45]\n",
      " [  8 230]]\n"
     ]
    },
    {
     "data": {
      "image/png": "[encoded data removed]",
      "text/plain": [
       "<Figure size 432x288 with 1 Axes>"
      ]
     },
     "metadata": {
      "needs_background": "light"
     },
     "output_type": "display_data"
    }
   ],
   "source": [
    "print('w = ',lin_svm_clf.coef_)\n",
    "print('b = ',lin_svm_clf.intercept_)\n",
    "#print('Indices of support vectors = ', lin_svm_clf.support_)\n",
    "#print('Support vectors = ', lin_svm_clf.support_vectors_)\n",
    "#print('Number of support vectors for each class = ', lin_svm_clf.n_support_)\n",
    "#print('Coefficients of the support vector in the decision function = \\n', np.abs(lin_svm_clf.dual_coef_))\n",
    "\n",
    "print_accuracy_confusion(y_test, lin_svm_y_pred, 'lin_svm')\n",
    "plot_feature_space_function(lin_svm_clf.predict, X_lin, y_lin, axes, -1, 1)"
   ]
  },
  {
   "cell_type": "markdown",
   "metadata": {
    "deletable": false,
    "editable": false,
    "nbgrader": {
     "cell_type": "markdown",
     "checksum": "fcd792c4babda874a406e21550784292",
     "grade": false,
     "grade_id": "cell-7f0e247df65f8b16",
     "locked": true,
     "schema_version": 3,
     "solution": false,
     "task": false
    }
   },
   "source": [
    "Both the accuracy and the `w` parameter values should be close. Small differences occur depending on how the optimization is done (e.g., tolerances). As pointed out on page 763, there are multiple ways for calculating `b`. The book proposes to use the average rather than a single value. If we just use the first value instead, we are a lot closer to the sklearn parameter."
   ]
  },
  {
   "cell_type": "markdown",
   "metadata": {
    "deletable": false,
    "editable": false,
    "nbgrader": {
     "cell_type": "markdown",
     "checksum": "85c25c30490029f3d974d06d5d65beea",
     "grade": false,
     "grade_id": "cell-77acb04a49583f46",
     "locked": true,
     "schema_version": 3,
     "solution": false,
     "task": false
    }
   },
   "source": [
    "### Voting classifier\n",
    "\n",
    "We already tried quite a few classifiers on this data set. Let's try to combine them in an ensemble.\n",
    "\n",
    "First we'll define two more classifiers for the ensemble."
   ]
  },
  {
   "cell_type": "code",
   "execution_count": 105,
   "metadata": {
    "deletable": false,
    "editable": false,
    "nbgrader": {
     "cell_type": "code",
     "checksum": "1e4ef5e4e5c2687c6a01b1e8926b46a6",
     "grade": false,
     "grade_id": "cell-29808b1082deeb73",
     "locked": true,
     "schema_version": 3,
     "solution": false,
     "task": false
    }
   },
   "outputs": [
    {
     "name": "stderr",
     "output_type": "stream",
     "text": [
      "<ipython-input-105-9f8e331bcf6c>:3: DataConversionWarning: A column-vector y was passed when a 1d array was expected. Please change the shape of y to (n_samples,), for example using ravel().\n",
      "  rf_clf.fit(X_train, y_train)\n"
     ]
    },
    {
     "name": "stdout",
     "output_type": "stream",
     "text": [
      "rf accuracy score: 0.8701030927835052\n",
      "rf confusion matrix:\n",
      " [[210  37]\n",
      " [ 26 212]]\n"
     ]
    },
    {
     "data": {
      "image/png": "[encoded data removed]",
      "text/plain": [
       "<Figure size 432x288 with 1 Axes>"
      ]
     },
     "metadata": {
      "needs_background": "light"
     },
     "output_type": "display_data"
    }
   ],
   "source": [
    "from sklearn.ensemble import RandomForestClassifier\n",
    "rf_clf = RandomForestClassifier(random_state=0)\n",
    "rf_clf.fit(X_train, y_train)\n",
    "rf_y_pred = rf_clf.predict(X_test)\n",
    "print_accuracy_confusion(y_test, rf_y_pred, 'rf')\n",
    "plot_feature_space_function(rf_clf.predict, X_lin, y_lin, axes, -1, 1)"
   ]
  },
  {
   "cell_type": "code",
   "execution_count": 106,
   "metadata": {
    "deletable": false,
    "editable": false,
    "nbgrader": {
     "cell_type": "code",
     "checksum": "e962263f7b802b576f929cb3034fc69a",
     "grade": false,
     "grade_id": "cell-3eb33bc5caf92dc2",
     "locked": true,
     "schema_version": 3,
     "solution": false,
     "task": false
    }
   },
   "outputs": [
    {
     "name": "stderr",
     "output_type": "stream",
     "text": [
      "<ipython-input-106-71d020523f08>:3: DataConversionWarning: A column-vector y was passed when a 1d array was expected. Please change the shape of y to (n_samples, ), for example using ravel().\n",
      "  knn_clf.fit(X_train, y_train)\n"
     ]
    },
    {
     "name": "stdout",
     "output_type": "stream",
     "text": [
      "knn accuracy score: 0.8865979381443299\n",
      "knn confusion matrix:\n",
      " [[204  43]\n",
      " [ 12 226]]\n"
     ]
    },
    {
     "data": {
      "image/png": "[encoded data removed]",
      "text/plain": [
       "<Figure size 432x288 with 1 Axes>"
      ]
     },
     "metadata": {
      "needs_background": "light"
     },
     "output_type": "display_data"
    }
   ],
   "source": [
    "from sklearn.neighbors import KNeighborsClassifier\n",
    "knn_clf = KNeighborsClassifier(5)\n",
    "knn_clf.fit(X_train, y_train)\n",
    "knn_y_pred = knn_clf.predict(X_test)\n",
    "print_accuracy_confusion(y_test, knn_y_pred, 'knn')\n",
    "plot_feature_space_function(knn_clf.predict, X_lin, y_lin, axes, -1, 1)"
   ]
  },
  {
   "cell_type": "markdown",
   "metadata": {
    "deletable": false,
    "editable": false,
    "nbgrader": {
     "cell_type": "markdown",
     "checksum": "d8280e42bba6488500b4d7fad037591d",
     "grade": false,
     "grade_id": "cell-ad0a7b6b56d1f422",
     "locked": true,
     "schema_version": 3,
     "solution": false,
     "task": false
    }
   },
   "source": [
    "Combine the predictions of the SGD classifier `sgd_clf` (we implemented before looking into how to implement a linear SVM), the random forest `rf_clf`, and of the KNN `knn_clf` in one variable `combined_pred`"
   ]
  },
  {
   "cell_type": "code",
   "execution_count": 107,
   "metadata": {
    "deletable": false,
    "nbgrader": {
     "cell_type": "code",
     "checksum": "0e8bb4492d6b2e56e253bf79dc92fc08",
     "grade": false,
     "grade_id": "cell-8d13a36a3a68036d",
     "locked": false,
     "schema_version": 3,
     "solution": true,
     "task": false
    }
   },
   "outputs": [
    {
     "name": "stderr",
     "output_type": "stream",
     "text": [
      "/home/shantanu/anaconda3/lib/python3.8/site-packages/sklearn/utils/validation.py:72: DataConversionWarning: A column-vector y was passed when a 1d array was expected. Please change the shape of y to (n_samples, ), for example using ravel().\n",
      "  return f(**kwargs)\n"
     ]
    }
   ],
   "source": [
    "# YOUR CODE HERE\n",
    "#print(knn_y_pred)\n",
    "#print(rf_y_pred)\n",
    "\n",
    "sgd_clf = SGDClassifier(random_state=0)\n",
    "sgd_clf.fit(X_train, y_train)\n",
    "sgd_y_pred = sgd_clf.predict(X_test)\n",
    "\n",
    "#concatenation\n",
    "combined_pred = np.concatenate((sgd_y_pred,rf_y_pred,knn_y_pred),axis=0)\n",
    "combined_pred = np.reshape(combined_pred,(3,485))\n",
    "#print(combined_pred)\n",
    "#raise NotImplementedError()"
   ]
  },
  {
   "cell_type": "code",
   "execution_count": 108,
   "metadata": {
    "deletable": false,
    "editable": false,
    "nbgrader": {
     "cell_type": "code",
     "checksum": "c111eb6b0da903e9ad9588dd23ce9ac5",
     "grade": true,
     "grade_id": "cell-5a0e2431fb4f0bb9",
     "locked": true,
     "points": 0,
     "schema_version": 3,
     "solution": false,
     "task": false
    }
   },
   "outputs": [],
   "source": [
    "assert combined_pred.shape[0] == 3\n",
    "assert combined_pred.shape[1] == 485"
   ]
  },
  {
   "cell_type": "markdown",
   "metadata": {
    "deletable": false,
    "editable": false,
    "nbgrader": {
     "cell_type": "markdown",
     "checksum": "aecd8ee5be2a91866e420358d9c3ef64",
     "grade": false,
     "grade_id": "cell-43c40cdcb7b02965",
     "locked": true,
     "schema_version": 3,
     "solution": false,
     "task": false
    }
   },
   "source": [
    "Implement hard voting, i.e., generate a new variable `hard_voting_pred` where the prediction corresponds to that of the majority of the classifiers."
   ]
  },
  {
   "cell_type": "code",
   "execution_count": 109,
   "metadata": {
    "deletable": false,
    "nbgrader": {
     "cell_type": "code",
     "checksum": "aed3f4170136f92591a5894353eac28b",
     "grade": false,
     "grade_id": "cell-f3a52970a1dabc79",
     "locked": false,
     "schema_version": 3,
     "solution": true,
     "task": false
    }
   },
   "outputs": [
    {
     "name": "stdout",
     "output_type": "stream",
     "text": [
      "hard_voting accuracy score: 0.8927835051546392\n",
      "hard_voting confusion matrix:\n",
      " [[215  32]\n",
      " [ 20 218]]\n"
     ]
    }
   ],
   "source": [
    "# hint: use a `mode` function\n",
    "from scipy.stats import mode\n",
    "\n",
    "#print(combined_pred)\n",
    "\n",
    "hard_voting_pred = mode(combined_pred)[0]\n",
    "hard_voting_pred = np.transpose(hard_voting_pred)\n",
    "#print(hard_voting_pred.shape)\n",
    "# YOUR CODE HERE\n",
    "#raise NotImplementedError()\n",
    "\n",
    "print_accuracy_confusion(y_test, hard_voting_pred, 'hard_voting')"
   ]
  },
  {
   "cell_type": "code",
   "execution_count": 110,
   "metadata": {
    "deletable": false,
    "editable": false,
    "nbgrader": {
     "cell_type": "code",
     "checksum": "c9bfbaedaa564b48e847f331251070c3",
     "grade": true,
     "grade_id": "cell-d65b28fe6dbe2db6",
     "locked": true,
     "points": 0,
     "schema_version": 3,
     "solution": false,
     "task": false
    }
   },
   "outputs": [],
   "source": [
    "assert hard_voting_pred.shape[0] == 485\n",
    "assert hard_voting_pred.shape[1] == 1 or hard_voting_pred.ndim == 1\n",
    "assert accuracy_score(y_test, hard_voting_pred) > 0.8927"
   ]
  },
  {
   "cell_type": "markdown",
   "metadata": {
    "deletable": false,
    "editable": false,
    "nbgrader": {
     "cell_type": "markdown",
     "checksum": "2e551a93a7cab8930829f9c1701f726d",
     "grade": false,
     "grade_id": "cell-eeaaf7ec19ae29da",
     "locked": true,
     "schema_version": 3,
     "solution": false,
     "task": false
    }
   },
   "source": [
    "Even this very simple voting approach brings the 3 classifiers that don't perform that well individually to the same level as your best performing classifier we had so far, the linear SVM."
   ]
  },
  {
   "cell_type": "markdown",
   "metadata": {
    "deletable": false,
    "editable": false,
    "nbgrader": {
     "cell_type": "markdown",
     "checksum": "ea92db339b1bf56a11a50e0e0e381ae8",
     "grade": false,
     "grade_id": "cell-3325f249f44d44c6",
     "locked": true,
     "schema_version": 3,
     "solution": false,
     "task": false
    }
   },
   "source": [
    "### Bagging\n",
    "Now let's see what we can do with an ensemble of just our worst performing classifier, the SGD. The code is already provided below, your task is to adjust the parameters such that it beats the linear SVM by getting an accuracy >0.9"
   ]
  },
  {
   "cell_type": "code",
   "execution_count": 111,
   "metadata": {
    "deletable": false,
    "nbgrader": {
     "cell_type": "code",
     "checksum": "195611d32ab20cc2db497c20f1511749",
     "grade": false,
     "grade_id": "cell-fa0dcba5997172ba",
     "locked": false,
     "schema_version": 3,
     "solution": true,
     "task": false
    }
   },
   "outputs": [
    {
     "name": "stderr",
     "output_type": "stream",
     "text": [
      "/home/shantanu/anaconda3/lib/python3.8/site-packages/sklearn/utils/validation.py:72: DataConversionWarning: A column-vector y was passed when a 1d array was expected. Please change the shape of y to (n_samples, ), for example using ravel().\n",
      "  return f(**kwargs)\n"
     ]
    },
    {
     "name": "stdout",
     "output_type": "stream",
     "text": [
      "bag accuracy score: 0.9072164948453608\n",
      "bag confusion matrix:\n",
      " [[215  32]\n",
      " [ 13 225]]\n"
     ]
    }
   ],
   "source": [
    "# Bagging\n",
    "from sklearn.ensemble import BaggingClassifier\n",
    "from sklearn.linear_model import SGDClassifier\n",
    "\n",
    "n_estimators=100\n",
    "max_samples=100\n",
    "bootstrap=True\n",
    "\n",
    "# YOUR CODE HERE\n",
    "#raise NotImplementedError()\n",
    "\n",
    "bag_clf = BaggingClassifier(\n",
    "    SGDClassifier(random_state=0), n_estimators=n_estimators,\n",
    "    max_samples=max_samples, bootstrap=bootstrap, random_state=0)\n",
    "bag_clf.fit(X_train, y_train)\n",
    "bag_y_pred = bag_clf.predict(X_test)\n",
    "\n",
    "print_accuracy_confusion(y_test, bag_y_pred, 'bag')"
   ]
  },
  {
   "cell_type": "code",
   "execution_count": 112,
   "metadata": {
    "deletable": false,
    "editable": false,
    "nbgrader": {
     "cell_type": "code",
     "checksum": "59cd431591081323fda364d58f8e0e76",
     "grade": true,
     "grade_id": "cell-c1f8c0c9f7654358",
     "locked": true,
     "points": 1,
     "schema_version": 3,
     "solution": false,
     "task": false
    }
   },
   "outputs": [],
   "source": [
    "assert accuracy_score(y_test, bag_y_pred) > 0.9"
   ]
  },
  {
   "cell_type": "markdown",
   "metadata": {
    "deletable": false,
    "editable": false,
    "nbgrader": {
     "cell_type": "markdown",
     "checksum": "909fc8a7a34592c561f0d4c744a23d20",
     "grade": false,
     "grade_id": "cell-42b06e042af1fd8a",
     "locked": true,
     "schema_version": 3,
     "solution": false,
     "task": false
    }
   },
   "source": [
    "linear SVM implementation based on https://xavierbourretsicotte.github.io/SVM_implementation.html"
   ]
  },
  {
   "cell_type": "markdown",
   "metadata": {
    "deletable": false,
    "editable": false,
    "nbgrader": {
     "cell_type": "markdown",
     "checksum": "17025c9f28fb19bfd75fa0f1fa8786e9",
     "grade": false,
     "grade_id": "cell-27bc705c30da90bb",
     "locked": true,
     "schema_version": 3,
     "solution": false,
     "task": false
    }
   },
   "source": [
    "## Imitation Learning and Motion Planning"
   ]
  },
  {
   "cell_type": "markdown",
   "metadata": {
    "deletable": false,
    "editable": false,
    "nbgrader": {
     "cell_type": "markdown",
     "checksum": "20d7b524ad9e159018875a243e67e7a9",
     "grade": false,
     "grade_id": "cell-0c8be4495415555f",
     "locked": true,
     "schema_version": 3,
     "solution": false,
     "task": false
    }
   },
   "source": [
    "Motion planning is a field of robotics in which robots have to plan and execute a trajectory in order to reach a goal. The following image shows a manipulator reaching a goal while avoiding obstacles.\n",
    "\n",
    "<img src=\"img/manipulator_motion.png\" alt=\"drawing\" width=\"400\"/>\n",
    "\n",
    "Motion Planning algorithms have to be build/tunned by someone with knowledge in robotics/control. But, what if we aim to have, one day, robots in every type of setting, such as household environments? Would it be feasible to have a robotics/control engineer tunning robots for every case?\n",
    "\n",
    "### Imitation Learning\n",
    "A way to overcome this issue is to use Imitation Learning. Imitation Learning gives humans that are not experts in robotics/control the ability to program a robot. The idea is simple, a human provides a set of demontrations of how a task should be done and then the robot imitates this behavior using Supervised Learning.  \n",
    "\n",
    "### Goal\n",
    "\n",
    "In this part of the assignment, you will build a Motion Planning system that uses an Imitation Learning technique called Behavioral Cloning to fit a classifier to demonstrations provided by an oracle. \n",
    "\n",
    "* **Oracle:** a system that provides demonstrations of a task. In our motivation of the problem the oracle is a human. \n",
    "\n",
    "For practical reasons, in this assignment we are going to use a Motion Planning algorithm (Artificial Potential Fields, implementation from https://pythonrobotics.readthedocs.io/en/latest/modules/path_planning.html#potential-field-algorithm) as an oracle, and given that we are going to imitate its behavior, it is not required for you to know how this method works."
   ]
  },
  {
   "cell_type": "code",
   "execution_count": 113,
   "metadata": {
    "deletable": false,
    "editable": false,
    "nbgrader": {
     "cell_type": "code",
     "checksum": "74d88358de154f14305c13cada9736d5",
     "grade": false,
     "grade_id": "cell-010258c8925bee56",
     "locked": true,
     "schema_version": 3,
     "solution": false,
     "task": false
    }
   },
   "outputs": [],
   "source": [
    "from potential_field_planning import create_environment, potential_field_planning, classifier_planning\n",
    "import numpy as np\n",
    "import matplotlib.pyplot as plt"
   ]
  },
  {
   "cell_type": "markdown",
   "metadata": {
    "deletable": false,
    "editable": false,
    "nbgrader": {
     "cell_type": "markdown",
     "checksum": "c0b1793f96682362fd55ac80884b0a54",
     "grade": false,
     "grade_id": "cell-28b1160f8052cbd4",
     "locked": true,
     "schema_version": 3,
     "solution": false,
     "task": false
    }
   },
   "source": [
    "### First steps\n",
    "1) We have imported the function `create_environment`, which randomly generates an environment that consists of a starting point [sx, sy], a goal [gx, gy], and a number of obstacles [ox, oy]. The dimension of ox and oy is equal to the number of obstacles. \n",
    "\n",
    "Let us create an environment with one obstacle:"
   ]
  },
  {
   "cell_type": "code",
   "execution_count": 114,
   "metadata": {
    "deletable": false,
    "editable": false,
    "nbgrader": {
     "cell_type": "code",
     "checksum": "c7196cbaeb2559043978065fcddf5945",
     "grade": false,
     "grade_id": "cell-d82fcc0a45c97f44",
     "locked": true,
     "schema_version": 3,
     "solution": false,
     "task": false
    }
   },
   "outputs": [],
   "source": [
    "sx, sy, gx, gy, ox, oy = create_environment(n_obstacles=1, seed=1)"
   ]
  },
  {
   "cell_type": "markdown",
   "metadata": {
    "deletable": false,
    "editable": false,
    "nbgrader": {
     "cell_type": "markdown",
     "checksum": "4d5fdccf17e248131b4ce61de7881631",
     "grade": false,
     "grade_id": "cell-b5d4ae760f6eb2d0",
     "locked": true,
     "schema_version": 3,
     "solution": false,
     "task": false
    }
   },
   "source": [
    "**IMPORTANT:** do not modify the seed values."
   ]
  },
  {
   "cell_type": "markdown",
   "metadata": {
    "deletable": false,
    "editable": false,
    "nbgrader": {
     "cell_type": "markdown",
     "checksum": "666a5a34bbba31f9ce8116c7fad9c388",
     "grade": false,
     "grade_id": "cell-0a6012dd5ae53f93",
     "locked": true,
     "schema_version": 3,
     "solution": false,
     "task": false
    }
   },
   "source": [
    "2) We also imported the function `potential_field_planning`, which is our oracle. This function takes as input the parameters of our environment and generates a collision-free path to the goal. The generated trajectory is saved in `trajectory_data`.\n",
    "\n",
    "* If you change the flag `show` to False, the trajectory generation is not going to be displayed.\n",
    "* The `delay` input controls the velocity in which the trajectory is generated when `show=True`.\n",
    "\n",
    "Let us generate a trajectory using our oracle:"
   ]
  },
  {
   "cell_type": "code",
   "execution_count": 115,
   "metadata": {
    "deletable": false,
    "editable": false,
    "nbgrader": {
     "cell_type": "code",
     "checksum": "b2985f90bc156de69c33b89eb24862e9",
     "grade": false,
     "grade_id": "cell-e46c56e78b24f27a",
     "locked": true,
     "schema_version": 3,
     "solution": false,
     "task": false
    }
   },
   "outputs": [
    {
     "data": {
      "image/png": "[encoded data removed]",
      "text/plain": [
       "<Figure size 432x288 with 1 Axes>"
      ]
     },
     "metadata": {
      "needs_background": "light"
     },
     "output_type": "display_data"
    }
   ],
   "source": [
    "%matplotlib qt\n",
    "trajectory_data = potential_field_planning(sx, sy, gx, gy, ox, oy, show=True, delay=0.2)"
   ]
  },
  {
   "cell_type": "markdown",
   "metadata": {
    "deletable": false,
    "editable": false,
    "nbgrader": {
     "cell_type": "markdown",
     "checksum": "371afbd012991a086615d1ddf581341b",
     "grade": false,
     "grade_id": "cell-6f023951bfbd0dcb",
     "locked": true,
     "schema_version": 3,
     "solution": false,
     "task": false
    }
   },
   "source": [
    "* When `show=True` window will appear, be aware that this window could appear in the background of your display.\n",
    "\n",
    "* The black star represents the starting point and the purple star the goal. The blue circle is the obstacle and the red dots are samples from the trajectory generated by the oracle. "
   ]
  },
  {
   "cell_type": "markdown",
   "metadata": {
    "deletable": false,
    "editable": false,
    "nbgrader": {
     "cell_type": "markdown",
     "checksum": "fd6cc70311bad58f73f566f2c2483a03",
     "grade": false,
     "grade_id": "cell-bfc51143f6bdcdb9",
     "locked": true,
     "schema_version": 3,
     "solution": false,
     "task": false
    }
   },
   "source": [
    "### Database\n",
    "\n",
    "If we get trajectories from our oracle in multiple environments, we can build a database that we can later use to train a classifier.\n",
    "\n",
    "#### Features\n",
    "In the context of motion planning, the **feature vector** corresponds to the **state of the robot** at a specific moment in time in a specific environment.\n",
    "\n",
    "**state vector** = [gxr, gyr, oxr1,...,oxrn, oyr1, ..., oyrn, ]\n",
    "\n",
    "* **gxr**:  x distance from robot to goal\n",
    "* **gyr**:  y distance from robot to goal\n",
    "* **oxri**: x distance from robot to obstacle i\n",
    "* **oyri**: y distance from robot to obstacle i\n",
    "\n",
    "#### Classes\n",
    "In this assingment, each **class** that our classifier can choose corresponds to an **action** that the robot can take. The options are, move: **north, east, south, west, north-east, north-west, south-east and south-west**. These classes are represented using a one-dimensional vector with integer values that go from 0 to 7. \n",
    "\n",
    "1) `trajectory_data` is a dictionary that contains the set of states visited by the robot and the actions taken by it in the environment. Each row of the state vector corresponds to the state of the robot in a different moment in time. Use the keys *'state'* and *'action'* to access to this data: "
   ]
  },
  {
   "cell_type": "code",
   "execution_count": 116,
   "metadata": {
    "deletable": false,
    "nbgrader": {
     "cell_type": "code",
     "checksum": "da55f71288dc2dba5b22fcdf48b72bf0",
     "grade": false,
     "grade_id": "cell-5f04d5142366aa70",
     "locked": false,
     "schema_version": 3,
     "solution": true,
     "task": false
    }
   },
   "outputs": [
    {
     "name": "stdout",
     "output_type": "stream",
     "text": [
      "states: [[-5.60441136 -4.66150302 -3.0843094  -2.48529446]\n",
      " [-5.10441136 -4.16150302 -2.5843094  -1.98529446]\n",
      " [-4.60441136 -3.66150302 -2.0843094  -1.48529446]\n",
      " [-4.10441136 -3.16150302 -1.5843094  -0.98529446]\n",
      " [-4.60441136 -2.66150302 -2.0843094  -0.48529446]\n",
      " [-4.60441136 -2.16150302 -2.0843094   0.01470554]\n",
      " [-4.60441136 -1.66150302 -2.0843094   0.51470554]\n",
      " [-4.10441136 -1.16150302 -1.5843094   1.01470554]\n",
      " [-3.60441136 -0.66150302 -1.0843094   1.51470554]\n",
      " [-3.10441136 -0.16150302 -0.5843094   2.01470554]\n",
      " [-2.60441136  0.33849698 -0.0843094   2.51470554]\n",
      " [-2.10441136  0.33849698  0.4156906   2.51470554]\n",
      " [-1.60441136  0.33849698  0.9156906   2.51470554]\n",
      " [-1.10441136  0.33849698  1.4156906   2.51470554]\n",
      " [-0.60441136 -0.16150302  1.9156906   2.01470554]\n",
      " [-0.10441136 -0.16150302  2.4156906   2.01470554]]\n",
      "actions: [7 7 7 5 1 1 7 7 7 7 0 0 0 6 0 0]\n"
     ]
    }
   ],
   "source": [
    "#print(trajectory_data)\n",
    "state = trajectory_data['state']\n",
    "action = trajectory_data['action']\n",
    "# YOUR CODE HERE\n",
    "#raise NotImplementedError()\n",
    "print('states:', state)\n",
    "print('actions:', action)"
   ]
  },
  {
   "cell_type": "code",
   "execution_count": 117,
   "metadata": {
    "deletable": false,
    "editable": false,
    "nbgrader": {
     "cell_type": "code",
     "checksum": "d00f095e17330b966e210ed58cc867c4",
     "grade": true,
     "grade_id": "cell-b7316513f73d4742",
     "locked": true,
     "points": 1,
     "schema_version": 3,
     "solution": false,
     "task": false
    }
   },
   "outputs": [],
   "source": [
    "assert state[0, 1] == -4.661503021612904\n",
    "assert state[4, 3] == -0.48529445878791044\n",
    "assert state[10, 2] == -0.08430939979145613\n"
   ]
  },
  {
   "cell_type": "markdown",
   "metadata": {
    "deletable": false,
    "editable": false,
    "nbgrader": {
     "cell_type": "markdown",
     "checksum": "1b9b2cb36ec23519155e6e1b69a28a22",
     "grade": false,
     "grade_id": "cell-edcd6eabb64a932f",
     "locked": true,
     "schema_version": 3,
     "solution": false,
     "task": false
    }
   },
   "source": [
    "As you can see, the dimension of our state vector is a function of the number of obstacles in our environment. \n",
    "\n",
    "2) Build a function that computes the state dimension as a function of n obstacles:"
   ]
  },
  {
   "cell_type": "code",
   "execution_count": 118,
   "metadata": {
    "deletable": false,
    "nbgrader": {
     "cell_type": "code",
     "checksum": "da1d817aead0c07701ed187b431860db",
     "grade": false,
     "grade_id": "cell-fe9c25792eb14fc7",
     "locked": false,
     "schema_version": 3,
     "solution": true,
     "task": false
    }
   },
   "outputs": [],
   "source": [
    "def get_state_dim(n_obstacles):\n",
    "    state_dim = None\n",
    "    # YOUR CODE HERE\n",
    "    state_dim = (2*n_obstacles) + 2\n",
    "    #raise NotImplementedError()\n",
    "    return state_dim"
   ]
  },
  {
   "cell_type": "code",
   "execution_count": 119,
   "metadata": {
    "deletable": false,
    "editable": false,
    "nbgrader": {
     "cell_type": "code",
     "checksum": "caf70bdcef961ee49c9cc05de20b4c26",
     "grade": true,
     "grade_id": "cell-e77d189ca944bab0",
     "locked": true,
     "points": 1,
     "schema_version": 3,
     "solution": false,
     "task": false
    }
   },
   "outputs": [],
   "source": [
    "assert get_state_dim(2) == 6\n",
    "assert get_state_dim(4) == 10\n",
    "assert get_state_dim(7) == 16\n"
   ]
  },
  {
   "cell_type": "markdown",
   "metadata": {
    "deletable": false,
    "editable": false,
    "nbgrader": {
     "cell_type": "markdown",
     "checksum": "e53074fb9813d4dbd7af7997dfe9b895",
     "grade": false,
     "grade_id": "cell-ffe23b0669baac13",
     "locked": true,
     "schema_version": 3,
     "solution": false,
     "task": false
    },
    "scrolled": true
   },
   "source": [
    "3) Build a function that collects all of the visited states and actions from different environments in two arrays:\n",
    "* states\n",
    "* actions\n",
    "\n",
    "`n_trajectories_database` corresponds to the number of different environments used to build the database."
   ]
  },
  {
   "cell_type": "code",
   "execution_count": 137,
   "metadata": {
    "deletable": false,
    "nbgrader": {
     "cell_type": "code",
     "checksum": "b0bbae79a9721a8d1750d134960a3162",
     "grade": false,
     "grade_id": "cell-b9049bf3fa7c8a7e",
     "locked": false,
     "schema_version": 3,
     "solution": true,
     "task": false
    }
   },
   "outputs": [],
   "source": [
    "def generate_database(n_obstacles, n_trajectories_database, show=False, delay=0.01):\n",
    "    # Initialize our arrays\n",
    "    states = np.empty([0, get_state_dim(n_obstacles)])\n",
    "    actions = np.empty([0])\n",
    "    np.random.seed(20)  # reproducibility\n",
    "    \n",
    "    if show:\n",
    "        %matplotlib qt\n",
    "        \n",
    "    for i in range(n_trajectories_database): \n",
    "        # Create environment\n",
    "        sx, sy, gx, gy, ox, oy = create_environment(n_obstacles=n_obstacles, seed=np.random.randint(low=0, high=1e6))  # MODIFY\n",
    "        # YOUR CODE HERE\n",
    "        #raise NotImplementedError()\n",
    "        \n",
    "        # Run planner and get a trajectory\n",
    "        trajectory_data =  potential_field_planning(sx, sy, gx, gy, ox, oy, show, delay)  # MODIFY\n",
    "        # YOUR CODE HERE\n",
    "        #raise NotImplementedError()\n",
    "        if show:\n",
    "            plt.close()  # close plot\n",
    "\n",
    "        # Append trajectory to arrays states and actions: ADD lines \"states = YOUR ANSWER\" and \"actions = YOUR ANSWER\"\n",
    "        # YOUR CODE HERE\n",
    "        state = trajectory_data['state']\n",
    "        action = trajectory_data['action']\n",
    "        states = np.vstack((states,state))\n",
    "        actions = np.append(actions,action)\n",
    "        #raise NotImplementedError()\n",
    "        \n",
    "        # Print progress\n",
    "        if (i + 1) % int(n_trajectories_database  / 5) == 0:\n",
    "            print('Progress database: %d %%' % ((i + 1) / n_trajectories_database * 100))\n",
    "    return states, actions"
   ]
  },
  {
   "cell_type": "markdown",
   "metadata": {},
   "source": [
    "Create a database with 5 trajectories"
   ]
  },
  {
   "cell_type": "code",
   "execution_count": 140,
   "metadata": {},
   "outputs": [],
   "source": [
    "#states, actions = generate_database(n_obstacles=1, n_trajectories_database=5, show=True, delay=0.1)\n",
    "\n",
    "npzfile = np.load('./get_unstuck/states_actions.npz')\n",
    "states = npzfile['states']\n",
    "actions= npzfile['actions']\n",
    "#print(states[13, 1])\n",
    "\n",
    "#print(np.empty([0,4]).shape)"
   ]
  },
  {
   "cell_type": "code",
   "execution_count": 141,
   "metadata": {
    "deletable": false,
    "editable": false,
    "nbgrader": {
     "cell_type": "code",
     "checksum": "b381e511d6979175ae6de1d7ac8efd21",
     "grade": true,
     "grade_id": "cell-8c77aa1bedf73c0d",
     "locked": true,
     "points": 2,
     "schema_version": 3,
     "solution": false,
     "task": false
    }
   },
   "outputs": [],
   "source": [
    "assert states[0, 3] == -0.8858050663402328\n",
    "assert states[12, 1] == 0.2358235070186181\n",
    "assert states[30, 0] == 0.1973693755920074\n",
    "assert actions[2] == 4.0\n",
    "assert actions[15] == 0.0\n",
    "assert actions[31] == 0.0\n"
   ]
  },
  {
   "cell_type": "markdown",
   "metadata": {
    "deletable": false,
    "editable": false,
    "nbgrader": {
     "cell_type": "markdown",
     "checksum": "656309c7764dac950b4a825e12ab61fd",
     "grade": false,
     "grade_id": "cell-3933a85a2037f8c8",
     "locked": true,
     "schema_version": 3,
     "solution": false,
     "task": false
    }
   },
   "source": [
    "### Prepare data\n",
    "\n",
    "Now that we have our database, we need to prepare the data for a classifier."
   ]
  },
  {
   "cell_type": "code",
   "execution_count": 142,
   "metadata": {
    "deletable": false,
    "editable": false,
    "nbgrader": {
     "cell_type": "code",
     "checksum": "4c7ce526bcf86a41916830be42960104",
     "grade": false,
     "grade_id": "cell-1a1c11427aaa8933",
     "locked": true,
     "schema_version": 3,
     "solution": false,
     "task": false
    }
   },
   "outputs": [],
   "source": [
    "from sklearn.utils import shuffle\n",
    "from sklearn.model_selection import train_test_split\n",
    "from sklearn.preprocessing import StandardScaler"
   ]
  },
  {
   "cell_type": "markdown",
   "metadata": {
    "deletable": false,
    "editable": false,
    "nbgrader": {
     "cell_type": "markdown",
     "checksum": "d62a60a06e7574c7cc88b3906e2a9fee",
     "grade": false,
     "grade_id": "cell-d81616228e4cd3bb",
     "locked": true,
     "schema_version": 3,
     "solution": false,
     "task": false
    }
   },
   "source": [
    "Using the above imported functions, build the `data_preprocess` function."
   ]
  },
  {
   "cell_type": "code",
   "execution_count": null,
   "metadata": {
    "deletable": false,
    "nbgrader": {
     "cell_type": "code",
     "checksum": "1657e2d4eb0befd385e6a6ce783326fb",
     "grade": false,
     "grade_id": "cell-e30aba37a3cfe3b6",
     "locked": false,
     "schema_version": 3,
     "solution": true,
     "task": false
    }
   },
   "outputs": [],
   "source": [
    "def data_preprocess(states, actions): \n",
    "    # Shuffle data with random_state=0\n",
    "    shuffled_states, shuffled_actions = shuffle(states, actions, random_state=0)  # MODIFY\n",
    "    # YOUR CODE HERE\n",
    "    raise NotImplementedError()\n",
    "\n",
    "    # Separate data into train and test (10% of the data for test set with random_state=0)\n",
    "    states_train, states_test, actions_train, actions_test = None, None, None, None  # MODIFY\n",
    "    # YOUR CODE HERE\n",
    "    raise NotImplementedError()\n",
    "    \n",
    "    # Scale data\n",
    "    scaler = None  # MODIFY\n",
    "        # ADD line that fits scaler to the training set\n",
    "    states_train_scaled = None  # MODIFY\n",
    "    states_test_scaled = None  # MODIFY\n",
    "    # YOUR CODE HERE\n",
    "    raise NotImplementedError()\n",
    "    return states_train_scaled, states_test_scaled, actions_train, actions_test, scaler"
   ]
  },
  {
   "cell_type": "markdown",
   "metadata": {
    "deletable": false,
    "editable": false,
    "nbgrader": {
     "cell_type": "markdown",
     "checksum": "996a74dd1813ba7f1800f37b49e56b46",
     "grade": false,
     "grade_id": "cell-1e85a4b920f0cd08",
     "locked": true,
     "schema_version": 3,
     "solution": false,
     "task": false
    }
   },
   "source": [
    "Preprocess database:"
   ]
  },
  {
   "cell_type": "code",
   "execution_count": null,
   "metadata": {
    "deletable": false,
    "editable": false,
    "nbgrader": {
     "cell_type": "code",
     "checksum": "fadb1871e1ef5b6590d82bc46eb6afcd",
     "grade": false,
     "grade_id": "cell-d342b07ee9ddcd71",
     "locked": true,
     "schema_version": 3,
     "solution": false,
     "task": false
    }
   },
   "outputs": [],
   "source": [
    "#if you are stuck here, uncomment the lines below to load variables\n",
    "\n",
    "#npzfile = np.load('./get_unstuck/states_actions.npz')\n",
    "#states = npzfile['states']\n",
    "#actions= npzfile['actions']"
   ]
  },
  {
   "cell_type": "code",
   "execution_count": null,
   "metadata": {
    "deletable": false,
    "editable": false,
    "nbgrader": {
     "cell_type": "code",
     "checksum": "655418841765cadb6b63b105a05790d3",
     "grade": false,
     "grade_id": "cell-d0ac13be97af0c52",
     "locked": true,
     "schema_version": 3,
     "solution": false,
     "task": false
    }
   },
   "outputs": [],
   "source": [
    "states_train_scaled, states_test_scaled, actions_train, actions_test, scaler = data_preprocess(states, actions)"
   ]
  },
  {
   "cell_type": "code",
   "execution_count": null,
   "metadata": {
    "deletable": false,
    "editable": false,
    "nbgrader": {
     "cell_type": "code",
     "checksum": "8563647a0b0326262fa4feffc6606f23",
     "grade": true,
     "grade_id": "cell-a95a7826cc24b0db",
     "locked": true,
     "points": 2,
     "schema_version": 3,
     "solution": false,
     "task": false
    }
   },
   "outputs": [],
   "source": [
    "assert states_train_scaled[10, 3] == 0.9453513019567489\n",
    "assert states_test_scaled[2, 2] == -0.5490661199704467\n",
    "assert actions_train[8] == 1.0\n",
    "assert actions_test[5] == 4.0\n"
   ]
  },
  {
   "cell_type": "markdown",
   "metadata": {
    "deletable": false,
    "editable": false,
    "nbgrader": {
     "cell_type": "markdown",
     "checksum": "e9af61fd505fbc526ff55fbe6db6f694",
     "grade": false,
     "grade_id": "cell-8aa301681485592d",
     "locked": true,
     "schema_version": 3,
     "solution": false,
     "task": false
    }
   },
   "source": [
    "### Train classifier with demonstrations\n",
    "Build function that trains a classifier and gets its accuracy score and confusion matrix."
   ]
  },
  {
   "cell_type": "code",
   "execution_count": null,
   "metadata": {
    "deletable": false,
    "editable": false,
    "nbgrader": {
     "cell_type": "code",
     "checksum": "cc7615d1c8e479fc8572bb8506f704b7",
     "grade": false,
     "grade_id": "cell-623a5a1c0d3ec2c9",
     "locked": true,
     "schema_version": 3,
     "solution": false,
     "task": false
    }
   },
   "outputs": [],
   "source": [
    "from sklearn.ensemble import RandomForestClassifier\n",
    "from sklearn.metrics import accuracy_score, confusion_matrix"
   ]
  },
  {
   "cell_type": "code",
   "execution_count": null,
   "metadata": {
    "deletable": false,
    "nbgrader": {
     "cell_type": "code",
     "checksum": "fe63a820420d8497f2cd0bddabdd6440",
     "grade": false,
     "grade_id": "cell-95f17a9265c328eb",
     "locked": false,
     "schema_version": 3,
     "solution": true,
     "task": false
    }
   },
   "outputs": [],
   "source": [
    "def train_classifier(states, actions):\n",
    "    # Prepare data\n",
    "    states_train_scaled, states_test_scaled, actions_train, actions_test, scaler = None, None, None, None, None  # MODIFY\n",
    "    # YOUR CODE HERE\n",
    "    raise NotImplementedError()\n",
    "    \n",
    "    # Train Random Forest with random_state=0\n",
    "    clf = None  # MODIFY\n",
    "        # ADD classifier fit\n",
    "    # YOUR CODE HERE\n",
    "    raise NotImplementedError()\n",
    "\n",
    "    # Predict using test data\n",
    "    actions_test_pred = None  # MODIFY\n",
    "    # YOUR CODE HERE\n",
    "    raise NotImplementedError()\n",
    "\n",
    "    # Get accuracy score\n",
    "    accuracy = None  # MODIFY\n",
    "\n",
    "    # Plot confusion matrix\n",
    "    conf_matrix = None  # MODIFY\n",
    "    # YOUR CODE HERE\n",
    "    raise NotImplementedError()\n",
    "    print(f'Accuracy: {accuracy:.3f}')\n",
    "    print('\\nConfusion matrix:\\n\\n', conf_matrix)\n",
    "    \n",
    "    return clf, accuracy, conf_matrix, scaler"
   ]
  },
  {
   "cell_type": "markdown",
   "metadata": {
    "deletable": false,
    "editable": false,
    "nbgrader": {
     "cell_type": "markdown",
     "checksum": "00023b4bcbf18ce5d03ba80fa0937157",
     "grade": false,
     "grade_id": "cell-043126959128edfd",
     "locked": true,
     "schema_version": 3,
     "solution": false,
     "task": false
    }
   },
   "source": [
    "Train classifier"
   ]
  },
  {
   "cell_type": "code",
   "execution_count": null,
   "metadata": {
    "deletable": false,
    "editable": false,
    "nbgrader": {
     "cell_type": "code",
     "checksum": "a900e61413c9124b77fd2d1097cb04e6",
     "grade": false,
     "grade_id": "cell-58dfc4a4af62d43c",
     "locked": true,
     "schema_version": 3,
     "solution": false,
     "task": false
    }
   },
   "outputs": [],
   "source": [
    "clf, accuracy, conf_matrix, scaler = train_classifier(states, actions)"
   ]
  },
  {
   "cell_type": "code",
   "execution_count": null,
   "metadata": {
    "deletable": false,
    "editable": false,
    "nbgrader": {
     "cell_type": "code",
     "checksum": "73ab577756ba73bcf0f29494d24bacad",
     "grade": true,
     "grade_id": "cell-d3c96e234a0f22d4",
     "locked": true,
     "points": 2,
     "schema_version": 3,
     "solution": false,
     "task": false
    }
   },
   "outputs": [],
   "source": [
    "assert accuracy == 1.000\n",
    "assert conf_matrix[0, 0] == 3\n",
    "assert conf_matrix[2, 2] == 2\n"
   ]
  },
  {
   "cell_type": "markdown",
   "metadata": {
    "deletable": false,
    "editable": false,
    "nbgrader": {
     "cell_type": "markdown",
     "checksum": "21d09dc39a6f20565c377718608c2156",
     "grade": false,
     "grade_id": "cell-de29e81f387cf1e1",
     "locked": true,
     "schema_version": 3,
     "solution": false,
     "task": false
    }
   },
   "source": [
    "### Use classifer to generate trajectories\n",
    "Our classifier got an accuracy of 1.0, let's try to use it as a motion planner! \n",
    "\n",
    "The following function generates trajectories using our trained classifier and return the success rate of our planner. \n",
    "\n",
    "* A trajectory is considered to be successful if it reaches the goal before a time limit and does not collide with any obstacle.\n",
    "\n",
    "* The `classifier_planning` function was imported at the beginning of the file and it is in charge of creating a path using a classifier in an environment. If *show=True*, the plot will show the classifier's trajectories in purple and the Artificial Potential Field planner trajectories in red."
   ]
  },
  {
   "cell_type": "code",
   "execution_count": null,
   "metadata": {
    "deletable": false,
    "editable": false,
    "nbgrader": {
     "cell_type": "code",
     "checksum": "b1f3267a736d4a9b8240b9b4bece13e2",
     "grade": false,
     "grade_id": "cell-e85110b891e06cd4",
     "locked": true,
     "schema_version": 3,
     "solution": false,
     "task": false
    }
   },
   "outputs": [],
   "source": [
    "def generate_trajectories_classifier(clf, scaler, n_obstacles, n_trajectories_test, show, delay=0.01):\n",
    "    success_counter = 0  # count the number of times the robot reached the goal\n",
    "    np.random.seed(72)  # reproducibility \n",
    "\n",
    "    for i in range(n_trajectories_test):\n",
    "        # Create environment\n",
    "        sx, sy, gx, gy, ox, oy = create_environment(n_obstacles=n_obstacles, seed=np.random.randint(low=0, high=1e6))\n",
    "       \n",
    "        # Generate trajectory\n",
    "        %matplotlib qt\n",
    "        success = classifier_planning(sx, sy, gx, gy, ox, oy, n_obstacles, clf, scaler, delay=delay, show=show)\n",
    "        plt.close()  # close plot\n",
    "\n",
    "        # Count goal reached\n",
    "        if success:\n",
    "            success_counter += 1\n",
    "            \n",
    "        # Print if classifier fails\n",
    "        if not success:\n",
    "            print('Trial %i failed!' % i)\n",
    "            \n",
    "        # Print progress\n",
    "        if (i + 1) % int(n_trajectories_test  / 5) == 0:\n",
    "            print('Progress trials: %d %%' % ((i + 1) / n_trajectories_test * 100))\n",
    "    \n",
    "    success_rate = success_counter / n_trajectories_test\n",
    "    print('\\nSuccess rate: %.3f' % success_rate)\n",
    "    return success_rate"
   ]
  },
  {
   "cell_type": "markdown",
   "metadata": {
    "deletable": false,
    "editable": false,
    "nbgrader": {
     "cell_type": "markdown",
     "checksum": "0b8627d37517c042ab82a51a13cdf528",
     "grade": false,
     "grade_id": "cell-084870fca161f7c9",
     "locked": true,
     "schema_version": 3,
     "solution": false,
     "task": false
    }
   },
   "source": [
    "Carefully read this function.\n",
    "\n",
    "**Q1:** What is the variable `n_trajectories_test`?\n",
    "\n",
    "**Q2:** Why does the `classifier_planning` function needs the *scaler* in one of its inputs?"
   ]
  },
  {
   "cell_type": "markdown",
   "metadata": {
    "deletable": false,
    "nbgrader": {
     "cell_type": "markdown",
     "checksum": "4a302ee8f0f02334151dde0ce97512c2",
     "grade": true,
     "grade_id": "cell-d0766e6de482c1d3",
     "locked": false,
     "points": 1,
     "schema_version": 3,
     "solution": true,
     "task": false
    }
   },
   "source": [
    "**A1:**\n",
    "    \n",
    "**A2:**\n",
    "\n",
    "YOUR ANSWER HERE"
   ]
  },
  {
   "cell_type": "code",
   "execution_count": null,
   "metadata": {},
   "outputs": [],
   "source": []
  },
  {
   "cell_type": "markdown",
   "metadata": {
    "deletable": false,
    "editable": false,
    "nbgrader": {
     "cell_type": "markdown",
     "checksum": "9770483d2b5120e22497bdc0456b65a5",
     "grade": false,
     "grade_id": "cell-83371785b6191fa3",
     "locked": true,
     "schema_version": 3,
     "solution": false,
     "task": false
    }
   },
   "source": [
    "Run this function to get the success rate of our classifier over 50 environments and save it in the variable `suc_5t`.\n",
    "\n",
    "*Tip:* if you want to get results fast, use `show=False`."
   ]
  },
  {
   "cell_type": "code",
   "execution_count": null,
   "metadata": {
    "deletable": false,
    "editable": false,
    "nbgrader": {
     "cell_type": "code",
     "checksum": "a79e90fea8d168322549f1da8d19fce3",
     "grade": false,
     "grade_id": "cell-4a0f53544e8b5dce",
     "locked": true,
     "schema_version": 3,
     "solution": false,
     "task": false
    }
   },
   "outputs": [],
   "source": [
    "#if you are stuck here, uncomment the lines below to load variables\n",
    "\n",
    "# In this case it is required to have pickle installed: pip install pickle-mixin\n",
    "\n",
    "#import pickle \n",
    "#with open('./get_unstuck/clf_fitted', 'rb') as config_dictionary_file:\n",
    "#    config_dictionary = pickle.load(config_dictionary_file) \n",
    "    \n",
    "#clf = config_dictionary['clf']\n",
    "#scaler = config_dictionary['scaler']"
   ]
  },
  {
   "cell_type": "code",
   "execution_count": null,
   "metadata": {
    "deletable": false,
    "nbgrader": {
     "cell_type": "code",
     "checksum": "28ab92bd3a37001843cd8798c95fd4ff",
     "grade": false,
     "grade_id": "cell-e993e30a7b04f622",
     "locked": false,
     "schema_version": 3,
     "solution": true,
     "task": false
    }
   },
   "outputs": [],
   "source": [
    "suc_5t = None  # MODIFY\n",
    "# YOUR CODE HERE\n",
    "raise NotImplementedError()"
   ]
  },
  {
   "cell_type": "code",
   "execution_count": null,
   "metadata": {
    "deletable": false,
    "editable": false,
    "nbgrader": {
     "cell_type": "code",
     "checksum": "09145e4dd4f26dc3b166c6a1e66a8e55",
     "grade": true,
     "grade_id": "cell-634ea5a3b564bd34",
     "locked": true,
     "points": 1,
     "schema_version": 3,
     "solution": false,
     "task": false
    }
   },
   "outputs": [],
   "source": []
  },
  {
   "cell_type": "markdown",
   "metadata": {
    "deletable": false,
    "editable": false,
    "nbgrader": {
     "cell_type": "markdown",
     "checksum": "5f8a7010a867355d89220fbff25261c3",
     "grade": false,
     "grade_id": "cell-c7c93c8e64a70aa9",
     "locked": true,
     "schema_version": 3,
     "solution": false,
     "task": false
    }
   },
   "source": [
    "**Q:** The success rate of the classifier seems to be quite low, even though the accuracy obtained with the database is 1.0. Why?"
   ]
  },
  {
   "cell_type": "markdown",
   "metadata": {
    "deletable": false,
    "nbgrader": {
     "cell_type": "markdown",
     "checksum": "0af421ec743586179fc6deab2003b71f",
     "grade": true,
     "grade_id": "cell-416e4cf56b6c5e84",
     "locked": false,
     "points": 1,
     "schema_version": 3,
     "solution": true,
     "task": false
    }
   },
   "source": [
    "**A:**\n",
    "\n",
    "YOUR ANSWER HERE"
   ]
  },
  {
   "cell_type": "markdown",
   "metadata": {
    "deletable": false,
    "editable": false,
    "nbgrader": {
     "cell_type": "markdown",
     "checksum": "387f4ce6bec7aa9aca8b015284332511",
     "grade": false,
     "grade_id": "cell-732dc9b1f67090d4",
     "locked": true,
     "schema_version": 3,
     "solution": false,
     "task": false
    }
   },
   "source": [
    "### Repeat experiment in different setups\n",
    "Build function that runs the experiment as a function of n_obstacles, n_trajectories_database and n_trajectories_test."
   ]
  },
  {
   "cell_type": "code",
   "execution_count": null,
   "metadata": {
    "deletable": false,
    "nbgrader": {
     "cell_type": "code",
     "checksum": "19ba31e0231bb93d75e9b6c464ad4f91",
     "grade": false,
     "grade_id": "cell-3b6538a0f0d86630",
     "locked": false,
     "schema_version": 3,
     "solution": true,
     "task": false
    }
   },
   "outputs": [],
   "source": [
    "def run_experiment(n_obstacles, n_trajectories_database, n_trajectories_test, show=True):\n",
    "    # Create database\n",
    "    print('1) Create database: \\n')\n",
    "    states, actions = None, None  # MODIFY\n",
    "    # YOUR CODE HERE\n",
    "    raise NotImplementedError()\n",
    "\n",
    "    # Train classifier\n",
    "    print('\\n2) Train classifier: \\n')\n",
    "    clf, accuracy, conf_matrix, scaler = None, None, None, None  # MODIFY\n",
    "    # YOUR CODE HERE\n",
    "    raise NotImplementedError()\n",
    "\n",
    "    # Generate trajectories with classifier\n",
    "    print('\\n3) Test classifier: \\n')\n",
    "    success_rate = None  # MODIFY\n",
    "    # YOUR CODE HERE\n",
    "    raise NotImplementedError()\n",
    "    return success_rate"
   ]
  },
  {
   "cell_type": "markdown",
   "metadata": {
    "deletable": false,
    "editable": false,
    "nbgrader": {
     "cell_type": "markdown",
     "checksum": "6712c45a866912b228f632b6edb59ab1",
     "grade": false,
     "grade_id": "cell-14a437335748cdf3",
     "locked": true,
     "schema_version": 3,
     "solution": false,
     "task": false
    }
   },
   "source": [
    "Repeat experiment with a database of 20 trajectories."
   ]
  },
  {
   "cell_type": "code",
   "execution_count": null,
   "metadata": {
    "deletable": false,
    "editable": false,
    "nbgrader": {
     "cell_type": "code",
     "checksum": "e532112dc86bc2422c21b8b42f365efa",
     "grade": false,
     "grade_id": "cell-5f5c98fdda7a83f3",
     "locked": true,
     "schema_version": 3,
     "solution": false,
     "task": false
    }
   },
   "outputs": [],
   "source": [
    "suc_20t = run_experiment(n_obstacles=1, n_trajectories_database=20, n_trajectories_test=50, show=False)"
   ]
  },
  {
   "cell_type": "code",
   "execution_count": null,
   "metadata": {
    "deletable": false,
    "editable": false,
    "nbgrader": {
     "cell_type": "code",
     "checksum": "93a307ef42420dd82c5be30ea40f0df0",
     "grade": true,
     "grade_id": "cell-7e50e2782806e36f",
     "locked": true,
     "points": 1,
     "schema_version": 3,
     "solution": false,
     "task": false
    }
   },
   "outputs": [],
   "source": []
  },
  {
   "cell_type": "markdown",
   "metadata": {
    "deletable": false,
    "editable": false,
    "nbgrader": {
     "cell_type": "markdown",
     "checksum": "165d6ff1dd4cf4e1dd077d1b98a0bd6d",
     "grade": false,
     "grade_id": "cell-91169cf1bbf6f9b9",
     "locked": true,
     "schema_version": 3,
     "solution": false,
     "task": false
    }
   },
   "source": [
    "**Q:** With a larger dataset the obtained accuracy decreased; however, the success rate increased. Explain."
   ]
  },
  {
   "cell_type": "markdown",
   "metadata": {
    "deletable": false,
    "nbgrader": {
     "cell_type": "markdown",
     "checksum": "b1ababfbf2cfc0661e8d9772ed3538e4",
     "grade": true,
     "grade_id": "cell-e9588c839ceb2562",
     "locked": false,
     "points": 1,
     "schema_version": 3,
     "solution": true,
     "task": false
    }
   },
   "source": [
    "**A:**\n",
    "YOUR ANSWER HERE\n"
   ]
  },
  {
   "cell_type": "markdown",
   "metadata": {
    "deletable": false,
    "editable": false,
    "nbgrader": {
     "cell_type": "markdown",
     "checksum": "29c5eb8b58b6635e3c59bc3d67bf4d9b",
     "grade": false,
     "grade_id": "cell-7fa8d4e0868154f8",
     "locked": true,
     "schema_version": 3,
     "solution": false,
     "task": false
    }
   },
   "source": [
    "Repeat experiment with a database of 100 trajectories."
   ]
  },
  {
   "cell_type": "code",
   "execution_count": null,
   "metadata": {
    "deletable": false,
    "editable": false,
    "nbgrader": {
     "cell_type": "code",
     "checksum": "e91a190e1336c9e4ac0b3bf1d651c8c3",
     "grade": false,
     "grade_id": "cell-a5c1e10cd900b5e7",
     "locked": true,
     "schema_version": 3,
     "solution": false,
     "task": false
    }
   },
   "outputs": [],
   "source": [
    "suc_100t = run_experiment(n_obstacles=1, n_trajectories_database=100, n_trajectories_test=50, show=False)"
   ]
  },
  {
   "cell_type": "markdown",
   "metadata": {
    "deletable": false,
    "editable": false,
    "nbgrader": {
     "cell_type": "markdown",
     "checksum": "1d4413d39bda4d1811cfdc3b16371123",
     "grade": false,
     "grade_id": "cell-9d9f935df8467355",
     "locked": true,
     "schema_version": 3,
     "solution": false,
     "task": false
    }
   },
   "source": [
    "**Q:** There appears to be a trend. As the size of the database increases, also does the success rate of our planner. Conclude."
   ]
  },
  {
   "cell_type": "markdown",
   "metadata": {
    "deletable": false,
    "nbgrader": {
     "cell_type": "markdown",
     "checksum": "c6223c033d8a489a43cf754973b557f9",
     "grade": true,
     "grade_id": "cell-ddb35765382d39da",
     "locked": false,
     "points": 1,
     "schema_version": 3,
     "solution": true,
     "task": false
    }
   },
   "source": [
    "**A:**\n",
    "\n",
    "YOUR ANSWER HERE"
   ]
  },
  {
   "cell_type": "markdown",
   "metadata": {
    "deletable": false,
    "editable": false,
    "nbgrader": {
     "cell_type": "markdown",
     "checksum": "4f5b3dcb7029504c9e007b8a7be6ccdd",
     "grade": false,
     "grade_id": "cell-ac91ffd67d45fe8e",
     "locked": true,
     "schema_version": 3,
     "solution": false,
     "task": false
    }
   },
   "source": [
    "#### Let's make a plot\n",
    "The following function collects the success rate of different setups in a list."
   ]
  },
  {
   "cell_type": "code",
   "execution_count": null,
   "metadata": {
    "deletable": false,
    "editable": false,
    "nbgrader": {
     "cell_type": "code",
     "checksum": "3973a1e7c734d870b72260a2e25be15c",
     "grade": false,
     "grade_id": "cell-4c13fe757ea070f2",
     "locked": true,
     "schema_version": 3,
     "solution": false,
     "task": false
    }
   },
   "outputs": [],
   "source": [
    "def repeat_experiments(n_trajectories_list, n_obstacles):\n",
    "    success_rate_list = []\n",
    "    for i in n_trajectories_list:\n",
    "        print('\\nNumber trajectories database:', i)\n",
    "        suc_it = run_experiment(n_obstacles=n_obstacles, n_trajectories_database=i, n_trajectories_test=50, show=False)\n",
    "        success_rate_list.append(suc_it)\n",
    "        \n",
    "    return success_rate_list"
   ]
  },
  {
   "cell_type": "markdown",
   "metadata": {
    "deletable": false,
    "editable": false,
    "nbgrader": {
     "cell_type": "markdown",
     "checksum": "f97453fb6bb5b2a26d2f95aa02aea72f",
     "grade": false,
     "grade_id": "cell-cbc8e138fd6a4593",
     "locked": true,
     "schema_version": 3,
     "solution": false,
     "task": false
    }
   },
   "source": [
    "Run this function to get the success rate of the classifier when trained with databases of different sizes.\n",
    "\n",
    "*Warning: it may take some seconds to compute these results*"
   ]
  },
  {
   "cell_type": "code",
   "execution_count": null,
   "metadata": {
    "deletable": false,
    "editable": false,
    "nbgrader": {
     "cell_type": "code",
     "checksum": "0b27ce0eac7a207ad4c8a9f42bb3a2fd",
     "grade": false,
     "grade_id": "cell-382cf271be673977",
     "locked": true,
     "schema_version": 3,
     "solution": false,
     "task": false
    }
   },
   "outputs": [],
   "source": [
    "n_trajectories_list = [5, 10, 20, 30, 40, 60, 80, 100, 200]  # Do not modify\n",
    "success_rate_list = repeat_experiments(n_trajectories_list, n_obstacles=1)"
   ]
  },
  {
   "cell_type": "markdown",
   "metadata": {
    "deletable": false,
    "editable": false,
    "nbgrader": {
     "cell_type": "markdown",
     "checksum": "08a0b0abf0a9a3f9825257007265bafc",
     "grade": false,
     "grade_id": "cell-9b95a800be398249",
     "locked": true,
     "schema_version": 3,
     "solution": false,
     "task": false
    }
   },
   "source": [
    "Finally, let's plot these results"
   ]
  },
  {
   "cell_type": "code",
   "execution_count": null,
   "metadata": {
    "deletable": false,
    "editable": false,
    "nbgrader": {
     "cell_type": "code",
     "checksum": "134885439b7c54fbc0d74ba361e6f6dd",
     "grade": false,
     "grade_id": "cell-732364e75b74e8c8",
     "locked": true,
     "schema_version": 3,
     "solution": false,
     "task": false
    }
   },
   "outputs": [],
   "source": [
    "#if you are stuck here, uncomment the lines below to load variables\n",
    "#npzfile = np.load('./get_unstuck/plot1.npz')\n",
    "#success_rate_list= npzfile['success_rate_list']"
   ]
  },
  {
   "cell_type": "code",
   "execution_count": null,
   "metadata": {
    "deletable": false,
    "editable": false,
    "nbgrader": {
     "cell_type": "code",
     "checksum": "91fe0cdb8145a83861429a6f5e185042",
     "grade": false,
     "grade_id": "cell-6884b9a05eb07a46",
     "locked": true,
     "schema_version": 3,
     "solution": false,
     "task": false
    }
   },
   "outputs": [],
   "source": [
    "n_trajectories_list = [5, 10, 20, 30, 40, 60, 80, 100, 200]  # Do not modify\n",
    "\n",
    "%matplotlib inline\n",
    "plt.plot(n_trajectories_list, success_rate_list)\n",
    "plt.grid('on')\n",
    "plt.xlabel('Number of trajectories in database')\n",
    "plt.ylabel('Success rate')\n",
    "plt.show()"
   ]
  },
  {
   "cell_type": "markdown",
   "metadata": {
    "deletable": false,
    "editable": false,
    "nbgrader": {
     "cell_type": "markdown",
     "checksum": "860e12b9999f5089dfbc388483b0cf41",
     "grade": false,
     "grade_id": "cell-abde438c4c9e7d8f",
     "locked": true,
     "schema_version": 3,
     "solution": false,
     "task": false
    }
   },
   "source": [
    "**Q1:** The success rate quickly increases until around `n_trajectories_list=50`. Afterwards, an increasing trend can still be observed, but it is slower. Why do you think this is happening?\n",
    "\n",
    "In real life, building this database would translate into human time. Human time is expensive. \n",
    "\n",
    "**Q2:** Would it be worth it to collect 200 trajectories. Explain."
   ]
  },
  {
   "cell_type": "markdown",
   "metadata": {
    "deletable": false,
    "nbgrader": {
     "cell_type": "markdown",
     "checksum": "233c9ce2fdfe65e675eda4788155816c",
     "grade": true,
     "grade_id": "cell-55b04a1a6d28784f",
     "locked": false,
     "points": 2,
     "schema_version": 3,
     "solution": true,
     "task": false
    }
   },
   "source": [
    "**A1:**\n",
    "\n",
    "**A2:**\n",
    "\n",
    "YOUR ANSWER HERE"
   ]
  },
  {
   "cell_type": "markdown",
   "metadata": {
    "deletable": false,
    "editable": false,
    "nbgrader": {
     "cell_type": "markdown",
     "checksum": "898a1967fe8bc3e172ce598eff021ee0",
     "grade": false,
     "grade_id": "cell-77b4f12190acef20",
     "locked": true,
     "schema_version": 3,
     "solution": false,
     "task": false
    }
   },
   "source": [
    "#### Repeat experiment in environments with 1, 2 and 3 obstacles\n",
    "\n",
    "*Warning:* this may take several seconds."
   ]
  },
  {
   "cell_type": "code",
   "execution_count": null,
   "metadata": {
    "deletable": false,
    "editable": false,
    "nbgrader": {
     "cell_type": "code",
     "checksum": "43264d386b1ac54e0a3b873bee434268",
     "grade": false,
     "grade_id": "cell-73be9f1ee4d7902a",
     "locked": true,
     "schema_version": 3,
     "solution": false,
     "task": false
    }
   },
   "outputs": [],
   "source": [
    "n_obstacles_list = [1, 2, 3]\n",
    "n_trajectories_list = [5, 10, 20, 30, 40, 60, 80]  # Do not modify\n",
    "success_rate_list_obstacle = []\n",
    "\n",
    "for i in n_obstacles_list:\n",
    "    print('\\nNumber of obstacles:', i)\n",
    "    success_rate_list = repeat_experiments(n_trajectories_list, n_obstacles=i)\n",
    "    success_rate_list_obstacle.append(success_rate_list)"
   ]
  },
  {
   "cell_type": "markdown",
   "metadata": {
    "deletable": false,
    "editable": false,
    "nbgrader": {
     "cell_type": "markdown",
     "checksum": "6c671906ca82c75b8ac62809fa7be56d",
     "grade": false,
     "grade_id": "cell-a88c86fdccfbc3d8",
     "locked": true,
     "schema_version": 3,
     "solution": false,
     "task": false
    }
   },
   "source": [
    "And plot these results"
   ]
  },
  {
   "cell_type": "code",
   "execution_count": null,
   "metadata": {
    "deletable": false,
    "editable": false,
    "nbgrader": {
     "cell_type": "code",
     "checksum": "f6b4f33350b1a949a933f33acf8e1512",
     "grade": false,
     "grade_id": "cell-abba5e3abc4144f0",
     "locked": true,
     "schema_version": 3,
     "solution": false,
     "task": false
    }
   },
   "outputs": [],
   "source": [
    "#if you are stuck here, uncomment the lines below to load variables\n",
    "#npzfile = np.load('./get_unstuck/plot2.npz')\n",
    "#success_rate_list_obstacle= npzfile['success_rate_list_obstacle']"
   ]
  },
  {
   "cell_type": "code",
   "execution_count": null,
   "metadata": {
    "deletable": false,
    "editable": false,
    "nbgrader": {
     "cell_type": "code",
     "checksum": "4d37f7f371d860b41399cebf60e2cfd6",
     "grade": false,
     "grade_id": "cell-5d02cfb5d3576df0",
     "locked": true,
     "schema_version": 3,
     "solution": false,
     "task": false
    }
   },
   "outputs": [],
   "source": [
    "n_trajectories_list = [5, 10, 20, 30, 40, 60, 80]  # Do not modify\n",
    "\n",
    "%matplotlib inline\n",
    "for i in range(len(n_obstacles_list)):\n",
    "    plt.plot(n_trajectories_list, success_rate_list_obstacle[i], label=('%i obstacle' % (i+1)))\n",
    "    \n",
    "plt.grid('on')\n",
    "plt.xlabel('Number of trajectories in database')\n",
    "plt.ylabel('Success rate')\n",
    "plt.legend()\n",
    "plt.show()"
   ]
  },
  {
   "cell_type": "markdown",
   "metadata": {
    "deletable": false,
    "editable": false,
    "nbgrader": {
     "cell_type": "markdown",
     "checksum": "47a34bdc2f8a36a696780e5495b4f1cf",
     "grade": false,
     "grade_id": "cell-61e81fb710c21e73",
     "locked": true,
     "schema_version": 3,
     "solution": false,
     "task": false
    }
   },
   "source": [
    "**Q**: As the number of obstacles increases, what happens with the performance of the classifier? Explain.\n",
    "\n",
    "*Hint:* Focus on the feature/state space."
   ]
  },
  {
   "cell_type": "markdown",
   "metadata": {
    "deletable": false,
    "nbgrader": {
     "cell_type": "markdown",
     "checksum": "4d1882502e0d75c2141569ca5d2b5533",
     "grade": true,
     "grade_id": "cell-85bdb08559c69043",
     "locked": false,
     "points": 1,
     "schema_version": 3,
     "solution": true,
     "task": false
    }
   },
   "source": [
    "**A:** \n",
    "\n",
    "YOUR ANSWER HERE"
   ]
  },
  {
   "cell_type": "code",
   "execution_count": null,
   "metadata": {},
   "outputs": [],
   "source": []
  }
 ],
 "metadata": {
  "kernelspec": {
   "display_name": "Python 3",
   "language": "python",
   "name": "python3"
  },
  "language_info": {
   "codemirror_mode": {
    "name": "ipython",
    "version": 3
   },
   "file_extension": ".py",
   "mimetype": "text/x-python",
   "name": "python",
   "nbconvert_exporter": "python",
   "pygments_lexer": "ipython3",
   "version": "3.8.3"
  }
 },
 "nbformat": 4,
 "nbformat_minor": 4
}
