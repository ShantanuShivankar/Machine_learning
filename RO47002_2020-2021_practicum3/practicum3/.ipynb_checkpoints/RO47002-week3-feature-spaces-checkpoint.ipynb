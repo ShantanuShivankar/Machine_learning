{
 "cells": [
  {
   "cell_type": "markdown",
   "metadata": {},
   "source": [
    "# RO47002 Machine Learning for Robotics\n",
    "* (c) TU Delft, 2020\n",
    "* Period: 2020-2021, Q1\n",
    "* Course homepage: https://brightspace.tudelft.nl/d2l/home/318952"
   ]
  },
  {
   "cell_type": "markdown",
   "metadata": {},
   "source": [
    "Make sure you fill in any place that says `YOUR CODE HERE` or `YOUR ANSWER HERE`. Moreover, if you see an empty cell, please DO NOT delete it, instead run that cell as you would run all other cells. Please fill in your name(s) and other required details below:"
   ]
  },
  {
   "cell_type": "code",
   "execution_count": 1,
   "metadata": {},
   "outputs": [],
   "source": [
    "GROUP_NUMBER = \"8\"\n",
    "STUDENT_NAME1 = \"RISHABH SINGH JAKHAR\"\n",
    "STUDENT_NUMBER1 = \"4779819\"\n",
    "STUDENT_NAME2 = \"SHANTANU SHIVANKAR\"\n",
    "STUDENT_NUMBER2 = \"5032814\""
   ]
  },
  {
   "cell_type": "code",
   "execution_count": 2,
   "metadata": {
    "deletable": false,
    "editable": false,
    "nbgrader": {
     "cell_type": "code",
     "checksum": "e3f76d6a626db81c484191482b101edb",
     "grade": true,
     "grade_id": "cell-c35e4c8223095209",
     "locked": true,
     "points": 0,
     "schema_version": 3,
     "solution": false,
     "task": false
    }
   },
   "outputs": [],
   "source": [
    "# Note: this block is a check that you have filled in the above information.\n",
    "# It will throw an AssertionError until all fields are filled\n",
    "assert(GROUP_NUMBER != \"\")\n",
    "assert(STUDENT_NAME1 != \"\")\n",
    "assert(STUDENT_NUMBER1 != \"\")\n",
    "assert(STUDENT_NAME2 != \"\")\n",
    "assert(STUDENT_NUMBER2 != \"\")"
   ]
  },
  {
   "cell_type": "markdown",
   "metadata": {},
   "source": [
    "### General announcements\n",
    "\n",
    "* Do *not* share your solutions, and do *not* copy solutions from others. By submitting your solutions, you claim that you and your lab partner alone are responsible for this code.\n",
    "\n",
    "* Do *not* email questions directly, since we want to provide everybody with the same information and avoid repeating the same answers. Instead, please post your questions regarding this assignment in the correct support forum on Brightspace, this way everybody can benefit from the response. If you do have a particular question that you want to ask directly, please use the scheduled practicum hours to ask a TA.\n",
    "\n",
    "* There is a strict deadline for each assignment. Students are responsible to ensure that they have uploaded their work in time. So, please double check that your upload succeeded to the Brightspace and avoid any late penalties.\n",
    "\n",
    "* This [Jupyter notebook](https://jupyter.org/) uses `nbgrader` to help us with automated tests. `nbgrader` will make various cells in this notebook \"uneditable\" or \"unremovable\" and gives them a special id in the cell metadata. This way, when we run our checks, the system will check the existence of the cell ids and verify the number of points and which checks must be run. While there are ways that you can edit the metadata and work around the restrictions to delete or modify these special cells, you should not do that since then our nbgrader backend will not be able to parse your notebook and give you points for the assignment. You are free to add additional cells, but if you find a cell that you cannot modify or remove, please know that this is on purpose.\n",
    "\n",
    "* This notebook will have in various places a line that throws a `NotImplementedError` exception. These are locations where the assignment requires you to adapt the code! These lines are just there as a reminder for youthat you have not yet adapted that particular piece of code, especially when you execute all the cells. Once your solution code replaced these lines, it should accordingly *not* throw any exceptions anymore.\n",
    "\n",
    "Before you turn this problem in, make sure everything runs as expected. First, **restart the kernel** (in the menubar, select Kernel$\\rightarrow$Restart) and then **run all cells** (in the menubar, select Cell$\\rightarrow$Run All)."
   ]
  },
  {
   "cell_type": "markdown",
   "metadata": {},
   "source": [
    "---"
   ]
  },
  {
   "cell_type": "markdown",
   "metadata": {},
   "source": [
    "# Practicum 3\n",
    "* Before performing this practicum, work through Book chapters: 3, 4\n",
    "* **Deadline**: Sunday, September 27, 2020, 23:59\n",
    "\n",
    "## Objectives\n",
    "\n",
    "* Explore randomness in SGD optimization\n",
    "* Reimplement binary classification metrics\n",
    "* Decision boundaries in the feature space\n",
    "* Reimplement linear classification hypothesis function\n",
    "* Implement a Bayesian classifier\n",
    "* Implement a Gausian-Mixture Bayesian classifier\n",
    "* Visually understanding model complexity, overfitting, Bias & Variance\n"
   ]
  },
  {
   "cell_type": "markdown",
   "metadata": {},
   "source": [
    "### Setup common python stuff\n",
    "We will start by loading a few common python dependencies"
   ]
  },
  {
   "cell_type": "code",
   "execution_count": 3,
   "metadata": {},
   "outputs": [],
   "source": [
    "# Python ≥3.5 is required\n",
    "import sys\n",
    "assert sys.version_info >= (3, 5)\n",
    "\n",
    "# Scikit-Learn ≥0.20 is required\n",
    "import sklearn\n",
    "assert sklearn.__version__ >= \"0.20\"\n",
    "\n",
    "# Common imports\n",
    "import numpy as np\n",
    "import os\n",
    "\n",
    "# to make this notebook's output stable across runs\n",
    "np.random.seed(42)\n",
    "\n",
    "# To plot pretty figures\n",
    "%matplotlib inline\n",
    "import matplotlib as mpl\n",
    "import matplotlib.pyplot as plt\n",
    "mpl.rc('axes', labelsize=14)\n",
    "mpl.rc('xtick', labelsize=12)\n",
    "mpl.rc('ytick', labelsize=12)"
   ]
  },
  {
   "cell_type": "code",
   "execution_count": 4,
   "metadata": {},
   "outputs": [],
   "source": [
    "import ipywidgets\n",
    "from IPython.display import display\n",
    "\n",
    "from collections import OrderedDict"
   ]
  },
  {
   "cell_type": "code",
   "execution_count": 5,
   "metadata": {},
   "outputs": [],
   "source": [
    "import scipy\n",
    "import skimage\n",
    "import skimage.transform\n",
    "import skimage.util"
   ]
  },
  {
   "cell_type": "markdown",
   "metadata": {},
   "source": [
    "## Setting up a small dataset\n",
    "\n",
    "For the next few sections, we will use one of sklearn's builtin datasets to provide some classification data to toy with. We'll only use 2 features, so we can later easily plot and inspect this 2D feature space, and see how it relates to classifier performance. We'll also turn it onto a 2 class problem."
   ]
  },
  {
   "cell_type": "code",
   "execution_count": 6,
   "metadata": {
    "deletable": false,
    "editable": false,
    "nbgrader": {
     "cell_type": "code",
     "checksum": "11ff0d0ab1eaaed249cafe39c0b325d8",
     "grade": false,
     "grade_id": "cell-f4ba51bd1c8bf36b",
     "locked": true,
     "schema_version": 3,
     "solution": false,
     "task": false
    }
   },
   "outputs": [],
   "source": [
    "from sklearn import datasets\n",
    "\n",
    "# Take a dataset, alter it a little bit to make it more interesting ;)\n",
    "ds = datasets.load_wine()\n",
    "X = ds['data']\n",
    "X = X[:,:2]\n",
    "y = ds['target']\n",
    "y = (y == 2).astype(np.int)"
   ]
  },
  {
   "cell_type": "code",
   "execution_count": 7,
   "metadata": {},
   "outputs": [],
   "source": [
    "from sklearn.model_selection import train_test_split\n",
    "\n",
    "X_train, X_test, y_train, y_test = train_test_split(X, y, test_size=0.2, random_state=42)"
   ]
  },
  {
   "cell_type": "code",
   "execution_count": 8,
   "metadata": {},
   "outputs": [
    {
     "data": {
      "text/plain": [
       "Text(0.5, 1.0, 'Test split')"
      ]
     },
     "execution_count": 8,
     "metadata": {},
     "output_type": "execute_result"
    },
    {
     "data": {
      "image/png": "[encoded data removed]",
      "text/plain": [
       "<Figure size 864x288 with 3 Axes>"
      ]
     },
     "metadata": {
      "needs_background": "light"
     },
     "output_type": "display_data"
    }
   ],
   "source": [
    "def plot_data(X, y):\n",
    "    plt.plot(X[y==0,0], X[y==0,1], '.', label='class 0')\n",
    "    plt.plot(X[y==1,0], X[y==1,1], '.', label='class 1')\n",
    "    plt.axis('equal')\n",
    "    plt.grid('on')\n",
    "    plt.legend()\n",
    "\n",
    "plt.figure(figsize=(12,4))\n",
    "plt.subplot(1,3,1)\n",
    "plot_data(X, y)\n",
    "plt.title('All data')\n",
    "\n",
    "plt.subplot(1,3,2)\n",
    "plot_data(X_train, y_train)\n",
    "plt.title('Train split')\n",
    "\n",
    "plt.subplot(1,3,3)\n",
    "plot_data(X_test, y_test)\n",
    "plt.title('Test split')"
   ]
  },
  {
   "cell_type": "markdown",
   "metadata": {},
   "source": [
    "### Randomness and feature scaling in Stochastic Gradient Descent\n",
    "\n",
    "We'll explore how the randomness and scaling can affect the result of a classifier trained using SGD."
   ]
  },
  {
   "cell_type": "code",
   "execution_count": 9,
   "metadata": {},
   "outputs": [],
   "source": [
    "from sklearn.linear_model import SGDClassifier"
   ]
  },
  {
   "cell_type": "code",
   "execution_count": 10,
   "metadata": {},
   "outputs": [],
   "source": [
    "from sklearn.model_selection import cross_val_predict\n",
    "from sklearn.metrics import accuracy_score\n",
    "from sklearn.metrics import confusion_matrix\n",
    "from sklearn.metrics import precision_score, recall_score, f1_score"
   ]
  },
  {
   "cell_type": "code",
   "execution_count": 11,
   "metadata": {},
   "outputs": [],
   "source": [
    "def print_eval_stats_on_data(clf, X, y):\n",
    "    y_pred = clf.predict(X)\n",
    "    print('  accuracy:', accuracy_score(y, y_pred))\n",
    "    print('  confusion matrix:')\n",
    "    print(confusion_matrix(y, y_pred))\n",
    "    print('  f1:', f1_score(y, y_pred))\n",
    "\n",
    "def print_eval_stats(clf, X_train, y_train, X_test, y_test):\n",
    "    print('TRAIN')\n",
    "    print_eval_stats_on_data(clf, X_train, y_train)\n",
    "    print()\n",
    "\n",
    "    print('TEST')\n",
    "    print_eval_stats_on_data(clf, X_test, y_test)\n",
    "    print()"
   ]
  },
  {
   "cell_type": "markdown",
   "metadata": {},
   "source": [
    "With the interactive widget below, we can see how the `random_state` parameter of the SGDClassifier affects the classification result. The parameter is used when determining the randomness in the process, such as the random initialization and the order of how the samples are processed for gradient computations."
   ]
  },
  {
   "cell_type": "code",
   "execution_count": 12,
   "metadata": {},
   "outputs": [
    {
     "data": {
      "application/vnd.jupyter.widget-view+json": {
       "model_id": "9a0563baf5b8423488e5486e7a4dd519",
       "version_major": 2,
       "version_minor": 0
      },
      "text/plain": [
       "interactive(children=(IntSlider(value=3, description='random_state', max=49), Output()), _dom_classes=('widget…"
      ]
     },
     "metadata": {},
     "output_type": "display_data"
    },
    {
     "data": {
      "text/plain": [
       "<function __main__.eval_sgd_random_state(random_state=3)>"
      ]
     },
     "execution_count": 12,
     "metadata": {},
     "output_type": "execute_result"
    }
   ],
   "source": [
    "def eval_sgd_random_state(random_state=3):\n",
    "    sgd_clf = SGDClassifier(random_state=random_state)\n",
    "    sgd_clf.fit(X_train, y_train);\n",
    "    \n",
    "    print('random_state =', random_state)\n",
    "    print_eval_stats(sgd_clf, X_train, y_train, X_test, y_test)\n",
    "\n",
    "ipywidgets.interact(eval_sgd_random_state, random_state=(0,49))"
   ]
  },
  {
   "cell_type": "markdown",
   "metadata": {},
   "source": [
    "Write some code below which for a given random seed\n",
    "1. trains the standard `SGDClassifier`, but sets it random_state to the seed. Don't set any other keywords in the contructor, just use the default values.\n",
    "2. evaluate the classifier on the test data\n",
    "3. compute the accuracy and F1 score on the test data.\n",
    "\n",
    "Use this to compute for the first 50 random seeds (0 up to 49) both the mean and variance of the two metrics on the test data."
   ]
  },
  {
   "cell_type": "code",
   "execution_count": 18,
   "metadata": {
    "deletable": false,
    "nbgrader": {
     "cell_type": "code",
     "checksum": "95828e4ff45419dc449ac942e1d3402a",
     "grade": false,
     "grade_id": "cell-72d38fa04335aec1",
     "locked": false,
     "schema_version": 3,
     "solution": true,
     "task": false
    }
   },
   "outputs": [
    {
     "name": "stdout",
     "output_type": "stream",
     "text": [
      "Accuracy: average = 0.749\t(std.dev. = 0.122)\n",
      "      F1: average = 0.358\t(std.dev. = 0.235)\n"
     ]
    }
   ],
   "source": [
    "random_seeds = range(50)\n",
    "\n",
    "accuracy_mean = None # to be determined\n",
    "accuracy_stddev = None # to be determined\n",
    "f1_mean = None # to be determined\n",
    "f1_stddev = None # to be determined\n",
    "\n",
    "# YOUR CODE HERE\n",
    "acc_array = np.array([])\n",
    "f1_array = np.array([])\n",
    "for i in random_seeds:\n",
    "    sgd_clf = SGDClassifier(random_state= i)\n",
    "    sgd_clf.fit(X_train, y_train)\n",
    "    y_pred = sgd_clf.predict(X_test)\n",
    "    acc_array = np.append(acc_array, accuracy_score(y_test, y_pred))\n",
    "    f1_array = np.append(f1_array, f1_score(y_test, y_pred))\n",
    "    \n",
    "accuracy_mean = np.mean(acc_array)\n",
    "accuracy_stddev = np.std(acc_array)\n",
    "f1_mean = np.mean(f1_array)\n",
    "f1_stddev = np.std(f1_array) \n",
    "#raise NotImplementedError()\n",
    "\n",
    "print(f'Accuracy: average = {accuracy_mean:.3f}\\t(std.dev. = {accuracy_stddev:.3f})')\n",
    "print(f'      F1: average = {f1_mean:.3f}\\t(std.dev. = {f1_stddev:.3f})')"
   ]
  },
  {
   "cell_type": "code",
   "execution_count": 19,
   "metadata": {
    "deletable": false,
    "editable": false,
    "nbgrader": {
     "cell_type": "code",
     "checksum": "3cd7773281917fbf80bedb4422b409a1",
     "grade": true,
     "grade_id": "cell-48f7e4cc5445d133",
     "locked": true,
     "points": 3,
     "schema_version": 3,
     "solution": false,
     "task": false
    }
   },
   "outputs": [],
   "source": [
    "\n",
    "assert(isinstance(accuracy_mean, float))\n",
    "assert(isinstance(accuracy_stddev, float))\n",
    "assert(isinstance(f1_mean, float))\n",
    "assert(isinstance(f1_stddev, float))\n"
   ]
  },
  {
   "cell_type": "markdown",
   "metadata": {},
   "source": [
    "It is clear that the randomness in the SGD optimization can have a significant impact on the results.\n",
    "\n",
    "**Q**: you should see that the accuracy is generally pretty good, but the F1 score is quite low and shows more variance. Why is this the case?"
   ]
  },
  {
   "cell_type": "markdown",
   "metadata": {
    "deletable": false,
    "nbgrader": {
     "cell_type": "markdown",
     "checksum": "dfa58bba636b2229b10b2787701bd63f",
     "grade": true,
     "grade_id": "cell-646846ada363512c",
     "locked": false,
     "points": 2,
     "schema_version": 3,
     "solution": true,
     "task": false
    }
   },
   "source": [
    "#---------------\n",
    "F1 score is high when both the precision and the recall of the classifier is high."
   ]
  },
  {
   "cell_type": "markdown",
   "metadata": {},
   "source": [
    "Next, let's take a look at what happens when the axes in the feature space are scaled differently."
   ]
  },
  {
   "cell_type": "code",
   "execution_count": null,
   "metadata": {
    "deletable": false,
    "editable": false,
    "nbgrader": {
     "cell_type": "code",
     "checksum": "cd82041bac241cd1e3a8f64927902130",
     "grade": false,
     "grade_id": "cell-340eead4bae76cef",
     "locked": true,
     "schema_version": 3,
     "solution": false,
     "task": false
    }
   },
   "outputs": [],
   "source": [
    "# create a version of the data with scaled and shifted features\n",
    "X2 = X.copy()\n",
    "X2[:,0] *= 4. # scale one feature\n",
    "X2 += np.array([10., -3.0]) # shift both features\n",
    "\n",
    "X2_train, X2_test, y_train, y_test = train_test_split(X2, y, test_size=0.2, random_state=42)"
   ]
  },
  {
   "cell_type": "code",
   "execution_count": null,
   "metadata": {
    "deletable": false,
    "editable": false,
    "nbgrader": {
     "cell_type": "code",
     "checksum": "4b547a77d506636f52e57bc5f60bbb75",
     "grade": false,
     "grade_id": "cell-6878f92d66c58d27",
     "locked": true,
     "schema_version": 3,
     "solution": false,
     "task": false
    }
   },
   "outputs": [],
   "source": [
    "# NOTE: using the same random state here\n",
    "\n",
    "# original data\n",
    "sgd_clf = SGDClassifier(random_state=3)\n",
    "sgd_clf.fit(X_train, y_train);\n",
    "\n",
    "# scaled data\n",
    "sgd_clf2 = SGDClassifier(random_state=3)\n",
    "sgd_clf2.fit(X2_train, y_train)\n",
    "\n",
    "print('** Normal')\n",
    "print_eval_stats(sgd_clf, X_train, y_train, X_test, y_test)\n",
    "\n",
    "print('** Scaled')\n",
    "print_eval_stats(sgd_clf, X2_train, y_train, X2_test, y_test)"
   ]
  },
  {
   "cell_type": "markdown",
   "metadata": {},
   "source": [
    "Now write a function tha use sklearn's `StandardScaler` to normalize the given data.\n",
    "The scaler can determine the mean and standard deviation of the features in the data you fit it on.\n",
    "Afterwards, it can be used to transform given features, removing the fitted mean, and scale the dimensions such that each has std.deviation of 1.\n",
    "\n",
    "Note that fitting the scaling is considered part of the **training** process. Consider this when you implement the function: How should the training and testing data be scaled? What can you say on the resulting mean vector of both datasets after normalizing?"
   ]
  },
  {
   "cell_type": "code",
   "execution_count": null,
   "metadata": {
    "deletable": false,
    "nbgrader": {
     "cell_type": "code",
     "checksum": "0200ae1ef6835f0becb6462685677ac7",
     "grade": false,
     "grade_id": "cell-f94b8b75454b09d7",
     "locked": false,
     "schema_version": 3,
     "solution": true,
     "task": false
    }
   },
   "outputs": [],
   "source": [
    "import sklearn.preprocessing as pp\n",
    "from sklearn.preprocessing import StandardScaler\n",
    "\n",
    "def normalize_my_data(X_train, X_test):\n",
    "    \"\"\" Use the StandardScaler() to normalize the data. \n",
    "        Returns the normalized versions of the given training and test data.\n",
    "    \"\"\"\n",
    "    # YOUR CODE HERE\n",
    "    raise NotImplementedError()\n",
    "    \n",
    "    return X_train_norm, X_test_norm"
   ]
  },
  {
   "cell_type": "code",
   "execution_count": null,
   "metadata": {
    "deletable": false,
    "editable": false,
    "nbgrader": {
     "cell_type": "code",
     "checksum": "e10ed6fe8a09169f46e4104adbf4eb6b",
     "grade": true,
     "grade_id": "cell-54cec714b358ea5a",
     "locked": true,
     "points": 2,
     "schema_version": 3,
     "solution": false,
     "task": false
    }
   },
   "outputs": [],
   "source": [
    "# normalize the data using your function\n",
    "X2_train_norm, X2_test_norm = normalize_my_data(X2_train, X2_test)\n",
    "\n",
    "# retrain the classifier for X2\n",
    "sgd_clf2.fit(X2_train_norm, y_train)\n",
    "\n",
    "# evaluate\n",
    "print_eval_stats(sgd_clf2, X2_train_norm, y_train, X2_test_norm, y_test)\n",
    "\n",
    "# test that the training data is indeed zero mean\n",
    "assert(np.all( np.abs(X2_train_norm.mean(axis=0)) < 1e-10 ))\n",
    "# test that all the features in the training data have std.dev. of 1\n",
    "assert(np.all( np.abs(X2_train_norm.std(axis=0) - 1.0) < 1e-10 ))\n"
   ]
  },
  {
   "cell_type": "markdown",
   "metadata": {},
   "source": [
    "You should see that the results after scaling the data again resemble the earlier results on the original undistorted data, though they may still be a bit different since the original data wasn't normalized either.\n",
    "\n",
    "Again, even with the same random seed, the scaling of the feature space affects the solution that SGD finds.\n",
    "Normalizing the data to ensure all feature dimensions are in the same order of magnitude can help."
   ]
  },
  {
   "cell_type": "markdown",
   "metadata": {},
   "source": [
    "### Reimplement binary classification metrics\n",
    "\n",
    "In the practicum assignments we have now used various binary classification metrics, for which sklearn provides builtin solutions for your convenience. Still, any ML practicioner should have a good understanding of what these metrics represent, and should be able to compute these themselves without relying on sklearn.\n",
    "\n",
    "In this section, reimplement the common binary-classification performance metrics yourself.\n",
    "Many metrics can be expressed in terms of the number of True Positives (TP), False Positves (FP), True Negatives (TN) and False Negatives (FN) that your classifier obtained.\n",
    "\n",
    "Therefore, first implement a function that computes these four numbers from the groundtruth labels and your classifier's perdicted labels.\n",
    "You can assume that y contains integers representing the two class labels, and you should consider the largest label in `y` as the positive class."
   ]
  },
  {
   "cell_type": "code",
   "execution_count": null,
   "metadata": {
    "deletable": false,
    "nbgrader": {
     "cell_type": "code",
     "checksum": "456fa1db25d75122f37c31ba3ebffdb0",
     "grade": false,
     "grade_id": "cell-96fddabdd349a1c6",
     "locked": false,
     "schema_version": 3,
     "solution": true,
     "task": false
    }
   },
   "outputs": [],
   "source": [
    "def my_tp_fp_tn_fn(y, y_pred):\n",
    "    # YOUR CODE HERE\n",
    "    raise NotImplementedError()\n",
    "    \n",
    "    return (TP, FP, TN, FN)"
   ]
  },
  {
   "cell_type": "code",
   "execution_count": null,
   "metadata": {
    "deletable": false,
    "editable": false,
    "nbgrader": {
     "cell_type": "code",
     "checksum": "f77fab2522816cd0031e379845287dc7",
     "grade": true,
     "grade_id": "cell-1b6fdc9405ef5052",
     "locked": true,
     "points": 2,
     "schema_version": 3,
     "solution": false,
     "task": false
    }
   },
   "outputs": [],
   "source": [
    "# Test on some fake predictions and GT labels\n",
    "y_dummy = np.array([0,0,0,1,1,1,1,1])\n",
    "\n",
    "y_pred_dummy1 = np.array([0,1,0,0,0,0,1,1])\n",
    "TP, FP, TN, FN = my_tp_fp_tn_fn(y_dummy, y_pred_dummy1)\n",
    "assert((TP, FP, TN, FN) == (2,1,2,3))\n",
    "\n",
    "# all correct\n",
    "y_pred_dummy2 = np.array([0,0,0,1,1,1,1,1])\n",
    "TP, FP, TN, FN = my_tp_fp_tn_fn(y_dummy, y_pred_dummy2)\n",
    "assert((TP, FP, TN, FN) == (5,0,3,0))\n",
    "\n",
    "# all wrong\n",
    "y_pred_dummy3 = np.array([1,1,1,0,0,0,0,0])\n",
    "TP, FP, TN, FN = my_tp_fp_tn_fn(y_dummy, y_pred_dummy3)\n",
    "assert((TP, FP, TN, FN) == (0,3,0,5))"
   ]
  },
  {
   "cell_type": "code",
   "execution_count": null,
   "metadata": {
    "deletable": false,
    "editable": false,
    "nbgrader": {
     "cell_type": "code",
     "checksum": "0ca7f38539c5cc85b6f1eec6ed66fc4a",
     "grade": true,
     "grade_id": "cell-0169ea10918033fb",
     "locked": true,
     "points": 2,
     "schema_version": 3,
     "solution": false,
     "task": false
    }
   },
   "outputs": [],
   "source": [
    "# Extra point if you make your function work with not only\n",
    "#    with labels [0, 1], but also with other labels, e.g. [1, 2]\n",
    "\n",
    "# Test on some fake predictions and GT labels\n",
    "y_dummy = np.array([0,0,0,1,1,1,1,1])+1 # <---- NOTE the +1\n",
    "\n",
    "y_pred_dummy1 = np.array([0,1,0,0,0,0,1,1])+1 # <---- NOTE the +1\n",
    "TP, FP, TN, FN = my_tp_fp_tn_fn(y_dummy, y_pred_dummy1)\n",
    "assert((TP, FP, TN, FN) == (2,1,2,3))\n",
    "\n",
    "# all correct\n",
    "y_pred_dummy2 = np.array([0,0,0,1,1,1,1,1])+1 # <---- NOTE the +1\n",
    "TP, FP, TN, FN = my_tp_fp_tn_fn(y_dummy, y_pred_dummy2)\n",
    "assert((TP, FP, TN, FN) == (5,0,3,0))\n",
    "\n",
    "# all wrong\n",
    "y_pred_dummy3 = np.array([1,1,1,0,0,0,0,0])+1 \n",
    "TP, FP, TN, FN = my_tp_fp_tn_fn(y_dummy, y_pred_dummy3)\n",
    "assert((TP, FP, TN, FN) == (0,3,0,5))"
   ]
  },
  {
   "cell_type": "markdown",
   "metadata": {},
   "source": [
    "Using these numbers, implement the following metrics:\n",
    "- Accuracy\n",
    "- Confusion matrix\n",
    "- Precision\n",
    "- Recall\n",
    "- F1\n",
    "\n",
    "Notes:\n",
    "* Remember that these metrics were explained in Chapter 3 of the book.\n",
    "* Your implementation of these functions should all use the numbers returned from the `my_tp_fp_tn_fn()` function, except for the F1 score, for which you can reuse the results of the `my_precision_score()` and `my_recall_score()`."
   ]
  },
  {
   "cell_type": "code",
   "execution_count": null,
   "metadata": {
    "deletable": false,
    "nbgrader": {
     "cell_type": "code",
     "checksum": "1dab54dc1be11707b596f99f5361493b",
     "grade": false,
     "grade_id": "cell-6a14ac4015a2dde1",
     "locked": false,
     "schema_version": 3,
     "solution": true,
     "task": false
    }
   },
   "outputs": [],
   "source": [
    "def my_accuracy_score(y, y_pred):\n",
    "    TP, FP, TN, FN = my_tp_fp_tn_fn(y, y_pred)\n",
    "    # YOUR CODE HERE\n",
    "    raise NotImplementedError()\n",
    "\n",
    "def my_confusion_matrix(y, y_pred):\n",
    "    # YOUR CODE HERE\n",
    "    raise NotImplementedError()\n",
    "\n",
    "def my_precision_score(y, y_pred):\n",
    "    # YOUR CODE HERE\n",
    "    raise NotImplementedError()\n",
    "\n",
    "def my_recall_score(y, y_pred):\n",
    "    # YOUR CODE HERE\n",
    "    raise NotImplementedError()\n",
    "\n",
    "def my_f1_score(y, y_pred):\n",
    "    # YOUR CODE HERE\n",
    "    raise NotImplementedError()"
   ]
  },
  {
   "cell_type": "code",
   "execution_count": null,
   "metadata": {
    "deletable": false,
    "editable": false,
    "nbgrader": {
     "cell_type": "code",
     "checksum": "c730f658ab6c5fe7940c6f3970078a72",
     "grade": true,
     "grade_id": "cell-5365dce93fcd6dfb",
     "locked": true,
     "points": 3,
     "schema_version": 3,
     "solution": false,
     "task": false
    }
   },
   "outputs": [],
   "source": [
    "# get some classification results for reference\n",
    "sgd_clf = SGDClassifier(random_state=4)\n",
    "sgd_clf.fit(X_train, y_train)\n",
    "y_train_pred = sgd_clf.predict(X_train)\n",
    "y_test_pred = sgd_clf.predict(X_test)\n",
    "\n",
    "# run defaul implementation\n",
    "sklearn_confmat = confusion_matrix(y_train, y_train_pred)\n",
    "sklearn_accuracy = accuracy_score(y_train, y_train_pred)\n",
    "sklearn_precision = precision_score(y_train, y_train_pred)\n",
    "sklearn_recall = recall_score(y_train, y_train_pred)\n",
    "sklearn_f1 = f1_score(y_train, y_train_pred)\n",
    "\n",
    "print('*** SKLEARN IMPLEMENTATION ***')\n",
    "print(f' confusion matrix:')\n",
    "print(sklearn_confmat)\n",
    "print(f' accuracy: {sklearn_accuracy:.3f}')\n",
    "print(f'precision: {sklearn_precision:.3f}')\n",
    "print(f'   recall: {sklearn_recall:.3f}')\n",
    "print(f'       f1: {sklearn_f1:.3f}')\n",
    "print()\n",
    "\n",
    "# run student implementation\n",
    "my_confmat = my_confusion_matrix(y_train, y_train_pred)\n",
    "my_accuracy = my_accuracy_score(y_train, y_train_pred)\n",
    "my_precision = my_precision_score(y_train, y_train_pred)\n",
    "my_recall = my_recall_score(y_train, y_train_pred)\n",
    "my_f1 = my_f1_score(y_train, y_train_pred)\n",
    "\n",
    "print('*** YOUR IMPLEMENTATION ***')\n",
    "print(f' confusion matrix:')\n",
    "print(my_confmat)\n",
    "print(f' accuracy: {my_accuracy:.3f}')\n",
    "print(f'precision: {my_precision:.3f}')\n",
    "print(f'   recall: {my_recall:.3f}')\n",
    "print(f'       f1: {my_f1:.3f}')\n",
    "print()\n",
    "\n",
    "assert(np.all(my_confmat == sklearn_confmat))\n",
    "assert(np.all(my_accuracy == sklearn_accuracy))\n",
    "assert(np.all(my_precision == sklearn_precision))\n",
    "assert(np.all(my_recall == sklearn_recall))\n",
    "assert(np.all(my_f1 == sklearn_f1))"
   ]
  },
  {
   "cell_type": "markdown",
   "metadata": {},
   "source": [
    "## Decision boundaries in the feature space\n",
    "\n",
    "In sklearn, we can evaluate the continuous hypothesis function of a trained classifier using the `decision_function(x)` member function of the classifier object.\n",
    "Since we are using a 2D feature space, we can try to map the shape of this hypothesis function, and the resulting decision boundary, by evaluating these functions at a fixed number of grid points in the feature space."
   ]
  },
  {
   "cell_type": "code",
   "execution_count": null,
   "metadata": {},
   "outputs": [],
   "source": [
    "def plot_feature_space_function(X, y, f, res=0.1):\n",
    "    \"\"\" Plot the 2D feature space of the first two features of the data in X.\n",
    "        For the feature space, plot the samples in X with their class labels y,\n",
    "        and also overlay a countour plot with the function f(x) evaluated at a grid within\n",
    "        the shown region of the feature space (the size of the region is determined by the extent of the data).\n",
    "        based on https://scikit-learn.org/stable/auto_examples/ensemble/plot_voting_decision_regions.html\n",
    "    \"\"\"\n",
    "\n",
    "    x_min, x_max = X[:, 0].min() - 1, X[:, 0].max() + 1\n",
    "    y_min, y_max = X[:, 1].min() - 1, X[:, 1].max() + 1\n",
    "    xx, yy = np.meshgrid(np.arange(x_min, x_max, res),\n",
    "                         np.arange(y_min, y_max, res))\n",
    "\n",
    "    Z = f(np.c_[xx.ravel(), yy.ravel()])\n",
    "    Z = Z.reshape(xx.shape)\n",
    "\n",
    "    plt.contourf(xx, yy, Z, alpha=0.4)\n",
    "    plt.plot(X[y==0,0], X[y==0,1], '.', label='class 0')\n",
    "    plt.plot(X[y==1,0], X[y==1,1], '.', label='class 1')\n",
    "    plt.grid('on')\n",
    "    plt.legend()\n"
   ]
  },
  {
   "cell_type": "markdown",
   "metadata": {},
   "source": [
    "We will first train a linear classifier again"
   ]
  },
  {
   "cell_type": "code",
   "execution_count": null,
   "metadata": {},
   "outputs": [],
   "source": [
    "sgd_clf = SGDClassifier(random_state=10)\n",
    "sgd_clf.fit(X, y);"
   ]
  },
  {
   "cell_type": "code",
   "execution_count": null,
   "metadata": {},
   "outputs": [],
   "source": [
    "plt.figure(figsize=(14,4))\n",
    "plt.subplot(1,2,1)\n",
    "plot_feature_space_function(X_train, y_train, sgd_clf.decision_function)\n",
    "plt.colorbar()\n",
    "plt.title('hypothesis function')\n",
    "\n",
    "plt.subplot(1,2,2)\n",
    "plot_feature_space_function(X_train, y_train, sgd_clf.predict)\n",
    "plt.colorbar()\n",
    "plt.title('prediction label')"
   ]
  },
  {
   "cell_type": "markdown",
   "metadata": {},
   "source": [
    "### Evaluating a linear classifier\n",
    "\n",
    "Now let's see if you can reproduce these figures 'manually' by reimplementing the hypothesis function of the linear classifier yourself.\n",
    "We will not focus here on training the linear classifier, so we will reuse the the trained sklearn classifier.\n",
    "\n",
    "#### Math\n",
    "Given \n",
    "* a feature vector $x = [x_1, x_2, ..., x_D]$,\n",
    "* and model parameters $[w_1, ..., w_D, b]$,\n",
    "\n",
    "Then for a linear classifier\n",
    "* the hypothesis is $h(x) = \\sum_i [ x_i . w_i ] + b$\n",
    "* the predicted label $\\widehat{y}$ is\n",
    "  * `0` if $h(x) < 0.$\n",
    "  * `1` if $h(x) >= 0.$\n",
    "\n",
    "Note that the summation in the hypothesis function can be implented efficiently using a dot product.\n",
    "\n",
    "#### Task\n",
    "Create the following functions:\n",
    "\n",
    "1. `my_lin_decision_function(sgd_clf, X)` should evaluate the hypothesis function of the linear classifier on the data in matrix X (each row is one feature vector). The outcome of this function should be the same as when calling `sgd_clf.decision_function(X)`\n",
    "\n",
    "2. `my_lin_predict(sgd_clf, X)` should return the predicted class labels for the data X, the result should be the same as when calling `sgd_clf.predict(X)`. To implement this function, first get the result of `my_lin_decision_function(sgd_clf, X)`. Assume that the negative class has label `0`, and the positive class has label `1`.\n",
    "\n",
    "\n",
    "**Tip:**\n",
    "In the first step you should extract the learned model weights from the trained sklearn classifier. Look in [the documentation of SGDClassifier](https://scikit-learn.org/stable/modules/generated/sklearn.linear_model.SGDClassifier.html?highlight=sgdclassifier#sklearn.linear_model.SGDClassifier) for the list of \"Attributes\" that the trained object will have, here you will find the name of the model weights vector $w$ and of the offset $b$ (a.k.a. \"intercept\"). \n"
   ]
  },
  {
   "cell_type": "code",
   "execution_count": null,
   "metadata": {
    "deletable": false,
    "nbgrader": {
     "cell_type": "code",
     "checksum": "58ac2b019fb6699c238c065bc51c9283",
     "grade": false,
     "grade_id": "cell-6666366d07b97959",
     "locked": false,
     "schema_version": 3,
     "solution": true,
     "task": false
    }
   },
   "outputs": [],
   "source": [
    "def my_lin_decision_function(sgd_clf, X):\n",
    "    # Access the sgd_clf object here\n",
    "    # to get its weights and offset\n",
    "    \n",
    "    # YOUR CODE HERE\n",
    "    raise NotImplementedError()\n",
    "    return y\n",
    "\n",
    "def my_lin_predict(sgd_clf, X):\n",
    "    # YOUR CODE HERE\n",
    "    raise NotImplementedError()\n",
    "    return y"
   ]
  },
  {
   "cell_type": "code",
   "execution_count": null,
   "metadata": {
    "deletable": false,
    "editable": false,
    "nbgrader": {
     "cell_type": "code",
     "checksum": "00e2f881878568e6c3660eebff444ba3",
     "grade": true,
     "grade_id": "cell-021bb72f31f75fa3",
     "locked": true,
     "points": 4,
     "schema_version": 3,
     "solution": false,
     "task": false
    }
   },
   "outputs": [],
   "source": [
    "my_decision = my_lin_decision_function(sgd_clf, X)\n",
    "sklearn_decision = sgd_clf.decision_function(X)\n",
    "\n",
    "assert(my_decision.shape == sklearn_decision.shape)\n",
    "assert(np.all(np.abs(my_decision - sklearn_decision) < 1e-12))\n",
    "\n",
    "my_predict = my_lin_predict(sgd_clf, X)\n",
    "sklearn_predict = sgd_clf.predict(X)\n",
    "\n",
    "assert(my_predict.shape == sklearn_predict.shape)\n",
    "assert(np.all(my_predict == sklearn_predict))\n"
   ]
  },
  {
   "cell_type": "markdown",
   "metadata": {},
   "source": [
    "If you have implemented the classifier correctly, the following block show generate the same feature space plots as we made before with sklearn's builtin functions. Verify that the plots are indeed the same."
   ]
  },
  {
   "cell_type": "code",
   "execution_count": null,
   "metadata": {},
   "outputs": [],
   "source": [
    "plt.figure(figsize=(14,4))\n",
    "plt.subplot(1,2,1)\n",
    "plot_feature_space_function(X_train, y_train, lambda X: my_lin_decision_function(sgd_clf, X))\n",
    "plt.colorbar()\n",
    "\n",
    "plt.subplot(1,2,2)\n",
    "plot_feature_space_function(X_train, y_train, lambda X: my_lin_predict(sgd_clf, X))\n",
    "plt.colorbar()"
   ]
  },
  {
   "cell_type": "markdown",
   "metadata": {},
   "source": [
    "## Define a Bayesian classifier"
   ]
  },
  {
   "cell_type": "markdown",
   "metadata": {},
   "source": [
    "As the first step, let's estimate the prior class probability distribution $p(y)$.\n",
    "Since this is a distribution over only two possible discrete outcomes, $y=0$ and $y=1$,\n",
    "we can characterize this distributions by an array $p = [p0, p1]$ with two element, i.e.\n",
    "\n",
    "- $p0 = p(y=0)$ is the prior probability that the a sample's class label is 0\n",
    "- $p1 = p(y=1)$ is the prior probability that the a sample's class label is 1\n",
    "\n",
    "Of course, $p0 + p1 = 1$, since these are the only possible labels.\n",
    "Implement a function that computes the array $p$."
   ]
  },
  {
   "cell_type": "code",
   "execution_count": null,
   "metadata": {
    "deletable": false,
    "nbgrader": {
     "cell_type": "code",
     "checksum": "e0e3c9e549ccb3b772062b357957a41e",
     "grade": false,
     "grade_id": "cell-ca0f63c42740ee2c",
     "locked": false,
     "schema_version": 3,
     "solution": true,
     "task": false
    }
   },
   "outputs": [],
   "source": [
    "def estimate_prior(y):\n",
    "    prior = np.array([np.NaN, np.NaN])\n",
    "    # YOUR CODE HERE\n",
    "    raise NotImplementedError()\n",
    "    return prior\n"
   ]
  },
  {
   "cell_type": "code",
   "execution_count": null,
   "metadata": {
    "deletable": false,
    "editable": false,
    "nbgrader": {
     "cell_type": "code",
     "checksum": "51a2949493546bfc7eecc03067516ff1",
     "grade": true,
     "grade_id": "cell-dfb0768d6a5369eb",
     "locked": true,
     "points": 1,
     "schema_version": 3,
     "solution": false,
     "task": false
    }
   },
   "outputs": [],
   "source": [
    "prior = estimate_prior(y)\n",
    "\n",
    "print('Prior:')\n",
    "print('    p(y=0):', prior[0])\n",
    "print('    p(y=1):', prior[1])\n",
    "\n",
    "assert(len(prior) == len(np.unique(y)))\n",
    "assert(np.all( prior >= 0. ))\n",
    "assert(np.all( prior <= 1. ))\n",
    "assert(np.sum(prior) == 1. )\n"
   ]
  },
  {
   "cell_type": "markdown",
   "metadata": {},
   "source": [
    "In the next step, define the likelihood term, which is the class conditional probability $p(x|y)$.\n",
    "We will use here a single 2D multivariate Gaussian distribution, i.e. $p(x|y=c) = N(x | \\mu_c, \\Sigma_c)$.\n",
    "This means that we need to estimate two parameters per class $c$:\n",
    "- the 2D mean feature vector for the class, $\\mu_c$\n",
    "- the $2 \\times 2$ covariance matrix $\\Sigma_c$\n",
    "\n",
    "These are common statistical properties that can be computed using standard numpy functions, e.g. `mean()` and `cov()`.\n",
    "\n",
    "**Note** the [numpy.cov documentation](https://numpy.org/doc/stable/reference/generated/numpy.cov.html) that the covariance is normally computed \"without bias\". This concept of bias in the covariance computation is a statistical notion, and related to the fact if we assume that we already know the mean or not. \n",
    "It is beyond the scope of this assignment to go in more detail on this difference now, but you should compute the covariance **with bias** since we *do* already compute the mean, so pass `bias=True` to the `cov()` function."
   ]
  },
  {
   "cell_type": "code",
   "execution_count": null,
   "metadata": {
    "deletable": false,
    "nbgrader": {
     "cell_type": "code",
     "checksum": "03b947ec4be9b530e5092924772f78c5",
     "grade": false,
     "grade_id": "cell-43d4703990b355d9",
     "locked": false,
     "schema_version": 3,
     "solution": true,
     "task": false
    }
   },
   "outputs": [],
   "source": [
    "def estimate_gauss2d_class_likelihood(X, y, c):\n",
    "    \"\"\" Estimate the parameters of a 2D multivatiate Gaussian for class c.\n",
    "        Input   : X, a N x D matrix of N features in D-dimensional feature space\n",
    "        Input   : y, a N-dimensional array with the class labels of data X\n",
    "        Input   :  c, the target class label, either 0 or 1, for which we want to compute the parameters\n",
    "        Returns : (mean, cov), a tuple consisting of\n",
    "                     2-dimensional mean vector of the data for class label c\n",
    "                     2x2 covariance matrix of the data for class label c\n",
    "    \"\"\"\n",
    "    # YOUR CODE HERE\n",
    "    raise NotImplementedError()\n",
    "    return mean, cov"
   ]
  },
  {
   "cell_type": "code",
   "execution_count": null,
   "metadata": {
    "deletable": false,
    "editable": false,
    "nbgrader": {
     "cell_type": "code",
     "checksum": "72eeb961381176f7836ffb93c5f352cc",
     "grade": true,
     "grade_id": "cell-5190bb16d8e5901f",
     "locked": true,
     "points": 2,
     "schema_version": 3,
     "solution": false,
     "task": false
    }
   },
   "outputs": [],
   "source": [
    "# here we estimate the Gaussian distributions for the class labels\n",
    "means = [None, None]\n",
    "covs = [None, None]\n",
    "for c in [0, 1]:\n",
    "    means[c], covs[c] = estimate_gauss2d_class_likelihood(X, y, c)\n",
    "\n",
    "# perform some checks\n",
    "assert(means[0].shape == (2,))\n",
    "assert(means[1].shape == (2,))\n",
    "assert(covs[0].shape == (2,2))\n",
    "assert(covs[1].shape == (2,2))\n",
    "# covariance matrices should be symmetric\n",
    "assert(np.all( covs[0].T == covs[0] ))\n",
    "assert(np.all( covs[1].T == covs[1] ))\n"
   ]
  },
  {
   "cell_type": "markdown",
   "metadata": {},
   "source": [
    "Let's visualize the estimated parameters. Below you are given a small utility function that can plot the parameters of a 2D Gaussian as ellipses that separate the high probability density region (inside the ellipse) from the low probability density region (outside the ellipse). If everything is correct, the block below should generate the same image.\n",
    "\n",
    "![reference plot of fitted parameters](extra/reference_plot_gauss_fit.png)"
   ]
  },
  {
   "cell_type": "code",
   "execution_count": null,
   "metadata": {},
   "outputs": [],
   "source": [
    "def plot_gauss(mean, cov, sigmas=None, *args, **kwargs):\n",
    "    \"\"\" Plot the 2D Gaussian distribution as an ellipse.\n",
    "        The ellipse marks the points with equal probability density.\n",
    "        The width is indicate by sigma, which for a 1D gauss would be\n",
    "        the probability density at 1 std.dev. away from the mean.\n",
    "        Multiple ellipses can be drawn if multiple sigma values are given.\n",
    "    \"\"\"\n",
    "    if sigmas is None:\n",
    "        sigmas = [1.]\n",
    "    \n",
    "    S = np.linalg.cholesky(cov)\n",
    "    alphas = np.linspace(0, np.pi*2, 100)\n",
    "    xs = np.vstack((np.sin(alphas), np.cos(alphas)))\n",
    "    xs = S.dot(xs).T\n",
    "    for s in sigmas:\n",
    "        pts = xs*s + mean\n",
    "        plt.plot(pts[:,0], pts[:,1], 'k-', alpha=1./s, *args, **kwargs)\n",
    "\n",
    "plt.figure(figsize=(12,4))\n",
    "\n",
    "plt.subplot(1,2,1)\n",
    "\n",
    "plt.plot(X[y==0,0], X[y==0,1], '.', label='class 0')\n",
    "plt.plot(X[y==1,0], X[y==1,1], '.', label='class 1')\n",
    "plot_gauss(means[0], covs[0], color='b', sigmas=[1., 2., 3.])\n",
    "plt.legend()\n",
    "plt.grid('on')\n",
    "plt.title('fitted 2D Gauss for class 0')\n",
    "\n",
    "plt.subplot(1,2,2)\n",
    "\n",
    "plt.plot(X[y==0,0], X[y==0,1], '.', label='class 0')\n",
    "plt.plot(X[y==1,0], X[y==1,1], '.', label='class 1')\n",
    "plot_gauss(means[1], covs[1], color='r', sigmas=[1., 2., 3.])\n",
    "plt.legend()\n",
    "plt.grid('on')\n",
    "plt.title('fitted 2D Gauss for class 1')\n"
   ]
  },
  {
   "cell_type": "markdown",
   "metadata": {},
   "source": [
    "Next, we must be able to evaluate these class-conditional probabilities $p(x|y=c)$ for any other point $x$ in the feature space, for each class $y=c$.\n",
    "To achieve this, we need to evaluate the probability density function of the multivariate Gaussian,\n",
    "\n",
    "$p(x|y=c) = N(x | \\mu_c, \\Sigma_c)$\n",
    "\n",
    "where the Gaussian density function is defined as\n",
    "$N(x | \\mu_c, \\Sigma_c) = \\frac{1}{\\sqrt{(2\\pi)^d |\\Sigma|}} e^{-\\frac{1}{2}(x-\\mu)^\\top \\Sigma^{-1} (x-\\mu)}$.\n",
    "\n",
    "Luckily, this function is already implemented in the `stats` module of the scipy library,\n",
    "so you will only need to wrap this [multivariate_normal.pdf()](https://docs.scipy.org/doc/scipy/reference/generated/scipy.stats.multivariate_normal.html#scipy-stats-multivariate-normal) function.\n"
   ]
  },
  {
   "cell_type": "code",
   "execution_count": null,
   "metadata": {
    "deletable": false,
    "nbgrader": {
     "cell_type": "code",
     "checksum": "d41a1238b0cbd371f7048e78a25f706d",
     "grade": false,
     "grade_id": "cell-96ff10a1c609b6f1",
     "locked": false,
     "schema_version": 3,
     "solution": true,
     "task": false
    }
   },
   "outputs": [],
   "source": [
    "def class_likelihood(X, c, means, covs):\n",
    "    \"\"\" Compute the multivatiate Gaussian pdf on data X for class c.\n",
    "        Input:     X, a N x D matrix of N features in D-dimensional feature space\n",
    "        Input:     c, the target class label, either 0 or 1\n",
    "        Input: means, list with mean vectors of classes 0 and 1\n",
    "        Input:  covs, list with cocariance matrices of classes 0 and 1\n",
    "        Returns:   p, a N-dimensional array with the probability density of the N features for the given class c\n",
    "    \"\"\"\n",
    "    # YOUR CODE HERE\n",
    "    raise NotImplementedError()\n",
    "    return p\n"
   ]
  },
  {
   "cell_type": "code",
   "execution_count": null,
   "metadata": {
    "deletable": false,
    "editable": false,
    "nbgrader": {
     "cell_type": "code",
     "checksum": "8fb824df589aa84e2d986b7703a87ef6",
     "grade": true,
     "grade_id": "cell-e9e3f0aabb1125d7",
     "locked": true,
     "points": 0,
     "schema_version": 3,
     "solution": false,
     "task": false
    }
   },
   "outputs": [],
   "source": [
    "# we should be able to evaluate these function for both classes\n",
    "p0 = class_likelihood(X, 0, means, covs)\n",
    "p1 = class_likelihood(X, 1, means, covs)\n",
    "\n",
    "# each call should return N probability densities\n",
    "assert(p0.shape == (X.shape[0],))\n",
    "assert(p1.shape == (X.shape[0],))\n",
    "\n",
    "# probability densities should be positive\n",
    "#   NOTE: no guarantee that they are below 1, or that they sum to 1. A probability densitiy is NOT the same thing is a probability\n",
    "assert(np.all( p0 >= 0. ))\n",
    "assert(np.all( p1 >= 0. ))\n"
   ]
  },
  {
   "cell_type": "markdown",
   "metadata": {},
   "source": [
    "If you implemented the function correctly, we should now be able to visualize the probability density for each class for each point in the space. We can reuse the function `plot_feature_space_function` to show the density using a colored overlay. The changes in the colored regions should show the same contours in the plots you made a few cells above.\n",
    "\n",
    "The cell block below should show the same plot as this:\n",
    "![reference plot of fitted parameters](extra/reference_plot_gauss_density.png)"
   ]
  },
  {
   "cell_type": "code",
   "execution_count": null,
   "metadata": {},
   "outputs": [],
   "source": [
    "def eval_lik_c0(X):\n",
    "    return class_likelihood(X, 0, means, covs)\n",
    "\n",
    "plt.figure(figsize=(12,4))\n",
    "\n",
    "plt.subplot(1,2,1)\n",
    "plot_feature_space_function(X, y, eval_lik_c0)\n",
    "plt.clim([0, 0.3]) # fix intensity scale\n",
    "plt.colorbar()\n",
    "plt.title('likelihood p(x|y=0)')\n",
    "\n",
    "def eval_lik_c1(X):\n",
    "    return class_likelihood(X, 1, means, covs)\n",
    "\n",
    "plt.subplot(1,2,2)\n",
    "plot_feature_space_function(X, y, eval_lik_c1)\n",
    "plt.clim([0, 0.3])\n",
    "plt.colorbar()\n",
    "plt.title('likelihood p(x|y=1)')"
   ]
  },
  {
   "cell_type": "markdown",
   "metadata": {},
   "source": [
    "Now that we can estimate the parameters of our prior and likelihood terms,\n",
    "we need to implement the functions to evaluate the posterior.\n",
    "The posterior can be found using Bayes' rule.\n",
    "In particular, we are interested in the posterior probability of the positive class (i.e. $y = 1$),\n",
    "which with Bayes' rule is computed as\n",
    "\n",
    "$ p(y=1|x) = \\frac{p(x|y=1) p(y=1)}{p(x|y=0) p(y=0) + p(x|y=1) p(y=1)}$\n",
    "\n",
    "Implement the function `class_posterior()`, which should compute this posterior probability $p(y=1|x)$ for all the feature vectors in X.\n",
    "The given function `bayes_classifier_predict()` should accordingly return the class label `1` when the posterior for $y=1$ is more probable, i.e. at least 50%. Otherwise it will return the label `0`.\n",
    "\n",
    "Reuse the function `class_likelihood()` that you wrote before."
   ]
  },
  {
   "cell_type": "code",
   "execution_count": null,
   "metadata": {
    "deletable": false,
    "nbgrader": {
     "cell_type": "code",
     "checksum": "cd3c17b5077a6a375aa1846eb715dd39",
     "grade": false,
     "grade_id": "cell-82c2f2c7d3057052",
     "locked": false,
     "schema_version": 3,
     "solution": true,
     "task": false
    }
   },
   "outputs": [],
   "source": [
    "def class_posterior(X, prior, means, covs):\n",
    "    \"\"\" Compute posterior probability for class y = 1 for all feature vectors in X\n",
    "        Input  : X, a N x D matrix of N features in D-dimensional feature space\n",
    "        Input  : priors, an array with the prior proabilities of class 0 and 1\n",
    "        Input  : means, list with mean vectors of classes 0 and 1\n",
    "        Input  : covs, list with cocariance matrices of classes 0 and 1\n",
    "        Returns: post, a N-dimensional vector containing the posterior probabilities of y=1 for the given features.\n",
    "    \"\"\"\n",
    "    # YOUR CODE HERE\n",
    "    raise NotImplementedError()\n",
    "    return post\n",
    "\n",
    "def bayes_classifier_predict(X, prior, means, covs):\n",
    "    return class_posterior(X, prior, means, covs) >= 0.5\n",
    "\n"
   ]
  },
  {
   "cell_type": "code",
   "execution_count": null,
   "metadata": {
    "deletable": false,
    "editable": false,
    "nbgrader": {
     "cell_type": "code",
     "checksum": "ff508680adf80ae0d6be95da519357bc",
     "grade": true,
     "grade_id": "cell-015d6bf78165a608",
     "locked": true,
     "points": 3,
     "schema_version": 3,
     "solution": false,
     "task": false
    }
   },
   "outputs": [],
   "source": [
    "p = class_posterior(X, prior, means, covs)\n",
    "\n",
    "# this should contain the probability for class y = 1\n",
    "assert(p.shape == (X.shape[0],))\n",
    "assert(np.all( p >= 0. )) \n",
    "assert(np.all( p <= 1. )) # this should hold, since probability, not probability density\n"
   ]
  },
  {
   "cell_type": "markdown",
   "metadata": {},
   "source": [
    "As a last check, let's plot all the steps together to highlight how the decision boundary is constructed."
   ]
  },
  {
   "cell_type": "code",
   "execution_count": null,
   "metadata": {},
   "outputs": [],
   "source": [
    "def eval_lik_c0(X):\n",
    "    return class_likelihood(X, 0, means, covs)\n",
    "\n",
    "plt.figure(figsize=(16,4))\n",
    "plt.subplot(1,4,1)\n",
    "plot_feature_space_function(X, y, eval_lik_c0)\n",
    "plt.clim([0, 0.3]) # fix intensity scale\n",
    "#plt.colorbar()\n",
    "plt.title('likelihood p(x|y=0)')\n",
    "\n",
    "def eval_lik_c1(X):\n",
    "    return class_likelihood(X, 1, means, covs)\n",
    "\n",
    "plt.subplot(1,4,2)\n",
    "plot_feature_space_function(X, y, eval_lik_c1)\n",
    "plt.clim([0, 0.3])\n",
    "#plt.colorbar()\n",
    "plt.title('likelihood p(x|y=1)')\n",
    "\n",
    "def eval_posterior(X):\n",
    "    return class_posterior(X, prior, means, covs)\n",
    "\n",
    "plt.subplot(1,4,3)\n",
    "plot_feature_space_function(X, y, eval_posterior)\n",
    "plt.clim([0, 1.0]) # fix intensity scale\n",
    "#plt.colorbar()\n",
    "plt.title('posterior p(y=1|x)');\n",
    "\n",
    "def eval_predict(X):\n",
    "    return bayes_classifier_predict(X, prior, means, covs)\n",
    "\n",
    "plt.subplot(1,4,4)\n",
    "plot_feature_space_function(X, y, eval_predict)\n",
    "plt.clim([0, 1.0]) # fix intensity scale\n",
    "#plt.colorbar()\n",
    "plt.title('decision boundary');"
   ]
  },
  {
   "cell_type": "markdown",
   "metadata": {},
   "source": [
    "### Creating a new sklearn Classifier\n",
    "\n",
    "Now that we have performed all these steps in isolation, let's join them into a custom sklearn classifier class.\n",
    "This is done by subclassing sklearn's `BaseEstimator` and `ClassifierMixin`,\n",
    "as is explained in more detail [in the sklearn documentation on rolling your own classifier](https://scikit-learn.org/stable/developers/develop.html#rolling-your-own-estimator).\n",
    "We have already given you the main skeleton in the cell below, though.\n",
    "\n",
    "A few notes:\n",
    "\n",
    "- sklearn provides some utility functions for common checks, such as `check_X_y(X,y)` to test if training data X and y have the right shape and format (otherwise an exception will be thrown, alerting the user). These utility functions have already been added for your convenience.\n",
    "\n",
    "\n",
    "- Do not do any data or parameter validation in the initializer, only do this is in the fit() member function. See [parameters and init in the sklearn documentation](https://scikit-learn.org/stable/developers/develop.html#parameters-and-init) for more info on why. Since our Bayesian classifier doesn't have any hyperparameters at all, the initialization function can remain empty (we still need a `pass` statement which does nothing to make it legal python code though with proper identation)\n",
    "\n",
    "- Like we have seen with the SGDClassifier before, sklearn has the convention that trained model parameters terminate with a single underscore '\\_'. So call your members `self.prior_` instead of `self.prior`, for instance. "
   ]
  },
  {
   "cell_type": "code",
   "execution_count": null,
   "metadata": {
    "deletable": false,
    "nbgrader": {
     "cell_type": "code",
     "checksum": "e0c22346a76cd9b9bef0a3c0ef78f978",
     "grade": false,
     "grade_id": "cell-9d77496d82941415",
     "locked": false,
     "schema_version": 3,
     "solution": true,
     "task": false
    }
   },
   "outputs": [],
   "source": [
    "from sklearn.base import BaseEstimator, ClassifierMixin\n",
    "from sklearn.utils.validation import check_X_y, check_array, check_is_fitted\n",
    "\n",
    "class MyBayesClassifier(BaseEstimator, ClassifierMixin):\n",
    "    def __init__(self):\n",
    "        # do NOT do anything in the initializer\n",
    "        pass\n",
    "    \n",
    "    def fit(self, X, y):\n",
    "        # Check that X and y have correct shape\n",
    "        X, y = check_X_y(X, y)\n",
    "        \n",
    "        # YOUR CODE HERE\n",
    "        raise NotImplementedError()\n",
    "    \n",
    "    def predict(self, X):\n",
    "        \n",
    "        # Check is fit had been called\n",
    "        #   If the fit() function was not called yet, this check_is_fitted(self) will throw an exception.\n",
    "        #   It works by checking if the object contains a attributes with a trailing '_', i.e. learned model\n",
    "        #   parameters, which should have only been set in your fit() function.\n",
    "        # NOTE: we have disabled this check here because check_is_fitted() does not behave as \n",
    "        #   expected in some older versions of sklearn, see https://stackoverflow.com/questions/60432260/typeerror-check-is-fitted-missing-1-required-positional-argument-attributes\n",
    "        #   We'll keep it here as a reminder for future iterations of this course!\n",
    "        #   So, you don't need to uncomment this, but if you run the predict step without fitting, \n",
    "        #   your code will still throw an exception as you will try to access attributes that have not been set yet.\n",
    "        #check_is_fitted(self)\n",
    "        \n",
    "        # Input validation\n",
    "        X = check_array(X)\n",
    "        \n",
    "        # YOUR CODE HERE\n",
    "        raise NotImplementedError()\n",
    "        \n",
    "        return y_pred\n"
   ]
  },
  {
   "cell_type": "code",
   "execution_count": null,
   "metadata": {
    "deletable": false,
    "editable": false,
    "nbgrader": {
     "cell_type": "code",
     "checksum": "0abaf35c35db849748d08946ab6364e9",
     "grade": true,
     "grade_id": "cell-f04ac191d7851276",
     "locked": true,
     "points": 5,
     "schema_version": 3,
     "solution": false,
     "task": false
    }
   },
   "outputs": [],
   "source": [
    "bayes_gauss_clf = MyBayesClassifier()\n",
    "\n",
    "# this should work\n",
    "bayes_gauss_clf.fit(X, y)\n",
    "y_pred = bayes_gauss_clf.predict(X)\n",
    "\n",
    "\n",
    "# when X and y do not have the right format, a ValueError should be thrown.\n",
    "#    (this should be done automatically if you left the check_X_y() call in place)\n",
    "def should_throw_exception(f):\n",
    "    \"\"\" test if function f throws the expected exception \"\"\"\n",
    "    try:\n",
    "        f()\n",
    "    except:\n",
    "        return True\n",
    "    else:\n",
    "        return False\n",
    "\n",
    "# wrong input should throw an exception    \n",
    "assert( should_throw_exception(lambda : bayes_gauss_clf.fit(X.T, y)) )\n",
    "\n",
    "# predicting with a non-fitted object should throw an exception\n",
    "clf_not_fitted = MyBayesClassifier()\n",
    "assert( should_throw_exception(lambda : clf_not_fitted.predict(X)) )\n",
    "\n",
    "\n"
   ]
  },
  {
   "cell_type": "markdown",
   "metadata": {},
   "source": [
    "Now your Bayesian classifer should be compatible with most sklearn utilities,\n",
    "and we can use the same `.fit()` and `.predict()` interface as before."
   ]
  },
  {
   "cell_type": "code",
   "execution_count": null,
   "metadata": {},
   "outputs": [],
   "source": [
    "bayes_gauss_clf = MyBayesClassifier()\n",
    "bayes_gauss_clf.fit(X, y)\n",
    "\n",
    "plot_feature_space_function(X, y, bayes_gauss_clf.predict)"
   ]
  },
  {
   "cell_type": "markdown",
   "metadata": {},
   "source": [
    "## Create a Gausian-Mixture Bayesian classifier\n",
    "\n",
    "The Bayesian classifier you just wrote used a single multi-variate Gaussian to represent each class's data distribution. However, this is a pretty strong assumption on the shape of the class data.\n",
    "We can make a more flexible classifier by describing each class's data instead with a different more complex distribution. If we can fit this complex distribution, and evaluate its probability density for new feature vectors, we can still plug it in the Bayesian formulation and compute a class posterior distribution as before.\n",
    "\n",
    "\n",
    "A general method to approximate non-Gaussian distributions is to use not 1 but multiple Gaussians, each with their own mean and covariance. The full distribution is then a weighted combinations of these separate Gaussian components. Such a distribution is called a **Gaussian Mixture**.\n",
    "\n",
    "This figure shows *left* a classifier using a Gaussian per class (like you wrote before),\n",
    "and *right* a classifier using per-class a Gaussian Mixture with 2 components.\n",
    "![Gaussian vs Gaussian-Mixture classier](extra/gaussian_vs_mixture_classifier.png)\n",
    "\n",
    "### fitting a Gausian Mixture distribution\n",
    "Unlike with a single Gaussian, when cannot directly compute the model parameters in closed-form, but must resort to an iterative optimization scheme. This scheme iterates between two steps:\n",
    "1. figuring out which data points are covered by which Gaussian component\n",
    "2. fit the Gaussian components on the data points that they cover.\n",
    "\n",
    "After the parameters of the Gaussian Mixture have been altered in step 2, the Gaussian components may cover the data slightly differently, hence the next iteration must start again with step 1.\n",
    "\n",
    "### using sklearn's Gausian Mixture\n",
    "\n",
    "Luckily, the `sklearn.mixture` module contains a ready made `GaussianMixture` class that can be used to fit a Gaussian Mixture distribution on given data:\n",
    "\n",
    "- initialize a Gaussian mixture with $n$ mixture components using `gmm = GaussianMixture(n_components=n)` \n",
    "- fit the GMM distribution on data `X` using the iterative method through the object `gmm.fit(X)` function (should be pretty quick for low-dimensional data). Note that you *don't* pass any class labels `y` since the GaussianMixture is not a classifier or regressor, but just an (unsupervised) density estimator.\n",
    "- you can evaluate the **log** probability density for features `X` using the `gmm.score_samples(X)` member function. Note that because this is the log density, the returned values can be negative."
   ]
  },
  {
   "cell_type": "code",
   "execution_count": null,
   "metadata": {},
   "outputs": [],
   "source": [
    "from sklearn.mixture import GaussianMixture"
   ]
  },
  {
   "cell_type": "markdown",
   "metadata": {},
   "source": [
    "To better understand how the Gaussian Mixture works, let's play around with it and visualize the components"
   ]
  },
  {
   "cell_type": "code",
   "execution_count": null,
   "metadata": {},
   "outputs": [],
   "source": [
    "# create some more dummy data to demonstrate a Gaussian Mixture\n",
    "from sklearn.datasets import make_blobs\n",
    "X_, y_ = make_blobs(n_samples=200, centers=4, n_features=2, random_state=0)\n",
    "y_[:] = 0 # ignore the class labels in our visualization\n"
   ]
  },
  {
   "cell_type": "code",
   "execution_count": null,
   "metadata": {},
   "outputs": [],
   "source": [
    "def demo_gmm(n_components=3):\n",
    "    gmm = GaussianMixture(n_components=n_components)\n",
    "    gmm.fit(X_)\n",
    "\n",
    "    plot_feature_space_function(X_, y_, gmm.score_samples)\n",
    "    plt.colorbar()\n",
    "    \n",
    "ipywidgets.interact(demo_gmm, n_components=(1,7))"
   ]
  },
  {
   "cell_type": "markdown",
   "metadata": {},
   "source": [
    "We can also visualize the individual component in the Gaussian mixture to better illustrate how the overall distribution's density is composed of these components."
   ]
  },
  {
   "cell_type": "code",
   "execution_count": null,
   "metadata": {},
   "outputs": [],
   "source": [
    "def plot_gmm(gmm, sigmas=None, *args, **kwargs):\n",
    "    K = gmm.means_.shape[0]\n",
    "    for k in range(K):\n",
    "        mean = gmm.means_[k]\n",
    "        cov = gmm.covariances_[k]\n",
    "        plot_gauss(mean, cov, sigmas=sigmas, *args, **kwargs)\n",
    "\n",
    "def demo_gmm2(n_components=3):\n",
    "    gmm = GaussianMixture(n_components=n_components)\n",
    "    gmm.fit(X_)\n",
    "\n",
    "    plot_feature_space_function(X_, y_, gmm.score_samples)\n",
    "    plot_gmm(gmm)\n",
    "    plt.colorbar()\n",
    "    \n",
    "ipywidgets.interact(demo_gmm2, n_components=(1,7))"
   ]
  },
  {
   "cell_type": "markdown",
   "metadata": {},
   "source": [
    "Now implement a Gausian Mixture Model (GMM) classifier in the cell below.\n",
    "You can look at your `MyBayesClassifier` class above, and follow the same steps.\n",
    "\n",
    "Some hints:\n",
    "- you can reuse the `estimate_prior()` function, since the formulation of the prior is unaffected by the change\n",
    "- you should NOT use your `estimate_gauss2d_class_likelihood()` and `class_likelihood()` functions anymore, since these was specificly made for a single 2D Gaussian. Instead store for each class a `GaussianMixture()` object in your fit step, and use its `score_samples()` function to compute the likelihood term in the predict step.\n",
    "- Note that `GaussianMixture.score_samples` return a *log* probability density, you should apply `np.exp()` to get a regular probability density for your posterior calculation.\n",
    "- because you can't reuse your `class_likelihood()` function, you also can't reuse your previous `bayes_classifier_predict()` function."
   ]
  },
  {
   "cell_type": "code",
   "execution_count": null,
   "metadata": {
    "deletable": false,
    "nbgrader": {
     "cell_type": "code",
     "checksum": "ced86bda24a8c38503060e6ed93b7ab5",
     "grade": false,
     "grade_id": "cell-5fd8f360b257a283",
     "locked": false,
     "schema_version": 3,
     "solution": true,
     "task": false
    }
   },
   "outputs": [],
   "source": [
    "from sklearn.base import BaseEstimator, ClassifierMixin\n",
    "from sklearn.utils.validation import check_X_y, check_array, check_is_fitted\n",
    "\n",
    "class MyGmmClassifier(BaseEstimator, ClassifierMixin):\n",
    "    def __init__(self, n_components=1):\n",
    "        # define hyperparameters here\n",
    "        self.n_components = n_components\n",
    "    \n",
    "    def fit(self, X, y):\n",
    "        # Check that X and y have correct shape\n",
    "        X, y = check_X_y(X, y)\n",
    "        \n",
    "        # YOUR CODE HERE\n",
    "        raise NotImplementedError()\n",
    "\n",
    "    \n",
    "    def predict(self, X):\n",
    "        \n",
    "        # Check is fit had been called\n",
    "        #   If the fit() function was not called yet, this check_is_fitted(self) will throw an exception.\n",
    "        #   It works by checking if the object contains a attributes with a trailing '_', i.e. learned model\n",
    "        #   parameters, which should have only been set in your fit() function.\n",
    "        #\n",
    "        # NOTE: we have disabled this check here because check_is_fitted() does not behave as \n",
    "        #   expected in some older versions of sklearn, see https://stackoverflow.com/questions/60432260/typeerror-check-is-fitted-missing-1-required-positional-argument-attributes\n",
    "        #   We'll keep it here as a reminder for future iterations of this course!\n",
    "        #   So, you don't need to uncomment this, but if you run the predict step without fitting, \n",
    "        #   your code will still throw an exception as you will try to access attributes that have not been set yet.\n",
    "        #check_is_fitted(self)\n",
    "        \n",
    "        # Input validation\n",
    "        X = check_array(X)\n",
    "        \n",
    "        # YOUR CODE HERE\n",
    "        raise NotImplementedError()\n"
   ]
  },
  {
   "cell_type": "code",
   "execution_count": null,
   "metadata": {
    "deletable": false,
    "editable": false,
    "nbgrader": {
     "cell_type": "code",
     "checksum": "cf945a4326fc556bebc0413ce3eb8236",
     "grade": true,
     "grade_id": "cell-0dc7d90df4fa2d9f",
     "locked": true,
     "points": 5,
     "schema_version": 3,
     "solution": false,
     "task": false
    }
   },
   "outputs": [],
   "source": [
    "gmm_clf = MyGmmClassifier(n_components=2)\n",
    "\n",
    "# this should work\n",
    "gmm_clf.fit(X, y)\n",
    "y_pred = gmm_clf.predict(X)\n",
    "\n",
    "\n",
    "# when X and y do not have the right format, a ValueError should be thrown.\n",
    "#    (this should be done automatically if you left the check_X_y() call in place)\n",
    "def should_throw_exception(f):\n",
    "    \"\"\" test if function f throws the expected exception \"\"\"\n",
    "    try:\n",
    "        f()\n",
    "    except:\n",
    "        return True\n",
    "    else:\n",
    "        return False\n",
    "\n",
    "# wrong input should throw an exception    \n",
    "assert( should_throw_exception(lambda : gmm_clf.fit(X.T, y)) )\n",
    "\n",
    "# predicting with a non-fitted object should throw an exception\n",
    "# because your predict() step should be accessing the not yet set attributes with model parameters\n",
    "clf_not_fitted = MyGmmClassifier(n_components=2)\n",
    "assert( should_throw_exception(lambda : clf_not_fitted.predict(X)) )\n",
    "\n",
    "# The GMM with 1 component should give the same\n",
    "#   predictions as the original single Gaussian Bayesian classifier\n",
    "gmm_clf = MyGmmClassifier(n_components=1)\n",
    "gmm_clf.fit(X, y)\n",
    "gmm_y_pred = gmm_clf.predict(X)\n",
    "bayes_gauss_clf = MyBayesClassifier()\n",
    "bayes_gauss_clf.fit(X, y)\n",
    "gauss_y_pred = bayes_gauss_clf.predict(X)\n",
    "assert(np.all( gmm_y_pred == gauss_y_pred))\n",
    "\n"
   ]
  },
  {
   "cell_type": "markdown",
   "metadata": {},
   "source": [
    "Let's visualize the classification boundary of the Gaussian-Mixture Bayesian classifier\n",
    "when using 1 or 3 components per class.\n",
    "\n",
    "For reference, we also show again the boundary of the first (non-mixture) Bayesian classifier you created."
   ]
  },
  {
   "cell_type": "code",
   "execution_count": null,
   "metadata": {},
   "outputs": [],
   "source": [
    "bayes_gauss_clf = MyBayesClassifier()\n",
    "bayes_gauss_clf.fit(X, y)\n",
    "\n",
    "gmm1_clf = MyGmmClassifier(n_components=1)\n",
    "gmm1_clf.fit(X, y)\n",
    "\n",
    "gmm3_clf = MyGmmClassifier(n_components=3)\n",
    "gmm3_clf.fit(X, y)\n",
    "\n",
    "\n",
    "plt.figure(figsize=(16,4))\n",
    "plt.subplot(1,3,1)\n",
    "plot_feature_space_function(X, y, bayes_gauss_clf.predict)\n",
    "plt.title('Original Bayesian classifier')\n",
    "\n",
    "plt.subplot(1,3,2)\n",
    "plot_feature_space_function(X, y, gmm1_clf.predict)\n",
    "plt.title('GMM, 1 component per class')\n",
    "\n",
    "plt.subplot(1,3,3)\n",
    "plot_feature_space_function(X, y, gmm3_clf.predict)\n",
    "plt.title('GMM, 3 components per class')"
   ]
  },
  {
   "cell_type": "markdown",
   "metadata": {},
   "source": [
    "If everything is correct, the GMM with 1 component per class should show the same boundary as your first classifier (Try to answer for yourself: why should these be the same?)."
   ]
  },
  {
   "cell_type": "markdown",
   "metadata": {},
   "source": [
    "# Visually understanding model complexity, overfitting, Bias & Variance"
   ]
  },
  {
   "cell_type": "code",
   "execution_count": null,
   "metadata": {},
   "outputs": [],
   "source": [
    "from sklearn import datasets\n",
    "\n",
    "# Take a dataset, alter it a little bit to make it more interesting ;)\n",
    "ds = datasets.load_wine()\n",
    "X = ds['data']\n",
    "X = X[:,:2]\n",
    "y = ds['target']\n",
    "y = (y == 2).astype(np.int)"
   ]
  },
  {
   "cell_type": "code",
   "execution_count": null,
   "metadata": {},
   "outputs": [],
   "source": [
    "X_train, X_test, y_train, y_test = train_test_split(X, y, test_size=0.5, random_state=10)"
   ]
  },
  {
   "cell_type": "code",
   "execution_count": null,
   "metadata": {},
   "outputs": [],
   "source": [
    "def show_train_test_feature_space(clf, res=0.05):\n",
    "    y_train_pred = clf.predict(X_train)\n",
    "    y_test_pred = clf.predict(X_test)\n",
    "    train_acc = accuracy_score(y_train, y_train_pred)\n",
    "    test_acc = accuracy_score(y_test, y_test_pred)\n",
    "    train_f1 = f1_score(y_train, y_train_pred)\n",
    "    test_f1 = f1_score(y_test, y_test_pred)\n",
    "    \n",
    "    plt.figure(figsize=(14,4))\n",
    "    plt.subplot(1,2,1)\n",
    "    plot_feature_space_function(X_train, y_train, clf.predict, res=res)\n",
    "    plt.title(f'Train split, accuracy {train_acc:.3f}, f1 {train_f1:.3f}')\n",
    "    \n",
    "    plt.subplot(1,2,2)\n",
    "    plot_feature_space_function(X_test, y_test, clf.predict, res=res)\n",
    "    plt.title(f'Test split, accuracy = {test_acc:.3f}, f1 {test_f1:.3f}')\n"
   ]
  },
  {
   "cell_type": "code",
   "execution_count": null,
   "metadata": {},
   "outputs": [],
   "source": [
    "from sklearn.neighbors import KNeighborsClassifier\n",
    "\n",
    "def show_knn_train_test(k=1):\n",
    "    print(k)\n",
    "    knn_clf = KNeighborsClassifier(k)\n",
    "    knn_clf.fit(X_train, y_train)\n",
    "    show_train_test_feature_space(knn_clf, res=0.05)\n",
    "\n",
    "ipywidgets.interact(show_knn_train_test, k=ipywidgets.IntSlider(value=1,min=1, max=25,step=2, continuous_update=False))"
   ]
  },
  {
   "cell_type": "markdown",
   "metadata": {},
   "source": [
    "Using the interactive widget above, explore how the hyperparameter $k$ affects the decision boundary of the k-Nearest Neighbor classifier.\n",
    "\n",
    "**Q** When does the KNN generate the more complex decision boundary? At low or high k values?"
   ]
  },
  {
   "cell_type": "code",
   "execution_count": null,
   "metadata": {
    "deletable": false,
    "nbgrader": {
     "cell_type": "code",
     "checksum": "7e406f8cb6280e5273c73001101052b6",
     "grade": false,
     "grade_id": "cell-2b55bce1b58c05b1",
     "locked": false,
     "schema_version": 3,
     "solution": true,
     "task": false
    }
   },
   "outputs": [],
   "source": [
    "# answer by uncommenting only the correct options from this block below\n",
    "\n",
    "KNN_COMPLEX_BOUNDARY_WHEN_K_IS = '?'\n",
    "#KNN_COMPLEX_BOUNDARY_WHEN_K_IS = 'small'\n",
    "#KNN_COMPLEX_BOUNDARY_WHEN_K_IS = 'large'\n",
    "\n",
    "# YOUR CODE HERE\n",
    "raise NotImplementedError()"
   ]
  },
  {
   "cell_type": "code",
   "execution_count": null,
   "metadata": {
    "deletable": false,
    "editable": false,
    "nbgrader": {
     "cell_type": "code",
     "checksum": "989f1ce9a5986b9d5de22598c51f1cb0",
     "grade": true,
     "grade_id": "cell-3341dc0975a48c90",
     "locked": true,
     "points": 2,
     "schema_version": 3,
     "solution": false,
     "task": false
    }
   },
   "outputs": [],
   "source": [
    "print('Your answer:', KNN_COMPLEX_BOUNDARY_WHEN_K_IS)\n"
   ]
  },
  {
   "cell_type": "markdown",
   "metadata": {},
   "source": [
    "Now that we understand how the hyperparameters of the KNN can generate simple versus complex decision boundaries, let's explore how sensitive these models are to variations in the data.\n",
    "To do this, we will see what happens to the decision if for different random subsets of the training data."
   ]
  },
  {
   "cell_type": "code",
   "execution_count": null,
   "metadata": {},
   "outputs": [],
   "source": [
    "def show_knn_variance(k):\n",
    "    plt.figure(figsize=(16,4))\n",
    "\n",
    "    # train the k-NN classifier with different random splits of the training data\n",
    "    for j, random_state in enumerate([1,10,42,100]):\n",
    "        \n",
    "        X_train, X_test, y_train, y_test = train_test_split(X, y, test_size=0.8, random_state=random_state)\n",
    "        \n",
    "        knn_clf = KNeighborsClassifier(k)\n",
    "        knn_clf.fit(X_train, y_train)\n",
    "\n",
    "        plt.subplot(1,4,j+1)\n",
    "        plot_feature_space_function(X_train, y_train, knn_clf.predict)\n",
    "        plt.title(f'random seed {j+1}')\n",
    "\n",
    "ipywidgets.interact(show_knn_variance, k=ipywidgets.IntSlider(value=1,min=1, max=13,step=2))"
   ]
  },
  {
   "cell_type": "markdown",
   "metadata": {},
   "source": [
    "Inspect using the interactive plot above how the $k$ affect the decision boundaries,\n",
    "and how sensitive the classifier becomes for different subsets of the data.\n",
    "\n",
    "Using the visualizations, answer the following questions:\n",
    "\n",
    "- When does the KNN show high bias?\n",
    "\n",
    "- When does the KNN show high variance?\n",
    "\n"
   ]
  },
  {
   "cell_type": "code",
   "execution_count": null,
   "metadata": {
    "deletable": false,
    "nbgrader": {
     "cell_type": "code",
     "checksum": "fbe55f1cbdcc9efb9f57e146f34b2bd1",
     "grade": false,
     "grade_id": "cell-17d3d791f2fbb8c0",
     "locked": false,
     "schema_version": 3,
     "solution": true,
     "task": false
    }
   },
   "outputs": [],
   "source": [
    "KNN_MOST_BIAS_WHEN_K_IS = '?'\n",
    "#KNN_MOST_BIAS_WHEN_K_IS = 'small'\n",
    "#KNN_MOST_BIAS_WHEN_K_IS = 'large'\n",
    "\n",
    "KNN_MOST_VARIANCE_WHEN_K_IS = '?'\n",
    "#KNN_MOST_VARIANCE_WHEN_K_IS = 'small'\n",
    "#KNN_MOST_VARIANCE_WHEN_K_IS = 'large'\n",
    "\n",
    "# YOUR CODE HERE\n",
    "raise NotImplementedError()"
   ]
  },
  {
   "cell_type": "code",
   "execution_count": null,
   "metadata": {
    "deletable": false,
    "editable": false,
    "nbgrader": {
     "cell_type": "code",
     "checksum": "12f4dd3f6bc971468d9afb666238e1f1",
     "grade": true,
     "grade_id": "cell-1ad18cae0b1308f9",
     "locked": true,
     "points": 2,
     "schema_version": 3,
     "solution": false,
     "task": false
    }
   },
   "outputs": [],
   "source": [
    "print('Q: When does the KNN show most bias, when k is small or large?')\n",
    "print('A:', KNN_MOST_BIAS_WHEN_K_IS)\n",
    "print()\n",
    "\n",
    "print('Q: When does the KNN show most variance, when k is small or large?')\n",
    "print('A:', KNN_MOST_VARIANCE_WHEN_K_IS)\n",
    "print()\n"
   ]
  },
  {
   "cell_type": "markdown",
   "metadata": {},
   "source": [
    "### using your custom Gaussian-Mixture Model\n",
    "\n",
    "Now let's try to do the same thing with the Gausian-Mixture Bayesian classifier you built earlier."
   ]
  },
  {
   "cell_type": "code",
   "execution_count": null,
   "metadata": {},
   "outputs": [],
   "source": [
    "def show_gmm_train_test(n_components=1):\n",
    "    print(n_components)\n",
    "    gmm_clf = MyGmmClassifier(n_components=n_components)\n",
    "    gmm_clf.fit(X_train, y_train)\n",
    "    show_train_test_feature_space(gmm_clf, res=0.01)\n",
    "\n",
    "ipywidgets.interact(show_gmm_train_test, n_components=ipywidgets.IntSlider(value=1,min=1, max=15, continuous_update=False))"
   ]
  },
  {
   "cell_type": "markdown",
   "metadata": {},
   "source": [
    "**Q** When does the GMM generate the more complex decision boundary? At low or high number of components?"
   ]
  },
  {
   "cell_type": "code",
   "execution_count": null,
   "metadata": {
    "deletable": false,
    "nbgrader": {
     "cell_type": "code",
     "checksum": "6ac299b896898b2ed5ba0f4b01168617",
     "grade": false,
     "grade_id": "cell-733bcf4daec4b3c0",
     "locked": false,
     "schema_version": 3,
     "solution": true,
     "task": false
    }
   },
   "outputs": [],
   "source": [
    "# answer by uncommenting only the correct options from this block below\n",
    "\n",
    "GMM_COMPLEX_BOUNDARY_WHEN_NUMCOMP_IS = '?'\n",
    "#GMM_COMPLEX_BOUNDARY_WHEN_NUMCOMP_IS = 'small'\n",
    "#GMM_COMPLEX_BOUNDARY_WHEN_NUMCOMP_IS = 'large'\n",
    "\n",
    "# YOUR CODE HERE\n",
    "raise NotImplementedError()"
   ]
  },
  {
   "cell_type": "code",
   "execution_count": null,
   "metadata": {
    "deletable": false,
    "editable": false,
    "nbgrader": {
     "cell_type": "code",
     "checksum": "76a7a25343480f4b7153fa4f7c1db367",
     "grade": true,
     "grade_id": "cell-a6e2a90bcd59fcbb",
     "locked": true,
     "points": 2,
     "schema_version": 3,
     "solution": false,
     "task": false
    }
   },
   "outputs": [],
   "source": [
    "print('Your answer:', GMM_COMPLEX_BOUNDARY_WHEN_NUMCOMP_IS)\n"
   ]
  },
  {
   "cell_type": "code",
   "execution_count": null,
   "metadata": {},
   "outputs": [],
   "source": [
    "def show_gmm_variance(n_components):\n",
    "    plt.figure(figsize=(16,4))\n",
    "\n",
    "    # train the GMM classifier with different random splits of the training data\n",
    "    for j, random_state in enumerate([1,10,42,100]):\n",
    "        \n",
    "        X_train, X_test, y_train, y_test = train_test_split(X, y, test_size=0.8, random_state=random_state)\n",
    "        gmm_clf = MyGmmClassifier(n_components=n_components)\n",
    "        gmm_clf.fit(X_train, y_train)\n",
    "\n",
    "        plt.subplot(1,4,j+1)\n",
    "        plot_feature_space_function(X_train, y_train, gmm_clf.predict, res=0.02)\n",
    "        plt.title(f'random seed {j+1}')\n",
    "\n",
    "ipywidgets.interact(show_gmm_variance, n_components=(1,5))"
   ]
  },
  {
   "cell_type": "markdown",
   "metadata": {},
   "source": [
    "Inspect using the interactive plot above how the number of components affect the decision boundaries,\n",
    "and how sensitive the classifier becomes for different subsets of the data.\n",
    "\n",
    "Using the visualizations, answer the following questions:\n",
    "* When does the GMM show high bias?\n",
    "* When does the GMM show high variance?"
   ]
  },
  {
   "cell_type": "code",
   "execution_count": null,
   "metadata": {
    "deletable": false,
    "nbgrader": {
     "cell_type": "code",
     "checksum": "abca0515586f7ee2673840d95c353316",
     "grade": false,
     "grade_id": "cell-3a80abc37ca30183",
     "locked": false,
     "schema_version": 3,
     "solution": true,
     "task": false
    }
   },
   "outputs": [],
   "source": [
    "GMM_MOST_BIAS_WHEN_NUMCOMP_IS = '?'\n",
    "#GMM_MOST_BIAS_WHEN_NUMCOMP_IS = 'small'\n",
    "#GMM_MOST_BIAS_WHEN_NUMCOMP_IS = 'large'\n",
    "\n",
    "GMM_MOST_VARIANCE_WHEN_NUMCOMP_IS = '?'\n",
    "#GMM_MOST_VARIANCE_WHEN_NUMCOMP_IS = 'small'\n",
    "#GMM_MOST_VARIANCE_WHEN_NUMCOMP_IS = 'large'\n",
    "\n",
    "# YOUR CODE HERE\n",
    "raise NotImplementedError()"
   ]
  },
  {
   "cell_type": "code",
   "execution_count": null,
   "metadata": {
    "deletable": false,
    "editable": false,
    "nbgrader": {
     "cell_type": "code",
     "checksum": "10bf4069be7417772e8eee3d22772656",
     "grade": true,
     "grade_id": "cell-163a11f45af13f74",
     "locked": true,
     "points": 2,
     "schema_version": 3,
     "solution": false,
     "task": false
    }
   },
   "outputs": [],
   "source": [
    "print('Q: When does the GMM show most bias, when # components is small or large?')\n",
    "print('A:', GMM_MOST_BIAS_WHEN_NUMCOMP_IS)\n",
    "print()\n",
    "\n",
    "print('Q: When does the GMM show most variance, when # components is small or large?')\n",
    "print('A:', GMM_MOST_VARIANCE_WHEN_NUMCOMP_IS)\n",
    "print()\n"
   ]
  },
  {
   "cell_type": "markdown",
   "metadata": {},
   "source": [
    "# Regularization\n",
    "\n",
    "In this part, we will explore the effect of using regularization, and how it affects the decision boundary.\n",
    "\n",
    "The Support Vector Machine (SVM) is classifier with a regalurization parameter $C$.\n",
    "The SVM can be used to estimate a linear classification boundary (`SVC(kernel=linear)`),\n",
    "or a potentially more complex decision boundary with the so-called Radial Basis Function kernel (`SVC(kernel=rbf)`, the default kernel of sklearn's SVC). Note the sklearn calls this a Support Vector Classifier, SVC, instead of SVM.\n",
    "\n",
    "Future lectures will discuss SVMs and kernel methods in more detail, so for now we will treat the SVM with RBF kernel as a black-box.\n"
   ]
  },
  {
   "cell_type": "code",
   "execution_count": null,
   "metadata": {},
   "outputs": [],
   "source": [
    "svm_clf = sklearn.svm.SVC(kernel='rbf')\n",
    "\n",
    "def show_svm_train_test(C):\n",
    "    svm_clf.set_params(C=C)\n",
    "    svm_clf.fit(X_train, y_train)\n",
    "    show_train_test_feature_space(svm_clf, res=0.05)\n",
    "    \n",
    "    l2_weight = svm_clf.dual_coef_.dot(svm_clf.dual_coef_.T).flatten()[0]\n",
    "\n",
    "    print('C =', C)\n",
    "    print('norm of coefficients:', l2_weight)\n",
    "\n",
    "ipywidgets.interact(show_svm_train_test, C=ipywidgets.FloatLogSlider(1.0, base=10, min=-1, max=8, continuous_update=False))"
   ]
  },
  {
   "cell_type": "code",
   "execution_count": null,
   "metadata": {},
   "outputs": [],
   "source": [
    "def show_svm_variance(C):\n",
    "    plt.figure(figsize=(16,4))\n",
    "    for j, random_state in enumerate([1,10,42,100]):\n",
    "        X_train, X_test, y_train, y_test = train_test_split(X, y, test_size=0.8, random_state=random_state)\n",
    "        svm_clf.set_params(C=C)\n",
    "        svm_clf.fit(X_train, y_train)\n",
    "\n",
    "        plt.subplot(1,4,j+1)\n",
    "        plot_feature_space_function(X_train, y_train, svm_clf.predict, res=0.02)\n",
    "        plt.title(f'random seed {j+1}')\n",
    "    print(C)\n",
    "\n",
    "ipywidgets.interact(show_svm_variance, C=ipywidgets.FloatLogSlider(1.0, base=10, min=0, max=10, continuous_update=False))"
   ]
  },
  {
   "cell_type": "markdown",
   "metadata": {},
   "source": [
    "* When is C most strongly regularizing the SVM, when it is large or small?\n",
    "* When does the SVM show most bias, when C is small or large?\n",
    "* When does the SVM show most variance, when C is small or large?"
   ]
  },
  {
   "cell_type": "code",
   "execution_count": null,
   "metadata": {
    "deletable": false,
    "nbgrader": {
     "cell_type": "code",
     "checksum": "e25fb4bf09e254d263596b9226ee3fbc",
     "grade": false,
     "grade_id": "cell-581729f6acdb907d",
     "locked": false,
     "schema_version": 3,
     "solution": true,
     "task": false
    }
   },
   "outputs": [],
   "source": [
    "# answer by uncommenting only the correct options from this block below\n",
    "\n",
    "SVM_STRONGEST_REGULARIZATION_WHEN_C_IS = '?'\n",
    "#SVM_STRONGEST_REGULARIZATION_WHEN_C_IS = 'small'\n",
    "#SVM_STRONGEST_REGULARIZATION_WHEN_C_IS = 'large'\n",
    "\n",
    "SVM_MOST_BIAS_WHEN_C_IS = '?'\n",
    "#SVM_MOST_BIAS_WHEN_C_IS = 'small'\n",
    "#SVM_MOST_BIAS_WHEN_C_IS = 'large'\n",
    "\n",
    "SVM_MOST_VARIANCE_WHEN_C_IS = '?'\n",
    "#SVM_MOST_VARIANCE_WHEN_C_IS = 'small'\n",
    "#SVM_MOST_VARIANCE_WHEN_C_IS = 'large'\n",
    "\n",
    "# YOUR CODE HERE\n",
    "raise NotImplementedError()"
   ]
  },
  {
   "cell_type": "code",
   "execution_count": null,
   "metadata": {
    "deletable": false,
    "editable": false,
    "nbgrader": {
     "cell_type": "code",
     "checksum": "a8f8024a369c44f98dacc501e4e381e0",
     "grade": true,
     "grade_id": "cell-9249e90f77351317",
     "locked": true,
     "points": 2,
     "schema_version": 3,
     "solution": false,
     "task": false
    }
   },
   "outputs": [],
   "source": [
    "print('Q: When is C most strongly regularizing the SVM, when it is large or small?')\n",
    "print('A:', SVM_STRONGEST_REGULARIZATION_WHEN_C_IS)\n",
    "print()\n",
    "\n",
    "print('Q: When does the SVM show most bias, when C is small or large?')\n",
    "print('A:', SVM_MOST_BIAS_WHEN_C_IS)\n",
    "print()\n",
    "\n",
    "print('Q: When does the SVM show most variance, when C is small or large?')\n",
    "print('A:', SVM_MOST_VARIANCE_WHEN_C_IS)\n",
    "print()\n"
   ]
  },
  {
   "cell_type": "markdown",
   "metadata": {
    "deletable": false,
    "editable": false,
    "nbgrader": {
     "cell_type": "markdown",
     "checksum": "d50ea25cd91c190c0fd09aa3327a0e23",
     "grade": false,
     "grade_id": "cell-d4b5d6611c4c3b54",
     "locked": true,
     "schema_version": 3,
     "solution": false,
     "task": false
    }
   },
   "source": [
    "That wraps up this part of the exercises!"
   ]
  }
 ],
 "metadata": {
  "kernelspec": {
   "display_name": "Python 3",
   "language": "python",
   "name": "python3"
  },
  "language_info": {
   "codemirror_mode": {
    "name": "ipython",
    "version": 3
   },
   "file_extension": ".py",
   "mimetype": "text/x-python",
   "name": "python",
   "nbconvert_exporter": "python",
   "pygments_lexer": "ipython3",
   "version": "3.8.3"
  }
 },
 "nbformat": 4,
 "nbformat_minor": 4
}
